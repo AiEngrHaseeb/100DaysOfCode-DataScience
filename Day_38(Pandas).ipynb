{
 "cells": [
  {
   "cell_type": "markdown",
   "id": "8daf4567",
   "metadata": {},
   "source": [
    "## Timeseries"
   ]
  },
  {
   "cell_type": "code",
   "execution_count": 1,
   "id": "1030f890",
   "metadata": {},
   "outputs": [],
   "source": [
    "import pandas as pd"
   ]
  },
  {
   "cell_type": "markdown",
   "id": "913f8aa1",
   "metadata": {},
   "source": [
    "## Field Information Of Dataset"
   ]
  },
  {
   "cell_type": "markdown",
   "id": "66c281ce",
   "metadata": {},
   "source": [
    "<table class=\"table table-bordered table-striped resource-summary\">\n",
    "           <thead>\n",
    "             <tr>\n",
    "               <th>Field Name</th>\n",
    "               <th>Order</th>\n",
    "               <th>Type (Format)</th>\n",
    "               <th>Description</th>\n",
    "             </tr>\n",
    "           </thead>\n",
    "           <tbody>\n",
    "           <tr>\n",
    "               <th>Date</th>\n",
    "               <td>1</td>\n",
    "               <td class=\"type type-date\">date (%Y-%m-%d) </td>\n",
    "               <td>YYYY-MM-DD</td>\n",
    "             </tr>\n",
    "            <tr>\n",
    "               <th>Decimal Date</th>\n",
    "               <td>2</td>\n",
    "               <td class=\"type type-number\">number </td>\n",
    "               <td></td>\n",
    "             </tr>\n",
    "            <tr>\n",
    "               <th>Average</th>\n",
    "               <td>3</td>\n",
    "               <td class=\"type type-number\">number </td>\n",
    "               <td>The monthly mean CO2 mole fraction determined from daily averages. If there are missing days concentrated either early or late in the month, the monthly mean is corrected to the middle of the month using the average seasonal cycle. Missing months are denoted by -99.99.</td>\n",
    "             </tr>\n",
    "            <tr>\n",
    "               <th>Interpolated</th>\n",
    "               <td>4</td>\n",
    "               <td class=\"type type-number\">number </td>\n",
    "               <td>Values from the average column and interpolated values where data are missing. Interpolated values are computed in two steps. First, we compute for each month the average seasonal cycle in a 7-year window around each monthly value. In this way the seasonal cycle is allowed to change slowly over time. We then determine the trend value for each month by removing the seasonal cycle; this result is shown in the trend column. Trend values are linearly interpolated for missing months. The interpolated monthly mean is then the sum of the average seasonal cycle value and the trend value for the missing month.</td>\n",
    "             </tr>\n",
    "            <tr>\n",
    "               <th>Trend</th>\n",
    "               <td>5</td>\n",
    "               <td class=\"type type-number\">number </td>\n",
    "               <td>Seasonally corrected.</td>\n",
    "             </tr>\n",
    "            <tr>\n",
    "               <th>Number of Days</th>\n",
    "               <td>6</td>\n",
    "               <td class=\"type type-number\">number </td>\n",
    "               <td>-1 denotes no data for number of daily averages in the month.</td>\n",
    "             </tr>\n",
    "          </tbody>\n",
    "         </table>"
   ]
  },
  {
   "cell_type": "code",
   "execution_count": 2,
   "id": "0daa9a95",
   "metadata": {},
   "outputs": [],
   "source": [
    "mlo = pd.read_csv('./data/co2-mm-mlo.csv', na_values=-99.99, index_col='Date', parse_dates=True)"
   ]
  },
  {
   "cell_type": "code",
   "execution_count": 3,
   "id": "ab04bbab",
   "metadata": {},
   "outputs": [
    {
     "data": {
      "text/html": [
       "<div>\n",
       "<style scoped>\n",
       "    .dataframe tbody tr th:only-of-type {\n",
       "        vertical-align: middle;\n",
       "    }\n",
       "\n",
       "    .dataframe tbody tr th {\n",
       "        vertical-align: top;\n",
       "    }\n",
       "\n",
       "    .dataframe thead th {\n",
       "        text-align: right;\n",
       "    }\n",
       "</style>\n",
       "<table border=\"1\" class=\"dataframe\">\n",
       "  <thead>\n",
       "    <tr style=\"text-align: right;\">\n",
       "      <th></th>\n",
       "      <th>Decimal Date</th>\n",
       "      <th>Average</th>\n",
       "      <th>Interpolated</th>\n",
       "      <th>Trend</th>\n",
       "      <th>Number of Days</th>\n",
       "    </tr>\n",
       "    <tr>\n",
       "      <th>Date</th>\n",
       "      <th></th>\n",
       "      <th></th>\n",
       "      <th></th>\n",
       "      <th></th>\n",
       "      <th></th>\n",
       "    </tr>\n",
       "  </thead>\n",
       "  <tbody>\n",
       "    <tr>\n",
       "      <th>1958-03-01</th>\n",
       "      <td>1958.208</td>\n",
       "      <td>315.71</td>\n",
       "      <td>315.71</td>\n",
       "      <td>314.62</td>\n",
       "      <td>-1</td>\n",
       "    </tr>\n",
       "    <tr>\n",
       "      <th>1958-04-01</th>\n",
       "      <td>1958.292</td>\n",
       "      <td>317.45</td>\n",
       "      <td>317.45</td>\n",
       "      <td>315.29</td>\n",
       "      <td>-1</td>\n",
       "    </tr>\n",
       "    <tr>\n",
       "      <th>1958-05-01</th>\n",
       "      <td>1958.375</td>\n",
       "      <td>317.50</td>\n",
       "      <td>317.50</td>\n",
       "      <td>314.71</td>\n",
       "      <td>-1</td>\n",
       "    </tr>\n",
       "    <tr>\n",
       "      <th>1958-06-01</th>\n",
       "      <td>1958.458</td>\n",
       "      <td>NaN</td>\n",
       "      <td>317.10</td>\n",
       "      <td>314.85</td>\n",
       "      <td>-1</td>\n",
       "    </tr>\n",
       "    <tr>\n",
       "      <th>1958-07-01</th>\n",
       "      <td>1958.542</td>\n",
       "      <td>315.86</td>\n",
       "      <td>315.86</td>\n",
       "      <td>314.98</td>\n",
       "      <td>-1</td>\n",
       "    </tr>\n",
       "  </tbody>\n",
       "</table>\n",
       "</div>"
      ],
      "text/plain": [
       "            Decimal Date  Average  Interpolated   Trend  Number of Days\n",
       "Date                                                                   \n",
       "1958-03-01      1958.208   315.71        315.71  314.62              -1\n",
       "1958-04-01      1958.292   317.45        317.45  315.29              -1\n",
       "1958-05-01      1958.375   317.50        317.50  314.71              -1\n",
       "1958-06-01      1958.458      NaN        317.10  314.85              -1\n",
       "1958-07-01      1958.542   315.86        315.86  314.98              -1"
      ]
     },
     "execution_count": 3,
     "metadata": {},
     "output_type": "execute_result"
    }
   ],
   "source": [
    "mlo.head()"
   ]
  },
  {
   "cell_type": "code",
   "execution_count": 7,
   "id": "69a64200",
   "metadata": {},
   "outputs": [
    {
     "data": {
      "text/plain": [
       "DatetimeIndex(['1958-03-01', '1958-04-01', '1958-05-01', '1958-06-01',\n",
       "               '1958-07-01', '1958-08-01', '1958-09-01', '1958-10-01',\n",
       "               '1958-11-01', '1958-12-01',\n",
       "               ...\n",
       "               '2016-03-01', '2016-04-01', '2016-05-01', '2016-06-01',\n",
       "               '2016-07-01', '2016-08-01', '2016-09-01', '2016-10-01',\n",
       "               '2016-11-01', '2016-12-01'],\n",
       "              dtype='datetime64[ns]', name='Date', length=706, freq=None)"
      ]
     },
     "execution_count": 7,
     "metadata": {},
     "output_type": "execute_result"
    }
   ],
   "source": [
    "mlo.index"
   ]
  },
  {
   "cell_type": "code",
   "execution_count": 8,
   "id": "5e64b700",
   "metadata": {},
   "outputs": [],
   "source": [
    "import matplotlib\n",
    "%matplotlib inline"
   ]
  },
  {
   "cell_type": "code",
   "execution_count": 9,
   "id": "218a0a3b",
   "metadata": {},
   "outputs": [
    {
     "data": {
      "text/plain": [
       "<AxesSubplot:xlabel='Date'>"
      ]
     },
     "execution_count": 9,
     "metadata": {},
     "output_type": "execute_result"
    },
    {
     "data": {
      "image/png": "[encoded data removed]",
      "text/plain": [
       "<Figure size 432x288 with 1 Axes>"
      ]
     },
     "metadata": {
      "needs_background": "light"
     },
     "output_type": "display_data"
    }
   ],
   "source": [
    "mlo['Average'].plot()"
   ]
  },
  {
   "cell_type": "markdown",
   "id": "90cc4624",
   "metadata": {},
   "source": [
    "`mlo['Average']` is a timeseries: it a Series object with an index of dtype `datetime64` (from NumPy)."
   ]
  },
  {
   "cell_type": "code",
   "execution_count": 13,
   "id": "cf6e18be",
   "metadata": {},
   "outputs": [
    {
     "data": {
      "text/plain": [
       "DatetimeIndex(['2017-09-11', '2017-09-12', '2017-09-13', '2017-09-14',\n",
       "               '2017-09-15'],\n",
       "              dtype='datetime64[ns]', freq='D')"
      ]
     },
     "execution_count": 13,
     "metadata": {},
     "output_type": "execute_result"
    }
   ],
   "source": [
    "pd.date_range('2017-09-11', periods=5, freq='D')"
   ]
  },
  {
   "cell_type": "code",
   "execution_count": 14,
   "id": "a6f4ed5d",
   "metadata": {},
   "outputs": [
    {
     "data": {
      "text/plain": [
       "DatetimeIndex(['2017-09-30', '2017-10-31', '2017-11-30', '2017-12-31',\n",
       "               '2018-01-31'],\n",
       "              dtype='datetime64[ns]', freq='M')"
      ]
     },
     "execution_count": 14,
     "metadata": {},
     "output_type": "execute_result"
    }
   ],
   "source": [
    "pd.date_range('2017-09-11', periods=5, freq='M')"
   ]
  },
  {
   "cell_type": "code",
   "execution_count": 15,
   "id": "1ffed5a6",
   "metadata": {},
   "outputs": [
    {
     "data": {
      "text/plain": [
       "DatetimeIndex(['2017-12-31', '2018-12-31', '2019-12-31', '2020-12-31',\n",
       "               '2021-12-31'],\n",
       "              dtype='datetime64[ns]', freq='A-DEC')"
      ]
     },
     "execution_count": 15,
     "metadata": {},
     "output_type": "execute_result"
    }
   ],
   "source": [
    "pd.date_range('2017-09-11', periods=5, freq='Y')"
   ]
  },
  {
   "cell_type": "code",
   "execution_count": 16,
   "id": "74bcc1b1",
   "metadata": {},
   "outputs": [
    {
     "data": {
      "text/plain": [
       "DatetimeIndex(['2017-09-01 00:00:00', '2017-09-01 01:00:00',\n",
       "               '2017-09-01 02:00:00', '2017-09-01 03:00:00',\n",
       "               '2017-09-01 04:00:00'],\n",
       "              dtype='datetime64[ns]', freq='H')"
      ]
     },
     "execution_count": 16,
     "metadata": {},
     "output_type": "execute_result"
    }
   ],
   "source": [
    "pd.date_range('2017-09-01', periods=5, freq='H')"
   ]
  },
  {
   "cell_type": "code",
   "execution_count": 17,
   "id": "c1f83f82",
   "metadata": {},
   "outputs": [
    {
     "data": {
      "text/plain": [
       "DatetimeIndex(['2017-09-01 00:00:00', '2017-09-01 01:00:00',\n",
       "               '2017-09-01 02:00:00', '2017-09-01 03:00:00',\n",
       "               '2017-09-01 04:00:00', '2017-09-01 05:00:00',\n",
       "               '2017-09-01 06:00:00', '2017-09-01 07:00:00',\n",
       "               '2017-09-01 08:00:00', '2017-09-01 09:00:00',\n",
       "               '2017-09-01 10:00:00', '2017-09-01 11:00:00',\n",
       "               '2017-09-01 12:00:00', '2017-09-01 13:00:00',\n",
       "               '2017-09-01 14:00:00', '2017-09-01 15:00:00',\n",
       "               '2017-09-01 16:00:00', '2017-09-01 17:00:00',\n",
       "               '2017-09-01 18:00:00', '2017-09-01 19:00:00',\n",
       "               '2017-09-01 20:00:00', '2017-09-01 21:00:00',\n",
       "               '2017-09-01 22:00:00', '2017-09-01 23:00:00'],\n",
       "              dtype='datetime64[ns]', freq='H')"
      ]
     },
     "execution_count": 17,
     "metadata": {},
     "output_type": "execute_result"
    }
   ],
   "source": [
    "n_hours = 24\n",
    "hour_index = pd.date_range('2017-09-01', periods=n_hours, freq='H')\n",
    "hour_index"
   ]
  },
  {
   "cell_type": "code",
   "execution_count": 18,
   "id": "8107b8f6",
   "metadata": {},
   "outputs": [],
   "source": [
    "import numpy as np"
   ]
  },
  {
   "cell_type": "code",
   "execution_count": 23,
   "id": "d985a20a",
   "metadata": {},
   "outputs": [
    {
     "name": "stdout",
     "output_type": "stream",
     "text": [
      "2017-09-01 00:00:00    0.164609\n",
      "2017-09-01 01:00:00    0.009956\n",
      "2017-09-01 02:00:00    0.378987\n",
      "2017-09-01 03:00:00    0.909943\n",
      "2017-09-01 04:00:00    0.753480\n",
      "2017-09-01 05:00:00    0.975132\n",
      "2017-09-01 06:00:00    0.070872\n",
      "2017-09-01 07:00:00    0.886516\n",
      "2017-09-01 08:00:00    0.871309\n",
      "2017-09-01 09:00:00    0.973235\n",
      "2017-09-01 10:00:00    0.302175\n",
      "2017-09-01 11:00:00    0.329812\n",
      "2017-09-01 12:00:00    0.128213\n",
      "2017-09-01 13:00:00    0.799900\n",
      "2017-09-01 14:00:00    0.625495\n",
      "2017-09-01 15:00:00    0.150007\n",
      "2017-09-01 16:00:00    0.009263\n",
      "2017-09-01 17:00:00    0.704832\n",
      "2017-09-01 18:00:00    0.626042\n",
      "2017-09-01 19:00:00    0.071001\n",
      "2017-09-01 20:00:00    0.195805\n",
      "2017-09-01 21:00:00    0.068076\n",
      "2017-09-01 22:00:00    0.407775\n",
      "2017-09-01 23:00:00    0.129948\n",
      "Freq: H, dtype: float64\n"
     ]
    },
    {
     "data": {
      "image/png": "[encoded data removed]",
      "text/plain": [
       "<Figure size 432x288 with 1 Axes>"
      ]
     },
     "metadata": {
      "needs_background": "light"
     },
     "output_type": "display_data"
    }
   ],
   "source": [
    "x = pd.Series(np.random.rand(n_hours),index=hour_index)\n",
    "x.plot()\n",
    "print(x)"
   ]
  },
  {
   "cell_type": "markdown",
   "id": "015e69a8",
   "metadata": {},
   "source": [
    "## Rolling window operations"
   ]
  },
  {
   "cell_type": "markdown",
   "id": "477fb2b6",
   "metadata": {},
   "source": [
    "We may want to smooth out seasonal fluctuations by computing a rolling (or moving) average."
   ]
  },
  {
   "cell_type": "code",
   "execution_count": 24,
   "id": "c9f64126",
   "metadata": {},
   "outputs": [
    {
     "data": {
      "text/plain": [
       "True    706\n",
       "Name: Interpolated, dtype: int64"
      ]
     },
     "execution_count": 24,
     "metadata": {},
     "output_type": "execute_result"
    }
   ],
   "source": [
    "mlo['Interpolated'].notnull().value_counts()"
   ]
  },
  {
   "cell_type": "code",
   "execution_count": 25,
   "id": "7077f348",
   "metadata": {},
   "outputs": [],
   "source": [
    "s = mlo['Interpolated']"
   ]
  },
  {
   "cell_type": "code",
   "execution_count": 26,
   "id": "697d2f31",
   "metadata": {},
   "outputs": [
    {
     "data": {
      "text/plain": [
       "Date\n",
       "1958-03-01    315.71\n",
       "1958-04-01    317.45\n",
       "1958-05-01    317.50\n",
       "1958-06-01    317.10\n",
       "1958-07-01    315.86\n",
       "               ...  \n",
       "2016-08-01    402.25\n",
       "2016-09-01    401.03\n",
       "2016-10-01    401.57\n",
       "2016-11-01    403.53\n",
       "2016-12-01    404.48\n",
       "Name: Interpolated, Length: 706, dtype: float64"
      ]
     },
     "execution_count": 26,
     "metadata": {},
     "output_type": "execute_result"
    }
   ],
   "source": [
    "s"
   ]
  },
  {
   "cell_type": "code",
   "execution_count": 27,
   "id": "1ce8a08c",
   "metadata": {},
   "outputs": [
    {
     "data": {
      "text/plain": [
       "<AxesSubplot:xlabel='Date'>"
      ]
     },
     "execution_count": 27,
     "metadata": {},
     "output_type": "execute_result"
    },
    {
     "data": {
      "image/png": "[encoded data removed]",
      "text/plain": [
       "<Figure size 432x288 with 1 Axes>"
      ]
     },
     "metadata": {
      "needs_background": "light"
     },
     "output_type": "display_data"
    }
   ],
   "source": [
    "s.plot()"
   ]
  },
  {
   "cell_type": "markdown",
   "id": "7a93c9e2",
   "metadata": {},
   "source": [
    "Let us select only the first two years of the `s` timeseries. Note that string indexing works."
   ]
  },
  {
   "cell_type": "code",
   "execution_count": 29,
   "id": "ef1a5fd6",
   "metadata": {},
   "outputs": [
    {
     "data": {
      "text/plain": [
       "<AxesSubplot:xlabel='Date'>"
      ]
     },
     "execution_count": 29,
     "metadata": {},
     "output_type": "execute_result"
    },
    {
     "data": {
      "image/png": "[encoded data removed]",
      "text/plain": [
       "<Figure size 432x288 with 1 Axes>"
      ]
     },
     "metadata": {
      "needs_background": "light"
     },
     "output_type": "display_data"
    }
   ],
   "source": [
    "s[:'1960-03-01'].plot()"
   ]
  },
  {
   "cell_type": "markdown",
   "id": "a8dd0c18",
   "metadata": {},
   "source": [
    "Even partial string indexing works!"
   ]
  },
  {
   "cell_type": "code",
   "execution_count": 31,
   "id": "6b1fda1c",
   "metadata": {},
   "outputs": [
    {
     "data": {
      "text/plain": [
       "<AxesSubplot:xlabel='Date'>"
      ]
     },
     "execution_count": 31,
     "metadata": {},
     "output_type": "execute_result"
    },
    {
     "data": {
      "image/png": "[encoded data removed]",
      "text/plain": [
       "<Figure size 432x288 with 1 Axes>"
      ]
     },
     "metadata": {
      "needs_background": "light"
     },
     "output_type": "display_data"
    }
   ],
   "source": [
    "s[:'1960-03'].plot()"
   ]
  },
  {
   "cell_type": "code",
   "execution_count": 33,
   "id": "c49b1009",
   "metadata": {},
   "outputs": [
    {
     "data": {
      "text/plain": [
       "Date\n",
       "1958-03-01           NaN\n",
       "1958-04-01           NaN\n",
       "1958-05-01           NaN\n",
       "1958-06-01           NaN\n",
       "1958-07-01           NaN\n",
       "1958-08-01           NaN\n",
       "1958-09-01           NaN\n",
       "1958-10-01           NaN\n",
       "1958-11-01           NaN\n",
       "1958-12-01           NaN\n",
       "1959-01-01           NaN\n",
       "1959-02-01    315.367500\n",
       "1959-03-01    315.450833\n",
       "1959-04-01    315.473333\n",
       "1959-05-01    315.539167\n",
       "1959-06-01    315.626667\n",
       "1959-07-01    315.683333\n",
       "1959-08-01    315.672500\n",
       "1959-09-01    315.725833\n",
       "1959-10-01    315.775833\n",
       "1959-11-01    315.898333\n",
       "1959-12-01    315.974167\n",
       "1960-01-01    316.041667\n",
       "Name: Interpolated, dtype: float64"
      ]
     },
     "execution_count": 33,
     "metadata": {},
     "output_type": "execute_result"
    }
   ],
   "source": [
    "s[:'1960-01'].rolling(12).mean()"
   ]
  },
  {
   "cell_type": "code",
   "execution_count": 34,
   "id": "72161ea2",
   "metadata": {},
   "outputs": [
    {
     "data": {
      "text/plain": [
       "<AxesSubplot:xlabel='Date'>"
      ]
     },
     "execution_count": 34,
     "metadata": {},
     "output_type": "execute_result"
    },
    {
     "data": {
      "image/png": "[encoded data removed]",
      "text/plain": [
       "<Figure size 432x288 with 1 Axes>"
      ]
     },
     "metadata": {
      "needs_background": "light"
     },
     "output_type": "display_data"
    }
   ],
   "source": [
    "s[:'1960-01'].rolling(12).mean().plot()"
   ]
  },
  {
   "cell_type": "code",
   "execution_count": 35,
   "id": "8636d2aa",
   "metadata": {},
   "outputs": [
    {
     "data": {
      "text/plain": [
       "<AxesSubplot:xlabel='Date'>"
      ]
     },
     "execution_count": 35,
     "metadata": {},
     "output_type": "execute_result"
    },
    {
     "data": {
      "image/png": "[encoded data removed]",
      "text/plain": [
       "<Figure size 432x288 with 1 Axes>"
      ]
     },
     "metadata": {
      "needs_background": "light"
     },
     "output_type": "display_data"
    }
   ],
   "source": [
    "s.rolling(12).mean().plot()"
   ]
  },
  {
   "cell_type": "markdown",
   "id": "84ce69fd",
   "metadata": {},
   "source": [
    "Let us create a DataFrame which stores `mlo` plus this rolling average in a new column (labelled `smooth`)."
   ]
  },
  {
   "cell_type": "code",
   "execution_count": 36,
   "id": "a98710e0",
   "metadata": {},
   "outputs": [],
   "source": [
    "df = mlo.assign(smooth=s.rolling(12).mean())"
   ]
  },
  {
   "cell_type": "code",
   "execution_count": 37,
   "id": "00e64f3d",
   "metadata": {},
   "outputs": [
    {
     "data": {
      "text/html": [
       "<div>\n",
       "<style scoped>\n",
       "    .dataframe tbody tr th:only-of-type {\n",
       "        vertical-align: middle;\n",
       "    }\n",
       "\n",
       "    .dataframe tbody tr th {\n",
       "        vertical-align: top;\n",
       "    }\n",
       "\n",
       "    .dataframe thead th {\n",
       "        text-align: right;\n",
       "    }\n",
       "</style>\n",
       "<table border=\"1\" class=\"dataframe\">\n",
       "  <thead>\n",
       "    <tr style=\"text-align: right;\">\n",
       "      <th></th>\n",
       "      <th>Decimal Date</th>\n",
       "      <th>Average</th>\n",
       "      <th>Interpolated</th>\n",
       "      <th>Trend</th>\n",
       "      <th>Number of Days</th>\n",
       "      <th>smooth</th>\n",
       "    </tr>\n",
       "    <tr>\n",
       "      <th>Date</th>\n",
       "      <th></th>\n",
       "      <th></th>\n",
       "      <th></th>\n",
       "      <th></th>\n",
       "      <th></th>\n",
       "      <th></th>\n",
       "    </tr>\n",
       "  </thead>\n",
       "  <tbody>\n",
       "    <tr>\n",
       "      <th>1958-03-01</th>\n",
       "      <td>1958.208</td>\n",
       "      <td>315.71</td>\n",
       "      <td>315.71</td>\n",
       "      <td>314.62</td>\n",
       "      <td>-1</td>\n",
       "      <td>NaN</td>\n",
       "    </tr>\n",
       "    <tr>\n",
       "      <th>1958-04-01</th>\n",
       "      <td>1958.292</td>\n",
       "      <td>317.45</td>\n",
       "      <td>317.45</td>\n",
       "      <td>315.29</td>\n",
       "      <td>-1</td>\n",
       "      <td>NaN</td>\n",
       "    </tr>\n",
       "    <tr>\n",
       "      <th>1958-05-01</th>\n",
       "      <td>1958.375</td>\n",
       "      <td>317.50</td>\n",
       "      <td>317.50</td>\n",
       "      <td>314.71</td>\n",
       "      <td>-1</td>\n",
       "      <td>NaN</td>\n",
       "    </tr>\n",
       "    <tr>\n",
       "      <th>1958-06-01</th>\n",
       "      <td>1958.458</td>\n",
       "      <td>NaN</td>\n",
       "      <td>317.10</td>\n",
       "      <td>314.85</td>\n",
       "      <td>-1</td>\n",
       "      <td>NaN</td>\n",
       "    </tr>\n",
       "    <tr>\n",
       "      <th>1958-07-01</th>\n",
       "      <td>1958.542</td>\n",
       "      <td>315.86</td>\n",
       "      <td>315.86</td>\n",
       "      <td>314.98</td>\n",
       "      <td>-1</td>\n",
       "      <td>NaN</td>\n",
       "    </tr>\n",
       "    <tr>\n",
       "      <th>...</th>\n",
       "      <td>...</td>\n",
       "      <td>...</td>\n",
       "      <td>...</td>\n",
       "      <td>...</td>\n",
       "      <td>...</td>\n",
       "      <td>...</td>\n",
       "    </tr>\n",
       "    <tr>\n",
       "      <th>2016-08-01</th>\n",
       "      <td>2016.625</td>\n",
       "      <td>402.25</td>\n",
       "      <td>402.25</td>\n",
       "      <td>404.09</td>\n",
       "      <td>23</td>\n",
       "      <td>403.157500</td>\n",
       "    </tr>\n",
       "    <tr>\n",
       "      <th>2016-09-01</th>\n",
       "      <td>2016.708</td>\n",
       "      <td>401.03</td>\n",
       "      <td>401.03</td>\n",
       "      <td>404.52</td>\n",
       "      <td>24</td>\n",
       "      <td>403.440833</td>\n",
       "    </tr>\n",
       "    <tr>\n",
       "      <th>2016-10-01</th>\n",
       "      <td>2016.792</td>\n",
       "      <td>401.57</td>\n",
       "      <td>401.57</td>\n",
       "      <td>404.93</td>\n",
       "      <td>29</td>\n",
       "      <td>403.714167</td>\n",
       "    </tr>\n",
       "    <tr>\n",
       "      <th>2016-11-01</th>\n",
       "      <td>2016.875</td>\n",
       "      <td>403.53</td>\n",
       "      <td>403.53</td>\n",
       "      <td>405.57</td>\n",
       "      <td>27</td>\n",
       "      <td>403.995000</td>\n",
       "    </tr>\n",
       "    <tr>\n",
       "      <th>2016-12-01</th>\n",
       "      <td>2016.958</td>\n",
       "      <td>404.48</td>\n",
       "      <td>404.48</td>\n",
       "      <td>405.25</td>\n",
       "      <td>29</td>\n",
       "      <td>404.214167</td>\n",
       "    </tr>\n",
       "  </tbody>\n",
       "</table>\n",
       "<p>706 rows × 6 columns</p>\n",
       "</div>"
      ],
      "text/plain": [
       "            Decimal Date  Average  Interpolated   Trend  Number of Days  \\\n",
       "Date                                                                      \n",
       "1958-03-01      1958.208   315.71        315.71  314.62              -1   \n",
       "1958-04-01      1958.292   317.45        317.45  315.29              -1   \n",
       "1958-05-01      1958.375   317.50        317.50  314.71              -1   \n",
       "1958-06-01      1958.458      NaN        317.10  314.85              -1   \n",
       "1958-07-01      1958.542   315.86        315.86  314.98              -1   \n",
       "...                  ...      ...           ...     ...             ...   \n",
       "2016-08-01      2016.625   402.25        402.25  404.09              23   \n",
       "2016-09-01      2016.708   401.03        401.03  404.52              24   \n",
       "2016-10-01      2016.792   401.57        401.57  404.93              29   \n",
       "2016-11-01      2016.875   403.53        403.53  405.57              27   \n",
       "2016-12-01      2016.958   404.48        404.48  405.25              29   \n",
       "\n",
       "                smooth  \n",
       "Date                    \n",
       "1958-03-01         NaN  \n",
       "1958-04-01         NaN  \n",
       "1958-05-01         NaN  \n",
       "1958-06-01         NaN  \n",
       "1958-07-01         NaN  \n",
       "...                ...  \n",
       "2016-08-01  403.157500  \n",
       "2016-09-01  403.440833  \n",
       "2016-10-01  403.714167  \n",
       "2016-11-01  403.995000  \n",
       "2016-12-01  404.214167  \n",
       "\n",
       "[706 rows x 6 columns]"
      ]
     },
     "execution_count": 37,
     "metadata": {},
     "output_type": "execute_result"
    }
   ],
   "source": [
    "df"
   ]
  },
  {
   "cell_type": "code",
   "execution_count": 38,
   "id": "65fd8a20",
   "metadata": {},
   "outputs": [
    {
     "data": {
      "text/plain": [
       "<AxesSubplot:xlabel='Date'>"
      ]
     },
     "execution_count": 38,
     "metadata": {},
     "output_type": "execute_result"
    },
    {
     "data": {
      "image/png": "[encoded data removed]",
      "text/plain": [
       "<Figure size 432x288 with 1 Axes>"
      ]
     },
     "metadata": {
      "needs_background": "light"
     },
     "output_type": "display_data"
    }
   ],
   "source": [
    "df[['Trend', 'smooth']].plot()"
   ]
  },
  {
   "cell_type": "markdown",
   "id": "34bdcdd2",
   "metadata": {},
   "source": [
    "### Hands-on exercises"
   ]
  },
  {
   "cell_type": "markdown",
   "id": "5dfeb06e",
   "metadata": {},
   "source": [
    "1. We can specify a window type when computing the rolling operation. What do you expect `s.rolling(12, win_type='triang').mean()` should yield?\n",
    "2. Plot it to confirm (confront) your assumption. Plot the difference between the above and `mlo['Trend']`"
   ]
  },
  {
   "cell_type": "code",
   "execution_count": 39,
   "id": "2a7d3cd4",
   "metadata": {},
   "outputs": [
    {
     "data": {
      "text/plain": [
       "Date\n",
       "1958-03-01           NaN\n",
       "1958-04-01           NaN\n",
       "1958-05-01           NaN\n",
       "1958-06-01           NaN\n",
       "1958-07-01           NaN\n",
       "                 ...    \n",
       "2016-08-01    404.120139\n",
       "2016-09-01    404.770417\n",
       "2016-10-01    405.059861\n",
       "2016-11-01    404.978611\n",
       "2016-12-01    404.633472\n",
       "Name: Interpolated, Length: 706, dtype: float64"
      ]
     },
     "execution_count": 39,
     "metadata": {},
     "output_type": "execute_result"
    }
   ],
   "source": [
    "s.rolling(12, win_type='triang').mean()"
   ]
  },
  {
   "cell_type": "code",
   "execution_count": 40,
   "id": "d967a956",
   "metadata": {},
   "outputs": [
    {
     "data": {
      "text/plain": [
       "Date\n",
       "1958-03-01    314.62\n",
       "1958-04-01    315.29\n",
       "1958-05-01    314.71\n",
       "1958-06-01    314.85\n",
       "1958-07-01    314.98\n",
       "               ...  \n",
       "2016-08-01    404.09\n",
       "2016-09-01    404.52\n",
       "2016-10-01    404.93\n",
       "2016-11-01    405.57\n",
       "2016-12-01    405.25\n",
       "Name: Trend, Length: 706, dtype: float64"
      ]
     },
     "execution_count": 40,
     "metadata": {},
     "output_type": "execute_result"
    }
   ],
   "source": [
    "mlo['Trend']"
   ]
  },
  {
   "cell_type": "markdown",
   "id": "8cb14f61",
   "metadata": {},
   "source": [
    "## The PeriodIndex object"
   ]
  },
  {
   "cell_type": "markdown",
   "id": "a8815ec0",
   "metadata": {},
   "source": [
    "Using `.rolling()` with a time-based index is similar to resampling; `.rolling()` is a time-based window operation, while `.resample()` is a frequency-based window operation."
   ]
  },
  {
   "cell_type": "code",
   "execution_count": 43,
   "id": "ad9a5244",
   "metadata": {},
   "outputs": [
    {
     "data": {
      "text/plain": [
       "DatetimeIndex(['1958-03-01', '1958-04-01', '1958-05-01', '1958-06-01',\n",
       "               '1958-07-01', '1958-08-01', '1958-09-01', '1958-10-01',\n",
       "               '1958-11-01', '1958-12-01',\n",
       "               ...\n",
       "               '2016-03-01', '2016-04-01', '2016-05-01', '2016-06-01',\n",
       "               '2016-07-01', '2016-08-01', '2016-09-01', '2016-10-01',\n",
       "               '2016-11-01', '2016-12-01'],\n",
       "              dtype='datetime64[ns]', name='Date', length=706, freq=None)"
      ]
     },
     "execution_count": 43,
     "metadata": {},
     "output_type": "execute_result"
    }
   ],
   "source": [
    "s.index"
   ]
  },
  {
   "cell_type": "code",
   "execution_count": 44,
   "id": "617b8b3a",
   "metadata": {},
   "outputs": [
    {
     "data": {
      "text/plain": [
       "Date\n",
       "1958-03-01    315.71\n",
       "1958-04-01    317.45\n",
       "1958-05-01    317.50\n",
       "1958-06-01    317.10\n",
       "Name: Interpolated, dtype: float64"
      ]
     },
     "execution_count": 44,
     "metadata": {},
     "output_type": "execute_result"
    }
   ],
   "source": [
    "s['1958-03':'1958-06']"
   ]
  },
  {
   "cell_type": "markdown",
   "id": "b782f5ab",
   "metadata": {},
   "source": [
    "Notice that each value is associated with a point in time (most usual type of timeseries data), but really it should be associated with a time interval (value holds for the entire month). Pandas provide a `Period` object, opposite the expected `Timestamp` object."
   ]
  },
  {
   "cell_type": "code",
   "execution_count": 45,
   "id": "36439918",
   "metadata": {},
   "outputs": [
    {
     "data": {
      "text/plain": [
       "Timestamp('1958-03-01 00:00:00')"
      ]
     },
     "execution_count": 45,
     "metadata": {},
     "output_type": "execute_result"
    }
   ],
   "source": [
    "pd.Timestamp('1958-03-01')"
   ]
  },
  {
   "cell_type": "code",
   "execution_count": 46,
   "id": "f8ee688a",
   "metadata": {},
   "outputs": [
    {
     "data": {
      "text/plain": [
       "Period('1958-03', 'M')"
      ]
     },
     "execution_count": 46,
     "metadata": {},
     "output_type": "execute_result"
    }
   ],
   "source": [
    "pd.Period('1958-03-01', freq='M')"
   ]
  },
  {
   "cell_type": "code",
   "execution_count": 49,
   "id": "c738f3a0",
   "metadata": {},
   "outputs": [
    {
     "data": {
      "text/plain": [
       "PeriodIndex(['1958-03', '1958-04', '1958-05', '1958-06', '1958-07', '1958-08',\n",
       "             '1958-09', '1958-10', '1958-11', '1958-12',\n",
       "             ...\n",
       "             '2016-03', '2016-04', '2016-05', '2016-06', '2016-07', '2016-08',\n",
       "             '2016-09', '2016-10', '2016-11', '2016-12'],\n",
       "            dtype='period[M]', length=706, freq='M')"
      ]
     },
     "execution_count": 49,
     "metadata": {},
     "output_type": "execute_result"
    }
   ],
   "source": [
    "monthly_index = pd.period_range('1958-03-01', periods=706, freq='M')\n",
    "monthly_index"
   ]
  },
  {
   "cell_type": "code",
   "execution_count": 50,
   "id": "c1568a6f",
   "metadata": {},
   "outputs": [],
   "source": [
    "s.index = monthly_index"
   ]
  },
  {
   "cell_type": "code",
   "execution_count": 51,
   "id": "3f615e31",
   "metadata": {},
   "outputs": [
    {
     "data": {
      "text/plain": [
       "1958-03    315.71\n",
       "1958-04    317.45\n",
       "1958-05    317.50\n",
       "1958-06    317.10\n",
       "1958-07    315.86\n",
       "1958-08    314.93\n",
       "1958-09    313.20\n",
       "1958-10    312.66\n",
       "1958-11    313.33\n",
       "1958-12    314.67\n",
       "Freq: M, Name: Interpolated, dtype: float64"
      ]
     },
     "execution_count": 51,
     "metadata": {},
     "output_type": "execute_result"
    }
   ],
   "source": [
    "s['1958']"
   ]
  },
  {
   "cell_type": "markdown",
   "id": "7d8e6189",
   "metadata": {},
   "source": [
    "## Resampling"
   ]
  },
  {
   "cell_type": "markdown",
   "id": "a783a955",
   "metadata": {},
   "source": [
    "We can down-sample the timeseries (going to a lower frequency), if we are interested in the minimum value over 3-month bins (for a list of convenient aliases, see http://pandas.pydata.org/pandas-docs/stable/timeseries.html#offset-aliases)."
   ]
  },
  {
   "cell_type": "code",
   "execution_count": 53,
   "id": "2d5b3abd",
   "metadata": {},
   "outputs": [
    {
     "data": {
      "text/plain": [
       "1958-03    315.71\n",
       "1958-04    317.45\n",
       "1958-05    317.50\n",
       "1958-06    317.10\n",
       "1958-07    315.86\n",
       "1958-08    314.93\n",
       "1958-09    313.20\n",
       "1958-10    312.66\n",
       "1958-11    313.33\n",
       "1958-12    314.67\n",
       "1959-01    315.62\n",
       "1959-02    316.38\n",
       "1959-03    316.71\n",
       "1959-04    317.72\n",
       "1959-05    318.29\n",
       "Freq: M, Name: Interpolated, dtype: float64"
      ]
     },
     "execution_count": 53,
     "metadata": {},
     "output_type": "execute_result"
    }
   ],
   "source": [
    "s.head(15)"
   ]
  },
  {
   "cell_type": "code",
   "execution_count": 60,
   "id": "4afdd063",
   "metadata": {},
   "outputs": [
    {
     "data": {
      "text/plain": [
       "1958    312.66\n",
       "1961    314.80\n",
       "1964    316.70\n",
       "1967    319.31\n",
       "1970    323.10\n",
       "Freq: 3A-DEC, Name: Interpolated, dtype: float64"
      ]
     },
     "execution_count": 60,
     "metadata": {},
     "output_type": "execute_result"
    }
   ],
   "source": [
    "re = s.resample('3Y').min()\n",
    "re.head()"
   ]
  },
  {
   "cell_type": "markdown",
   "id": "3abb7ecf",
   "metadata": {},
   "source": [
    "If we wanted to compute the difference between `re` values and `mlo['Trend']` values, we would have to begin with up-sampling `re`."
   ]
  },
  {
   "cell_type": "code",
   "execution_count": 58,
   "id": "5e79a385",
   "metadata": {},
   "outputs": [
    {
     "data": {
      "text/plain": [
       "1958-01    312.66\n",
       "1958-04       NaN\n",
       "1958-07       NaN\n",
       "1958-10       NaN\n",
       "1959-01       NaN\n",
       "1959-04       NaN\n",
       "1959-07       NaN\n",
       "1959-10       NaN\n",
       "1960-01       NaN\n",
       "1960-04       NaN\n",
       "Freq: 3M, Name: Interpolated, dtype: float64"
      ]
     },
     "execution_count": 58,
     "metadata": {},
     "output_type": "execute_result"
    }
   ],
   "source": [
    "up = re.resample('3M').asfreq()\n",
    "up.head(10)"
   ]
  },
  {
   "cell_type": "code",
   "execution_count": null,
   "id": "5266fc1c",
   "metadata": {},
   "outputs": [],
   "source": []
  }
 ],
 "metadata": {
  "kernelspec": {
   "display_name": "Python 3",
   "language": "python",
   "name": "python3"
  },
  "language_info": {
   "codemirror_mode": {
    "name": "ipython",
    "version": 3
   },
   "file_extension": ".py",
   "mimetype": "text/x-python",
   "name": "python",
   "nbconvert_exporter": "python",
   "pygments_lexer": "ipython3",
   "version": "3.8.8"
  }
 },
 "nbformat": 4,
 "nbformat_minor": 5
}
