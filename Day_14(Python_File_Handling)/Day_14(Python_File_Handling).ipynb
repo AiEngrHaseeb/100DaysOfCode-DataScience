{
 "cells": [
  {
   "cell_type": "markdown",
   "metadata": {},
   "source": [
    "## File Handling"
   ]
  },
  {
   "cell_type": "markdown",
   "metadata": {},
   "source": [
    "## What Is a File?\n",
    "A file is a contiguous set of bytes used to store data. This data is organized in a specific format and can be anything as simple as a text file or as complicated as a program executable.\n",
    "Files on most modern file systems are composed of three main parts:\n",
    "\n",
    "**Header:** metadata about the contents of the file (file name, size, type, and so on).\n",
    "\n",
    "**Data:** contents of the file as written by the creator or editor.\n",
    "\n",
    "**End of file (EOF):** special character that indicates the end of the file.\n",
    "<img src = \"https://files.realpython.com/media/FileFormat.02335d06829d.png\">"
   ]
  },
  {
   "cell_type": "markdown",
   "metadata": {},
   "source": [
    "## File Paths\n",
    "When you access a file on an operating system, a file path is required. The file path is a string that represents the location of a file. It’s broken up into three major parts:\n",
    "\n",
    "**Folder Path:** the file folder location on the file system where subsequent folders are separated by a forward slash / (Unix) or backslash \\ (Windows).\n",
    "\n",
    "**File Name:** the actual name of the file.\n",
    "\n",
    "**Extension:** the end of the file path pre-pended with a period (.) used to indicate the file type"
   ]
  },
  {
   "cell_type": "markdown",
   "metadata": {},
   "source": [
    "    Here’s a quick example. Let’s say you have a file located within a file structure like this:\n",
    "    \n",
    "    /  \n",
    "    │\n",
    "    ├── path/  ← Your current working directory (cwd) is here\n",
    "    |   │\n",
    "    |   ├── to/  \n",
    "    |   │   └── cats.gif  ← Accessing this file\n",
    "    |   │\n",
    "    |   └── dog_breeds.txt\n",
    "    |\n",
    "    └── animals.csv"
   ]
  },
  {
   "cell_type": "markdown",
   "metadata": {},
   "source": [
    "Let’s say you wanted to access the cats.gif file.\n",
    "The Folder Path is path/to/. The File Name is cats. The File Extension is .gif. So the full path is path/to/cats.gif."
   ]
  },
  {
   "cell_type": "markdown",
   "metadata": {},
   "source": [
    "#### Relative or Absolute Path?\n",
    "A path is either **relative** or **absolute**. \n",
    "\n",
    "An **absolute path** always contains the **root element and the complete directory** list required to locate the file. **For example, /home/sally/statusReport is an absolute path.** All of the information needed to locate the file is contained in the path string.\n",
    "\n",
    "A **relative path** needs to be combined with another path in order to access a file. **For example, joe/foo is a relative path.** Without more information, a program cannot reliably locate the joe/foo directory in the file system."
   ]
  },
  {
   "cell_type": "markdown",
   "metadata": {},
   "source": [
    "**Relative path**\n",
    "<li>%load aa/a.py \n",
    "<li>%load ../bb/a.py"
   ]
  },
  {
   "cell_type": "markdown",
   "metadata": {},
   "source": [
    "**Absolute Path**\n",
    "%load/home/HaseebRajput/WindowData/Course/ISLAMABAD/12:30_to_03:30/class9(File_Handling)/a.py"
   ]
  },
  {
   "cell_type": "markdown",
   "metadata": {},
   "source": [
    "## Opening and Closing a File in Python"
   ]
  },
  {
   "cell_type": "markdown",
   "metadata": {},
   "source": [
    "When you want to work with a file, the first thing to do is to open it. This is done by invoking the open() built-in function. open() has a single required argument that is the path to the file. open() has a single return, the file object"
   ]
  },
  {
   "cell_type": "code",
   "execution_count": 1,
   "metadata": {},
   "outputs": [],
   "source": [
    "file = open('dog_breeds.txt')"
   ]
  },
  {
   "cell_type": "code",
   "execution_count": 2,
   "metadata": {},
   "outputs": [
    {
     "data": {
      "text/plain": [
       "<_io.TextIOWrapper name='dog_breeds.txt' mode='r' encoding='cp1252'>"
      ]
     },
     "execution_count": 2,
     "metadata": {},
     "output_type": "execute_result"
    }
   ],
   "source": [
    "file"
   ]
  },
  {
   "cell_type": "code",
   "execution_count": 3,
   "metadata": {},
   "outputs": [
    {
     "data": {
      "text/plain": [
       "['Pug\\\\r\\\\n\\n',\n",
       " 'Jack Russell Terrier\\\\r\\\\n\\n',\n",
       " 'English Springer Spaniel\\\\r\\\\n\\n',\n",
       " 'German Shepherd\\\\r\\\\n\\n',\n",
       " 'Staffordshire Bull Terrier\\\\r\\\\n\\n',\n",
       " 'Cavalier King Charles Spaniel\\\\r\\\\n\\n',\n",
       " 'Golden Retriever\\\\r\\\\n\\n',\n",
       " 'West Highland White Terrier\\\\r\\\\n\\n',\n",
       " 'Boxer\\\\r\\\\n\\n',\n",
       " 'Border Terrier\\\\r\\\\n']"
      ]
     },
     "execution_count": 3,
     "metadata": {},
     "output_type": "execute_result"
    }
   ],
   "source": [
    "list(file)"
   ]
  },
  {
   "cell_type": "code",
   "execution_count": 4,
   "metadata": {},
   "outputs": [
    {
     "data": {
      "text/plain": [
       "<_io.TextIOWrapper name='abc.txt' mode='r' encoding='cp1252'>"
      ]
     },
     "execution_count": 4,
     "metadata": {},
     "output_type": "execute_result"
    }
   ],
   "source": [
    "open('abc.txt')"
   ]
  },
  {
   "cell_type": "code",
   "execution_count": 5,
   "metadata": {},
   "outputs": [
    {
     "data": {
      "text/plain": [
       "['Hello World']"
      ]
     },
     "execution_count": 5,
     "metadata": {},
     "output_type": "execute_result"
    }
   ],
   "source": [
    "list(open('abc.txt'))"
   ]
  },
  {
   "cell_type": "markdown",
   "metadata": {},
   "source": [
    "After you open a file, the next thing to learn is how to close it.\n",
    "\n",
    "**Warning:** You should always make sure that an open file is properly closed.\n"
   ]
  },
  {
   "cell_type": "markdown",
   "metadata": {},
   "source": [
    "**The first way to close a file**"
   ]
  },
  {
   "cell_type": "code",
   "execution_count": 16,
   "metadata": {},
   "outputs": [
    {
     "name": "stdout",
     "output_type": "stream",
     "text": [
      "Pug\\r\\n\n",
      "\n",
      "Jack Russell Terrier\\r\\n\n",
      "\n",
      "English Springer Spaniel\\r\\n\n",
      "\n",
      "German Shepherd\\r\\n\n",
      "\n",
      "Staffordshire Bull Terrier\\r\\n\n",
      "\n",
      "Cavalier King Charles Spaniel\\r\\n\n",
      "\n",
      "Golden Retriever\\r\\n\n",
      "\n",
      "West Highland White Terrier\\r\\n\n",
      "\n",
      "Boxer\\r\\n\n",
      "\n",
      "Border Terrier\\r\\n\n"
     ]
    }
   ],
   "source": [
    "data = open('dog_breeds.txt')\n",
    "\n",
    "for r in data:\n",
    "    print(r)\n",
    "\n",
    "data.close()"
   ]
  },
  {
   "cell_type": "markdown",
   "metadata": {},
   "source": [
    "**The second way to close a file is to use the try-finally block:**"
   ]
  },
  {
   "cell_type": "code",
   "execution_count": 17,
   "metadata": {},
   "outputs": [
    {
     "name": "stdout",
     "output_type": "stream",
     "text": [
      "Pug\\r\\n\n",
      "\n",
      "Jack Russell Terrier\\r\\n\n",
      "\n",
      "English Springer Spaniel\\r\\n\n",
      "\n",
      "German Shepherd\\r\\n\n",
      "\n",
      "Staffordshire Bull Terrier\\r\\n\n",
      "\n",
      "Cavalier King Charles Spaniel\\r\\n\n",
      "\n",
      "Golden Retriever\\r\\n\n",
      "\n",
      "West Highland White Terrier\\r\\n\n",
      "\n",
      "Boxer\\r\\n\n",
      "\n",
      "Border Terrier\\r\\n\n"
     ]
    }
   ],
   "source": [
    "reader = open('dog_breeds.txt')\n",
    "try:\n",
    "    # Further file processing goes here\n",
    "    for r in reader:\n",
    "        print(r)\n",
    "finally:\n",
    "    reader.close()"
   ]
  },
  {
   "cell_type": "markdown",
   "metadata": {},
   "source": [
    "**The Third way to close a file is to use the with statement:**\n",
    "    The with statement automatically takes care of closing the file once it leaves the with block, even in cases of error. I highly recommend that you use the with statement as much as possible, as it allows for cleaner code and makes handling any unexpected errors easier for you."
   ]
  },
  {
   "cell_type": "code",
   "execution_count": 18,
   "metadata": {},
   "outputs": [
    {
     "name": "stdout",
     "output_type": "stream",
     "text": [
      "Pug\\r\\n\n",
      "\n",
      "Jack Russell Terrier\\r\\n\n",
      "\n",
      "English Springer Spaniel\\r\\n\n",
      "\n",
      "German Shepherd\\r\\n\n",
      "\n",
      "Staffordshire Bull Terrier\\r\\n\n",
      "\n",
      "Cavalier King Charles Spaniel\\r\\n\n",
      "\n",
      "Golden Retriever\\r\\n\n",
      "\n",
      "West Highland White Terrier\\r\\n\n",
      "\n",
      "Boxer\\r\\n\n",
      "\n",
      "Border Terrier\\r\\n\n"
     ]
    }
   ],
   "source": [
    "with open('dog_breeds.txt') as reader:\n",
    "    # Further file processing goes here\n",
    "    for r in reader:\n",
    "        print(r)"
   ]
  },
  {
   "cell_type": "markdown",
   "metadata": {},
   "source": [
    "#### Modes Options\n",
    "\n",
    "    Most likely, you’ll also want to use the second positional argument, mode. This argument is a string that contains multiple characters to represent how you want to open the file. The default and most common is 'r', which represents opening the file in read-only mode as a text file:\n",
    "\n",
    "                      | r   r+   w   w+   a   a+\n",
    "    ------------------|--------------------------\n",
    "    read              | +   +        +        +\n",
    "    write             |     +    +   +    +   +\n",
    "    write after seek  |     +    +   +\n",
    "    create            |          +   +    +   +\n",
    "    truncate          |           \n",
    "    position at start | +   +    +   +\n",
    "    position at end   |                   +   "
   ]
  },
  {
   "cell_type": "code",
   "execution_count": 19,
   "metadata": {},
   "outputs": [
    {
     "name": "stdout",
     "output_type": "stream",
     "text": [
      "Pug\\r\\n\n",
      "\n",
      "Jack Russell Terrier\\r\\n\n",
      "\n",
      "English Springer Spaniel\\r\\n\n",
      "\n",
      "German Shepherd\\r\\n\n",
      "\n",
      "Staffordshire Bull Terrier\\r\\n\n",
      "\n",
      "Cavalier King Charles Spaniel\\r\\n\n",
      "\n",
      "Golden Retriever\\r\\n\n",
      "\n",
      "West Highland White Terrier\\r\\n\n",
      "\n",
      "Boxer\\r\\n\n",
      "\n",
      "Border Terrier\\r\\n\n"
     ]
    }
   ],
   "source": [
    "with open('dog_breeds.txt', 'r') as reader:\n",
    "    # Further file processing goes here\n",
    "    for r in reader:\n",
    "        print(r)"
   ]
  },
  {
   "cell_type": "markdown",
   "metadata": {},
   "source": [
    "### Categories of file objects:\n",
    "<li>Text files\n",
    "<li>Buffered binary files\n",
    "<li>Raw binary files"
   ]
  },
  {
   "cell_type": "markdown",
   "metadata": {},
   "source": [
    "#### Text File Types\n",
    "A text file is the most common file that you’ll encounter. Here are some examples of how these files are opened:"
   ]
  },
  {
   "cell_type": "raw",
   "metadata": {},
   "source": [
    "open('abc.txt')\n",
    "open('abc.txt', 'r')\n",
    "open('abc.txt', 'w')"
   ]
  },
  {
   "cell_type": "code",
   "execution_count": 22,
   "metadata": {},
   "outputs": [
    {
     "data": {
      "text/plain": [
       "_io.TextIOWrapper"
      ]
     },
     "execution_count": 22,
     "metadata": {},
     "output_type": "execute_result"
    }
   ],
   "source": [
    "file = open('dog_breeds.txt')\n",
    "type(file)"
   ]
  },
  {
   "cell_type": "markdown",
   "metadata": {},
   "source": [
    "#### Buffered Binary File Types\n",
    "A buffered binary file type is used for reading and writing binary files. Here are some examples of how these files are opened:"
   ]
  },
  {
   "cell_type": "raw",
   "metadata": {},
   "source": [
    "open('abc.txt', 'rb')\n",
    "open('abc.txt', 'wb')"
   ]
  },
  {
   "cell_type": "markdown",
   "metadata": {},
   "source": [
    "With these types of files, open() will return either a BufferedReader or BufferedWriter file object:\n",
    "\n"
   ]
  },
  {
   "cell_type": "code",
   "execution_count": 26,
   "metadata": {},
   "outputs": [
    {
     "data": {
      "text/plain": [
       "_io.BufferedWriter"
      ]
     },
     "execution_count": 26,
     "metadata": {},
     "output_type": "execute_result"
    }
   ],
   "source": [
    "file = open('dog_breeds.txt', 'wb')\n",
    "type(file)"
   ]
  },
  {
   "cell_type": "code",
   "execution_count": 25,
   "metadata": {},
   "outputs": [
    {
     "data": {
      "text/plain": [
       "_io.BufferedReader"
      ]
     },
     "execution_count": 25,
     "metadata": {},
     "output_type": "execute_result"
    }
   ],
   "source": [
    "file = open('dog_breeds.txt', 'rb')\n",
    "type(file)"
   ]
  },
  {
   "cell_type": "markdown",
   "metadata": {},
   "source": [
    "#### Raw File Types\n",
    "A raw file type is:\n",
    "\n",
    "“generally used as a low-level building-block for binary and text streams.” (Source)\n",
    "\n",
    "It is therefore not typically used.\n",
    "\n",
    "Here’s an example of how these files are opened:"
   ]
  },
  {
   "cell_type": "raw",
   "metadata": {},
   "source": [
    "open('abc.txt', 'rb', buffering=0)"
   ]
  },
  {
   "cell_type": "code",
   "execution_count": 27,
   "metadata": {},
   "outputs": [
    {
     "data": {
      "text/plain": [
       "_io.FileIO"
      ]
     },
     "execution_count": 27,
     "metadata": {},
     "output_type": "execute_result"
    }
   ],
   "source": [
    "file = open('dog_breeds.txt', 'rb', buffering=0)\n",
    "type(file)"
   ]
  },
  {
   "cell_type": "markdown",
   "metadata": {},
   "source": [
    "### Reading and Writing Opened Files\n",
    "Once you’ve opened up a file, you’ll want to read or write to the file. First off, let’s cover reading a file. There are multiple methods that can be called on a file object to help you out:\n",
    "<div class=\"table-responsive\">\n",
    "<table class=\"table table-hover\">\n",
    "<thead>\n",
    "<tr>\n",
    "<th>Method</th>\n",
    "<th>What It Does</th>\n",
    "</tr>\n",
    "</thead>\n",
    "<tbody>\n",
    "<tr>\n",
    "<td><a href=\"https://docs.python.org/3.7/library/io.html#io.RawIOBase.read\"><code>.read(size=-1)</code></a></td>\n",
    "<td>This reads from the file based on the number of <code>size</code> bytes. If no argument is passed or <code>None</code> or <code>-1</code> is passed, then the entire file is read.</td>\n",
    "</tr>\n",
    "<tr>\n",
    "<td><a href=\"https://docs.python.org/3.7/library/io.html#io.IOBase.readline\"><code>.readline(size=-1)</code></a></td>\n",
    "<td>This reads at most <code>size</code> number of characters from the line. This continues to the end of the line and then wraps back around. If no argument is passed or <code>None</code> or <code>-1</code> is passed, then the entire line (or rest of the line) is read.</td>\n",
    "</tr>\n",
    "<tr>\n",
    "<td><a href=\"https://docs.python.org/3.7/library/io.html#io.IOBase.readlines\"><code>.readlines()</code></a></td>\n",
    "<td>This reads the remaining lines from the file object and returns them as a list.</td>\n",
    "</tr>\n",
    "</tbody>\n",
    "</table>\n",
    "</div>"
   ]
  },
  {
   "cell_type": "code",
   "execution_count": 32,
   "metadata": {},
   "outputs": [
    {
     "name": "stdout",
     "output_type": "stream",
     "text": [
      "Pug\n",
      "Jack Russell Terrier\n",
      "English Springer Spaniel\n",
      "German Shepherd\n",
      "Staffordshire Bull Terrier\n",
      "Cavalier King Charles Spaniel\n",
      "Golden Retriever\n",
      "West Highland White Terrier\n",
      "Boxer\n",
      "Border Terrier\n"
     ]
    }
   ],
   "source": [
    "with open('dog_breeds.txt', 'r') as reader:\n",
    "    # Read & print the entire file\n",
    "    print(reader.read())"
   ]
  },
  {
   "cell_type": "code",
   "execution_count": 33,
   "metadata": {},
   "outputs": [
    {
     "name": "stdout",
     "output_type": "stream",
     "text": [
      "Pug\n",
      "\n",
      "Jack \n",
      "Russe\n",
      "ll Te\n",
      "rrier\n"
     ]
    }
   ],
   "source": [
    "with open('dog_breeds.txt', 'r') as reader:\n",
    "    # Read & print the first 5 characters of the line 5 times\n",
    "    print(reader.readline(5))\n",
    "    # Notice that line is greater than the 5 chars and continues\n",
    "    # down the line, reading 5 chars each time until the end of the\n",
    "    # line and then \"wraps\" around\n",
    "    print(reader.readline(5))\n",
    "    print(reader.readline(5))\n",
    "    print(reader.readline(5))\n",
    "    print(reader.readline(5))"
   ]
  },
  {
   "cell_type": "code",
   "execution_count": 34,
   "metadata": {},
   "outputs": [
    {
     "data": {
      "text/plain": [
       "['Pug\\n',\n",
       " 'Jack Russell Terrier\\n',\n",
       " 'English Springer Spaniel\\n',\n",
       " 'German Shepherd\\n',\n",
       " 'Staffordshire Bull Terrier\\n',\n",
       " 'Cavalier King Charles Spaniel\\n',\n",
       " 'Golden Retriever\\n',\n",
       " 'West Highland White Terrier\\n',\n",
       " 'Boxer\\n',\n",
       " 'Border Terrier']"
      ]
     },
     "execution_count": 34,
     "metadata": {},
     "output_type": "execute_result"
    }
   ],
   "source": [
    "f = open('dog_breeds.txt')\n",
    "f.readlines()  # Returns a list object\n"
   ]
  },
  {
   "cell_type": "code",
   "execution_count": 35,
   "metadata": {},
   "outputs": [
    {
     "data": {
      "text/plain": [
       "['Pug\\n',\n",
       " 'Jack Russell Terrier\\n',\n",
       " 'English Springer Spaniel\\n',\n",
       " 'German Shepherd\\n',\n",
       " 'Staffordshire Bull Terrier\\n',\n",
       " 'Cavalier King Charles Spaniel\\n',\n",
       " 'Golden Retriever\\n',\n",
       " 'West Highland White Terrier\\n',\n",
       " 'Boxer\\n',\n",
       " 'Border Terrier']"
      ]
     },
     "execution_count": 35,
     "metadata": {},
     "output_type": "execute_result"
    }
   ],
   "source": [
    "f = open('dog_breeds.txt')\n",
    "list(f)"
   ]
  },
  {
   "cell_type": "code",
   "execution_count": 20,
   "metadata": {},
   "outputs": [
    {
     "name": "stdout",
     "output_type": "stream",
     "text": [
      "<class 'str'>\n",
      "Hello world\n",
      "Hello World2\n",
      "Hellow World3\n"
     ]
    }
   ],
   "source": [
    "#with open(file) as <variable>:\n",
    "with open('abc.txt', mode='r') as f:\n",
    "    content = f.read()\n",
    "    print(type(content))\n",
    "    print(content)"
   ]
  },
  {
   "cell_type": "code",
   "execution_count": 21,
   "metadata": {},
   "outputs": [
    {
     "name": "stdout",
     "output_type": "stream",
     "text": [
      "<class 'str'>\n",
      "Hello world\n",
      "\n"
     ]
    }
   ],
   "source": [
    "#with open(file) as <variable>:\n",
    "with open('abc.txt', mode='r') as f:\n",
    "    content = f.readline()\n",
    "    print(type(content))\n",
    "    print(content)"
   ]
  },
  {
   "cell_type": "markdown",
   "metadata": {},
   "source": [
    "### Iterating Over Each Line in the File\n",
    "A common thing to do while reading a file is to iterate over each line. Here’s an example of how to use the Python .readline() method to perform that iteration:\n"
   ]
  },
  {
   "cell_type": "code",
   "execution_count": 36,
   "metadata": {},
   "outputs": [
    {
     "name": "stdout",
     "output_type": "stream",
     "text": [
      "Pug\n",
      "Jack Russell Terrier\n",
      "English Springer Spaniel\n",
      "German Shepherd\n",
      "Staffordshire Bull Terrier\n",
      "Cavalier King Charles Spaniel\n",
      "Golden Retriever\n",
      "West Highland White Terrier\n",
      "Boxer\n",
      "Border Terrier"
     ]
    }
   ],
   "source": [
    "with open('dog_breeds.txt', 'r') as reader:\n",
    "    # Read and print the entire file line by line\n",
    "    line = reader.readline()\n",
    "    while line != '':  # The EOF char is an empty string\n",
    "        print(line, end='')\n",
    "        line = reader.readline()"
   ]
  },
  {
   "cell_type": "markdown",
   "metadata": {},
   "source": [
    "Another way you could iterate over each line in the file is to use the Python .readlines() method of the file object. Remember, .readlines() returns a list where each element in the list represents a line in the file:"
   ]
  },
  {
   "cell_type": "code",
   "execution_count": 37,
   "metadata": {},
   "outputs": [
    {
     "name": "stdout",
     "output_type": "stream",
     "text": [
      "Pug\n",
      "Jack Russell Terrier\n",
      "English Springer Spaniel\n",
      "German Shepherd\n",
      "Staffordshire Bull Terrier\n",
      "Cavalier King Charles Spaniel\n",
      "Golden Retriever\n",
      "West Highland White Terrier\n",
      "Boxer\n",
      "Border Terrier"
     ]
    }
   ],
   "source": [
    "with open('dog_breeds.txt', 'r') as reader:\n",
    "    for line in reader.readlines():\n",
    "        print(line, end='')\n"
   ]
  },
  {
   "cell_type": "markdown",
   "metadata": {},
   "source": [
    "However, the above examples can be further simplified by iterating over the file object itself:"
   ]
  },
  {
   "cell_type": "code",
   "execution_count": 38,
   "metadata": {},
   "outputs": [
    {
     "name": "stdout",
     "output_type": "stream",
     "text": [
      "Pug\n",
      "Jack Russell Terrier\n",
      "English Springer Spaniel\n",
      "German Shepherd\n",
      "Staffordshire Bull Terrier\n",
      "Cavalier King Charles Spaniel\n",
      "Golden Retriever\n",
      "West Highland White Terrier\n",
      "Boxer\n",
      "Border Terrier"
     ]
    }
   ],
   "source": [
    "with open('dog_breeds.txt', 'r') as reader:\n",
    "    # Read and print the entire file line by line\n",
    "    for line in reader:\n",
    "        print(line, end='')"
   ]
  },
  {
   "cell_type": "markdown",
   "metadata": {},
   "source": [
    "**Note:** Some of the above examples contain print('some text', end=''). The end='' is to prevent Python from adding an additional newline to the text that is being printed and only print what is being read from the file."
   ]
  },
  {
   "cell_type": "markdown",
   "metadata": {},
   "source": [
    "#### Now let’s dive into writing files."
   ]
  },
  {
   "cell_type": "markdown",
   "metadata": {},
   "source": [
    "<table class=\"table table-hover\">\n",
    "<thead>\n",
    "<tr>\n",
    "<th>Method</th>\n",
    "<th>What It Does</th>\n",
    "</tr>\n",
    "</thead>\n",
    "<tbody>\n",
    "<tr>\n",
    "<td><code>.write(string)</code></td>\n",
    "<td>This writes the string to the file.</td>\n",
    "</tr>\n",
    "<tr>\n",
    "<td><code>.writelines(seq)</code></td>\n",
    "<td>This writes the sequence to the file. No line endings are appended to each sequence item. It’s up to you to add the appropriate line ending(s).</td>\n",
    "</tr>\n",
    "</tbody>\n",
    "</table>"
   ]
  },
  {
   "cell_type": "code",
   "execution_count": 39,
   "metadata": {},
   "outputs": [],
   "source": [
    "with open('dog_breeds.txt', 'r') as reader:\n",
    "    # Note: readlines doesn't trim the line endings\n",
    "    dog_breeds = reader.readlines()\n",
    "\n",
    "with open('dog_breeds_reversed.txt', 'w') as writer:\n",
    "    # Alternatively you could use\n",
    "    # writer.writelines(reversed(dog_breeds))\n",
    "\n",
    "    # Write the dog breeds to the file in reversed order\n",
    "    for breed in reversed(dog_breeds):\n",
    "        writer.write(breed)"
   ]
  },
  {
   "cell_type": "code",
   "execution_count": 40,
   "metadata": {},
   "outputs": [
    {
     "ename": "UnsupportedOperation",
     "evalue": "not writable",
     "output_type": "error",
     "traceback": [
      "\u001b[1;31m---------------------------------------------------------------------------\u001b[0m",
      "\u001b[1;31mUnsupportedOperation\u001b[0m                      Traceback (most recent call last)",
      "\u001b[1;32m<ipython-input-40-0080310eeca0>\u001b[0m in \u001b[0;36m<module>\u001b[1;34m\u001b[0m\n\u001b[0;32m      1\u001b[0m \u001b[1;31m#with open(file) as <variable>:\u001b[0m\u001b[1;33m\u001b[0m\u001b[1;33m\u001b[0m\u001b[1;33m\u001b[0m\u001b[0m\n\u001b[0;32m      2\u001b[0m \u001b[1;32mwith\u001b[0m \u001b[0mopen\u001b[0m\u001b[1;33m(\u001b[0m\u001b[1;34m'abc.txt'\u001b[0m\u001b[1;33m,\u001b[0m \u001b[0mmode\u001b[0m\u001b[1;33m=\u001b[0m\u001b[1;34m'r'\u001b[0m\u001b[1;33m)\u001b[0m \u001b[1;32mas\u001b[0m \u001b[0mf\u001b[0m\u001b[1;33m:\u001b[0m\u001b[1;33m\u001b[0m\u001b[1;33m\u001b[0m\u001b[0m\n\u001b[1;32m----> 3\u001b[1;33m     \u001b[0mf\u001b[0m\u001b[1;33m.\u001b[0m\u001b[0mwrite\u001b[0m\u001b[1;33m(\u001b[0m\u001b[1;34m\"Pakistan zinda bad!\"\u001b[0m\u001b[1;33m)\u001b[0m\u001b[1;33m\u001b[0m\u001b[1;33m\u001b[0m\u001b[0m\n\u001b[0m",
      "\u001b[1;31mUnsupportedOperation\u001b[0m: not writable"
     ]
    }
   ],
   "source": [
    "#with open(file) as <variable>:\n",
    "with open('abc.txt', mode='r') as f:\n",
    "    f.write(\"Pakistan zinda bad!\") # error generate bcz of file mode..."
   ]
  },
  {
   "cell_type": "code",
   "execution_count": 44,
   "metadata": {},
   "outputs": [],
   "source": [
    "with open('abc1.txt', mode='w') as f:\n",
    "    f.write(\"Pakistan zinda bad \\n We are pakistani!\")"
   ]
  },
  {
   "cell_type": "code",
   "execution_count": 46,
   "metadata": {},
   "outputs": [
    {
     "name": "stdout",
     "output_type": "stream",
     "text": [
      "Pakistan zinda bad \n",
      " We are pakistani!\n"
     ]
    }
   ],
   "source": [
    "with open('abc1.txt', mode='r') as f:\n",
    "    print(f.read())"
   ]
  },
  {
   "cell_type": "code",
   "execution_count": 47,
   "metadata": {},
   "outputs": [],
   "source": [
    "with open('abc1.txt', mode='w') as f:\n",
    "    f.write(\"Hello World\")"
   ]
  },
  {
   "cell_type": "code",
   "execution_count": 48,
   "metadata": {},
   "outputs": [
    {
     "name": "stdout",
     "output_type": "stream",
     "text": [
      "Hello World\n"
     ]
    }
   ],
   "source": [
    "with open('abc1.txt', mode='r') as f:\n",
    "    print(f.read())"
   ]
  },
  {
   "cell_type": "code",
   "execution_count": 52,
   "metadata": {},
   "outputs": [],
   "source": [
    "with open('abc2.txt', 'a') as f:\n",
    "    f.write(\"Haseeb\\n\")"
   ]
  },
  {
   "cell_type": "code",
   "execution_count": 53,
   "metadata": {},
   "outputs": [
    {
     "name": "stdout",
     "output_type": "stream",
     "text": [
      "Haseeb\n",
      "\n"
     ]
    }
   ],
   "source": [
    "with open('abc2.txt', mode='r') as f:\n",
    "    print(f.read())"
   ]
  },
  {
   "cell_type": "code",
   "execution_count": 58,
   "metadata": {},
   "outputs": [
    {
     "name": "stdout",
     "output_type": "stream",
     "text": [
      "[]\n"
     ]
    }
   ],
   "source": [
    "with open('abc3.txt', 'a+') as f:\n",
    "    f.write(\"Adan\")\n",
    "    print(f.readlines())"
   ]
  },
  {
   "cell_type": "code",
   "execution_count": 59,
   "metadata": {},
   "outputs": [
    {
     "name": "stdout",
     "output_type": "stream",
     "text": [
      "['Adnan\\n', 'Haseeb\\n', 'Yasir\\n', 'RaufAdanRauf']\n"
     ]
    }
   ],
   "source": [
    "with open('abc3.txt', 'a+') as f:\n",
    "    f.write(\"Rauf\")\n",
    "    f.seek(0)\n",
    "    print(f.readlines())"
   ]
  },
  {
   "cell_type": "code",
   "execution_count": 63,
   "metadata": {},
   "outputs": [
    {
     "name": "stdout",
     "output_type": "stream",
     "text": [
      "CBA1\n",
      "CBA32\n",
      "\n"
     ]
    }
   ],
   "source": [
    "with open('abc4.txt', 'r+') as f:\n",
    "    a = list(reversed(f.readlines()))\n",
    "    b = list(reversed(['A',\"B\",'C']))\n",
    "    c = b + a\n",
    "    d = \"\".join(c)\n",
    "    f.seek(0)\n",
    "    f.write(d)\n",
    "    print(d)"
   ]
  },
  {
   "cell_type": "code",
   "execution_count": 64,
   "metadata": {},
   "outputs": [
    {
     "name": "stdout",
     "output_type": "stream",
     "text": [
      "CBA1\n",
      "CBA32\n",
      "\n"
     ]
    }
   ],
   "source": [
    "with open('abc4.txt', mode='r') as f:\n",
    "    print(f.read())"
   ]
  },
  {
   "cell_type": "code",
   "execution_count": null,
   "metadata": {},
   "outputs": [],
   "source": []
  }
 ],
 "metadata": {
  "kernelspec": {
   "display_name": "Python 3",
   "language": "python",
   "name": "python3"
  },
  "language_info": {
   "codemirror_mode": {
    "name": "ipython",
    "version": 3
   },
   "file_extension": ".py",
   "mimetype": "text/x-python",
   "name": "python",
   "nbconvert_exporter": "python",
   "pygments_lexer": "ipython3",
   "version": "3.8.3"
  }
 },
 "nbformat": 4,
 "nbformat_minor": 4
}
