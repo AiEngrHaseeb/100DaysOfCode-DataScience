{
 "cells": [
  {
   "cell_type": "markdown",
   "id": "796fcd12",
   "metadata": {},
   "source": [
    "## Numpy"
   ]
  },
  {
   "cell_type": "markdown",
   "id": "1871fffc",
   "metadata": {},
   "source": [
    "<img src= \"https://1.bp.blogspot.com/-3P-ULcc-aSc/XwINe8CjKgI/AAAAAAAAFFg/LhApCVa2YqUBlnqDDNW4NudSS398L5gjACLcBGAsYHQ/s640/NumPy%2Barrays.png\">"
   ]
  },
  {
   "cell_type": "markdown",
   "id": "b2216146",
   "metadata": {},
   "source": [
    "#### A Multidimensional Array Object"
   ]
  },
  {
   "cell_type": "code",
   "execution_count": 1,
   "id": "4acb57bf",
   "metadata": {},
   "outputs": [],
   "source": [
    "import numpy as np"
   ]
  },
  {
   "cell_type": "code",
   "execution_count": 2,
   "id": "f3ee14ec",
   "metadata": {},
   "outputs": [
    {
     "data": {
      "text/plain": [
       "array([ 1,  2,  3,  4,  5,  6,  7,  8,  9, 10, 11, 12])"
      ]
     },
     "execution_count": 2,
     "metadata": {},
     "output_type": "execute_result"
    }
   ],
   "source": [
    "l1 = np.arange(1,13)\n",
    "l1"
   ]
  },
  {
   "cell_type": "code",
   "execution_count": 14,
   "id": "c4172863",
   "metadata": {},
   "outputs": [
    {
     "data": {
      "text/plain": [
       "(12,)"
      ]
     },
     "execution_count": 14,
     "metadata": {},
     "output_type": "execute_result"
    }
   ],
   "source": [
    "l1.shape"
   ]
  },
  {
   "cell_type": "code",
   "execution_count": 15,
   "id": "073a6fc8",
   "metadata": {},
   "outputs": [
    {
     "data": {
      "text/plain": [
       "array([[ 1,  2,  3,  4,  5,  6],\n",
       "       [ 7,  8,  9, 10, 11, 12]])"
      ]
     },
     "execution_count": 15,
     "metadata": {},
     "output_type": "execute_result"
    }
   ],
   "source": [
    "np.arange(1,13).reshape((2,-1))"
   ]
  },
  {
   "cell_type": "code",
   "execution_count": 9,
   "id": "c07c4095",
   "metadata": {},
   "outputs": [
    {
     "data": {
      "text/plain": [
       "array([[ 1,  2],\n",
       "       [ 3,  4],\n",
       "       [ 5,  6],\n",
       "       [ 7,  8],\n",
       "       [ 9, 10],\n",
       "       [11, 12]])"
      ]
     },
     "execution_count": 9,
     "metadata": {},
     "output_type": "execute_result"
    }
   ],
   "source": [
    "np.arange(1,13).reshape((-1,2))"
   ]
  },
  {
   "cell_type": "code",
   "execution_count": 17,
   "id": "e99f1d82",
   "metadata": {},
   "outputs": [
    {
     "data": {
      "text/plain": [
       "array([[ 1,  2,  3],\n",
       "       [ 4,  5,  6],\n",
       "       [ 7,  8,  9],\n",
       "       [10, 11, 12]])"
      ]
     },
     "execution_count": 17,
     "metadata": {},
     "output_type": "execute_result"
    }
   ],
   "source": [
    "np.arange(1,13).reshape((4,3))"
   ]
  },
  {
   "cell_type": "code",
   "execution_count": 18,
   "id": "b18e6741",
   "metadata": {},
   "outputs": [
    {
     "name": "stdout",
     "output_type": "stream",
     "text": [
      "[[ 1  2  3  4  5  6]\n",
      " [ 7  8  9 10 11 12]]\n",
      "Diminsion: 2\n",
      "Type: int32\n",
      "Size: 12\n",
      "Itemsize: 4\n",
      "Shape: (2, 6)\n"
     ]
    }
   ],
   "source": [
    "# l1 = np.arange(1,13).reshape((4,3))\n",
    "# l1 = np.arange(1,13).reshape((3,4))\n",
    "# l1 = np.arange(1,13).reshape((2,6))\n",
    "# l1 = np.arange(1,13).reshape((6,2))\n",
    "# l1 = np.arange(1,13).reshape((12,1))\n",
    "\n",
    "l1 = np.arange(1,13).reshape((2,-1))  # -1 is used for getting automatic possible row/col value \n",
    "\n",
    "print(l1)\n",
    "print(\"Diminsion:\", l1.ndim)\n",
    "print(\"Type:\", l1.dtype)\n",
    "print(\"Size:\", l1.size)\n",
    "print(\"Itemsize:\", l1.itemsize)\n",
    "print(\"Shape:\", l1.shape)"
   ]
  },
  {
   "cell_type": "markdown",
   "id": "40b9c620",
   "metadata": {},
   "source": [
    "<img src=\"https://www.pythoninformer.com/img/numpy/3d-array-stack.png\">\n",
    "<img src=\"https://www.pythoninformer.com/img/numpy/3d-array.png\">"
   ]
  },
  {
   "cell_type": "markdown",
   "id": "b3f31cbe",
   "metadata": {},
   "source": [
    "    l1[i,j,k]\n",
    "    l1[slide, row, column]"
   ]
  },
  {
   "cell_type": "markdown",
   "id": "fa37c841",
   "metadata": {},
   "source": [
    "<img src=\"https://cdn-images-1.medium.com/max/2000/1*_D5ZvufDS38WkhK9rK32hQ.jpeg\">"
   ]
  },
  {
   "cell_type": "markdown",
   "id": "028a5439",
   "metadata": {},
   "source": [
    "**..0D..---..1D..---..2D..---....3D.....---...........4D.............---.............5D............**\n"
   ]
  },
  {
   "cell_type": "markdown",
   "id": "1a178e31",
   "metadata": {},
   "source": [
    "**Scalar---Vector---Matrix---Tensor/Cube---Vector Of Tensor's/Cube's ---Matrix Of Tensor's/Cube's**"
   ]
  },
  {
   "cell_type": "raw",
   "id": "93e78f40",
   "metadata": {},
   "source": [
    "np.arange(3*2*3*2*2).reshape(3,2,3,2,2) # [no of videos , no of frames , 3 for rgb, row , column]3 videos , 2 slides/frame, 3 for rgb mood or 2  for rows, 2 for cols "
   ]
  },
  {
   "cell_type": "code",
   "execution_count": 20,
   "id": "3dea3f9a",
   "metadata": {},
   "outputs": [
    {
     "data": {
      "text/plain": [
       "array([[[[ 0,  1],\n",
       "         [ 2,  3]],\n",
       "\n",
       "        [[ 4,  5],\n",
       "         [ 6,  7]],\n",
       "\n",
       "        [[ 8,  9],\n",
       "         [10, 11]]],\n",
       "\n",
       "\n",
       "       [[[12, 13],\n",
       "         [14, 15]],\n",
       "\n",
       "        [[16, 17],\n",
       "         [18, 19]],\n",
       "\n",
       "        [[20, 21],\n",
       "         [22, 23]]],\n",
       "\n",
       "\n",
       "       [[[24, 25],\n",
       "         [26, 27]],\n",
       "\n",
       "        [[28, 29],\n",
       "         [30, 31]],\n",
       "\n",
       "        [[32, 33],\n",
       "         [34, 35]]],\n",
       "\n",
       "\n",
       "       [[[36, 37],\n",
       "         [38, 39]],\n",
       "\n",
       "        [[40, 41],\n",
       "         [42, 43]],\n",
       "\n",
       "        [[44, 45],\n",
       "         [46, 47]]]])"
      ]
     },
     "execution_count": 20,
     "metadata": {},
     "output_type": "execute_result"
    }
   ],
   "source": [
    "np.arange(4*3*2*2).reshape(4,3,2,2)"
   ]
  },
  {
   "cell_type": "code",
   "execution_count": 24,
   "id": "5237936d",
   "metadata": {},
   "outputs": [
    {
     "data": {
      "text/plain": [
       "array([[[[ 0,  1],\n",
       "         [ 2,  3]],\n",
       "\n",
       "        [[ 4,  5],\n",
       "         [ 6,  7]],\n",
       "\n",
       "        [[ 8,  9],\n",
       "         [10, 11]]],\n",
       "\n",
       "\n",
       "       [[[12, 13],\n",
       "         [14, 15]],\n",
       "\n",
       "        [[16, 17],\n",
       "         [18, 19]],\n",
       "\n",
       "        [[20, 21],\n",
       "         [22, 23]]],\n",
       "\n",
       "\n",
       "       [[[24, 25],\n",
       "         [26, 27]],\n",
       "\n",
       "        [[28, 29],\n",
       "         [30, 31]],\n",
       "\n",
       "        [[32, 33],\n",
       "         [34, 35]]],\n",
       "\n",
       "\n",
       "       [[[36, 37],\n",
       "         [38, 39]],\n",
       "\n",
       "        [[40, 41],\n",
       "         [42, 43]],\n",
       "\n",
       "        [[44, 45],\n",
       "         [46, 47]]]])"
      ]
     },
     "execution_count": 24,
     "metadata": {},
     "output_type": "execute_result"
    }
   ],
   "source": [
    "np.arange(4*3*2*2).reshape(4,-1,2,2)"
   ]
  },
  {
   "cell_type": "code",
   "execution_count": 25,
   "id": "28d6bf78",
   "metadata": {},
   "outputs": [
    {
     "name": "stdout",
     "output_type": "stream",
     "text": [
      "[[[ 1  2  3]\n",
      "  [ 4  5  6]\n",
      "  [ 7  8  9]]\n",
      "\n",
      " [[10 11 12]\n",
      "  [13 14 15]\n",
      "  [16 17 18]]\n",
      "\n",
      " [[19 20 21]\n",
      "  [22 23 24]\n",
      "  [25 26 27]]]\n",
      "Diminsion: 3\n",
      "Type: int32\n",
      "Size: 27\n",
      "Itemsize: 4\n",
      "Shape: (3, 3, 3)\n"
     ]
    }
   ],
   "source": [
    "l1 = np.arange(1,28).reshape((3,3,3))\n",
    "\n",
    "print(l1)\n",
    "print(\"Diminsion:\", l1.ndim)\n",
    "print(\"Type:\", l1.dtype)\n",
    "print(\"Size:\", l1.size)\n",
    "print(\"Itemsize:\", l1.itemsize)\n",
    "print(\"Shape:\", l1.shape)"
   ]
  },
  {
   "cell_type": "code",
   "execution_count": 26,
   "id": "9183d4d2",
   "metadata": {},
   "outputs": [
    {
     "name": "stdout",
     "output_type": "stream",
     "text": [
      "[[[ 1  2  3]\n",
      "  [ 4  5  6]\n",
      "  [ 7  8  9]]\n",
      "\n",
      " [[10 11 12]\n",
      "  [13 14 15]\n",
      "  [16 17 18]]\n",
      "\n",
      " [[19 20 21]\n",
      "  [22 23 24]\n",
      "  [25 26 27]]]\n"
     ]
    }
   ],
   "source": [
    "l1 = np.arange(1,28).reshape((3,3,3))\n",
    "\n",
    "print(l1)\n",
    "# l1[i,j,k]\n",
    "# l1[slide, row, column]\n",
    "# l1[2]\n",
    "# l1[1,2]\n",
    "#l1[1,2,1]"
   ]
  },
  {
   "cell_type": "code",
   "execution_count": 28,
   "id": "79a9c3cc",
   "metadata": {},
   "outputs": [
    {
     "data": {
      "text/plain": [
       "array([[19, 20, 21],\n",
       "       [22, 23, 24],\n",
       "       [25, 26, 27]])"
      ]
     },
     "execution_count": 28,
     "metadata": {},
     "output_type": "execute_result"
    }
   ],
   "source": [
    "l1[2]"
   ]
  },
  {
   "cell_type": "code",
   "execution_count": 27,
   "id": "2e8d9bde",
   "metadata": {},
   "outputs": [
    {
     "data": {
      "text/plain": [
       "array([16, 17, 18])"
      ]
     },
     "execution_count": 27,
     "metadata": {},
     "output_type": "execute_result"
    }
   ],
   "source": [
    "l1[1,2]"
   ]
  },
  {
   "cell_type": "code",
   "execution_count": 29,
   "id": "6fd09782",
   "metadata": {},
   "outputs": [
    {
     "data": {
      "text/plain": [
       "17"
      ]
     },
     "execution_count": 29,
     "metadata": {},
     "output_type": "execute_result"
    }
   ],
   "source": [
    "l1[1,2,1]"
   ]
  },
  {
   "cell_type": "code",
   "execution_count": 30,
   "id": "cfd8aca0",
   "metadata": {},
   "outputs": [
    {
     "name": "stdout",
     "output_type": "stream",
     "text": [
      "['a' 'b' 'c']\n",
      "['a' 'b']\n",
      "['a' 'c']\n"
     ]
    }
   ],
   "source": [
    "l1 = np.array(['a','b','c'])\n",
    "print(l1)\n",
    "#    0     1    2\n",
    "print(l1[[True,True,False]])\n",
    "print(l1[[True,False,True]])"
   ]
  },
  {
   "cell_type": "code",
   "execution_count": 31,
   "id": "3429ed1c",
   "metadata": {},
   "outputs": [
    {
     "data": {
      "text/plain": [
       "[False,\n",
       " False,\n",
       " False,\n",
       " False,\n",
       " False,\n",
       " False,\n",
       " False,\n",
       " False,\n",
       " False,\n",
       " False,\n",
       " False,\n",
       " False,\n",
       " False,\n",
       " False,\n",
       " False,\n",
       " False,\n",
       " False,\n",
       " False,\n",
       " True,\n",
       " True,\n",
       " True,\n",
       " True,\n",
       " True,\n",
       " True,\n",
       " True,\n",
       " True,\n",
       " True,\n",
       " True,\n",
       " True,\n",
       " True,\n",
       " True,\n",
       " True,\n",
       " True,\n",
       " True,\n",
       " True,\n",
       " True,\n",
       " True,\n",
       " True,\n",
       " True,\n",
       " True,\n",
       " True,\n",
       " True,\n",
       " True,\n",
       " True,\n",
       " True,\n",
       " True,\n",
       " True,\n",
       " True,\n",
       " True]"
      ]
     },
     "execution_count": 31,
     "metadata": {},
     "output_type": "execute_result"
    }
   ],
   "source": [
    "ages = np.arange(1,50)\n",
    "adult = []\n",
    "for age in ages:\n",
    "    if age >18:\n",
    "        adult.append(True)\n",
    "    else:\n",
    "        adult.append(False)\n",
    "adult"
   ]
  },
  {
   "cell_type": "code",
   "execution_count": 32,
   "id": "c2d3dd64",
   "metadata": {},
   "outputs": [
    {
     "data": {
      "text/plain": [
       "array([19, 20, 21, 22, 23, 24, 25, 26, 27, 28, 29, 30, 31, 32, 33, 34, 35,\n",
       "       36, 37, 38, 39, 40, 41, 42, 43, 44, 45, 46, 47, 48, 49])"
      ]
     },
     "execution_count": 32,
     "metadata": {},
     "output_type": "execute_result"
    }
   ],
   "source": [
    "ages[adult]"
   ]
  },
  {
   "cell_type": "code",
   "execution_count": 41,
   "id": "cbaa7c08",
   "metadata": {},
   "outputs": [
    {
     "data": {
      "text/plain": [
       "[True,\n",
       " True,\n",
       " True,\n",
       " True,\n",
       " True,\n",
       " True,\n",
       " True,\n",
       " True,\n",
       " True,\n",
       " True,\n",
       " True,\n",
       " True,\n",
       " True,\n",
       " True,\n",
       " True,\n",
       " True,\n",
       " True,\n",
       " True,\n",
       " True,\n",
       " True,\n",
       " True,\n",
       " True,\n",
       " True,\n",
       " True,\n",
       " True,\n",
       " True,\n",
       " True,\n",
       " True,\n",
       " True,\n",
       " True,\n",
       " True]"
      ]
     },
     "execution_count": 41,
     "metadata": {},
     "output_type": "execute_result"
    }
   ],
   "source": [
    "adult = [True for age in ages if age>18] #this wil only return only true but we want bith false n true.So,\n",
    "adult"
   ]
  },
  {
   "cell_type": "code",
   "execution_count": 43,
   "id": "2ac39854",
   "metadata": {},
   "outputs": [
    {
     "data": {
      "text/plain": [
       "[False,\n",
       " False,\n",
       " False,\n",
       " False,\n",
       " False,\n",
       " False,\n",
       " False,\n",
       " False,\n",
       " False,\n",
       " False,\n",
       " False,\n",
       " False,\n",
       " False,\n",
       " False,\n",
       " False,\n",
       " False,\n",
       " False,\n",
       " False,\n",
       " True,\n",
       " True,\n",
       " True,\n",
       " True,\n",
       " True,\n",
       " True,\n",
       " True,\n",
       " True,\n",
       " True,\n",
       " True,\n",
       " True,\n",
       " True,\n",
       " True,\n",
       " True,\n",
       " True,\n",
       " True,\n",
       " True,\n",
       " True,\n",
       " True,\n",
       " True,\n",
       " True,\n",
       " True,\n",
       " True,\n",
       " True,\n",
       " True,\n",
       " True,\n",
       " True,\n",
       " True,\n",
       " True,\n",
       " True,\n",
       " True]"
      ]
     },
     "execution_count": 43,
     "metadata": {},
     "output_type": "execute_result"
    }
   ],
   "source": [
    "adult = [True if age>18 else False for age in ages]\n",
    "adult"
   ]
  },
  {
   "cell_type": "code",
   "execution_count": 44,
   "id": "9cb19a1e",
   "metadata": {},
   "outputs": [
    {
     "data": {
      "text/plain": [
       "array([19, 20, 21, 22, 23, 24, 25, 26, 27, 28, 29, 30, 31, 32, 33, 34, 35,\n",
       "       36, 37, 38, 39, 40, 41, 42, 43, 44, 45, 46, 47, 48, 49])"
      ]
     },
     "execution_count": 44,
     "metadata": {},
     "output_type": "execute_result"
    }
   ],
   "source": [
    "ages[adult]"
   ]
  },
  {
   "cell_type": "code",
   "execution_count": 34,
   "id": "c08a45f3",
   "metadata": {},
   "outputs": [
    {
     "data": {
      "text/plain": [
       "array([19, 20, 21, 22, 23, 24, 25, 26, 27, 28, 29, 30, 31, 32, 33, 34, 35,\n",
       "       36, 37, 38, 39, 40, 41, 42, 43, 44, 45, 46, 47, 48, 49])"
      ]
     },
     "execution_count": 34,
     "metadata": {},
     "output_type": "execute_result"
    }
   ],
   "source": [
    "ages[ages>18] #more easy way"
   ]
  },
  {
   "cell_type": "code",
   "execution_count": 45,
   "id": "b0809e1d",
   "metadata": {},
   "outputs": [
    {
     "data": {
      "text/plain": [
       "array([ 3,  6,  9, 12, 15, 18, 21, 24, 27])"
      ]
     },
     "execution_count": 45,
     "metadata": {},
     "output_type": "execute_result"
    }
   ],
   "source": [
    "l1 = np.arange(1,28).reshape((3,3,3))\n",
    "l1[l1 % 3 == 0]"
   ]
  },
  {
   "cell_type": "code",
   "execution_count": 46,
   "id": "ad563558",
   "metadata": {},
   "outputs": [
    {
     "name": "stdout",
     "output_type": "stream",
     "text": [
      "[[[ 1  2  3]\n",
      "  [ 4  5  6]\n",
      "  [ 7  8  9]]\n",
      "\n",
      " [[10 11 12]\n",
      "  [13 14 15]\n",
      "  [16 17 18]]\n",
      "\n",
      " [[19 20 21]\n",
      "  [22 23 24]\n",
      "  [25 26 27]]]\n",
      "[ 3  6  9 12 15 18 21 24 27]\n"
     ]
    }
   ],
   "source": [
    "l1 = np.arange(1,28).reshape((3,3,3))\n",
    "\n",
    "print(l1)\n",
    "print(l1[l1 % 3 == 0])"
   ]
  },
  {
   "cell_type": "code",
   "execution_count": 47,
   "id": "34801c0d",
   "metadata": {},
   "outputs": [
    {
     "name": "stdout",
     "output_type": "stream",
     "text": [
      "[[[ 0.60434866 -2.1567893  -0.98187692]\n",
      "  [ 0.70470571  0.21389226 -0.66648082]\n",
      "  [ 0.39729536 -1.05403895 -0.61506565]]\n",
      "\n",
      " [[-0.02392788 -0.96798252  0.55706858]\n",
      "  [ 1.41084098 -0.91185321  0.19911531]\n",
      "  [ 0.31824538  0.7598981  -0.67912959]]\n",
      "\n",
      " [[ 0.8040931  -0.38511045  0.88573081]\n",
      "  [-0.31330812  1.5271861  -2.0043007 ]\n",
      "  [ 0.30096486 -0.72093225 -1.57820143]]]\n",
      "Diminsion: 3\n",
      "Type: float64\n",
      "Size: 27\n",
      "Itemsize: 8\n",
      "Shape: (3, 3, 3)\n"
     ]
    }
   ],
   "source": [
    "l1 = np.random.randn(3,3,3)\n",
    "\n",
    "print(l1)\n",
    "print(\"Diminsion:\", l1.ndim)\n",
    "print(\"Type:\", l1.dtype)\n",
    "print(\"Size:\", l1.size)\n",
    "print(\"Itemsize:\", l1.itemsize)\n",
    "print(\"Shape:\", l1.shape)"
   ]
  },
  {
   "cell_type": "code",
   "execution_count": 48,
   "id": "ac43cbdd",
   "metadata": {},
   "outputs": [
    {
     "data": {
      "text/plain": [
       "array([[[ 2.60434866, -0.1567893 ,  1.01812308],\n",
       "        [ 2.70470571,  2.21389226,  1.33351918],\n",
       "        [ 2.39729536,  0.94596105,  1.38493435]],\n",
       "\n",
       "       [[ 1.97607212,  1.03201748,  2.55706858],\n",
       "        [ 3.41084098,  1.08814679,  2.19911531],\n",
       "        [ 2.31824538,  2.7598981 ,  1.32087041]],\n",
       "\n",
       "       [[ 2.8040931 ,  1.61488955,  2.88573081],\n",
       "        [ 1.68669188,  3.5271861 , -0.0043007 ],\n",
       "        [ 2.30096486,  1.27906775,  0.42179857]]])"
      ]
     },
     "execution_count": 48,
     "metadata": {},
     "output_type": "execute_result"
    }
   ],
   "source": [
    "l1 + 2\n",
    "\n",
    "#\n",
    "#\n",
    "#\n",
    "#"
   ]
  },
  {
   "cell_type": "code",
   "execution_count": 52,
   "id": "056b4615",
   "metadata": {},
   "outputs": [
    {
     "data": {
      "text/plain": [
       "array([[[ 1.20869732, -4.3135786 , -1.96375383],\n",
       "        [ 1.40941143,  0.42778452, -1.33296165],\n",
       "        [ 0.79459072, -2.10807791, -1.23013131]],\n",
       "\n",
       "       [[-0.04785576, -1.93596504,  1.11413716],\n",
       "        [ 2.82168196, -1.82370643,  0.39823063],\n",
       "        [ 0.63649076,  1.5197962 , -1.35825919]],\n",
       "\n",
       "       [[ 1.60818621, -0.7702209 ,  1.77146162],\n",
       "        [-0.62661624,  3.05437219, -4.0086014 ],\n",
       "        [ 0.60192972, -1.44186449, -3.15640287]]])"
      ]
     },
     "execution_count": 52,
     "metadata": {},
     "output_type": "execute_result"
    }
   ],
   "source": [
    "l1 * 2"
   ]
  },
  {
   "cell_type": "code",
   "execution_count": 53,
   "id": "add03b51",
   "metadata": {},
   "outputs": [
    {
     "data": {
      "text/plain": [
       "array([[[ 0.30217433, -1.07839465, -0.49093846],\n",
       "        [ 0.35235286,  0.10694613, -0.33324041],\n",
       "        [ 0.19864768, -0.52701948, -0.30753283]],\n",
       "\n",
       "       [[-0.01196394, -0.48399126,  0.27853429],\n",
       "        [ 0.70542049, -0.45592661,  0.09955766],\n",
       "        [ 0.15912269,  0.37994905, -0.3395648 ]],\n",
       "\n",
       "       [[ 0.40204655, -0.19255522,  0.44286541],\n",
       "        [-0.15665406,  0.76359305, -1.00215035],\n",
       "        [ 0.15048243, -0.36046612, -0.78910072]]])"
      ]
     },
     "execution_count": 53,
     "metadata": {},
     "output_type": "execute_result"
    }
   ],
   "source": [
    "l1 / 2"
   ]
  },
  {
   "cell_type": "code",
   "execution_count": 54,
   "id": "6e3f1175",
   "metadata": {},
   "outputs": [
    {
     "data": {
      "text/plain": [
       "array([[[3.65237302e-01, 4.65174009e+00, 9.64082280e-01],\n",
       "        [4.96610144e-01, 4.57498992e-02, 4.44196688e-01],\n",
       "        [1.57843603e-01, 1.11099811e+00, 3.78305757e-01]],\n",
       "\n",
       "       [[5.72543401e-04, 9.36990157e-01, 3.10325401e-01],\n",
       "        [1.99047227e+00, 8.31476283e-01, 3.96469084e-02],\n",
       "        [1.01280121e-01, 5.77445126e-01, 4.61217006e-01]],\n",
       "\n",
       "       [[6.46565718e-01, 1.48310057e-01, 7.84519071e-01],\n",
       "        [9.81619775e-02, 2.33229737e+00, 4.01722130e+00],\n",
       "        [9.05798475e-02, 5.19743305e-01, 2.49071977e+00]]])"
      ]
     },
     "execution_count": 54,
     "metadata": {},
     "output_type": "execute_result"
    }
   ],
   "source": [
    "l1 ** 2"
   ]
  },
  {
   "cell_type": "code",
   "execution_count": 55,
   "id": "dffad84f",
   "metadata": {},
   "outputs": [
    {
     "name": "stderr",
     "output_type": "stream",
     "text": [
      "<ipython-input-55-cb55cb0a98bf>:1: RuntimeWarning: invalid value encountered in sqrt\n",
      "  l1 ** 0.5\n"
     ]
    },
    {
     "data": {
      "text/plain": [
       "array([[[0.77739865,        nan,        nan],\n",
       "        [0.83946752, 0.46248488,        nan],\n",
       "        [0.6303137 ,        nan,        nan]],\n",
       "\n",
       "       [[       nan,        nan, 0.74637027],\n",
       "        [1.18778827,        nan, 0.44622339],\n",
       "        [0.56413241, 0.87172134,        nan]],\n",
       "\n",
       "       [[0.89671239,        nan, 0.94113273],\n",
       "        [       nan, 1.23579371,        nan],\n",
       "        [0.54860264,        nan,        nan]]])"
      ]
     },
     "execution_count": 55,
     "metadata": {},
     "output_type": "execute_result"
    }
   ],
   "source": [
    "l1 ** 0.5 # under-root"
   ]
  },
  {
   "cell_type": "code",
   "execution_count": 58,
   "id": "cdb2e3b0",
   "metadata": {},
   "outputs": [
    {
     "data": {
      "text/plain": [
       "array([[[0.60434866, 1.8432107 , 1.01812308],\n",
       "        [0.70470571, 0.21389226, 1.33351918],\n",
       "        [0.39729536, 0.94596105, 1.38493435]],\n",
       "\n",
       "       [[1.97607212, 1.03201748, 0.55706858],\n",
       "        [1.41084098, 1.08814679, 0.19911531],\n",
       "        [0.31824538, 0.7598981 , 1.32087041]],\n",
       "\n",
       "       [[0.8040931 , 1.61488955, 0.88573081],\n",
       "        [1.68669188, 1.5271861 , 1.9956993 ],\n",
       "        [0.30096486, 1.27906775, 0.42179857]]])"
      ]
     },
     "execution_count": 58,
     "metadata": {},
     "output_type": "execute_result"
    }
   ],
   "source": [
    "l1 % 2"
   ]
  },
  {
   "cell_type": "code",
   "execution_count": 59,
   "id": "9056f40e",
   "metadata": {},
   "outputs": [
    {
     "data": {
      "text/plain": [
       "array([[[False, False, False],\n",
       "        [False, False, False],\n",
       "        [False, False, False]],\n",
       "\n",
       "       [[False, False, False],\n",
       "        [False, False, False],\n",
       "        [False, False, False]],\n",
       "\n",
       "       [[False, False, False],\n",
       "        [False, False, False],\n",
       "        [False, False, False]]])"
      ]
     },
     "execution_count": 59,
     "metadata": {},
     "output_type": "execute_result"
    }
   ],
   "source": [
    "l1 % 2 == 0"
   ]
  },
  {
   "cell_type": "code",
   "execution_count": null,
   "id": "e8e14d95",
   "metadata": {},
   "outputs": [],
   "source": []
  }
 ],
 "metadata": {
  "kernelspec": {
   "display_name": "Python 3",
   "language": "python",
   "name": "python3"
  },
  "language_info": {
   "codemirror_mode": {
    "name": "ipython",
    "version": 3
   },
   "file_extension": ".py",
   "mimetype": "text/x-python",
   "name": "python",
   "nbconvert_exporter": "python",
   "pygments_lexer": "ipython3",
   "version": "3.8.8"
  }
 },
 "nbformat": 4,
 "nbformat_minor": 5
}
