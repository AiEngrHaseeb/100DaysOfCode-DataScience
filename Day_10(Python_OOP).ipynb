{
 "cells": [
  {
   "cell_type": "markdown",
   "metadata": {},
   "source": [
    "## Four Pillars of OOP Python\n",
    "<ul>\n",
    "    <li><b>Inheritance: </b> Extends functionality of existing code.\n",
    "</li>\n",
    "    <li><b>Encapsulation: </b> Building of data and methods.</li>\n",
    "    <li><b>Polymorphism: </b> creating a unified interface.</li>\n",
    "    <li><b>Abstraction: </b>Handle complexity by hiding unnecessary details from the user. </li>\n",
    "    </ul>\n",
    "<h5> Continue..."
   ]
  },
  {
   "cell_type": "markdown",
   "metadata": {},
   "source": [
    "## Polymorphism\n",
    "<t>\n",
    "    <li>The word \"Polymorphism\" has been derived from Greek literature meaning \"having many forms\". It generally emphasized on the fact of common interface for general set of activities.\n",
    "    <li>In Python, Polymorphism lets us define methods in the child class that have the same name as the methods in the parent class. In inheritance, the child class inherits the methods from the parent class. However, it is possible to modify a method in a child class that it has inherited from the parent class. This is particularly useful in cases where the method inherited from the parent class doesn’t quite fit the child class. In such cases, we re-implement the method in the child class. This process of re-implementing a method in the child class is known as <b>method overriding</b>.\n",
    "</t>"
   ]
  },
  {
   "cell_type": "markdown",
   "metadata": {},
   "source": [
    "### Method OverRiding"
   ]
  },
  {
   "cell_type": "code",
   "execution_count": 2,
   "metadata": {},
   "outputs": [
    {
     "name": "stdout",
     "output_type": "stream",
     "text": [
      "Dogs bark!\n",
      "Tigers growl!\n"
     ]
    }
   ],
   "source": [
    "# Creating a Class in Python\n",
    "class Dog:\n",
    "    def makeSound(self):\n",
    "        print(\"Dogs bark!\")\n",
    "\n",
    "class Tiger:\n",
    "    def makeSound(self):\n",
    "        print(\"Tigers growl!\")\n",
    "\n",
    "# common interface\n",
    "def check_makeSound(animal):\n",
    "    animal.makeSound()\n",
    "\n",
    "myDog = Dog()\n",
    "myTiger = Tiger()\n",
    "\n",
    "check_makeSound(myDog) # Output : Dogs bark!\n",
    "check_makeSound(myTiger) # Output : Tigers growl!"
   ]
  },
  {
   "cell_type": "markdown",
   "metadata": {},
   "source": [
    "In the above example, we have 2 classes Dog and Tiger which share the same method \"makeSound\". But what they print are different. So we just created an interface via a function that will take in an object and will call its respective \"makeSound\" method. This we have implemented Polymorphism. For the same method name, what they do are different and we have successfully implemented it."
   ]
  },
  {
   "cell_type": "code",
   "execution_count": 10,
   "metadata": {},
   "outputs": [
    {
     "name": "stdout",
     "output_type": "stream",
     "text": [
      "There are many types of birds.\n",
      "Most of the birds can fly but some cannot.\n",
      "There are many types of birds.\n",
      "Sparrows can fly.\n",
      "There are many types of birds.\n",
      "Ostriches cannot fly.\n"
     ]
    }
   ],
   "source": [
    "class Bird:\n",
    "    def intro(self):\n",
    "        print(\"There are many types of birds.\")\n",
    "      \n",
    "    def flight(self):\n",
    "        print(\"Most of the birds can fly but some cannot.\")\n",
    "    \n",
    "class sparrow(Bird):\n",
    "    def flight(self):\n",
    "        print(\"Sparrows can fly.\")\n",
    "\n",
    "class ostrich(Bird):\n",
    "    def flight(self):\n",
    "        print(\"Ostriches cannot fly.\")\n",
    "    \n",
    "obj_bird = Bird()\n",
    "obj_spr = sparrow()\n",
    "obj_ost = ostrich()\n",
    "  \n",
    "obj_bird.intro()\n",
    "obj_bird.flight()\n",
    "  \n",
    "obj_spr.intro()\n",
    "obj_spr.flight()\n",
    "  \n",
    "obj_ost.intro()\n",
    "obj_ost.flight()"
   ]
  },
  {
   "cell_type": "code",
   "execution_count": 9,
   "metadata": {},
   "outputs": [
    {
     "name": "stdout",
     "output_type": "stream",
     "text": [
      "Parent a..\n",
      "Child b..\n",
      "Parent c..\n"
     ]
    }
   ],
   "source": [
    "class Parent():\n",
    "    def a(self):print(\"Parent a..\")\n",
    "    def b(self):print(\"Parent b..\")\n",
    "    def c(self):print(\"Parent c..\")\n",
    "        \n",
    "class Child(Parent):\n",
    "    def b(self):print(\"Child b..\")\n",
    "        \n",
    "obj1 = Child()    \n",
    "obj1.a()\n",
    "obj1.b()\n",
    "obj1.c()"
   ]
  },
  {
   "cell_type": "code",
   "execution_count": 8,
   "metadata": {},
   "outputs": [
    {
     "name": "stdout",
     "output_type": "stream",
     "text": [
      "There are many types of dogs..\n",
      "Most dogs can run fast, but some run faster than others.\n",
      "There are many types of dogs..\n",
      "Greyhounds run very fast..\n",
      "There are many types of dogs..\n",
      "Chthuahuas do not.\n"
     ]
    }
   ],
   "source": [
    "class Dog: \n",
    "    def intro(self): \n",
    "        print(\"There are many types of dogs..\") \n",
    "    \n",
    "    def run(self): \n",
    "        print(\"Most dogs can run fast, but some run faster than others.\") \n",
    "\n",
    "class greyhound(Dog): \n",
    "    # Method overriding \n",
    "    def run(self): \n",
    "        print(\"Greyhounds run very fast..\") \n",
    "\n",
    "class chthuahua(Dog): \n",
    "    # Method overriding \n",
    "    def run(self): \n",
    "        print(\"Chthuahuas do not.\") \n",
    "              \n",
    "obj_dog = Dog() \n",
    "obj_grey = greyhound() \n",
    "obj_cht = chthuahua() \n",
    "\n",
    "obj_dog.intro() \n",
    "obj_clog. run() \n",
    "\n",
    "obj_grey. intro() \n",
    "obj_grey. run() \n",
    "\n",
    "obj_cht. intro() \n",
    "obj_cht. run() \n",
    "# Output: # There are many types of dog. # Most dogs can run fast, but some run faster than others. # There are many types of dogs. # Greyhounds run very fast. # There are many types of dogs. # Chihuahuas do not. \n"
   ]
  },
  {
   "cell_type": "code",
   "execution_count": 15,
   "metadata": {},
   "outputs": [
    {
     "name": "stdout",
     "output_type": "stream",
     "text": [
      "Circle\n",
      "I am a two-dimensional shape.\n",
      "Squares have each angle equal to 90 degrees.\n",
      "153.93804002589985\n"
     ]
    }
   ],
   "source": [
    "class Shape:\n",
    "    def __init__(self, name):\n",
    "        self.name = name\n",
    "\n",
    "    def area(self):\n",
    "        pass\n",
    "\n",
    "    def fact(self):\n",
    "        return \"I am a two-dimensional shape.\"\n",
    "\n",
    "    def __str__(self): #operator overloading\n",
    "        return self.name\n",
    "\n",
    "\n",
    "class Square(Shape):\n",
    "    def __init__(self, length):\n",
    "        super().__init__(\"Square\")\n",
    "        self.length = length\n",
    "\n",
    "    def area(self):\n",
    "        return self.length**2\n",
    "\n",
    "    def fact(self):\n",
    "        return \"Squares have each angle equal to 90 degrees.\"\n",
    "\n",
    "\n",
    "class Circle(Shape):\n",
    "    def __init__(self, radius):\n",
    "        super().__init__(\"Circle\")\n",
    "        self.radius = radius\n",
    "\n",
    "    def area(self):\n",
    "        return pi*self.radius**2\n",
    "\n",
    "\n",
    "a = Square(4)\n",
    "b = Circle(7)\n",
    "print(b)\n",
    "print(b.fact())\n",
    "print(a.fact())\n",
    "print(b.area())"
   ]
  },
  {
   "attachments": {},
   "cell_type": "markdown",
   "metadata": {},
   "source": [
    "### Operator Overloading:\n",
    "<li>Addition\n",
    "<li>Comparsion\n",
    "<li>String represenation\n",
    "    <img src=\"https://www.wikitechy.com/tutorials/python/img/python-images/special-methods-arithmetic-python.png\">"
   ]
  },
  {
   "cell_type": "markdown",
   "metadata": {},
   "source": [
    "#### Addition"
   ]
  },
  {
   "cell_type": "code",
   "execution_count": 16,
   "metadata": {},
   "outputs": [
    {
     "name": "stdout",
     "output_type": "stream",
     "text": [
      "3\n",
      "4.8\n",
      "2.2\n",
      "5.3\n",
      "50\n"
     ]
    }
   ],
   "source": [
    "#normally what we do...\n",
    "class Abc():\n",
    "    def pl(self, *n):\n",
    "        print(sum(n))\n",
    "        \n",
    "o1 = Abc()\n",
    "o1.pl(1,2)\n",
    "o1.pl(2.3, 2.5)\n",
    "o1.pl(1,1.2)\n",
    "o1.pl(3.3, 2)\n",
    "o1.pl(33,3,2,5,7)"
   ]
  },
  {
   "cell_type": "code",
   "execution_count": 18,
   "metadata": {},
   "outputs": [
    {
     "name": "stdout",
     "output_type": "stream",
     "text": [
      "5\n",
      "9\n"
     ]
    }
   ],
   "source": [
    "#Through Overloading\n",
    "class ABC():\n",
    "    def __init__(self, x, y):\n",
    "        self.x = x\n",
    "        self.y = y\n",
    "        \n",
    "    def __add__(self, other):\n",
    "        print(self.x + other.x)\n",
    "        print(self.y + other.y)\n",
    "        \n",
    "o1 = ABC(2,4)        \n",
    "o2 = ABC(3,5)\n",
    "\n",
    "o1 + o2 #2+3,4+5\n",
    "    "
   ]
  },
  {
   "cell_type": "markdown",
   "metadata": {},
   "source": [
    "#### Comparsion"
   ]
  },
  {
   "cell_type": "markdown",
   "metadata": {},
   "source": [
    "##### - object equality"
   ]
  },
  {
   "cell_type": "code",
   "execution_count": 19,
   "metadata": {},
   "outputs": [
    {
     "data": {
      "text/plain": [
       "False"
      ]
     },
     "execution_count": 19,
     "metadata": {},
     "output_type": "execute_result"
    }
   ],
   "source": [
    "class Customer:\n",
    "    def __init__(self, name, balance):\n",
    "        self.name, self.balance = name, balance\n",
    "cust1 = Customer(\"Muneed ul Hassan\", 1000)\n",
    "cust2 = Customer('Mehmood ul Hassan', 5000)\n",
    "cust1 == cust2"
   ]
  },
  {
   "cell_type": "code",
   "execution_count": 20,
   "metadata": {},
   "outputs": [
    {
     "data": {
      "text/plain": [
       "False"
      ]
     },
     "execution_count": 20,
     "metadata": {},
     "output_type": "execute_result"
    }
   ],
   "source": [
    "class Customer:\n",
    "    def __init__(self, name, balance):\n",
    "        self.name, self.balance = name, balance\n",
    "cust1 = Customer(\"Muneed ul Hassan\", 1000)\n",
    "cust2 = Customer(\"Muneed ul Hassan\", 1000)\n",
    "cust1 == cust2"
   ]
  },
  {
   "cell_type": "code",
   "execution_count": 21,
   "metadata": {},
   "outputs": [
    {
     "name": "stdout",
     "output_type": "stream",
     "text": [
      "<__main__.Customer object at 0x0000023646F38C70>\n",
      "<__main__.Customer object at 0x0000023646F38AC0>\n"
     ]
    }
   ],
   "source": [
    "print(cust1, cust2, sep='\\n')\n"
   ]
  },
  {
   "cell_type": "markdown",
   "metadata": {},
   "source": [
    "##### - custom comparsion"
   ]
  },
  {
   "cell_type": "code",
   "execution_count": 23,
   "metadata": {},
   "outputs": [
    {
     "data": {
      "text/plain": [
       "array([ True,  True,  True])"
      ]
     },
     "execution_count": 23,
     "metadata": {},
     "output_type": "execute_result"
    }
   ],
   "source": [
    "# two different array contain the same data\n",
    "import numpy as np\n",
    "\n",
    "arr1 = np.array([1,2,3])\n",
    "arr2 = np.array([1,2,3])\n",
    "\n",
    "arr1 == arr2"
   ]
  },
  {
   "cell_type": "markdown",
   "metadata": {},
   "source": [
    "<h5> - Overloading __eq__()</h5>\n",
    "<li><b>__ed__()</b> is called when 2 object od a same class are compared using ==\n",
    "<li>accept two argument, self and ither objects to be compare\n",
    "<li>return boolean\n"
   ]
  },
  {
   "cell_type": "code",
   "execution_count": 24,
   "metadata": {},
   "outputs": [],
   "source": [
    "class Customer:\n",
    "    def __init__(self, ids, name):\n",
    "        self.ids, self.name = ids, name \n",
    "        \n",
    "    #will be called == is used\n",
    "    def __eq__(self,other):\n",
    "        #Diagnostic printout\n",
    "        print(\"__eq__() is called..!!\")\n",
    "        \n",
    "    # return True if all attributes match\n",
    "        return (self.ids == other.ids) and \\\n",
    "            (self.name == other.name)"
   ]
  },
  {
   "cell_type": "code",
   "execution_count": 25,
   "metadata": {},
   "outputs": [
    {
     "name": "stdout",
     "output_type": "stream",
     "text": [
      "__eq__() is called..!!\n"
     ]
    },
    {
     "data": {
      "text/plain": [
       "True"
      ]
     },
     "execution_count": 25,
     "metadata": {},
     "output_type": "execute_result"
    }
   ],
   "source": [
    "\n",
    "cust1 = Customer(123, \"Haseeb Aslam\")\n",
    "cust2 = Customer(123, \"Haseeb Aslam\")\n",
    "\n",
    "cust1 == cust2"
   ]
  },
  {
   "cell_type": "code",
   "execution_count": 27,
   "metadata": {},
   "outputs": [
    {
     "name": "stdout",
     "output_type": "stream",
     "text": [
      "__eq__() is called..!!\n"
     ]
    },
    {
     "data": {
      "text/plain": [
       "False"
      ]
     },
     "execution_count": 27,
     "metadata": {},
     "output_type": "execute_result"
    }
   ],
   "source": [
    "# Two unequal objects - different ids\n",
    "\n",
    "customer1 = Customer(123,\"Maryam Azar\")\n",
    "customer2 = Customer(456,\"Maryam Azar\")\n",
    "\n",
    "customer1 == customer2"
   ]
  },
  {
   "cell_type": "markdown",
   "metadata": {},
   "source": [
    "#### String represenation"
   ]
  },
  {
   "cell_type": "markdown",
   "metadata": {},
   "source": [
    "##### - printing an object"
   ]
  },
  {
   "cell_type": "code",
   "execution_count": 28,
   "metadata": {},
   "outputs": [
    {
     "name": "stdout",
     "output_type": "stream",
     "text": [
      "<__main__.Customer object at 0x0000023647458EB0>\n"
     ]
    }
   ],
   "source": [
    "class Customer:\n",
    "    def __init__(self, name, balance):\n",
    "        self.name, self.balance = name, balance\n",
    "\n",
    "cust = Customer('Qasim Hassan', 5000)\n",
    "print(cust)"
   ]
  },
  {
   "cell_type": "markdown",
   "metadata": {},
   "source": [
    "<h5>Implementation: __str__"
   ]
  },
  {
   "cell_type": "code",
   "execution_count": 30,
   "metadata": {},
   "outputs": [],
   "source": [
    "class Customer:\n",
    "    def __init__(self, name, balance):\n",
    "        self.name, self.balance = name, balance\n",
    "    \n",
    "    def __str__(self):\n",
    "        cust_str = \"\"\"\n",
    "        Customer:\n",
    "        name : {name}\n",
    "        balance: {balance}\n",
    "        \"\"\".format(name= self.name,\\\n",
    "                   balance= self.balance)\n",
    "        return cust_str"
   ]
  },
  {
   "cell_type": "code",
   "execution_count": 32,
   "metadata": {},
   "outputs": [
    {
     "name": "stdout",
     "output_type": "stream",
     "text": [
      "\n",
      "        Customer:\n",
      "        name : Haseeb Aslam\n",
      "        balance: 3000\n",
      "        \n"
     ]
    }
   ],
   "source": [
    "cust1 = Customer('Haseeb Aslam', 3000)\n",
    "\n",
    "# will implicitly call __str__()\n",
    "print(cust1)"
   ]
  },
  {
   "cell_type": "markdown",
   "metadata": {},
   "source": [
    "<h5>Implementation: __repr__"
   ]
  },
  {
   "cell_type": "code",
   "execution_count": 33,
   "metadata": {},
   "outputs": [
    {
     "data": {
      "text/plain": [
       "Customer('Haseeb Aslam', 20000)"
      ]
     },
     "execution_count": 33,
     "metadata": {},
     "output_type": "execute_result"
    }
   ],
   "source": [
    "class Customer:\n",
    "    def __init__(self, name, balance):\n",
    "        self.name, self.balance = name, balance\n",
    "    \n",
    "    def __repr__(self):\n",
    "        #Notice the '---' around name\n",
    "        return \"Customer('{name}', {balance})\".format(name= self.name, balance=self.balance)\n",
    "\n",
    "cust = Customer('Haseeb Aslam', 20000)\n",
    "cust # <-- will implicity call __repr__()"
   ]
  },
  {
   "cell_type": "code",
   "execution_count": null,
   "metadata": {},
   "outputs": [],
   "source": []
  }
 ],
 "metadata": {
  "kernelspec": {
   "display_name": "Python 3",
   "language": "python",
   "name": "python3"
  },
  "language_info": {
   "codemirror_mode": {
    "name": "ipython",
    "version": 3
   },
   "file_extension": ".py",
   "mimetype": "text/x-python",
   "name": "python",
   "nbconvert_exporter": "python",
   "pygments_lexer": "ipython3",
   "version": "3.8.3"
  }
 },
 "nbformat": 4,
 "nbformat_minor": 4
}
