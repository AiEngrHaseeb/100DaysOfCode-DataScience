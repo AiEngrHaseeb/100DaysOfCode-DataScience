{
 "cells": [
  {
   "cell_type": "markdown",
   "metadata": {},
   "source": [
    "## Dictionary\n",
    "    Syntax:\n",
    "    > {key1:value1, key2: value2,...}"
   ]
  },
  {
   "cell_type": "code",
   "execution_count": 2,
   "metadata": {},
   "outputs": [
    {
     "data": {
      "text/plain": [
       "{'id': 13, 'name': 'Haseeb', 'course': 'A.I'}"
      ]
     },
     "execution_count": 2,
     "metadata": {},
     "output_type": "execute_result"
    }
   ],
   "source": [
    "{'id':13,\n",
    "'name':\"Haseeb\",\n",
    "\"course\":\"A.I\"}"
   ]
  },
  {
   "cell_type": "code",
   "execution_count": 5,
   "metadata": {},
   "outputs": [
    {
     "data": {
      "text/plain": [
       "{'id': 13, 'name': 'Haseeb', 'course': 'A.I'}"
      ]
     },
     "execution_count": 5,
     "metadata": {},
     "output_type": "execute_result"
    }
   ],
   "source": [
    "dict1 = {'id':13,\n",
    "         'name':\"Haseeb\",\n",
    "         \"course\":\"A.I\"}\n",
    "dict1"
   ]
  },
  {
   "cell_type": "code",
   "execution_count": 7,
   "metadata": {},
   "outputs": [
    {
     "data": {
      "text/plain": [
       "{'id': 13, 'name': 'Haseeb', 'Course': 'A.I'}"
      ]
     },
     "execution_count": 7,
     "metadata": {},
     "output_type": "execute_result"
    }
   ],
   "source": [
    "d1 = {}\n",
    "\n",
    "d1['id'] = 13\n",
    "d1['name'] = \"Haseeb\"\n",
    "d1['Course'] = \"A.I\"\n",
    "\n",
    "d1"
   ]
  },
  {
   "cell_type": "markdown",
   "metadata": {},
   "source": [
    "####  dict ( ) \n",
    "    The dict() constructor builds dictionaries directly from sequences of key-value pairs:"
   ]
  },
  {
   "cell_type": "code",
   "execution_count": 8,
   "metadata": {},
   "outputs": [
    {
     "data": {
      "text/plain": [
       "{'sape': 4139, 'guido': 4127, 'jack': 4098}"
      ]
     },
     "execution_count": 8,
     "metadata": {},
     "output_type": "execute_result"
    }
   ],
   "source": [
    "{'sape': 4139, 'guido': 4127, 'jack': 4098}"
   ]
  },
  {
   "cell_type": "code",
   "execution_count": 9,
   "metadata": {},
   "outputs": [
    {
     "data": {
      "text/plain": [
       "{'sape': 4139, 'guido': 4127, 'jack': 4098}"
      ]
     },
     "execution_count": 9,
     "metadata": {},
     "output_type": "execute_result"
    }
   ],
   "source": [
    "dict([('sape', 4139), ('guido', 4127), ('jack', 4098)])"
   ]
  },
  {
   "cell_type": "code",
   "execution_count": 20,
   "metadata": {},
   "outputs": [
    {
     "data": {
      "text/plain": [
       "{'sape': 4139, 'guido': 4127, 'jack': 4098}"
      ]
     },
     "execution_count": 20,
     "metadata": {},
     "output_type": "execute_result"
    }
   ],
   "source": [
    "dict(sape = 4139,guido = 4127, jack = 4098)"
   ]
  },
  {
   "cell_type": "markdown",
   "metadata": {},
   "source": [
    "#### .clear()"
   ]
  },
  {
   "cell_type": "code",
   "execution_count": 24,
   "metadata": {},
   "outputs": [
    {
     "name": "stdout",
     "output_type": "stream",
     "text": [
      "{'id': 123, 'name': 'Haseeb', 'course': 'A.I'}\n",
      "{}\n"
     ]
    }
   ],
   "source": [
    "d1 = {'id': 123, 'name': 'Haseeb', 'course': 'A.I'}\n",
    "print(d1)\n",
    "d1.clear() # In Memory Function, Empty Dictionary...\n",
    "print(d1)"
   ]
  },
  {
   "cell_type": "code",
   "execution_count": 28,
   "metadata": {},
   "outputs": [
    {
     "name": "stdout",
     "output_type": "stream",
     "text": [
      "{'id': 200, 'name': 'Haseeb', 'course': 'A.I'}\n"
     ]
    },
    {
     "ename": "NameError",
     "evalue": "name 'd1' is not defined",
     "output_type": "error",
     "traceback": [
      "\u001b[1;31m---------------------------------------------------------------------------\u001b[0m",
      "\u001b[1;31mNameError\u001b[0m                                 Traceback (most recent call last)",
      "\u001b[1;32m<ipython-input-28-024d8b06a27a>\u001b[0m in \u001b[0;36m<module>\u001b[1;34m\u001b[0m\n\u001b[0;32m      2\u001b[0m \u001b[0mprint\u001b[0m\u001b[1;33m(\u001b[0m\u001b[0md1\u001b[0m\u001b[1;33m)\u001b[0m\u001b[1;33m\u001b[0m\u001b[1;33m\u001b[0m\u001b[0m\n\u001b[0;32m      3\u001b[0m \u001b[1;32mdel\u001b[0m\u001b[1;33m(\u001b[0m\u001b[0md1\u001b[0m\u001b[1;33m)\u001b[0m \u001b[1;31m# Destory the variable also...\u001b[0m\u001b[1;33m\u001b[0m\u001b[1;33m\u001b[0m\u001b[0m\n\u001b[1;32m----> 4\u001b[1;33m \u001b[0mprint\u001b[0m\u001b[1;33m(\u001b[0m\u001b[0md1\u001b[0m\u001b[1;33m)\u001b[0m\u001b[1;33m\u001b[0m\u001b[1;33m\u001b[0m\u001b[0m\n\u001b[0m",
      "\u001b[1;31mNameError\u001b[0m: name 'd1' is not defined"
     ]
    }
   ],
   "source": [
    "d1 = {'id': 200, 'name': 'Haseeb', 'course': 'A.I'}\n",
    "print(d1)\n",
    "del(d1) # Destory the variable also...\n",
    "print(d1)"
   ]
  },
  {
   "cell_type": "markdown",
   "metadata": {},
   "source": [
    "#### .copy()"
   ]
  },
  {
   "cell_type": "code",
   "execution_count": 50,
   "metadata": {},
   "outputs": [
    {
     "name": "stdout",
     "output_type": "stream",
     "text": [
      "{'id': 200, 'name': 'Haseeb', 'course': 'A.I'}\n",
      "{'id': 0, 'name': 'Haseeb', 'course': 'A.I'}\n",
      "{'id': 0, 'name': 'Haseeb', 'course': 'A.I'}\n"
     ]
    }
   ],
   "source": [
    "d1 = {'id': 200, 'name': 'Haseeb', 'course': 'A.I'}\n",
    "print(d1)\n",
    "d2 = d1 #Shallow Copy\n",
    "d2['id'] = 0\n",
    "print(d1)\n",
    "print(d2)"
   ]
  },
  {
   "cell_type": "code",
   "execution_count": 36,
   "metadata": {},
   "outputs": [
    {
     "name": "stdout",
     "output_type": "stream",
     "text": [
      "{'id': 200, 'name': 'Haseeb', 'course': 'A.I'}\n",
      "{'id': 200, 'name': 'Haseeb', 'course': 'A.I'}\n",
      "{'id': 0, 'name': 'Haseeb', 'course': 'A.I'}\n"
     ]
    }
   ],
   "source": [
    "d1 = {'id': 200, 'name': 'Haseeb', 'course': 'A.I'}\n",
    "print(d1)\n",
    "d2 = d1.copy() #Deep Copy\n",
    "d2['id'] = 0\n",
    "print(d1)\n",
    "print(d2)"
   ]
  },
  {
   "cell_type": "markdown",
   "metadata": {},
   "source": [
    "#### .fromkeys()\n",
    "    Signature: dict.fromkeys(iterable, value=None, /) \n",
    "    Create a new dictionary with keys from iterable and values set to value."
   ]
  },
  {
   "cell_type": "code",
   "execution_count": 39,
   "metadata": {},
   "outputs": [
    {
     "data": {
      "text/plain": [
       "{'id': None, 'name': None, 'course': None, 'address': None}"
      ]
     },
     "execution_count": 39,
     "metadata": {},
     "output_type": "execute_result"
    }
   ],
   "source": [
    "l1 = ['id', 'name', 'course', 'address']\n",
    "dict_formkeys = dict.fromkeys(l1) #value = None by default\n",
    "dict_formkeys"
   ]
  },
  {
   "cell_type": "code",
   "execution_count": 42,
   "metadata": {},
   "outputs": [
    {
     "data": {
      "text/plain": [
       "{'id': 'NAN', 'name': 'NAN', 'course': 'NAN', 'address': 'NAN'}"
      ]
     },
     "execution_count": 42,
     "metadata": {},
     "output_type": "execute_result"
    }
   ],
   "source": [
    "l1 = ['id', 'name', 'course', 'address']\n",
    "val = \"NAN\"\n",
    "dict_formkeys = dict.fromkeys(l1,val)\n",
    "dict_formkeys"
   ]
  },
  {
   "cell_type": "code",
   "execution_count": 44,
   "metadata": {},
   "outputs": [
    {
     "name": "stdout",
     "output_type": "stream",
     "text": [
      "Enter keys for dictionary: 1,3,5,7,9\n",
      "['1', '3', '5', '7', '9']\n",
      "{}\n"
     ]
    },
    {
     "data": {
      "text/plain": [
       "{'1': None, '3': None, '5': None, '7': None, '9': None}"
      ]
     },
     "execution_count": 44,
     "metadata": {},
     "output_type": "execute_result"
    }
   ],
   "source": [
    "#What? if we don't have fromkeys()\n",
    "a = input('Enter keys for dictionary: ')\n",
    "a = a.split(',')\n",
    "print(a)\n",
    "dict3 = {}\n",
    "print(dict3)\n",
    "for i in a:\n",
    "    dict3[i] = None\n",
    "dict3"
   ]
  },
  {
   "cell_type": "code",
   "execution_count": 46,
   "metadata": {},
   "outputs": [
    {
     "name": "stdout",
     "output_type": "stream",
     "text": [
      "Enter keys for dictionary: 1,3,5,7,9\n"
     ]
    },
    {
     "data": {
      "text/plain": [
       "{'1': None, '3': None, '5': None, '7': None, '9': None}"
      ]
     },
     "execution_count": 46,
     "metadata": {},
     "output_type": "execute_result"
    }
   ],
   "source": [
    "# using fromkeys() to set key values as input from user for dict...\n",
    "a = input('Enter keys for dictionary: ').split(',')\n",
    "dict.fromkeys(a)"
   ]
  },
  {
   "cell_type": "code",
   "execution_count": 56,
   "metadata": {},
   "outputs": [
    {
     "name": "stdout",
     "output_type": "stream",
     "text": [
      "Enter KEys For Dictionary: 1,3,5,7,9\n",
      "Enter Value for Dictionary: N,4,U,F,2\n"
     ]
    },
    {
     "data": {
      "text/plain": [
       "{'1': 'N', '3': '4', '5': 'U', '7': 'F', '9': '2'}"
      ]
     },
     "execution_count": 56,
     "metadata": {},
     "output_type": "execute_result"
    }
   ],
   "source": [
    "# setting key and values as input from user in dict...\n",
    "keys = input(\"Enter KEys For Dictionary: \").split(\",\")\n",
    "val = input(\"Enter Value for Dictionary: \").split(\",\")\n",
    "d4 = {}\n",
    "for i in range(len(val)):\n",
    "    d4[keys[i]] = val[i]\n",
    "d4"
   ]
  },
  {
   "cell_type": "code",
   "execution_count": 65,
   "metadata": {},
   "outputs": [
    {
     "data": {
      "text/plain": [
       "[(1, 'Haseeb', 'ds'), (2, 'Raza', 'cnc'), (3, 'Yasir', 'web')]"
      ]
     },
     "execution_count": 65,
     "metadata": {},
     "output_type": "execute_result"
    }
   ],
   "source": [
    "ids = [1,2,3]\n",
    "name = ['Haseeb', 'Raza', 'Yasir']\n",
    "course = ['ds', 'cnc', 'web']\n",
    "\n",
    "zip_variable = zip(ids,name,course)\n",
    "list(zip_variable)"
   ]
  },
  {
   "cell_type": "code",
   "execution_count": 73,
   "metadata": {},
   "outputs": [
    {
     "data": {
      "text/plain": [
       "{1: 'Haseeb', 2: 'Raza', 3: 'Yasir'}"
      ]
     },
     "execution_count": 73,
     "metadata": {},
     "output_type": "execute_result"
    }
   ],
   "source": [
    "zip_variable = zip(ids,name)\n",
    "dict(zip_variable)\n",
    "#dict(list(zip_variable))"
   ]
  },
  {
   "cell_type": "code",
   "execution_count": 92,
   "metadata": {},
   "outputs": [
    {
     "name": "stdout",
     "output_type": "stream",
     "text": [
      "{1: ('Haseeb', 'ds'), 2: ('Raza', 'cnc'), 3: ('Yasir', 'web')}\n"
     ]
    }
   ],
   "source": [
    "zip_variable = zip(ids,zip(name,course))\n",
    "print(dict(zip_variable))\n",
    "#print(dict(zip_variable)[2])\n",
    "#print(dict(zip_variable)[2][0])"
   ]
  },
  {
   "cell_type": "code",
   "execution_count": 94,
   "metadata": {},
   "outputs": [
    {
     "name": "stdout",
     "output_type": "stream",
     "text": [
      "Enter id: 013\n",
      "Enter name: Haseeb\n",
      "Enter skills: Python, Numpy, Pandas, PHP\n"
     ]
    },
    {
     "data": {
      "text/plain": [
       "{'id': '013',\n",
       " 'name': 'Haseeb',\n",
       " 'skills': ['Python', ' Numpy', ' Pandas', ' PHP']}"
      ]
     },
     "execution_count": 94,
     "metadata": {},
     "output_type": "execute_result"
    }
   ],
   "source": [
    "dict2 = { 'id': input('Enter id: '),\n",
    "         'name': input('Enter name: '),\n",
    "         'skills': input('Enter skills: ').split(',')\n",
    "}\n",
    "dict2"
   ]
  },
  {
   "cell_type": "markdown",
   "metadata": {},
   "source": [
    "#### .get()"
   ]
  },
  {
   "cell_type": "code",
   "execution_count": 96,
   "metadata": {},
   "outputs": [],
   "source": [
    "dict1 = {\"id\" : 13, \"name\": \"Haseeb\"}"
   ]
  },
  {
   "cell_type": "code",
   "execution_count": 97,
   "metadata": {},
   "outputs": [
    {
     "data": {
      "text/plain": [
       "13"
      ]
     },
     "execution_count": 97,
     "metadata": {},
     "output_type": "execute_result"
    }
   ],
   "source": [
    "dict1[\"id\"]"
   ]
  },
  {
   "cell_type": "code",
   "execution_count": 99,
   "metadata": {},
   "outputs": [
    {
     "ename": "KeyError",
     "evalue": "'course'",
     "output_type": "error",
     "traceback": [
      "\u001b[1;31m---------------------------------------------------------------------------\u001b[0m",
      "\u001b[1;31mKeyError\u001b[0m                                  Traceback (most recent call last)",
      "\u001b[1;32m<ipython-input-99-ed7b07d20cc7>\u001b[0m in \u001b[0;36m<module>\u001b[1;34m\u001b[0m\n\u001b[1;32m----> 1\u001b[1;33m \u001b[0mdict1\u001b[0m\u001b[1;33m[\u001b[0m\u001b[1;34m\"course\"\u001b[0m\u001b[1;33m]\u001b[0m\u001b[1;33m\u001b[0m\u001b[1;33m\u001b[0m\u001b[0m\n\u001b[0m",
      "\u001b[1;31mKeyError\u001b[0m: 'course'"
     ]
    }
   ],
   "source": [
    "dict1[\"course\"]"
   ]
  },
  {
   "cell_type": "code",
   "execution_count": null,
   "metadata": {},
   "outputs": [],
   "source": [
    "#We use get method to get value of key... it allow us to show message as per need if value not found..."
   ]
  },
  {
   "cell_type": "code",
   "execution_count": 100,
   "metadata": {},
   "outputs": [
    {
     "data": {
      "text/plain": [
       "'Not Available'"
      ]
     },
     "execution_count": 100,
     "metadata": {},
     "output_type": "execute_result"
    }
   ],
   "source": [
    "dict1.get(\"course\", \"Not Available\")"
   ]
  },
  {
   "cell_type": "markdown",
   "metadata": {},
   "source": [
    "#### .items()"
   ]
  },
  {
   "cell_type": "code",
   "execution_count": 102,
   "metadata": {},
   "outputs": [],
   "source": [
    "dic = {'id': '0', 'name': 'Haseeb', 'skills': ['pyhton', 'numpy', 'pandas']}"
   ]
  },
  {
   "cell_type": "code",
   "execution_count": 104,
   "metadata": {},
   "outputs": [
    {
     "data": {
      "text/plain": [
       "dict_items([('id', '0'), ('name', 'Haseeb'), ('skills', ['pyhton', 'numpy', 'pandas'])])"
      ]
     },
     "execution_count": 104,
     "metadata": {},
     "output_type": "execute_result"
    }
   ],
   "source": [
    "dic.items()"
   ]
  },
  {
   "cell_type": "markdown",
   "metadata": {},
   "source": [
    "#### .key()"
   ]
  },
  {
   "cell_type": "code",
   "execution_count": 105,
   "metadata": {},
   "outputs": [
    {
     "data": {
      "text/plain": [
       "dict_keys(['id', 'name', 'skills'])"
      ]
     },
     "execution_count": 105,
     "metadata": {},
     "output_type": "execute_result"
    }
   ],
   "source": [
    "dic.keys()"
   ]
  },
  {
   "cell_type": "markdown",
   "metadata": {},
   "source": [
    "#### .values()"
   ]
  },
  {
   "cell_type": "code",
   "execution_count": 106,
   "metadata": {},
   "outputs": [
    {
     "data": {
      "text/plain": [
       "dict_values(['0', 'Haseeb', ['pyhton', 'numpy', 'pandas']])"
      ]
     },
     "execution_count": 106,
     "metadata": {},
     "output_type": "execute_result"
    }
   ],
   "source": [
    "dic.values()"
   ]
  },
  {
   "cell_type": "code",
   "execution_count": 113,
   "metadata": {},
   "outputs": [
    {
     "name": "stdout",
     "output_type": "stream",
     "text": [
      "color\n",
      "fruit\n",
      "pet\n"
     ]
    }
   ],
   "source": [
    "a_dict = {'color': 'blue', 'fruit': 'apple', 'pet':'dog'}\n",
    "\n",
    "for key in a_dict: # by default it picks keys\n",
    "    print(key)\n"
   ]
  },
  {
   "cell_type": "code",
   "execution_count": 114,
   "metadata": {},
   "outputs": [
    {
     "name": "stdout",
     "output_type": "stream",
     "text": [
      "dict_keys(['color', 'fruit', 'pet'])\n",
      "\n",
      "color\n",
      "fruit\n",
      "pet\n"
     ]
    }
   ],
   "source": [
    "a_dict = {'color': 'blue', 'fruit': 'apple', 'pet':'dog'}\n",
    "\n",
    "keys = a_dict.keys()\n",
    "print(keys)\n",
    "print()\n",
    "for key in a_dict.keys(): # selecting keys \n",
    "    print(key)"
   ]
  },
  {
   "cell_type": "code",
   "execution_count": 116,
   "metadata": {},
   "outputs": [
    {
     "name": "stdout",
     "output_type": "stream",
     "text": [
      "dict_values(['blue', 'apple', 'dog'])\n",
      "\n",
      "blue\n",
      "apple\n",
      "dog\n"
     ]
    }
   ],
   "source": [
    "a_dict = {'color': 'blue', 'fruit': 'apple', 'pet':'dog'}\n",
    "\n",
    "values = a_dict.values()\n",
    "print(values)\n",
    "print()\n",
    "for value in a_dict.values(): # selecting values\n",
    "    print(value)"
   ]
  },
  {
   "cell_type": "code",
   "execution_count": 107,
   "metadata": {},
   "outputs": [
    {
     "name": "stdout",
     "output_type": "stream",
     "text": [
      "{'one': 1, 'two': 2}\n",
      "{'one': 1, 'two': 2, 'three': 3, 'four': 4}\n"
     ]
    }
   ],
   "source": [
    "a_dict = {'one': 1, 'two':2, 'three':3, 'four':4}\n",
    "new_dict = {}\n",
    "for key, value in a_dict.items():\n",
    "    if value <= 2:\n",
    "        new_dict[key] = value\n",
    "print(new_dict)\n",
    "print(a_dict)"
   ]
  },
  {
   "cell_type": "code",
   "execution_count": 108,
   "metadata": {},
   "outputs": [
    {
     "name": "stdout",
     "output_type": "stream",
     "text": [
      "{'one': 1, 'two': 2, 'three': 3, 'four': 4}\n",
      "{1: 'one', 2: 'two', 3: 'three', 4: 'four'}\n"
     ]
    }
   ],
   "source": [
    "a_dict = {'one': 1, 'two':2, 'three':3, 'four':4}\n",
    "new_dict = {}\n",
    "for key, value in a_dict.items():\n",
    "        new_dict[value] = key\n",
    "print(a_dict)\n",
    "print(new_dict)"
   ]
  },
  {
   "cell_type": "code",
   "execution_count": 109,
   "metadata": {},
   "outputs": [
    {
     "name": "stdout",
     "output_type": "stream",
     "text": [
      "total price is 14100.0\n"
     ]
    }
   ],
   "source": [
    "incomes = {'apples': 5600.0, 'orange': 3500.0, 'banana':5000.0}\n",
    "total_cost = 0.0\n",
    "\n",
    "for value in incomes.values():\n",
    "    total_cost += value\n",
    "    \n",
    "print(f'total price is {total_cost}')"
   ]
  },
  {
   "cell_type": "code",
   "execution_count": 112,
   "metadata": {},
   "outputs": [
    {
     "data": {
      "text/plain": [
       "14100.0"
      ]
     },
     "execution_count": 112,
     "metadata": {},
     "output_type": "execute_result"
    }
   ],
   "source": [
    "sum(incomes.values())"
   ]
  },
  {
   "cell_type": "markdown",
   "metadata": {},
   "source": [
    "#### .pop()"
   ]
  },
  {
   "cell_type": "code",
   "execution_count": 117,
   "metadata": {},
   "outputs": [
    {
     "ename": "RuntimeError",
     "evalue": "dictionary changed size during iteration",
     "output_type": "error",
     "traceback": [
      "\u001b[1;31m---------------------------------------------------------------------------\u001b[0m",
      "\u001b[1;31mRuntimeError\u001b[0m                              Traceback (most recent call last)",
      "\u001b[1;32m<ipython-input-117-133c890b218f>\u001b[0m in \u001b[0;36m<module>\u001b[1;34m\u001b[0m\n\u001b[0;32m      1\u001b[0m \u001b[0mprices\u001b[0m \u001b[1;33m=\u001b[0m \u001b[1;33m{\u001b[0m\u001b[1;34m'apple'\u001b[0m\u001b[1;33m:\u001b[0m \u001b[1;36m0.40\u001b[0m\u001b[1;33m,\u001b[0m \u001b[1;34m'orange'\u001b[0m\u001b[1;33m:\u001b[0m \u001b[1;36m0.35\u001b[0m\u001b[1;33m,\u001b[0m \u001b[1;34m'banana'\u001b[0m\u001b[1;33m:\u001b[0m \u001b[1;36m0.25\u001b[0m\u001b[1;33m}\u001b[0m\u001b[1;33m\u001b[0m\u001b[1;33m\u001b[0m\u001b[0m\n\u001b[0;32m      2\u001b[0m \u001b[1;33m\u001b[0m\u001b[0m\n\u001b[1;32m----> 3\u001b[1;33m \u001b[1;32mfor\u001b[0m \u001b[0mkey\u001b[0m \u001b[1;32min\u001b[0m \u001b[0mprices\u001b[0m\u001b[1;33m.\u001b[0m\u001b[0mkeys\u001b[0m\u001b[1;33m(\u001b[0m\u001b[1;33m)\u001b[0m\u001b[1;33m:\u001b[0m\u001b[1;33m\u001b[0m\u001b[1;33m\u001b[0m\u001b[0m\n\u001b[0m\u001b[0;32m      4\u001b[0m     \u001b[1;32mif\u001b[0m \u001b[0mkey\u001b[0m \u001b[1;33m==\u001b[0m \u001b[1;34m'orange'\u001b[0m\u001b[1;33m:\u001b[0m\u001b[1;33m\u001b[0m\u001b[1;33m\u001b[0m\u001b[0m\n\u001b[0;32m      5\u001b[0m         \u001b[1;32mdel\u001b[0m \u001b[0mprices\u001b[0m\u001b[1;33m[\u001b[0m\u001b[0mkey\u001b[0m\u001b[1;33m]\u001b[0m\u001b[1;33m\u001b[0m\u001b[1;33m\u001b[0m\u001b[0m\n",
      "\u001b[1;31mRuntimeError\u001b[0m: dictionary changed size during iteration"
     ]
    }
   ],
   "source": [
    "prices = {'apple': 0.40, 'orange': 0.35, 'banana': 0.25}\n",
    "\n",
    "for key in prices.keys():\n",
    "    if key == 'orange':\n",
    "        del prices[key]"
   ]
  },
  {
   "cell_type": "code",
   "execution_count": 123,
   "metadata": {},
   "outputs": [
    {
     "data": {
      "text/plain": [
       "{'apple': 0.4, 'banana': 0.25}"
      ]
     },
     "execution_count": 123,
     "metadata": {},
     "output_type": "execute_result"
    }
   ],
   "source": [
    "prices = {'apple': 0.40, 'orange': 0.35, 'banana': 0.25}\n",
    "del prices[\"orange\"] # pop specified key and don't return value\n",
    "prices"
   ]
  },
  {
   "cell_type": "code",
   "execution_count": 127,
   "metadata": {},
   "outputs": [
    {
     "name": "stdout",
     "output_type": "stream",
     "text": [
      "{'id': '0', 'name': 'Haseeb', 'skills': ['pyhton', 'numpy', 'pandas']}\n",
      "0\n",
      "{'name': 'Haseeb', 'skills': ['pyhton', 'numpy', 'pandas']}\n"
     ]
    }
   ],
   "source": [
    "# to tackle dictionary changed size during iteration problem\n",
    "dic = {'id': '0', 'name': 'Haseeb', 'skills': ['pyhton', 'numpy', 'pandas']}\n",
    "print(dic)\n",
    "print(dic.pop('id')) # pop specified key and return value\n",
    "print(dic)"
   ]
  },
  {
   "cell_type": "code",
   "execution_count": 128,
   "metadata": {},
   "outputs": [
    {
     "name": "stdout",
     "output_type": "stream",
     "text": [
      "{'id': '0', 'name': 'Haseeb', 'skills': ['pyhton', 'numpy', 'pandas']}\n",
      "0\n",
      "{'name': 'Haseeb', 'skills': ['pyhton', 'numpy', 'pandas']}\n"
     ]
    }
   ],
   "source": [
    "# to tackle dictionary changed size during iteration problem\n",
    "dic = {'id': '0', 'name': 'Haseeb', 'skills': ['pyhton', 'numpy', 'pandas']}\n",
    "print(dic)\n",
    "a = dic.pop('id')\n",
    "print(a) # return value\n",
    "print(dic)"
   ]
  },
  {
   "cell_type": "markdown",
   "metadata": {},
   "source": [
    "#### .popitem()"
   ]
  },
  {
   "cell_type": "code",
   "execution_count": 130,
   "metadata": {},
   "outputs": [
    {
     "name": "stdout",
     "output_type": "stream",
     "text": [
      "{'id': '0', 'name': 'qasim', 'skills': ['pyhton', 'numpy', 'pandas']}\n",
      "('skills', ['pyhton', 'numpy', 'pandas'])\n",
      "{'id': '0', 'name': 'qasim'}\n"
     ]
    }
   ],
   "source": [
    "dic = {'id': '0', 'name': 'qasim', 'skills': ['pyhton', 'numpy', 'pandas']}\n",
    "\n",
    "print(dic)\n",
    "print(dic.popitem()) # pop last item and return it as well\n",
    "print(dic)"
   ]
  },
  {
   "cell_type": "code",
   "execution_count": 131,
   "metadata": {},
   "outputs": [
    {
     "name": "stdout",
     "output_type": "stream",
     "text": [
      "{'color': 'blue', 'fruit': 'apple', 'pet': 'dog'}\n",
      "Dictionary length: 3\n",
      "Removed : ('pet', 'dog')\n",
      "Dictionary length: 2\n",
      "Removed : ('fruit', 'apple')\n",
      "Dictionary length: 1\n",
      "Removed : ('color', 'blue')\n",
      "Dictionary length: 0\n",
      "The dictionary has no item now..!!!\n"
     ]
    }
   ],
   "source": [
    "a_dict = {'color': 'blue', 'fruit': 'apple', 'pet':'dog'}\n",
    "print(a_dict)\n",
    "\n",
    "while True:\n",
    "    try:\n",
    "        print(f'Dictionary length: {len(a_dict)}')\n",
    "        item = a_dict.popitem()\n",
    "        print(f'Removed : {item}')\n",
    "        \n",
    "    except KeyError:\n",
    "        print('The dictionary has no item now..!!!')\n",
    "        break"
   ]
  },
  {
   "cell_type": "markdown",
   "metadata": {},
   "source": [
    "#### .setdefault()"
   ]
  },
  {
   "cell_type": "code",
   "execution_count": 134,
   "metadata": {},
   "outputs": [
    {
     "name": "stdout",
     "output_type": "stream",
     "text": [
      "{'id': '0', 'name': 'Haseeb', 'skills': ['pyhton', 'numpy', 'pandas']}\n",
      "0\n",
      "{'id': '0', 'name': 'Haseeb', 'skills': ['pyhton', 'numpy', 'pandas']}\n"
     ]
    }
   ],
   "source": [
    "dic = {'id': '0', 'name': 'Haseeb', 'skills': ['pyhton', 'numpy', 'pandas']}\n",
    "print(dic)\n",
    "print(dic.setdefault('id', '13')) # can't make already avaliable key to default\n",
    "print(dic)"
   ]
  },
  {
   "cell_type": "code",
   "execution_count": 135,
   "metadata": {},
   "outputs": [
    {
     "name": "stdout",
     "output_type": "stream",
     "text": [
      "{'id': '0', 'name': 'qasim', 'skills': ['pyhton', 'numpy', 'pandas']}\n",
      "DS\n",
      "{'id': '0', 'name': 'qasim', 'skills': ['pyhton', 'numpy', 'pandas'], 'course': 'DS'}\n"
     ]
    }
   ],
   "source": [
    "dic = {'id': '0', 'name': 'qasim', 'skills': ['pyhton', 'numpy', 'pandas']}\n",
    "\n",
    "print(dic)\n",
    "print(dic.setdefault('course', 'DS')) # add new key, value pair as default\n",
    "print(dic)"
   ]
  },
  {
   "cell_type": "markdown",
   "metadata": {},
   "source": [
    "#### .update()"
   ]
  },
  {
   "cell_type": "code",
   "execution_count": 137,
   "metadata": {},
   "outputs": [
    {
     "data": {
      "text/plain": [
       "{'age1': 15, 'age2': 25, 'age3': 35, 'age4': 5}"
      ]
     },
     "execution_count": 137,
     "metadata": {},
     "output_type": "execute_result"
    }
   ],
   "source": [
    "d1 = {'age1':10, 'age2':20, 'age3':30}\n",
    "d2 = {'age1':15, 'age2':25, 'age3':35, 'age4':5}        \n",
    "d1.update(d2)\n",
    "d1"
   ]
  },
  {
   "cell_type": "code",
   "execution_count": 147,
   "metadata": {},
   "outputs": [
    {
     "name": "stdout",
     "output_type": "stream",
     "text": [
      "{'a': 200, 'b': 600, 'c': 300, 'd': 400}\n"
     ]
    }
   ],
   "source": [
    "#sorting key wise\n",
    "d1 = {\n",
    "    'a':200,\n",
    "    'c':300,\n",
    "    'b':600,\n",
    "    'd':400\n",
    "}\n",
    "d2={}\n",
    "for key in sorted(d1.keys()):\n",
    "    d2[key] = d1[key]\n",
    "print(d2)"
   ]
  },
  {
   "cell_type": "code",
   "execution_count": 148,
   "metadata": {},
   "outputs": [
    {
     "name": "stdout",
     "output_type": "stream",
     "text": [
      "{'a': 200, 'b': 600, 'c': 300, 'd': 400}\n"
     ]
    }
   ],
   "source": [
    "#sorting key wise by default\n",
    "d1 = {\n",
    "    'a':200,\n",
    "    'c':300,\n",
    "    'b':600,\n",
    "    'd':400\n",
    "}\n",
    "d2={}\n",
    "for key,val in sorted(d1.items()):\n",
    "    d2[key] = d1[key]\n",
    "print(d2)"
   ]
  },
  {
   "cell_type": "code",
   "execution_count": 143,
   "metadata": {},
   "outputs": [
    {
     "name": "stdout",
     "output_type": "stream",
     "text": [
      "{'a': 200, 'c': 300, 'd': 400, 'b': 600}\n"
     ]
    }
   ],
   "source": [
    "moon = {}\n",
    "scores = {'a':200,'c':300,'b':600,'d':400}\n",
    "for key,value in sorted(scores.items(),key = lambda kv:kv[1]): #kv[1] sort by vlaue\n",
    "    moon[key] = value\n",
    "print(moon)"
   ]
  },
  {
   "cell_type": "code",
   "execution_count": 144,
   "metadata": {},
   "outputs": [
    {
     "name": "stdout",
     "output_type": "stream",
     "text": [
      "{'a': 200, 'b': 600, 'c': 300, 'd': 400}\n"
     ]
    }
   ],
   "source": [
    "moon = {}\n",
    "scores = {'a':200,'c':300,'b':600,'d':400}\n",
    "for key,value in sorted(scores.items(),key = lambda kv:kv[0]): #kv[1] sort by keys\n",
    "    moon[key] = value\n",
    "print(moon)"
   ]
  },
  {
   "cell_type": "code",
   "execution_count": 145,
   "metadata": {},
   "outputs": [
    {
     "data": {
      "text/plain": [
       "{'b': 600, 'd': 400, 'c': 300, 'a': 200}"
      ]
     },
     "execution_count": 145,
     "metadata": {},
     "output_type": "execute_result"
    }
   ],
   "source": [
    "scores = {'a':200,'c':300,'b':600,'d':400}\n",
    "{k:v for k, v in sorted(scores.items(), key=lambda x:x[1], reverse=True)}"
   ]
  },
  {
   "cell_type": "code",
   "execution_count": 149,
   "metadata": {},
   "outputs": [
    {
     "name": "stdout",
     "output_type": "stream",
     "text": [
      "{'c': 200, 'b': 100, 'a': 300}\n"
     ]
    }
   ],
   "source": [
    "moon = {}\n",
    "scores = {'b':100, 'c':200, 'a':300}\n",
    "\n",
    "\n",
    "for key,value in sorted(scores.items(), reverse=True): # sort by keys\n",
    "    moon[key] = value\n",
    "print(moon)"
   ]
  },
  {
   "cell_type": "code",
   "execution_count": 1,
   "metadata": {},
   "outputs": [
    {
     "name": "stdout",
     "output_type": "stream",
     "text": [
      "press n/N to stop and y/Y to run: y\n",
      "Enter your id: 013\n",
      "Enter your name: Haseeb\n",
      "Enter course name: DS\n",
      "press n/N to stop and y/Y to run: Y\n",
      "Enter your id: 014\n",
      "Enter your name: Kamran\n",
      "Enter course name: CNC\n",
      "press n/N to stop and y/Y to run: n\n",
      "[{'id': '013', 'name': 'Haseeb', 'course': 'DS'}, {'id': '014', 'name': 'Kamran', 'course': 'CNC'}]\n"
     ]
    }
   ],
   "source": [
    "l1 = []\n",
    "run = True\n",
    "\n",
    "while run:\n",
    "    choice = input('press n/N to stop and y/Y to run: ')\n",
    "    if choice == 'n' or choice == 'N':\n",
    "        run = False\n",
    "    elif choice == 'y' or choice == 'Y':\n",
    "        d1 = {'id': input('Enter your id: '),\n",
    "             'name': input('Enter your name: '),\n",
    "             'course': input('Enter course name: ')}\n",
    "        l1.append(d1)\n",
    "print(l1) # display list of dictionaries"
   ]
  },
  {
   "cell_type": "markdown",
   "metadata": {},
   "source": [
    "## Dictionary comprehension"
   ]
  },
  {
   "cell_type": "code",
   "execution_count": 2,
   "metadata": {},
   "outputs": [
    {
     "name": "stdout",
     "output_type": "stream",
     "text": [
      "{'color': 'blue', 'fruit': 'apple', 'animal': 'dog'}\n"
     ]
    }
   ],
   "source": [
    "objects = ['blue', 'apple', 'dog']\n",
    "categories = ['color', 'fruit', 'animal']\n",
    "\n",
    "new_dic = { key : value for key, value in zip(categories, objects)}\n",
    "\n",
    "print(new_dic)"
   ]
  },
  {
   "cell_type": "code",
   "execution_count": 3,
   "metadata": {},
   "outputs": [
    {
     "name": "stdout",
     "output_type": "stream",
     "text": [
      "{'blue': 'color', 'apple': 'fruit', 'dog': 'animal'}\n"
     ]
    }
   ],
   "source": [
    "d = {'color': 'blue', 'fruit': 'apple', 'animal': 'dog'}\n",
    "\n",
    "new_d = { value : key for key,value in d.items()}\n",
    "\n",
    "print(new_d)"
   ]
  },
  {
   "cell_type": "code",
   "execution_count": 4,
   "metadata": {},
   "outputs": [
    {
     "name": "stdout",
     "output_type": "stream",
     "text": [
      "{'one': 1, 'two': 2}\n"
     ]
    }
   ],
   "source": [
    "a_dict = {'one': 1, 'two':2, 'three':3, 'four':4}\n",
    "\n",
    "new_dict = {k : v for k, v in a_dict.items() if v <= 2}\n",
    "print(new_dict)"
   ]
  },
  {
   "cell_type": "markdown",
   "metadata": {},
   "source": [
    "## Iteration through dictionnaries using some python builtin functions\n",
    "    map()\n",
    "    filter()\n",
    "    ChainMap()\n",
    "    itertools()\n",
    "        chain()\n",
    "        cycle()"
   ]
  },
  {
   "cell_type": "markdown",
   "metadata": {},
   "source": [
    "#### map()\n",
    "use to mapy/appl a function on dictionary..."
   ]
  },
  {
   "cell_type": "code",
   "execution_count": 5,
   "metadata": {},
   "outputs": [
    {
     "data": {
      "text/plain": [
       "{'apples': 0.43, 'orange': 0.33, 'banana': 0.24}"
      ]
     },
     "execution_count": 5,
     "metadata": {},
     "output_type": "execute_result"
    }
   ],
   "source": [
    "prices = {'apples': 0.45, 'orange': 0.35, 'banana':0.25}\n",
    " \n",
    "def discount(current_prices):\n",
    "    return (current_prices[0], round(current_prices[1]*0.95, 2)) # 0.95 means applying 5% discount\n",
    "\n",
    "new_prices = dict(map(discount, prices.items()))\n",
    "new_prices"
   ]
  },
  {
   "cell_type": "code",
   "execution_count": 6,
   "metadata": {},
   "outputs": [
    {
     "name": "stdout",
     "output_type": "stream",
     "text": [
      "['orange', 'banana']\n"
     ]
    }
   ],
   "source": [
    "prices = {'apples': 0.45, 'orange': 0.35, 'banana':0.25}\n",
    "\n",
    "def has_low_price(price):\n",
    "     return prices[price] < 0.4\n",
    "#print(filter(has_low_price, prices.keys()))  ---> return object so converting object into list\n",
    "low_price = list(filter(has_low_price, prices.keys()))\n",
    "print(low_price)"
   ]
  },
  {
   "cell_type": "code",
   "execution_count": 7,
   "metadata": {},
   "outputs": [
    {
     "name": "stdout",
     "output_type": "stream",
     "text": [
      "ChainMap({'apple': 0.4, 'orange': 0.35}, {'pepper': 0.2, 'onion': 0.55})\n",
      "pepper --> 0.2\n",
      "onion --> 0.55\n",
      "apple --> 0.4\n",
      "orange --> 0.35\n"
     ]
    }
   ],
   "source": [
    "from collections import ChainMap\n",
    "\n",
    "fruit_prices = {'apple': 0.40, 'orange': 0.35}\n",
    "vegetable_prices = {'pepper': 0.20, 'onion':0.55}\n",
    "\n",
    "chained_dict = ChainMap(fruit_prices, vegetable_prices)\n",
    "print(chained_dict)\n",
    "\n",
    "# for key in chained_dict:\n",
    "#     print(key , '-->', chained_dict[key])\n",
    "\n",
    "for key,value in chained_dict.items():\n",
    "    print(key, '-->', value)"
   ]
  },
  {
   "cell_type": "code",
   "execution_count": 8,
   "metadata": {},
   "outputs": [
    {
     "name": "stdout",
     "output_type": "stream",
     "text": [
      "('apple', 0.4)\n",
      "('orange', 0.35)\n",
      "('apple', 0.4)\n",
      "('orange', 0.35)\n",
      "('apple', 0.4)\n",
      "('orange', 0.35)\n"
     ]
    }
   ],
   "source": [
    "from itertools import cycle\n",
    "\n",
    "fruit_prices = {'apple': 0.40, 'orange': 0.35}\n",
    "times = 3\n",
    "total_items = times * len(fruit_prices)\n",
    "\n",
    "for item  in cycle(fruit_prices.items()):\n",
    "#     print(total_items)\n",
    "    if not total_items:\n",
    "        break\n",
    "    total_items -=1\n",
    "    print(item)"
   ]
  },
  {
   "cell_type": "code",
   "execution_count": 9,
   "metadata": {},
   "outputs": [
    {
     "name": "stdout",
     "output_type": "stream",
     "text": [
      "('apple', 0.4)\n",
      "('orange', 0.35)\n",
      "('pepper', 0.2)\n",
      "('onion', 0.55)\n"
     ]
    }
   ],
   "source": [
    "from itertools import chain\n",
    "\n",
    "fruit_prices = {'apple': 0.40, 'orange': 0.35}\n",
    "vegetable_prices = {'pepper': 0.20, 'onion':0.55}\n",
    "\n",
    "for item  in chain(fruit_prices.items(),vegetable_prices.items()):\n",
    "    print(item)"
   ]
  },
  {
   "cell_type": "markdown",
   "metadata": {},
   "source": [
    "## Using the dictionary unpacking operaor(**)"
   ]
  },
  {
   "cell_type": "code",
   "execution_count": 10,
   "metadata": {},
   "outputs": [
    {
     "name": "stdout",
     "output_type": "stream",
     "text": [
      "{'pepper': 0.2, 'onion': 0.55, 'apple': 0.4, 'orange': 0.35}\n",
      "pepper --> 0.2\n",
      "onion --> 0.55\n",
      "apple --> 0.4\n",
      "orange --> 0.35\n"
     ]
    }
   ],
   "source": [
    "fruit_prices = {'apple': 0.40, 'orange': 0.35}\n",
    "vegetable_prices = {'pepper': 0.20, 'onion':0.55}\n",
    "\n",
    "print({**vegetable_prices, **fruit_prices})\n",
    "\n",
    "for k , v in {**vegetable_prices, **fruit_prices}.items():\n",
    "    print(k, '-->', v)"
   ]
  },
  {
   "cell_type": "code",
   "execution_count": 11,
   "metadata": {},
   "outputs": [
    {
     "name": "stdout",
     "output_type": "stream",
     "text": [
      "{'pepper': 0.2, 'onion': 0.55, 'apple': 0.4, 'orange': 0.35}\n"
     ]
    }
   ],
   "source": [
    "# the apple key is present in both dictionaries. after you merger them, the fruit_price va;ue for apple(0.40) prevailed,\n",
    "# becuase fruit price is the right mosrt dictionary \n",
    "\n",
    "fruit_prices = {'apple': 0.40, 'orange': 0.35}\n",
    "vegetable_prices = {'pepper': 0.20, 'onion':0.55, 'apple': 0.30}\n",
    "\n",
    "print({**vegetable_prices, **fruit_prices})"
   ]
  },
  {
   "cell_type": "code",
   "execution_count": 12,
   "metadata": {},
   "outputs": [
    {
     "data": {
      "text/plain": [
       "{'a': 1, 'b': 3, 'c': 4}"
      ]
     },
     "execution_count": 12,
     "metadata": {},
     "output_type": "execute_result"
    }
   ],
   "source": [
    "x = {'a':1, 'b':2}\n",
    "y = {'b':3, 'c': 4}\n",
    "\n",
    "{**x, **y}"
   ]
  },
  {
   "cell_type": "code",
   "execution_count": null,
   "metadata": {},
   "outputs": [],
   "source": []
  }
 ],
 "metadata": {
  "kernelspec": {
   "display_name": "Python 3",
   "language": "python",
   "name": "python3"
  },
  "language_info": {
   "codemirror_mode": {
    "name": "ipython",
    "version": 3
   },
   "file_extension": ".py",
   "mimetype": "text/x-python",
   "name": "python",
   "nbconvert_exporter": "python",
   "pygments_lexer": "ipython3",
   "version": "3.8.3"
  }
 },
 "nbformat": 4,
 "nbformat_minor": 4
}
