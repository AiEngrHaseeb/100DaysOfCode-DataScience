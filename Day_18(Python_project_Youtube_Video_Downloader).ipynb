{
 "cells": [
  {
   "cell_type": "code",
   "execution_count": 3,
   "metadata": {},
   "outputs": [],
   "source": [
    "import tkinter\n",
    "from pytube import YouTube\n",
    "\n",
    "root = tkinter.Tk()\n",
    "root.geometry('500x300')\n",
    "root.resizable(0,0)\n",
    "root.title(\"IT SOURCECODE Youtube Video Downloader\")\n",
    "\n",
    "\n",
    "tkinter.Label(root, text ='Youtube Video Downloader', font ='arial 20 bold').pack()\n",
    "\n",
    "\n",
    "\n",
    "\n",
    "##enter link\n",
    "link = tkinter.StringVar()\n",
    "\n",
    "tkinter.Label(root, text ='Paste Link Here:', font ='arial 15 bold').place(x= 160, y = 60)\n",
    "link_enter = tkinter.Entry(root, width = 70, textvariable = link).place(x = 32, y = 90)\n",
    "\n",
    "\n",
    "\n",
    "#function to download video\n",
    "\n",
    "\n",
    "def Downloader():\n",
    "     \n",
    "    url =YouTube(str(link.get()))\n",
    "    video = url.streams.first()\n",
    "    video.download()\n",
    "    tkinter.Label(root, text ='DOWNLOADED', font ='arial 15').place(x= 180, y = 210)\n",
    "\n",
    "\n",
    "tkinter.Button(root, text ='DOWNLOAD', font ='arial 15 bold', bg ='blue', padx = 2, command = Downloader).place(x=180, y = 150)\n",
    "\n",
    "\n",
    "\n",
    "root.mainloop()\n"
   ]
  },
  {
   "cell_type": "code",
   "execution_count": null,
   "metadata": {},
   "outputs": [],
   "source": []
  }
 ],
 "metadata": {
  "kernelspec": {
   "display_name": "Python 3",
   "language": "python",
   "name": "python3"
  },
  "language_info": {
   "codemirror_mode": {
    "name": "ipython",
    "version": 3
   },
   "file_extension": ".py",
   "mimetype": "text/x-python",
   "name": "python",
   "nbconvert_exporter": "python",
   "pygments_lexer": "ipython3",
   "version": "3.8.3"
  }
 },
 "nbformat": 4,
 "nbformat_minor": 4
}
