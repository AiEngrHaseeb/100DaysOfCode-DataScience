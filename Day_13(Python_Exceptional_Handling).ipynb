{
 "cells": [
  {
   "cell_type": "markdown",
   "metadata": {},
   "source": [
    "## Errors and Exceptions\n",
    "###### Continue..."
   ]
  },
  {
   "cell_type": "markdown",
   "metadata": {},
   "source": [
    "<tbody><tr>\n",
    "<th style=\"text-align:center;\">      </th>\n",
    "<th style=\"text-align:center;\">Exception Name &amp; Description</th>\n",
    "</tr>\n",
    "<tr>\n",
    "<td class=\"ts\">1</td>\n",
    "<td><p><b>Exception</b></p>\n",
    "<p>Base class for all exceptions</p></td>\n",
    "</tr>\n",
    "<tr>\n",
    "<td class=\"ts\">2</td>\n",
    "<td><p><b>StopIteration</b></p>\n",
    "<p>Raised when the next() method of an iterator does not point to any object.</p></td>\n",
    "</tr>\n",
    "<tr>\n",
    "<td class=\"ts\">3</td>\n",
    "<td><p><b>SystemExit</b></p>\n",
    "<p>Raised by the sys.exit() function.</p></td>\n",
    "</tr>\n",
    "<tr>\n",
    "<td class=\"ts\">4</td>\n",
    "<td><p><b>StandardError</b></p>\n",
    "<p>Base class for all built-in exceptions except StopIteration and SystemExit.</p></td>\n",
    "</tr>\n",
    "<tr>\n",
    "<td class=\"ts\">5</td>\n",
    "<td><p><b>ArithmeticError</b></p>\n",
    "<p>Base class for all errors that occur for numeric calculation.</p></td>\n",
    "</tr>\n",
    "<tr>\n",
    "<td class=\"ts\">6</td>\n",
    "<td><p><b>OverflowError</b></p>\n",
    "<p>Raised when a calculation exceeds maximum limit for a numeric type.</p></td>\n",
    "</tr>\n",
    "<tr>\n",
    "<td class=\"ts\">7</td>\n",
    "<td><p><b>FloatingPointError</b></p>\n",
    "<p>Raised when a floating point calculation fails.</p></td>\n",
    "</tr>\n",
    "<tr>\n",
    "<td class=\"ts\">8</td>\n",
    "<td><p><b>ZeroDivisionError</b></p>\n",
    "<p>Raised when division or modulo by zero takes place for all numeric types.</p></td>\n",
    "</tr>\n",
    "<tr>\n",
    "<td class=\"ts\">9</td>\n",
    "<td><p><b>AssertionError</b></p>\n",
    "<p>Raised in case of failure of the Assert statement.</p></td>\n",
    "</tr>\n",
    "<tr>\n",
    "<td class=\"ts\">10</td>\n",
    "<td><p><b>AttributeError</b></p>\n",
    "<p>Raised in case of failure of attribute reference or assignment.</p></td>\n",
    "</tr>\n",
    "<tr>\n",
    "<td class=\"ts\">11</td>\n",
    "<td><p><b>EOFError</b></p>\n",
    "<p>Raised when there is no input from either the raw_input() or input() function and the end of file is reached.</p></td>\n",
    "</tr>\n",
    "<tr>\n",
    "<td class=\"ts\">12</td>\n",
    "<td><p><b>ImportError</b></p>\n",
    "<p>Raised when an import statement fails.</p></td>\n",
    "</tr>\n",
    "<tr>\n",
    "<td class=\"ts\">13</td>\n",
    "<td><p><b>KeyboardInterrupt</b></p>\n",
    "<p>Raised when the user interrupts program execution, usually by pressing Ctrl+c.</p></td>\n",
    "</tr>\n",
    "<tr>\n",
    "<td class=\"ts\">14</td>\n",
    "<td><p><b>LookupError</b></p>\n",
    "<p>Base class for all lookup errors.</p></td>\n",
    "</tr>\n",
    "<tr>\n",
    "<td class=\"ts\">15</td>\n",
    "<td><p><b>IndexError</b></p>\n",
    "<p>Raised when an index is not found in a sequence.</p></td>\n",
    "</tr>\n",
    "<tr>\n",
    "<td class=\"ts\">16</td>\n",
    "<td><p><b>KeyError</b></p>\n",
    "<p>Raised when the specified key is not found in the dictionary.</p></td>\n",
    "</tr>\n",
    "<tr>\n",
    "<td class=\"ts\">17</td>\n",
    "<td><p><b>NameError</b></p>\n",
    "<p>Raised when an identifier is not found in the local or global namespace.</p></td>\n",
    "</tr>\n",
    "<tr>\n",
    "<td class=\"ts\">18</td>\n",
    "<td><p><b>UnboundLocalError</b></p>\n",
    "<p>Raised when trying to access a local variable in a function or method but no value has been assigned to it.</p></td>\n",
    "</tr>\n",
    "<tr>\n",
    "<td class=\"ts\">19</td>\n",
    "<td><p><b>EnvironmentError</b></p>\n",
    "<p>Base class for all exceptions that occur outside the Python environment.</p></td>\n",
    "</tr>\n",
    "<tr>\n",
    "<td class=\"ts\">20</td>\n",
    "<td><p><b>IOError</b></p>\n",
    "<p>Raised when an input/ output operation fails, such as the print statement or the open() function when trying to open a file that does not exist.</p></td>\n",
    "</tr>\n",
    "<tr>\n",
    "<td class=\"ts\">21</td>\n",
    "<td><p><b>IOError</b></p>\n",
    "<p>Raised for operating system-related errors.</p></td>\n",
    "</tr>\n",
    "<tr>\n",
    "<td class=\"ts\">22</td>\n",
    "<td><p><b>SyntaxError</b></p>\n",
    "<p>Raised when there is an error in Python syntax.</p></td>\n",
    "</tr>\n",
    "<tr>\n",
    "<td class=\"ts\">23</td>\n",
    "<td><p><b>IndentationError</b></p>\n",
    "<p>Raised when indentation is not specified properly.</p></td>\n",
    "</tr>\n",
    "<tr>\n",
    "<td class=\"ts\">24</td>\n",
    "<td><p><b>SystemError</b></p>\n",
    "<p>Raised when the interpreter finds an internal problem, but when this error is encountered the Python interpreter does not exit.</p></td>\n",
    "</tr>\n",
    "<tr>\n",
    "<td class=\"ts\">25</td>\n",
    "<td><p><b>SystemExit</b></p>\n",
    "<p>Raised when Python interpreter is quit by using the sys.exit() function. If not handled in the code, causes the interpreter to exit.</p></td>\n",
    "</tr>\n",
    "<tr>\n",
    "<td class=\"ts\">26</td>\n",
    "<td><p><b>TypeError</b></p>\n",
    "<p>Raised when an operation or function is attempted that is invalid for the specified data type.</p></td>\n",
    "</tr>\n",
    "<tr>\n",
    "<td class=\"ts\">27</td>\n",
    "<td><p><b>ValueError</b></p>\n",
    "<p>Raised when the built-in function for a data type has the valid type of arguments, but the arguments have invalid values specified.</p></td>\n",
    "</tr>\n",
    "<tr>\n",
    "<td class=\"ts\">28</td>\n",
    "<td><p><b>RuntimeError</b></p>\n",
    "<p>Raised when a generated error does not fall into any category.</p></td>\n",
    "</tr>\n",
    "<tr>\n",
    "<td class=\"ts\">29</td>\n",
    "<td><p><b>NotImplementedError</b></p>\n",
    "<p>Raised when an abstract method that needs to be implemented in an inherited class is not actually implemented.</p></td>\n",
    "</tr>\n",
    "</tbody>"
   ]
  },
  {
   "cell_type": "markdown",
   "metadata": {},
   "source": [
    "### Exercise...\n",
    "    try:\n",
    "        your code \n",
    "    except (ErrClass1, ErrClass2,...):\n",
    "        execute code if error generated\n",
    "    else:\n",
    "        execute code if error not generated\n",
    "    finally:\n",
    "        always run this block\n"
   ]
  },
  {
   "cell_type": "code",
   "execution_count": 1,
   "metadata": {},
   "outputs": [
    {
     "name": "stdout",
     "output_type": "stream",
     "text": [
      "line1\n",
      "line2\n",
      "Can't divided any value with zero\n",
      "line3\n",
      "line4\n",
      "line5\n"
     ]
    }
   ],
   "source": [
    "print(\"line1\")\n",
    "print(\"line2\")\n",
    "\n",
    "try:\n",
    "    print(7/0)\n",
    "except ZeroDivisionError:\n",
    "    print(\"Can't divided any value with zero\")\n",
    "\n",
    "\n",
    "print(\"line3\")\n",
    "print(\"line4\")\n",
    "print(\"line5\")"
   ]
  },
  {
   "cell_type": "code",
   "execution_count": 6,
   "metadata": {},
   "outputs": [
    {
     "name": "stdout",
     "output_type": "stream",
     "text": [
      "File Not available\n"
     ]
    }
   ],
   "source": [
    "try:\n",
    "    open(\"abc.txt\")\n",
    "except:\n",
    "    print(\"File Not available\")"
   ]
  },
  {
   "cell_type": "code",
   "execution_count": 2,
   "metadata": {},
   "outputs": [
    {
     "name": "stdout",
     "output_type": "stream",
     "text": [
      "File Not available\n"
     ]
    }
   ],
   "source": [
    "try:\n",
    "    open(\"abc.txt\")\n",
    "except FileNotFoundError:\n",
    "    print(\"File Not available\")"
   ]
  },
  {
   "cell_type": "code",
   "execution_count": 3,
   "metadata": {},
   "outputs": [
    {
     "name": "stdout",
     "output_type": "stream",
     "text": [
      "NOt Available this index\n"
     ]
    }
   ],
   "source": [
    "try:\n",
    "    a = ['a','b','c']\n",
    "    print(a[4])\n",
    "except IndexError:\n",
    "    print(\"NOt Available this index\")"
   ]
  },
  {
   "cell_type": "code",
   "execution_count": 4,
   "metadata": {},
   "outputs": [
    {
     "name": "stdout",
     "output_type": "stream",
     "text": [
      "Try to solve this problem\n"
     ]
    }
   ],
   "source": [
    "try:\n",
    "    a = ['a','b']\n",
    "    print(a[5])\n",
    "    open('abc.txt')\n",
    "    print(7/0)\n",
    "except (IndexError,FileNotFoundError, ZeroDivisionError):\n",
    "    print(\"Try to solve this problem\")"
   ]
  },
  {
   "cell_type": "code",
   "execution_count": 5,
   "metadata": {},
   "outputs": [
    {
     "name": "stdout",
     "output_type": "stream",
     "text": [
      "Index out of range\n",
      "File Not Foud\n",
      "Can't Divided any value with zero\n"
     ]
    }
   ],
   "source": [
    "try:\n",
    "    a = ['a','b']\n",
    "    print(a[5])\n",
    "except IndexError:\n",
    "    print(\"Index out of range\")\n",
    "    \n",
    "try:\n",
    "    open('abc.txt')\n",
    "    print(7/0)\n",
    "except FileNotFoundError:\n",
    "    print(\"File Not Foud\")    \n",
    "    \n",
    "try:\n",
    "    print(7/0)\n",
    "except ZeroDivisionError:\n",
    "    print(\"Can't Divided any value with zero\")"
   ]
  },
  {
   "cell_type": "code",
   "execution_count": 24,
   "metadata": {},
   "outputs": [
    {
     "name": "stdout",
     "output_type": "stream",
     "text": [
      "Error: can't find file or read data\n"
     ]
    }
   ],
   "source": [
    "try:\n",
    "    fh = open(\"testfile\", \"r\")\n",
    "    fh.write(\"This is my test file for exception handling!!\")\n",
    "except IOError:\n",
    "    print (\"Error: can\\'t find file or read data\")\n",
    "else:\n",
    "    print (\"Written content in the file successfully\")"
   ]
  },
  {
   "cell_type": "code",
   "execution_count": 27,
   "metadata": {},
   "outputs": [
    {
     "name": "stdout",
     "output_type": "stream",
     "text": [
      "Error: can't find file or read data\n"
     ]
    }
   ],
   "source": [
    "try:\n",
    "    fh = open(\"testfile\", \"w\")\n",
    "    fh.write(\"This is my test file for exception handling!!\")\n",
    "finally:\n",
    "    print (\"Error: can\\'t find file or read data\")"
   ]
  },
  {
   "cell_type": "code",
   "execution_count": 29,
   "metadata": {},
   "outputs": [
    {
     "name": "stdout",
     "output_type": "stream",
     "text": [
      "Going to close the file\n"
     ]
    }
   ],
   "source": [
    "try:\n",
    "    fh = open(\"testfile\", \"w\")\n",
    "    try:\n",
    "        fh.write(\"This is my test file for exception handling!!\")\n",
    "    finally:\n",
    "        print (\"Going to close the file\")\n",
    "        fh.close()\n",
    "except IOError:\n",
    "    print (\"Error: can\\'t find file or read data\" )"
   ]
  },
  {
   "cell_type": "code",
   "execution_count": 21,
   "metadata": {},
   "outputs": [
    {
     "name": "stdout",
     "output_type": "stream",
     "text": [
      "The argument does not contain numbers\n",
      " invalid literal for int() with base 10: 'xyz'\n"
     ]
    }
   ],
   "source": [
    "# Define a function here.\n",
    "def temp_convert(var):\n",
    "    try:\n",
    "        return int(var)\n",
    "    except ValueError as argument:\n",
    "        print( \"The argument does not contain numbers\\n\", argument)\n",
    "\n",
    "# Call above function here.\n",
    "temp_convert(\"xyz\")"
   ]
  },
  {
   "cell_type": "code",
   "execution_count": 31,
   "metadata": {},
   "outputs": [
    {
     "name": "stdout",
     "output_type": "stream",
     "text": [
      "20 Ali\n"
     ]
    }
   ],
   "source": [
    "class Student():\n",
    "    def __init__(self, age, name):\n",
    "        if age<18 or age>60:\n",
    "            raise Exception(\"Age should be in 18 to 60\")\n",
    "        self.age = age\n",
    "        self.name = name\n",
    "        \n",
    "s1 = Student(20, \"Ali\")      \n",
    "print(s1.age,s1.name)"
   ]
  },
  {
   "cell_type": "code",
   "execution_count": 32,
   "metadata": {},
   "outputs": [
    {
     "ename": "Exception",
     "evalue": "Age should be in 18 to 60",
     "output_type": "error",
     "traceback": [
      "\u001b[1;31m---------------------------------------------------------------------------\u001b[0m",
      "\u001b[1;31mException\u001b[0m                                 Traceback (most recent call last)",
      "\u001b[1;32m<ipython-input-32-f029ec48fa3f>\u001b[0m in \u001b[0;36m<module>\u001b[1;34m\u001b[0m\n\u001b[1;32m----> 1\u001b[1;33m \u001b[0ms1\u001b[0m \u001b[1;33m=\u001b[0m \u001b[0mStudent\u001b[0m\u001b[1;33m(\u001b[0m\u001b[1;36m89\u001b[0m\u001b[1;33m,\u001b[0m \u001b[1;34m\"Hamza\"\u001b[0m\u001b[1;33m)\u001b[0m\u001b[1;33m\u001b[0m\u001b[1;33m\u001b[0m\u001b[0m\n\u001b[0m\u001b[0;32m      2\u001b[0m \u001b[0mprint\u001b[0m\u001b[1;33m(\u001b[0m\u001b[0ms1\u001b[0m\u001b[1;33m.\u001b[0m\u001b[0mage\u001b[0m\u001b[1;33m,\u001b[0m\u001b[0ms1\u001b[0m\u001b[1;33m.\u001b[0m\u001b[0mname\u001b[0m\u001b[1;33m)\u001b[0m\u001b[1;33m\u001b[0m\u001b[1;33m\u001b[0m\u001b[0m\n",
      "\u001b[1;32m<ipython-input-31-b9e148ab3060>\u001b[0m in \u001b[0;36m__init__\u001b[1;34m(self, age, name)\u001b[0m\n\u001b[0;32m      2\u001b[0m     \u001b[1;32mdef\u001b[0m \u001b[0m__init__\u001b[0m\u001b[1;33m(\u001b[0m\u001b[0mself\u001b[0m\u001b[1;33m,\u001b[0m \u001b[0mage\u001b[0m\u001b[1;33m,\u001b[0m \u001b[0mname\u001b[0m\u001b[1;33m)\u001b[0m\u001b[1;33m:\u001b[0m\u001b[1;33m\u001b[0m\u001b[1;33m\u001b[0m\u001b[0m\n\u001b[0;32m      3\u001b[0m         \u001b[1;32mif\u001b[0m \u001b[0mage\u001b[0m\u001b[1;33m<\u001b[0m\u001b[1;36m18\u001b[0m \u001b[1;32mor\u001b[0m \u001b[0mage\u001b[0m\u001b[1;33m>\u001b[0m\u001b[1;36m60\u001b[0m\u001b[1;33m:\u001b[0m\u001b[1;33m\u001b[0m\u001b[1;33m\u001b[0m\u001b[0m\n\u001b[1;32m----> 4\u001b[1;33m             \u001b[1;32mraise\u001b[0m \u001b[0mException\u001b[0m\u001b[1;33m(\u001b[0m\u001b[1;34m\"Age should be in 18 to 60\"\u001b[0m\u001b[1;33m)\u001b[0m\u001b[1;33m\u001b[0m\u001b[1;33m\u001b[0m\u001b[0m\n\u001b[0m\u001b[0;32m      5\u001b[0m         \u001b[0mself\u001b[0m\u001b[1;33m.\u001b[0m\u001b[0mage\u001b[0m \u001b[1;33m=\u001b[0m \u001b[0mage\u001b[0m\u001b[1;33m\u001b[0m\u001b[1;33m\u001b[0m\u001b[0m\n\u001b[0;32m      6\u001b[0m         \u001b[0mself\u001b[0m\u001b[1;33m.\u001b[0m\u001b[0mname\u001b[0m \u001b[1;33m=\u001b[0m \u001b[0mname\u001b[0m\u001b[1;33m\u001b[0m\u001b[1;33m\u001b[0m\u001b[0m\n",
      "\u001b[1;31mException\u001b[0m: Age should be in 18 to 60"
     ]
    }
   ],
   "source": [
    "s1 = Student(89, \"Hamza\")\n",
    "print(s1.age,s1.name)"
   ]
  },
  {
   "cell_type": "code",
   "execution_count": 33,
   "metadata": {},
   "outputs": [
    {
     "ename": "StudentAgeError",
     "evalue": "Age should be in 18 to 60",
     "output_type": "error",
     "traceback": [
      "\u001b[1;31m---------------------------------------------------------------------------\u001b[0m",
      "\u001b[1;31mStudentAgeError\u001b[0m                           Traceback (most recent call last)",
      "\u001b[1;32m<ipython-input-33-d9a8c4d4a81b>\u001b[0m in \u001b[0;36m<module>\u001b[1;34m\u001b[0m\n\u001b[0;32m     10\u001b[0m     \u001b[1;32mpass\u001b[0m\u001b[1;33m\u001b[0m\u001b[1;33m\u001b[0m\u001b[0m\n\u001b[0;32m     11\u001b[0m \u001b[1;33m\u001b[0m\u001b[0m\n\u001b[1;32m---> 12\u001b[1;33m \u001b[0ms2\u001b[0m \u001b[1;33m=\u001b[0m \u001b[0mStudent\u001b[0m\u001b[1;33m(\u001b[0m\u001b[1;36m89\u001b[0m\u001b[1;33m,\u001b[0m \u001b[1;34m\"Hamza\"\u001b[0m\u001b[1;33m)\u001b[0m\u001b[1;33m\u001b[0m\u001b[1;33m\u001b[0m\u001b[0m\n\u001b[0m",
      "\u001b[1;32m<ipython-input-33-d9a8c4d4a81b>\u001b[0m in \u001b[0;36m__init__\u001b[1;34m(self, age, name)\u001b[0m\n\u001b[0;32m      2\u001b[0m     \u001b[1;32mdef\u001b[0m \u001b[0m__init__\u001b[0m\u001b[1;33m(\u001b[0m\u001b[0mself\u001b[0m\u001b[1;33m,\u001b[0m \u001b[0mage\u001b[0m\u001b[1;33m,\u001b[0m \u001b[0mname\u001b[0m\u001b[1;33m)\u001b[0m\u001b[1;33m:\u001b[0m\u001b[1;33m\u001b[0m\u001b[1;33m\u001b[0m\u001b[0m\n\u001b[0;32m      3\u001b[0m         \u001b[1;32mif\u001b[0m \u001b[0mage\u001b[0m\u001b[1;33m<\u001b[0m\u001b[1;36m18\u001b[0m \u001b[1;32mor\u001b[0m \u001b[0mage\u001b[0m\u001b[1;33m>\u001b[0m\u001b[1;36m60\u001b[0m\u001b[1;33m:\u001b[0m\u001b[1;33m\u001b[0m\u001b[1;33m\u001b[0m\u001b[0m\n\u001b[1;32m----> 4\u001b[1;33m             \u001b[1;32mraise\u001b[0m \u001b[0mStudentAgeError\u001b[0m\u001b[1;33m(\u001b[0m\u001b[1;34m\"Age should be in 18 to 60\"\u001b[0m\u001b[1;33m)\u001b[0m\u001b[1;33m\u001b[0m\u001b[1;33m\u001b[0m\u001b[0m\n\u001b[0m\u001b[0;32m      5\u001b[0m         \u001b[0mself\u001b[0m\u001b[1;33m.\u001b[0m\u001b[0mage\u001b[0m \u001b[1;33m=\u001b[0m \u001b[0mage\u001b[0m\u001b[1;33m\u001b[0m\u001b[1;33m\u001b[0m\u001b[0m\n\u001b[0;32m      6\u001b[0m         \u001b[0mself\u001b[0m\u001b[1;33m.\u001b[0m\u001b[0mname\u001b[0m \u001b[1;33m=\u001b[0m \u001b[0mname\u001b[0m\u001b[1;33m\u001b[0m\u001b[1;33m\u001b[0m\u001b[0m\n",
      "\u001b[1;31mStudentAgeError\u001b[0m: Age should be in 18 to 60"
     ]
    }
   ],
   "source": [
    "class Student():\n",
    "    def __init__(self, age, name):\n",
    "        if age<18 or age>60:\n",
    "            raise StudentAgeError(\"Age should be in 18 to 60\")\n",
    "        self.age = age\n",
    "        self.name = name\n",
    "        \n",
    "\n",
    "class StudentAgeError(Exception):\n",
    "    pass\n",
    "\n",
    "s2 = Student(89, \"Hamza\")"
   ]
  },
  {
   "cell_type": "markdown",
   "metadata": {},
   "source": [
    "An interactive calculator\n",
    "Exercise\n",
    "You're going to write an interactive calculator! User input is assumed to be a formula that consist of a number, an operator (at least + and -), and another number, separated by white space (e.g. 1 + 1). Split user input using str.split(), and check whether the resulting list is valid:\n",
    "\n",
    "<li>If the input does not consist of 3 elements, raise a FormulaError, which is a custom Exception.\n",
    "<li>Try to convert the first and third input to a float (like so: float_value = float(str_value)). Catch any ValueError that occurs, and instead raise a FormulaError\n",
    "<li>If the second input is not '+' or '-', again raise a FormulaError\n",
    "\n",
    "If the input is valid, perform the calculation and print out the result. The user is then prompted to provide new input, and so on, until the user enters quit.\n",
    "\n",
    "An interaction could look like this:"
   ]
  },
  {
   "cell_type": "raw",
   "metadata": {},
   "source": [
    ">>> 1 + 1\n",
    "2.0\n",
    ">>> 3.2 - 1.5\n",
    "1.7000000000000002\n",
    ">>> quit"
   ]
  },
  {
   "cell_type": "code",
   "execution_count": 3,
   "metadata": {},
   "outputs": [
    {
     "name": "stdout",
     "output_type": "stream",
     "text": [
      ">>> 5 + 0\n",
      "5.0\n",
      ">>> 5 - 0\n",
      "5.0\n",
      ">>> 5 * 0\n",
      "0.0\n",
      ">>> 5 / 0\n",
      "Can't Divided any value with zero\n",
      ">>> / 5 0\n"
     ]
    },
    {
     "ename": "FormulaError",
     "evalue": "The first and third input value must be numbers",
     "output_type": "error",
     "traceback": [
      "\u001b[1;31m---------------------------------------------------------------------------\u001b[0m",
      "\u001b[1;31mValueError\u001b[0m                                Traceback (most recent call last)",
      "\u001b[1;32m<ipython-input-3-208d6b5f7ab0>\u001b[0m in \u001b[0;36mparse_input\u001b[1;34m(user_input)\u001b[0m\n\u001b[0;32m      9\u001b[0m     \u001b[1;32mtry\u001b[0m\u001b[1;33m:\u001b[0m\u001b[1;33m\u001b[0m\u001b[1;33m\u001b[0m\u001b[0m\n\u001b[1;32m---> 10\u001b[1;33m         \u001b[0mn1\u001b[0m \u001b[1;33m=\u001b[0m \u001b[0mfloat\u001b[0m\u001b[1;33m(\u001b[0m\u001b[0mn1\u001b[0m\u001b[1;33m)\u001b[0m\u001b[1;33m\u001b[0m\u001b[1;33m\u001b[0m\u001b[0m\n\u001b[0m\u001b[0;32m     11\u001b[0m         \u001b[0mn2\u001b[0m \u001b[1;33m=\u001b[0m \u001b[0mfloat\u001b[0m\u001b[1;33m(\u001b[0m\u001b[0mn2\u001b[0m\u001b[1;33m)\u001b[0m\u001b[1;33m\u001b[0m\u001b[1;33m\u001b[0m\u001b[0m\n",
      "\u001b[1;31mValueError\u001b[0m: could not convert string to float: '/'",
      "\nDuring handling of the above exception, another exception occurred:\n",
      "\u001b[1;31mFormulaError\u001b[0m                              Traceback (most recent call last)",
      "\u001b[1;32m<ipython-input-3-208d6b5f7ab0>\u001b[0m in \u001b[0;36m<module>\u001b[1;34m\u001b[0m\n\u001b[0;32m     35\u001b[0m     \u001b[1;32mif\u001b[0m \u001b[0muser_input\u001b[0m \u001b[1;33m==\u001b[0m \u001b[1;34m'quit'\u001b[0m\u001b[1;33m:\u001b[0m\u001b[1;33m\u001b[0m\u001b[1;33m\u001b[0m\u001b[0m\n\u001b[0;32m     36\u001b[0m         \u001b[1;32mbreak\u001b[0m\u001b[1;33m\u001b[0m\u001b[1;33m\u001b[0m\u001b[0m\n\u001b[1;32m---> 37\u001b[1;33m     \u001b[0mn1\u001b[0m\u001b[1;33m,\u001b[0m \u001b[0mop\u001b[0m\u001b[1;33m,\u001b[0m \u001b[0mn2\u001b[0m \u001b[1;33m=\u001b[0m \u001b[0mparse_input\u001b[0m\u001b[1;33m(\u001b[0m\u001b[0muser_input\u001b[0m\u001b[1;33m)\u001b[0m\u001b[1;33m\u001b[0m\u001b[1;33m\u001b[0m\u001b[0m\n\u001b[0m\u001b[0;32m     38\u001b[0m     \u001b[0mresult\u001b[0m \u001b[1;33m=\u001b[0m \u001b[0mcalculate\u001b[0m\u001b[1;33m(\u001b[0m\u001b[0mn1\u001b[0m\u001b[1;33m,\u001b[0m \u001b[0mop\u001b[0m\u001b[1;33m,\u001b[0m \u001b[0mn2\u001b[0m\u001b[1;33m)\u001b[0m\u001b[1;33m\u001b[0m\u001b[1;33m\u001b[0m\u001b[0m\n\u001b[0;32m     39\u001b[0m     \u001b[0mprint\u001b[0m\u001b[1;33m(\u001b[0m\u001b[0mresult\u001b[0m\u001b[1;33m)\u001b[0m\u001b[1;33m\u001b[0m\u001b[1;33m\u001b[0m\u001b[0m\n",
      "\u001b[1;32m<ipython-input-3-208d6b5f7ab0>\u001b[0m in \u001b[0;36mparse_input\u001b[1;34m(user_input)\u001b[0m\n\u001b[0;32m     11\u001b[0m         \u001b[0mn2\u001b[0m \u001b[1;33m=\u001b[0m \u001b[0mfloat\u001b[0m\u001b[1;33m(\u001b[0m\u001b[0mn2\u001b[0m\u001b[1;33m)\u001b[0m\u001b[1;33m\u001b[0m\u001b[1;33m\u001b[0m\u001b[0m\n\u001b[0;32m     12\u001b[0m     \u001b[1;32mexcept\u001b[0m \u001b[0mValueError\u001b[0m\u001b[1;33m:\u001b[0m\u001b[1;33m\u001b[0m\u001b[1;33m\u001b[0m\u001b[0m\n\u001b[1;32m---> 13\u001b[1;33m         \u001b[1;32mraise\u001b[0m \u001b[0mFormulaError\u001b[0m\u001b[1;33m(\u001b[0m\u001b[1;34m'The first and third input value must be numbers'\u001b[0m\u001b[1;33m)\u001b[0m\u001b[1;33m\u001b[0m\u001b[1;33m\u001b[0m\u001b[0m\n\u001b[0m\u001b[0;32m     14\u001b[0m     \u001b[1;32mreturn\u001b[0m \u001b[0mn1\u001b[0m\u001b[1;33m,\u001b[0m \u001b[0mop\u001b[0m\u001b[1;33m,\u001b[0m \u001b[0mn2\u001b[0m\u001b[1;33m\u001b[0m\u001b[1;33m\u001b[0m\u001b[0m\n\u001b[0;32m     15\u001b[0m \u001b[1;33m\u001b[0m\u001b[0m\n",
      "\u001b[1;31mFormulaError\u001b[0m: The first and third input value must be numbers"
     ]
    }
   ],
   "source": [
    "class FormulaError(Exception): pass\n",
    "\n",
    "\n",
    "def parse_input(user_input):\n",
    "    input_list = user_input.split()\n",
    "    if len(input_list) != 3:\n",
    "        raise FormulaError('Input does not consist of three elements')\n",
    "    n1, op, n2 = input_list\n",
    "    try:\n",
    "        n1 = float(n1)\n",
    "        n2 = float(n2)\n",
    "    except ValueError:\n",
    "        raise FormulaError('The first and third input value must be numbers')\n",
    "    return n1, op, n2\n",
    "\n",
    "def calculate(n1, op, n2):\n",
    "    try: \n",
    "        if op == '+':\n",
    "            return n1 + n2\n",
    "        if op == '-':\n",
    "            return n1 - n2\n",
    "        if op == '*':\n",
    "            return n1 * n2\n",
    "        if op == '/':\n",
    "            try:\n",
    "                return n1 / n2\n",
    "            except ZeroDivisionError:\n",
    "                return \"Can't Divided any value with zero\"\n",
    "    except:\n",
    "        raise FormulaError('{0} is not a valid operator'.format(op))\n",
    "\n",
    "\n",
    "while True:\n",
    "    user_input = input('>>> ')\n",
    "    if user_input == 'quit':\n",
    "        break\n",
    "    n1, op, n2 = parse_input(user_input)\n",
    "    result = calculate(n1, op, n2)\n",
    "    print(result)"
   ]
  },
  {
   "cell_type": "code",
   "execution_count": null,
   "metadata": {},
   "outputs": [],
   "source": []
  },
  {
   "cell_type": "code",
   "execution_count": null,
   "metadata": {},
   "outputs": [],
   "source": []
  },
  {
   "cell_type": "code",
   "execution_count": null,
   "metadata": {},
   "outputs": [],
   "source": []
  }
 ],
 "metadata": {
  "kernelspec": {
   "display_name": "Python 3",
   "language": "python",
   "name": "python3"
  },
  "language_info": {
   "codemirror_mode": {
    "name": "ipython",
    "version": 3
   },
   "file_extension": ".py",
   "mimetype": "text/x-python",
   "name": "python",
   "nbconvert_exporter": "python",
   "pygments_lexer": "ipython3",
   "version": "3.8.3"
  }
 },
 "nbformat": 4,
 "nbformat_minor": 4
}
