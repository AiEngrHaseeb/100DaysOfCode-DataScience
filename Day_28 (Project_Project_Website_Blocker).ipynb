{
 "cells": [
  {
   "cell_type": "code",
   "execution_count": 10,
   "id": "5b0b874c",
   "metadata": {},
   "outputs": [
    {
     "data": {
      "text/plain": [
       "<bound method Misc.mainloop of <tkinter.Tk object .>>"
      ]
     },
     "execution_count": 10,
     "metadata": {},
     "output_type": "execute_result"
    }
   ],
   "source": [
    "#import library\n",
    "from tkinter import *\n",
    "\n",
    "#initialize window\n",
    "root = Tk()\n",
    "root.geometry('500x300')\n",
    "root.resizable(0,0)\n",
    "root.title(\"Haseeb's - Website Blocker\")\n",
    "\n",
    "#heading\n",
    "Label(root, text = 'WEBSITE BLOCKER' , font = 'arial 20 bold').pack()\n",
    "Label(root,text = 'TechVidvan' , font = 'arial 20 bold').pack(side = BOTTOM)\n",
    "\n",
    "#path of our host file ang ip adsdress \n",
    "host_path = 'C:\\Windows\\System32\\drivers\\etc\\hosts'\n",
    "ip_address = '127.0.0.1'\n",
    "\n",
    "#ENTER WEBSITE\n",
    "Label(root, text= 'Enter Website :', font = 'arial 13 bold').place(x=5,y=60)\n",
    "Websites = Text(root, font = 'arial 10', height ='2', width = '40', wrap = WORD,padx = 5, pady=5)\n",
    "Websites.place(x = 140, y =60)\n",
    "\n",
    "#block function\n",
    "def Blocker():\n",
    "    website_lists = Websites.get(1.0,END)\n",
    "    Website = list(website_lists.split(\",\"))\n",
    "    with open (host_path , 'r+') as host_file:\n",
    "        file_content = host_file.read()\n",
    "        for website in Website:\n",
    "            if website in file_content:\n",
    "                Label(root, text = 'Already Blocked' , font = 'arial 12 bold').place(x=200,y=200)\n",
    "                pass\n",
    "            else:\n",
    "                host_file.write(ip_address + \" \" + website + '\\n')\n",
    "                Label(root, text = \"Blocked\", font = 'arial 12 bold').place(x=230,y =200)\n",
    "\n",
    "block_btn = Button(root, text = 'BLOCK' , font = 'arial 12 bold', command = Blocker, width = 6 , bg = 'royal blue1', activebackground = 'sky blue')\n",
    "block_btn.place(x = 230, y =150)\n",
    "\n",
    "root.mainloop\n",
    "    \n"
   ]
  },
  {
   "cell_type": "code",
   "execution_count": null,
   "id": "0bfb85b2",
   "metadata": {},
   "outputs": [],
   "source": []
  }
 ],
 "metadata": {
  "kernelspec": {
   "display_name": "Python 3",
   "language": "python",
   "name": "python3"
  },
  "language_info": {
   "codemirror_mode": {
    "name": "ipython",
    "version": 3
   },
   "file_extension": ".py",
   "mimetype": "text/x-python",
   "name": "python",
   "nbconvert_exporter": "python",
   "pygments_lexer": "ipython3",
   "version": "3.8.8"
  }
 },
 "nbformat": 4,
 "nbformat_minor": 5
}
