{
 "cells": [
  {
   "cell_type": "code",
   "execution_count": null,
   "metadata": {},
   "outputs": [
    {
     "name": "stdout",
     "output_type": "stream",
     "text": [
      "enter person name: Haseeb\n",
      "enter color : Red\n",
      "enter food name : Apple\n",
      "enter aa adjective name: Small\n",
      "enter a thing name : \n",
      "enter place : Garden\n",
      "enter verb : fly\n",
      "enter adverb : when\n",
      "enter food name: pizza\n",
      "enter a thing name : bottle\n",
      "Today we picked apple from Haseeb's Orchard. I had no idea there were so many different varieties of apples. I ate Red apples straight off the tree that tested like Apple. Then there was a Small apple that looked like a .When our bag were full, we went on a free hay ride to Garden and back. It ended at a hay pile where we got to fly when. I can hardly wait to get home and cook with the apples. We are going to make appple pizza and bottle pies!.\n"
     ]
    }
   ],
   "source": [
    "#import module\n",
    "from tkinter import *\n",
    "\n",
    "# initialize window\n",
    "root = Tk()\n",
    "root.geometry('300x300')\n",
    "root.title('DataFlair-Mad Libs Generator')\n",
    "Label(root, text= 'Mad Libs Generator \\n Have Fun!' , font = 'arial 20 bold').pack()\n",
    "Label(root, text = 'Click Any One :', font = 'arial 15 bold').place(x=40, y=80)\n",
    "\n",
    "\n",
    "################Stories##############\n",
    "\n",
    "def madlib1():\n",
    "\n",
    "    animals= input('enter a animal name : ')\n",
    "    profession = input('enter a profession name: ')\n",
    "    cloth = input('enter a piece of cloth name: ')\n",
    "    things = input('enter a thing name: ')\n",
    "    name= input('enter a name: ')\n",
    "    place = input('enter a place name: ')\n",
    "    verb = input('enter a verb in ing form: ')\n",
    "    food = input('food name: ')\n",
    "    print('say ' + food + ', the photographer said as the camera flashed! ' + name + ' and I had gone to ' + place +' to get our photos taken today. The first photo we really wanted was a picture of us dressed as ' + animals + ' pretending to be a ' + profession + ' .when we saw the second photo, it was exactly what I wanted. We both looked like ' + things + ' wearing ' + cloth + ' and ' + verb + ' --exactly what I had in mind')\n",
    "\n",
    "\n",
    "\n",
    "def madlib2():\n",
    "   \n",
    "    adjactive = input('enter adjective : ')\n",
    "    color = input('enter a color name : ')\n",
    "    thing = input('enter a thing name :')\n",
    "    place = input('enter a place name : ')\n",
    "    person= input('enter a person name : ')\n",
    "    adjactive1 = input('enter a adjactive : ')\n",
    "    insect= input('enter a insect name : ')\n",
    "    food = input('enter a food name : ')\n",
    "    verb = input('enter a verb name : ')\n",
    "\n",
    "    print('Last night I dreamed I was a ' +adjactive+ ' butterfly with ' + color+ ' splocthes that looked like '+thing+ ' .I flew to ' + place+ ' with my bestfriend and '+person+ ' who was a '+adjactive1+ ' ' +insect +' .We ate some ' +food+ ' when we got there and then decided to '+verb+ ' and the dream ended when I said-- lets ' +verb+ '.')\n",
    "    \n",
    "\n",
    "\n",
    "def madlib3():\n",
    "    person = input('enter person name: ')\n",
    "    color = input('enter color : ')\n",
    "    foods = input('enter food name : ')\n",
    "    adjective = input('enter aa adjective name: ')\n",
    "    thing = input('enter a thing name : ')\n",
    "    place = input('enter place : ')\n",
    "    verb = input('enter verb : ')\n",
    "    adverb = input('enter adverb : ')\n",
    "    food = input('enter food name: ')\n",
    "    things = input('enter a thing name : ')\n",
    "\n",
    "   \n",
    "    print('Today we picked apple from '+person+ \"'s Orchard. I had no idea there were so many different varieties of apples. I ate \" +color+ ' apples straight off the tree that tested like '+foods+ '. Then there was a '+adjective+ ' apple that looked like a ' + thing + '.When our bag were full, we went on a free hay ride to '+place+ ' and back. It ended at a hay pile where we got to ' +verb+ ' ' +adverb+ '. I can hardly wait to get home and cook with the apples. We are going to make appple '+food+ ' and '+things+' pies!.')  \n",
    "\n",
    "\n",
    "\n",
    "######buttons   \n",
    "Button(root, text= 'The Photographer', font ='arial 15', command= madlib1, bg = 'ghost white').place(x=60, y=120)\n",
    "Button(root, text= 'apple and apple', font ='arial 15', command = madlib3 , bg = 'ghost white').place(x=70, y=180)\n",
    "Button(root, text= 'The Butterfly', font ='arial 15', command = madlib2, bg = 'ghost white').place(x=80, y=240)\n",
    "\n",
    "root.mainloop()\n"
   ]
  },
  {
   "cell_type": "code",
   "execution_count": null,
   "metadata": {},
   "outputs": [],
   "source": []
  }
 ],
 "metadata": {
  "kernelspec": {
   "display_name": "Python 3",
   "language": "python",
   "name": "python3"
  },
  "language_info": {
   "codemirror_mode": {
    "name": "ipython",
    "version": 3
   },
   "file_extension": ".py",
   "mimetype": "text/x-python",
   "name": "python",
   "nbconvert_exporter": "python",
   "pygments_lexer": "ipython3",
   "version": "3.8.3"
  }
 },
 "nbformat": 4,
 "nbformat_minor": 4
}
