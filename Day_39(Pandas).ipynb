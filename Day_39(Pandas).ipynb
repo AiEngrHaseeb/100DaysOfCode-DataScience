{
 "cells": [
  {
   "cell_type": "markdown",
   "id": "4495fa9f",
   "metadata": {},
   "source": [
    "## The MultiIndex Object"
   ]
  },
  {
   "cell_type": "markdown",
   "id": "63a6be38",
   "metadata": {},
   "source": [
    "### View as Copy"
   ]
  },
  {
   "cell_type": "code",
   "execution_count": 1,
   "id": "62bbffe9",
   "metadata": {},
   "outputs": [],
   "source": [
    "import pandas as pd"
   ]
  },
  {
   "cell_type": "code",
   "execution_count": 5,
   "id": "1da646df",
   "metadata": {},
   "outputs": [],
   "source": [
    "mlo = pd.read_csv('./Pandas Dataset - I/co2-mm-mlo.csv', na_values=-90.99, index_col='Date', parse_dates=True)"
   ]
  },
  {
   "cell_type": "code",
   "execution_count": 6,
   "id": "2e49b3c9",
   "metadata": {},
   "outputs": [
    {
     "data": {
      "text/html": [
       "<div>\n",
       "<style scoped>\n",
       "    .dataframe tbody tr th:only-of-type {\n",
       "        vertical-align: middle;\n",
       "    }\n",
       "\n",
       "    .dataframe tbody tr th {\n",
       "        vertical-align: top;\n",
       "    }\n",
       "\n",
       "    .dataframe thead th {\n",
       "        text-align: right;\n",
       "    }\n",
       "</style>\n",
       "<table border=\"1\" class=\"dataframe\">\n",
       "  <thead>\n",
       "    <tr style=\"text-align: right;\">\n",
       "      <th></th>\n",
       "      <th>Decimal Date</th>\n",
       "      <th>Average</th>\n",
       "      <th>Interpolated</th>\n",
       "      <th>Trend</th>\n",
       "      <th>Number of Days</th>\n",
       "    </tr>\n",
       "    <tr>\n",
       "      <th>Date</th>\n",
       "      <th></th>\n",
       "      <th></th>\n",
       "      <th></th>\n",
       "      <th></th>\n",
       "      <th></th>\n",
       "    </tr>\n",
       "  </thead>\n",
       "  <tbody>\n",
       "    <tr>\n",
       "      <th>1958-03-01</th>\n",
       "      <td>1958.208</td>\n",
       "      <td>315.71</td>\n",
       "      <td>315.71</td>\n",
       "      <td>314.62</td>\n",
       "      <td>-1</td>\n",
       "    </tr>\n",
       "    <tr>\n",
       "      <th>1958-04-01</th>\n",
       "      <td>1958.292</td>\n",
       "      <td>317.45</td>\n",
       "      <td>317.45</td>\n",
       "      <td>315.29</td>\n",
       "      <td>-1</td>\n",
       "    </tr>\n",
       "    <tr>\n",
       "      <th>1958-05-01</th>\n",
       "      <td>1958.375</td>\n",
       "      <td>317.50</td>\n",
       "      <td>317.50</td>\n",
       "      <td>314.71</td>\n",
       "      <td>-1</td>\n",
       "    </tr>\n",
       "    <tr>\n",
       "      <th>1958-06-01</th>\n",
       "      <td>1958.458</td>\n",
       "      <td>-99.99</td>\n",
       "      <td>317.10</td>\n",
       "      <td>314.85</td>\n",
       "      <td>-1</td>\n",
       "    </tr>\n",
       "    <tr>\n",
       "      <th>1958-07-01</th>\n",
       "      <td>1958.542</td>\n",
       "      <td>315.86</td>\n",
       "      <td>315.86</td>\n",
       "      <td>314.98</td>\n",
       "      <td>-1</td>\n",
       "    </tr>\n",
       "  </tbody>\n",
       "</table>\n",
       "</div>"
      ],
      "text/plain": [
       "            Decimal Date  Average  Interpolated   Trend  Number of Days\n",
       "Date                                                                   \n",
       "1958-03-01      1958.208   315.71        315.71  314.62              -1\n",
       "1958-04-01      1958.292   317.45        317.45  315.29              -1\n",
       "1958-05-01      1958.375   317.50        317.50  314.71              -1\n",
       "1958-06-01      1958.458   -99.99        317.10  314.85              -1\n",
       "1958-07-01      1958.542   315.86        315.86  314.98              -1"
      ]
     },
     "execution_count": 6,
     "metadata": {},
     "output_type": "execute_result"
    }
   ],
   "source": [
    "mlo.head()"
   ]
  },
  {
   "cell_type": "code",
   "execution_count": 7,
   "id": "a83c8df2",
   "metadata": {},
   "outputs": [],
   "source": [
    "s = mlo[\"Interpolated\"]"
   ]
  },
  {
   "cell_type": "code",
   "execution_count": 8,
   "id": "cf1773ca",
   "metadata": {},
   "outputs": [
    {
     "data": {
      "text/plain": [
       "Date\n",
       "1958-03-01    315.71\n",
       "1958-04-01    317.45\n",
       "1958-05-01    317.50\n",
       "1958-06-01    317.10\n",
       "1958-07-01    315.86\n",
       "               ...  \n",
       "2016-08-01    402.25\n",
       "2016-09-01    401.03\n",
       "2016-10-01    401.57\n",
       "2016-11-01    403.53\n",
       "2016-12-01    404.48\n",
       "Name: Interpolated, Length: 706, dtype: float64"
      ]
     },
     "execution_count": 8,
     "metadata": {},
     "output_type": "execute_result"
    }
   ],
   "source": [
    "s"
   ]
  },
  {
   "cell_type": "code",
   "execution_count": 9,
   "id": "d20de727",
   "metadata": {},
   "outputs": [
    {
     "data": {
      "text/html": [
       "<div>\n",
       "<style scoped>\n",
       "    .dataframe tbody tr th:only-of-type {\n",
       "        vertical-align: middle;\n",
       "    }\n",
       "\n",
       "    .dataframe tbody tr th {\n",
       "        vertical-align: top;\n",
       "    }\n",
       "\n",
       "    .dataframe thead th {\n",
       "        text-align: right;\n",
       "    }\n",
       "</style>\n",
       "<table border=\"1\" class=\"dataframe\">\n",
       "  <thead>\n",
       "    <tr style=\"text-align: right;\">\n",
       "      <th></th>\n",
       "      <th>Decimal Date</th>\n",
       "      <th>Average</th>\n",
       "      <th>Interpolated</th>\n",
       "      <th>Trend</th>\n",
       "      <th>Number of Days</th>\n",
       "      <th>smooth</th>\n",
       "    </tr>\n",
       "    <tr>\n",
       "      <th>Date</th>\n",
       "      <th></th>\n",
       "      <th></th>\n",
       "      <th></th>\n",
       "      <th></th>\n",
       "      <th></th>\n",
       "      <th></th>\n",
       "    </tr>\n",
       "  </thead>\n",
       "  <tbody>\n",
       "    <tr>\n",
       "      <th>2016-08-01</th>\n",
       "      <td>2016.625</td>\n",
       "      <td>402.25</td>\n",
       "      <td>402.25</td>\n",
       "      <td>404.09</td>\n",
       "      <td>23</td>\n",
       "      <td>403.157500</td>\n",
       "    </tr>\n",
       "    <tr>\n",
       "      <th>2016-09-01</th>\n",
       "      <td>2016.708</td>\n",
       "      <td>401.03</td>\n",
       "      <td>401.03</td>\n",
       "      <td>404.52</td>\n",
       "      <td>24</td>\n",
       "      <td>403.440833</td>\n",
       "    </tr>\n",
       "    <tr>\n",
       "      <th>2016-10-01</th>\n",
       "      <td>2016.792</td>\n",
       "      <td>401.57</td>\n",
       "      <td>401.57</td>\n",
       "      <td>404.93</td>\n",
       "      <td>29</td>\n",
       "      <td>403.714167</td>\n",
       "    </tr>\n",
       "    <tr>\n",
       "      <th>2016-11-01</th>\n",
       "      <td>2016.875</td>\n",
       "      <td>403.53</td>\n",
       "      <td>403.53</td>\n",
       "      <td>405.57</td>\n",
       "      <td>27</td>\n",
       "      <td>403.995000</td>\n",
       "    </tr>\n",
       "    <tr>\n",
       "      <th>2016-12-01</th>\n",
       "      <td>2016.958</td>\n",
       "      <td>404.48</td>\n",
       "      <td>404.48</td>\n",
       "      <td>405.25</td>\n",
       "      <td>29</td>\n",
       "      <td>404.214167</td>\n",
       "    </tr>\n",
       "  </tbody>\n",
       "</table>\n",
       "</div>"
      ],
      "text/plain": [
       "            Decimal Date  Average  Interpolated   Trend  Number of Days  \\\n",
       "Date                                                                      \n",
       "2016-08-01      2016.625   402.25        402.25  404.09              23   \n",
       "2016-09-01      2016.708   401.03        401.03  404.52              24   \n",
       "2016-10-01      2016.792   401.57        401.57  404.93              29   \n",
       "2016-11-01      2016.875   403.53        403.53  405.57              27   \n",
       "2016-12-01      2016.958   404.48        404.48  405.25              29   \n",
       "\n",
       "                smooth  \n",
       "Date                    \n",
       "2016-08-01  403.157500  \n",
       "2016-09-01  403.440833  \n",
       "2016-10-01  403.714167  \n",
       "2016-11-01  403.995000  \n",
       "2016-12-01  404.214167  "
      ]
     },
     "execution_count": 9,
     "metadata": {},
     "output_type": "execute_result"
    }
   ],
   "source": [
    "mlo.assign(smooth=s.rolling(12).mean()).tail()"
   ]
  },
  {
   "cell_type": "markdown",
   "id": "c52c8e0c",
   "metadata": {},
   "source": [
    "a copy is returned"
   ]
  },
  {
   "cell_type": "code",
   "execution_count": 10,
   "id": "40130da0",
   "metadata": {},
   "outputs": [
    {
     "data": {
      "text/html": [
       "<div>\n",
       "<style scoped>\n",
       "    .dataframe tbody tr th:only-of-type {\n",
       "        vertical-align: middle;\n",
       "    }\n",
       "\n",
       "    .dataframe tbody tr th {\n",
       "        vertical-align: top;\n",
       "    }\n",
       "\n",
       "    .dataframe thead th {\n",
       "        text-align: right;\n",
       "    }\n",
       "</style>\n",
       "<table border=\"1\" class=\"dataframe\">\n",
       "  <thead>\n",
       "    <tr style=\"text-align: right;\">\n",
       "      <th></th>\n",
       "      <th>Decimal Date</th>\n",
       "      <th>Average</th>\n",
       "      <th>Interpolated</th>\n",
       "      <th>Trend</th>\n",
       "      <th>Number of Days</th>\n",
       "    </tr>\n",
       "    <tr>\n",
       "      <th>Date</th>\n",
       "      <th></th>\n",
       "      <th></th>\n",
       "      <th></th>\n",
       "      <th></th>\n",
       "      <th></th>\n",
       "    </tr>\n",
       "  </thead>\n",
       "  <tbody>\n",
       "    <tr>\n",
       "      <th>1958-03-01</th>\n",
       "      <td>1958.208</td>\n",
       "      <td>315.71</td>\n",
       "      <td>315.71</td>\n",
       "      <td>314.62</td>\n",
       "      <td>-1</td>\n",
       "    </tr>\n",
       "    <tr>\n",
       "      <th>1958-04-01</th>\n",
       "      <td>1958.292</td>\n",
       "      <td>317.45</td>\n",
       "      <td>317.45</td>\n",
       "      <td>315.29</td>\n",
       "      <td>-1</td>\n",
       "    </tr>\n",
       "    <tr>\n",
       "      <th>1958-05-01</th>\n",
       "      <td>1958.375</td>\n",
       "      <td>317.50</td>\n",
       "      <td>317.50</td>\n",
       "      <td>314.71</td>\n",
       "      <td>-1</td>\n",
       "    </tr>\n",
       "    <tr>\n",
       "      <th>1958-06-01</th>\n",
       "      <td>1958.458</td>\n",
       "      <td>-99.99</td>\n",
       "      <td>317.10</td>\n",
       "      <td>314.85</td>\n",
       "      <td>-1</td>\n",
       "    </tr>\n",
       "    <tr>\n",
       "      <th>1958-07-01</th>\n",
       "      <td>1958.542</td>\n",
       "      <td>315.86</td>\n",
       "      <td>315.86</td>\n",
       "      <td>314.98</td>\n",
       "      <td>-1</td>\n",
       "    </tr>\n",
       "  </tbody>\n",
       "</table>\n",
       "</div>"
      ],
      "text/plain": [
       "            Decimal Date  Average  Interpolated   Trend  Number of Days\n",
       "Date                                                                   \n",
       "1958-03-01      1958.208   315.71        315.71  314.62              -1\n",
       "1958-04-01      1958.292   317.45        317.45  315.29              -1\n",
       "1958-05-01      1958.375   317.50        317.50  314.71              -1\n",
       "1958-06-01      1958.458   -99.99        317.10  314.85              -1\n",
       "1958-07-01      1958.542   315.86        315.86  314.98              -1"
      ]
     },
     "execution_count": 10,
     "metadata": {},
     "output_type": "execute_result"
    }
   ],
   "source": [
    "mlo.head()"
   ]
  },
  {
   "cell_type": "code",
   "execution_count": 11,
   "id": "97df34b4",
   "metadata": {},
   "outputs": [
    {
     "data": {
      "text/plain": [
       "Date\n",
       "1958-03-01    315.71\n",
       "1958-04-01    317.45\n",
       "1958-05-01    317.50\n",
       "Name: Average, dtype: float64"
      ]
     },
     "execution_count": 11,
     "metadata": {},
     "output_type": "execute_result"
    }
   ],
   "source": [
    "s2 = mlo.loc[:'1958-05', 'Average']\n",
    "s2"
   ]
  },
  {
   "cell_type": "markdown",
   "id": "f482c399",
   "metadata": {},
   "source": [
    "A view is returned"
   ]
  },
  {
   "cell_type": "code",
   "execution_count": 12,
   "id": "59612b99",
   "metadata": {},
   "outputs": [],
   "source": [
    "s2[:] = 313"
   ]
  },
  {
   "cell_type": "code",
   "execution_count": 13,
   "id": "c945bda3",
   "metadata": {},
   "outputs": [
    {
     "data": {
      "text/plain": [
       "Date\n",
       "1958-03-01    313.0\n",
       "1958-04-01    313.0\n",
       "1958-05-01    313.0\n",
       "Name: Average, dtype: float64"
      ]
     },
     "execution_count": 13,
     "metadata": {},
     "output_type": "execute_result"
    }
   ],
   "source": [
    "s2"
   ]
  },
  {
   "cell_type": "code",
   "execution_count": 14,
   "id": "bc41c5c0",
   "metadata": {},
   "outputs": [
    {
     "data": {
      "text/html": [
       "<div>\n",
       "<style scoped>\n",
       "    .dataframe tbody tr th:only-of-type {\n",
       "        vertical-align: middle;\n",
       "    }\n",
       "\n",
       "    .dataframe tbody tr th {\n",
       "        vertical-align: top;\n",
       "    }\n",
       "\n",
       "    .dataframe thead th {\n",
       "        text-align: right;\n",
       "    }\n",
       "</style>\n",
       "<table border=\"1\" class=\"dataframe\">\n",
       "  <thead>\n",
       "    <tr style=\"text-align: right;\">\n",
       "      <th></th>\n",
       "      <th>Decimal Date</th>\n",
       "      <th>Average</th>\n",
       "      <th>Interpolated</th>\n",
       "      <th>Trend</th>\n",
       "      <th>Number of Days</th>\n",
       "    </tr>\n",
       "    <tr>\n",
       "      <th>Date</th>\n",
       "      <th></th>\n",
       "      <th></th>\n",
       "      <th></th>\n",
       "      <th></th>\n",
       "      <th></th>\n",
       "    </tr>\n",
       "  </thead>\n",
       "  <tbody>\n",
       "    <tr>\n",
       "      <th>1958-03-01</th>\n",
       "      <td>1958.208</td>\n",
       "      <td>313.00</td>\n",
       "      <td>315.71</td>\n",
       "      <td>314.62</td>\n",
       "      <td>-1</td>\n",
       "    </tr>\n",
       "    <tr>\n",
       "      <th>1958-04-01</th>\n",
       "      <td>1958.292</td>\n",
       "      <td>313.00</td>\n",
       "      <td>317.45</td>\n",
       "      <td>315.29</td>\n",
       "      <td>-1</td>\n",
       "    </tr>\n",
       "    <tr>\n",
       "      <th>1958-05-01</th>\n",
       "      <td>1958.375</td>\n",
       "      <td>313.00</td>\n",
       "      <td>317.50</td>\n",
       "      <td>314.71</td>\n",
       "      <td>-1</td>\n",
       "    </tr>\n",
       "    <tr>\n",
       "      <th>1958-06-01</th>\n",
       "      <td>1958.458</td>\n",
       "      <td>-99.99</td>\n",
       "      <td>317.10</td>\n",
       "      <td>314.85</td>\n",
       "      <td>-1</td>\n",
       "    </tr>\n",
       "    <tr>\n",
       "      <th>1958-07-01</th>\n",
       "      <td>1958.542</td>\n",
       "      <td>315.86</td>\n",
       "      <td>315.86</td>\n",
       "      <td>314.98</td>\n",
       "      <td>-1</td>\n",
       "    </tr>\n",
       "  </tbody>\n",
       "</table>\n",
       "</div>"
      ],
      "text/plain": [
       "            Decimal Date  Average  Interpolated   Trend  Number of Days\n",
       "Date                                                                   \n",
       "1958-03-01      1958.208   313.00        315.71  314.62              -1\n",
       "1958-04-01      1958.292   313.00        317.45  315.29              -1\n",
       "1958-05-01      1958.375   313.00        317.50  314.71              -1\n",
       "1958-06-01      1958.458   -99.99        317.10  314.85              -1\n",
       "1958-07-01      1958.542   315.86        315.86  314.98              -1"
      ]
     },
     "execution_count": 14,
     "metadata": {},
     "output_type": "execute_result"
    }
   ],
   "source": [
    "mlo.head()"
   ]
  },
  {
   "cell_type": "markdown",
   "id": "0a8b29cc",
   "metadata": {},
   "source": [
    "## Chained Indexing"
   ]
  },
  {
   "cell_type": "code",
   "execution_count": 15,
   "id": "124b88a5",
   "metadata": {},
   "outputs": [
    {
     "data": {
      "text/plain": [
       "Date\n",
       "1958-03-01    313.0\n",
       "Name: Average, dtype: float64"
      ]
     },
     "execution_count": 15,
     "metadata": {},
     "output_type": "execute_result"
    }
   ],
   "source": [
    "mlo['Average']['1958-03']"
   ]
  },
  {
   "cell_type": "code",
   "execution_count": 16,
   "id": "9a7a26cd",
   "metadata": {},
   "outputs": [
    {
     "name": "stderr",
     "output_type": "stream",
     "text": [
      "<ipython-input-16-4325b1ea7d19>:1: SettingWithCopyWarning: \n",
      "A value is trying to be set on a copy of a slice from a DataFrame\n",
      "\n",
      "See the caveats in the documentation: https://pandas.pydata.org/pandas-docs/stable/user_guide/indexing.html#returning-a-view-versus-a-copy\n",
      "  mlo['Average']['1958-03'] = 312\n",
      "C:\\Users\\hasee\\anaconda3\\lib\\site-packages\\pandas\\core\\indexing.py:1637: SettingWithCopyWarning: \n",
      "A value is trying to be set on a copy of a slice from a DataFrame\n",
      "\n",
      "See the caveats in the documentation: https://pandas.pydata.org/pandas-docs/stable/user_guide/indexing.html#returning-a-view-versus-a-copy\n",
      "  self._setitem_single_block(indexer, value, name)\n"
     ]
    }
   ],
   "source": [
    "mlo['Average']['1958-03'] = 312"
   ]
  },
  {
   "cell_type": "markdown",
   "id": "85252541",
   "metadata": {},
   "source": [
    "Generally speaking, chained indexing is not a good practice. To set a new value, use `mlo.loc[row_indexer, col_indexer]` because `mlo.loc` is guaranteed to be `mlo` itself."
   ]
  },
  {
   "cell_type": "code",
   "execution_count": 17,
   "id": "9011d2ed",
   "metadata": {},
   "outputs": [
    {
     "data": {
      "text/plain": [
       "Date\n",
       "1958-03-01    312.0\n",
       "Name: Average, dtype: float64"
      ]
     },
     "execution_count": 17,
     "metadata": {},
     "output_type": "execute_result"
    }
   ],
   "source": [
    "mlo.loc['1958-03', 'Average']"
   ]
  },
  {
   "cell_type": "markdown",
   "id": "0d3d3427",
   "metadata": {},
   "source": [
    "## Hierarchical indexing"
   ]
  },
  {
   "cell_type": "code",
   "execution_count": 19,
   "id": "0d667b57",
   "metadata": {},
   "outputs": [
    {
     "data": {
      "text/plain": [
       "MultiIndex([( 'first', 'A'),\n",
       "            ( 'first', 'B'),\n",
       "            ('second', 'A'),\n",
       "            ('second', 'B')],\n",
       "           )"
      ]
     },
     "execution_count": 19,
     "metadata": {},
     "output_type": "execute_result"
    }
   ],
   "source": [
    "h_index = pd.MultiIndex.from_product([['first', 'second'], ['A', 'B']])\n",
    "h_index"
   ]
  },
  {
   "cell_type": "code",
   "execution_count": 20,
   "id": "57a2ef26",
   "metadata": {},
   "outputs": [
    {
     "data": {
      "text/plain": [
       "first   A    0\n",
       "        B    1\n",
       "second  A    2\n",
       "        B    3\n",
       "dtype: int64"
      ]
     },
     "execution_count": 20,
     "metadata": {},
     "output_type": "execute_result"
    }
   ],
   "source": [
    "x = pd.Series(range(4), index=h_index)\n",
    "x"
   ]
  },
  {
   "cell_type": "code",
   "execution_count": 21,
   "id": "469a846e",
   "metadata": {},
   "outputs": [
    {
     "data": {
      "text/plain": [
       "A    0\n",
       "B    1\n",
       "dtype: int64"
      ]
     },
     "execution_count": 21,
     "metadata": {},
     "output_type": "execute_result"
    }
   ],
   "source": [
    "x['first']"
   ]
  },
  {
   "cell_type": "code",
   "execution_count": 22,
   "id": "8537fdbb",
   "metadata": {},
   "outputs": [
    {
     "data": {
      "text/plain": [
       "1"
      ]
     },
     "execution_count": 22,
     "metadata": {},
     "output_type": "execute_result"
    }
   ],
   "source": [
    "x['first']['B']"
   ]
  },
  {
   "cell_type": "markdown",
   "id": "61bf3976",
   "metadata": {},
   "source": [
    "In the above, there are two selection operations."
   ]
  },
  {
   "cell_type": "code",
   "execution_count": 24,
   "id": "9b58dafe",
   "metadata": {},
   "outputs": [
    {
     "data": {
      "text/plain": [
       "1"
      ]
     },
     "execution_count": 24,
     "metadata": {},
     "output_type": "execute_result"
    }
   ],
   "source": [
    "x.loc[('first', 'B')]"
   ]
  },
  {
   "cell_type": "markdown",
   "id": "68466845",
   "metadata": {},
   "source": [
    "In the above, there is a single selection operation."
   ]
  },
  {
   "cell_type": "markdown",
   "id": "ac52c62b",
   "metadata": {},
   "source": [
    "We can end up with a hierarchical index when stacking records."
   ]
  },
  {
   "cell_type": "code",
   "execution_count": 26,
   "id": "14ee0788",
   "metadata": {},
   "outputs": [
    {
     "data": {
      "text/html": [
       "<div>\n",
       "<style scoped>\n",
       "    .dataframe tbody tr th:only-of-type {\n",
       "        vertical-align: middle;\n",
       "    }\n",
       "\n",
       "    .dataframe tbody tr th {\n",
       "        vertical-align: top;\n",
       "    }\n",
       "\n",
       "    .dataframe thead th {\n",
       "        text-align: right;\n",
       "    }\n",
       "</style>\n",
       "<table border=\"1\" class=\"dataframe\">\n",
       "  <thead>\n",
       "    <tr style=\"text-align: right;\">\n",
       "      <th></th>\n",
       "      <th>Average_gl</th>\n",
       "    </tr>\n",
       "    <tr>\n",
       "      <th>Date</th>\n",
       "      <th></th>\n",
       "    </tr>\n",
       "  </thead>\n",
       "  <tbody>\n",
       "    <tr>\n",
       "      <th>1980-01-01</th>\n",
       "      <td>338.45</td>\n",
       "    </tr>\n",
       "    <tr>\n",
       "      <th>1980-02-01</th>\n",
       "      <td>339.14</td>\n",
       "    </tr>\n",
       "    <tr>\n",
       "      <th>1980-03-01</th>\n",
       "      <td>339.46</td>\n",
       "    </tr>\n",
       "    <tr>\n",
       "      <th>1980-04-01</th>\n",
       "      <td>339.86</td>\n",
       "    </tr>\n",
       "    <tr>\n",
       "      <th>1980-05-01</th>\n",
       "      <td>340.30</td>\n",
       "    </tr>\n",
       "  </tbody>\n",
       "</table>\n",
       "</div>"
      ],
      "text/plain": [
       "            Average_gl\n",
       "Date                  \n",
       "1980-01-01      338.45\n",
       "1980-02-01      339.14\n",
       "1980-03-01      339.46\n",
       "1980-04-01      339.86\n",
       "1980-05-01      340.30"
      ]
     },
     "execution_count": 26,
     "metadata": {},
     "output_type": "execute_result"
    }
   ],
   "source": [
    "gl = pd.read_csv('./Pandas Dataset - I/co2-mm-gl.csv', na_values=-99.99, index_col='Date', parse_dates=True)\n",
    "\n",
    "gl = gl[['Average']]\n",
    "gl.columns = ['Average_gl']\n",
    "gl.head()"
   ]
  },
  {
   "cell_type": "code",
   "execution_count": 27,
   "id": "cb520b27",
   "metadata": {},
   "outputs": [
    {
     "data": {
      "text/html": [
       "<div>\n",
       "<style scoped>\n",
       "    .dataframe tbody tr th:only-of-type {\n",
       "        vertical-align: middle;\n",
       "    }\n",
       "\n",
       "    .dataframe tbody tr th {\n",
       "        vertical-align: top;\n",
       "    }\n",
       "\n",
       "    .dataframe thead th {\n",
       "        text-align: right;\n",
       "    }\n",
       "</style>\n",
       "<table border=\"1\" class=\"dataframe\">\n",
       "  <thead>\n",
       "    <tr style=\"text-align: right;\">\n",
       "      <th></th>\n",
       "      <th>Average_mlo</th>\n",
       "    </tr>\n",
       "    <tr>\n",
       "      <th>Date</th>\n",
       "      <th></th>\n",
       "    </tr>\n",
       "  </thead>\n",
       "  <tbody>\n",
       "    <tr>\n",
       "      <th>1958-03-01</th>\n",
       "      <td>312.00</td>\n",
       "    </tr>\n",
       "    <tr>\n",
       "      <th>1958-04-01</th>\n",
       "      <td>313.00</td>\n",
       "    </tr>\n",
       "    <tr>\n",
       "      <th>1958-05-01</th>\n",
       "      <td>313.00</td>\n",
       "    </tr>\n",
       "    <tr>\n",
       "      <th>1958-06-01</th>\n",
       "      <td>-99.99</td>\n",
       "    </tr>\n",
       "    <tr>\n",
       "      <th>1958-07-01</th>\n",
       "      <td>315.86</td>\n",
       "    </tr>\n",
       "  </tbody>\n",
       "</table>\n",
       "</div>"
      ],
      "text/plain": [
       "            Average_mlo\n",
       "Date                   \n",
       "1958-03-01       312.00\n",
       "1958-04-01       313.00\n",
       "1958-05-01       313.00\n",
       "1958-06-01       -99.99\n",
       "1958-07-01       315.86"
      ]
     },
     "execution_count": 27,
     "metadata": {},
     "output_type": "execute_result"
    }
   ],
   "source": [
    "ml = mlo[['Average']]\n",
    "ml.columns = ['Average_mlo']\n",
    "ml.head()"
   ]
  },
  {
   "cell_type": "code",
   "execution_count": 28,
   "id": "7aef98e5",
   "metadata": {},
   "outputs": [],
   "source": [
    "ml = ml[ml.index >= '1980-01']\n",
    "\n",
    "gl = gl.head()\n",
    "ml = ml.head()"
   ]
  },
  {
   "cell_type": "code",
   "execution_count": 29,
   "id": "ebe07d4c",
   "metadata": {},
   "outputs": [
    {
     "data": {
      "text/html": [
       "<div>\n",
       "<style scoped>\n",
       "    .dataframe tbody tr th:only-of-type {\n",
       "        vertical-align: middle;\n",
       "    }\n",
       "\n",
       "    .dataframe tbody tr th {\n",
       "        vertical-align: top;\n",
       "    }\n",
       "\n",
       "    .dataframe thead th {\n",
       "        text-align: right;\n",
       "    }\n",
       "</style>\n",
       "<table border=\"1\" class=\"dataframe\">\n",
       "  <thead>\n",
       "    <tr style=\"text-align: right;\">\n",
       "      <th></th>\n",
       "      <th>Average_gl</th>\n",
       "    </tr>\n",
       "    <tr>\n",
       "      <th>Date</th>\n",
       "      <th></th>\n",
       "    </tr>\n",
       "  </thead>\n",
       "  <tbody>\n",
       "    <tr>\n",
       "      <th>1980-01-01</th>\n",
       "      <td>338.45</td>\n",
       "    </tr>\n",
       "    <tr>\n",
       "      <th>1980-02-01</th>\n",
       "      <td>339.14</td>\n",
       "    </tr>\n",
       "    <tr>\n",
       "      <th>1980-03-01</th>\n",
       "      <td>339.46</td>\n",
       "    </tr>\n",
       "    <tr>\n",
       "      <th>1980-04-01</th>\n",
       "      <td>339.86</td>\n",
       "    </tr>\n",
       "    <tr>\n",
       "      <th>1980-05-01</th>\n",
       "      <td>340.30</td>\n",
       "    </tr>\n",
       "  </tbody>\n",
       "</table>\n",
       "</div>"
      ],
      "text/plain": [
       "            Average_gl\n",
       "Date                  \n",
       "1980-01-01      338.45\n",
       "1980-02-01      339.14\n",
       "1980-03-01      339.46\n",
       "1980-04-01      339.86\n",
       "1980-05-01      340.30"
      ]
     },
     "execution_count": 29,
     "metadata": {},
     "output_type": "execute_result"
    }
   ],
   "source": [
    "gl"
   ]
  },
  {
   "cell_type": "code",
   "execution_count": 30,
   "id": "9ff46fa9",
   "metadata": {},
   "outputs": [
    {
     "data": {
      "text/html": [
       "<div>\n",
       "<style scoped>\n",
       "    .dataframe tbody tr th:only-of-type {\n",
       "        vertical-align: middle;\n",
       "    }\n",
       "\n",
       "    .dataframe tbody tr th {\n",
       "        vertical-align: top;\n",
       "    }\n",
       "\n",
       "    .dataframe thead th {\n",
       "        text-align: right;\n",
       "    }\n",
       "</style>\n",
       "<table border=\"1\" class=\"dataframe\">\n",
       "  <thead>\n",
       "    <tr style=\"text-align: right;\">\n",
       "      <th></th>\n",
       "      <th>Average_mlo</th>\n",
       "    </tr>\n",
       "    <tr>\n",
       "      <th>Date</th>\n",
       "      <th></th>\n",
       "    </tr>\n",
       "  </thead>\n",
       "  <tbody>\n",
       "    <tr>\n",
       "      <th>1980-01-01</th>\n",
       "      <td>337.90</td>\n",
       "    </tr>\n",
       "    <tr>\n",
       "      <th>1980-02-01</th>\n",
       "      <td>338.34</td>\n",
       "    </tr>\n",
       "    <tr>\n",
       "      <th>1980-03-01</th>\n",
       "      <td>340.01</td>\n",
       "    </tr>\n",
       "    <tr>\n",
       "      <th>1980-04-01</th>\n",
       "      <td>340.93</td>\n",
       "    </tr>\n",
       "    <tr>\n",
       "      <th>1980-05-01</th>\n",
       "      <td>341.48</td>\n",
       "    </tr>\n",
       "  </tbody>\n",
       "</table>\n",
       "</div>"
      ],
      "text/plain": [
       "            Average_mlo\n",
       "Date                   \n",
       "1980-01-01       337.90\n",
       "1980-02-01       338.34\n",
       "1980-03-01       340.01\n",
       "1980-04-01       340.93\n",
       "1980-05-01       341.48"
      ]
     },
     "execution_count": 30,
     "metadata": {},
     "output_type": "execute_result"
    }
   ],
   "source": [
    "ml"
   ]
  },
  {
   "cell_type": "code",
   "execution_count": 31,
   "id": "452ad51f",
   "metadata": {},
   "outputs": [
    {
     "data": {
      "text/plain": [
       "Date                   \n",
       "1980-01-01  Average_mlo    337.90\n",
       "            Average_gl     338.45\n",
       "1980-02-01  Average_mlo    338.34\n",
       "            Average_gl     339.14\n",
       "1980-03-01  Average_mlo    340.01\n",
       "            Average_gl     339.46\n",
       "1980-04-01  Average_mlo    340.93\n",
       "            Average_gl     339.86\n",
       "1980-05-01  Average_mlo    341.48\n",
       "            Average_gl     340.30\n",
       "dtype: float64"
      ]
     },
     "execution_count": 31,
     "metadata": {},
     "output_type": "execute_result"
    }
   ],
   "source": [
    "multi = pd.concat([ml, gl], axis=1).stack()\n",
    "multi"
   ]
  },
  {
   "cell_type": "code",
   "execution_count": 32,
   "id": "bfcf2310",
   "metadata": {},
   "outputs": [
    {
     "data": {
      "text/plain": [
       "MultiIndex([('1980-01-01', 'Average_mlo'),\n",
       "            ('1980-01-01',  'Average_gl'),\n",
       "            ('1980-02-01', 'Average_mlo'),\n",
       "            ('1980-02-01',  'Average_gl'),\n",
       "            ('1980-03-01', 'Average_mlo'),\n",
       "            ('1980-03-01',  'Average_gl'),\n",
       "            ('1980-04-01', 'Average_mlo'),\n",
       "            ('1980-04-01',  'Average_gl'),\n",
       "            ('1980-05-01', 'Average_mlo'),\n",
       "            ('1980-05-01',  'Average_gl')],\n",
       "           names=['Date', None])"
      ]
     },
     "execution_count": 32,
     "metadata": {},
     "output_type": "execute_result"
    }
   ],
   "source": [
    "multi.index"
   ]
  },
  {
   "cell_type": "code",
   "execution_count": 33,
   "id": "0ed4ea83",
   "metadata": {},
   "outputs": [
    {
     "data": {
      "text/plain": [
       "DatetimeIndex(['1980-01-01', '1980-01-01', '1980-02-01', '1980-02-01',\n",
       "               '1980-03-01', '1980-03-01', '1980-04-01', '1980-04-01',\n",
       "               '1980-05-01', '1980-05-01'],\n",
       "              dtype='datetime64[ns]', name='Date', freq=None)"
      ]
     },
     "execution_count": 33,
     "metadata": {},
     "output_type": "execute_result"
    }
   ],
   "source": [
    "multi.index.get_level_values('Date')"
   ]
  },
  {
   "cell_type": "code",
   "execution_count": 34,
   "id": "a8ceb9ec",
   "metadata": {},
   "outputs": [
    {
     "data": {
      "text/plain": [
       "Date                   \n",
       "1980-01-01  Average_mlo    337.90\n",
       "            Average_gl     338.45\n",
       "1980-02-01  Average_mlo    338.34\n",
       "            Average_gl     339.14\n",
       "dtype: float64"
      ]
     },
     "execution_count": 34,
     "metadata": {},
     "output_type": "execute_result"
    }
   ],
   "source": [
    "multi.loc[multi.index.get_level_values('Date') < '1980-03']"
   ]
  },
  {
   "cell_type": "markdown",
   "id": "b92a1b1c",
   "metadata": {},
   "source": [
    "## Reshaping"
   ]
  },
  {
   "cell_type": "markdown",
   "id": "efcb0ff3",
   "metadata": {},
   "source": [
    "The `stack()` function compressed a level in the DataFrame’s columns to produce a Series (as a reminder, `multi = pd.concat([ml, gl], axis=1).stack()`)."
   ]
  },
  {
   "cell_type": "code",
   "execution_count": 36,
   "id": "5f2679b5",
   "metadata": {},
   "outputs": [
    {
     "data": {
      "text/html": [
       "<div>\n",
       "<style scoped>\n",
       "    .dataframe tbody tr th:only-of-type {\n",
       "        vertical-align: middle;\n",
       "    }\n",
       "\n",
       "    .dataframe tbody tr th {\n",
       "        vertical-align: top;\n",
       "    }\n",
       "\n",
       "    .dataframe thead th {\n",
       "        text-align: right;\n",
       "    }\n",
       "</style>\n",
       "<table border=\"1\" class=\"dataframe\">\n",
       "  <thead>\n",
       "    <tr style=\"text-align: right;\">\n",
       "      <th></th>\n",
       "      <th>Average_mlo</th>\n",
       "      <th>Average_gl</th>\n",
       "    </tr>\n",
       "    <tr>\n",
       "      <th>Date</th>\n",
       "      <th></th>\n",
       "      <th></th>\n",
       "    </tr>\n",
       "  </thead>\n",
       "  <tbody>\n",
       "    <tr>\n",
       "      <th>1980-01-01</th>\n",
       "      <td>337.90</td>\n",
       "      <td>338.45</td>\n",
       "    </tr>\n",
       "    <tr>\n",
       "      <th>1980-02-01</th>\n",
       "      <td>338.34</td>\n",
       "      <td>339.14</td>\n",
       "    </tr>\n",
       "    <tr>\n",
       "      <th>1980-03-01</th>\n",
       "      <td>340.01</td>\n",
       "      <td>339.46</td>\n",
       "    </tr>\n",
       "    <tr>\n",
       "      <th>1980-04-01</th>\n",
       "      <td>340.93</td>\n",
       "      <td>339.86</td>\n",
       "    </tr>\n",
       "    <tr>\n",
       "      <th>1980-05-01</th>\n",
       "      <td>341.48</td>\n",
       "      <td>340.30</td>\n",
       "    </tr>\n",
       "  </tbody>\n",
       "</table>\n",
       "</div>"
      ],
      "text/plain": [
       "            Average_mlo  Average_gl\n",
       "Date                               \n",
       "1980-01-01       337.90      338.45\n",
       "1980-02-01       338.34      339.14\n",
       "1980-03-01       340.01      339.46\n",
       "1980-04-01       340.93      339.86\n",
       "1980-05-01       341.48      340.30"
      ]
     },
     "execution_count": 36,
     "metadata": {},
     "output_type": "execute_result"
    }
   ],
   "source": [
    "pd.concat([ml, gl], axis=1)"
   ]
  },
  {
   "cell_type": "code",
   "execution_count": 37,
   "id": "f34bc88b",
   "metadata": {},
   "outputs": [
    {
     "data": {
      "text/plain": [
       "Date                   \n",
       "1980-01-01  Average_mlo    337.90\n",
       "            Average_gl     338.45\n",
       "1980-02-01  Average_mlo    338.34\n",
       "            Average_gl     339.14\n",
       "1980-03-01  Average_mlo    340.01\n",
       "            Average_gl     339.46\n",
       "1980-04-01  Average_mlo    340.93\n",
       "            Average_gl     339.86\n",
       "1980-05-01  Average_mlo    341.48\n",
       "            Average_gl     340.30\n",
       "dtype: float64"
      ]
     },
     "execution_count": 37,
     "metadata": {},
     "output_type": "execute_result"
    }
   ],
   "source": [
    "multi"
   ]
  },
  {
   "cell_type": "code",
   "execution_count": 38,
   "id": "e73f8e76",
   "metadata": {},
   "outputs": [
    {
     "data": {
      "text/html": [
       "<div>\n",
       "<style scoped>\n",
       "    .dataframe tbody tr th:only-of-type {\n",
       "        vertical-align: middle;\n",
       "    }\n",
       "\n",
       "    .dataframe tbody tr th {\n",
       "        vertical-align: top;\n",
       "    }\n",
       "\n",
       "    .dataframe thead th {\n",
       "        text-align: right;\n",
       "    }\n",
       "</style>\n",
       "<table border=\"1\" class=\"dataframe\">\n",
       "  <thead>\n",
       "    <tr style=\"text-align: right;\">\n",
       "      <th></th>\n",
       "      <th>Average_mlo</th>\n",
       "      <th>Average_gl</th>\n",
       "    </tr>\n",
       "    <tr>\n",
       "      <th>Date</th>\n",
       "      <th></th>\n",
       "      <th></th>\n",
       "    </tr>\n",
       "  </thead>\n",
       "  <tbody>\n",
       "    <tr>\n",
       "      <th>1980-01-01</th>\n",
       "      <td>337.90</td>\n",
       "      <td>338.45</td>\n",
       "    </tr>\n",
       "    <tr>\n",
       "      <th>1980-02-01</th>\n",
       "      <td>338.34</td>\n",
       "      <td>339.14</td>\n",
       "    </tr>\n",
       "    <tr>\n",
       "      <th>1980-03-01</th>\n",
       "      <td>340.01</td>\n",
       "      <td>339.46</td>\n",
       "    </tr>\n",
       "    <tr>\n",
       "      <th>1980-04-01</th>\n",
       "      <td>340.93</td>\n",
       "      <td>339.86</td>\n",
       "    </tr>\n",
       "    <tr>\n",
       "      <th>1980-05-01</th>\n",
       "      <td>341.48</td>\n",
       "      <td>340.30</td>\n",
       "    </tr>\n",
       "  </tbody>\n",
       "</table>\n",
       "</div>"
      ],
      "text/plain": [
       "            Average_mlo  Average_gl\n",
       "Date                               \n",
       "1980-01-01       337.90      338.45\n",
       "1980-02-01       338.34      339.14\n",
       "1980-03-01       340.01      339.46\n",
       "1980-04-01       340.93      339.86\n",
       "1980-05-01       341.48      340.30"
      ]
     },
     "execution_count": 38,
     "metadata": {},
     "output_type": "execute_result"
    }
   ],
   "source": [
    "multi.unstack()"
   ]
  },
  {
   "cell_type": "markdown",
   "id": "903630c6",
   "metadata": {},
   "source": [
    "## Pivoting"
   ]
  },
  {
   "cell_type": "code",
   "execution_count": 39,
   "id": "efcd0133",
   "metadata": {},
   "outputs": [
    {
     "data": {
      "text/html": [
       "<div>\n",
       "<style scoped>\n",
       "    .dataframe tbody tr th:only-of-type {\n",
       "        vertical-align: middle;\n",
       "    }\n",
       "\n",
       "    .dataframe tbody tr th {\n",
       "        vertical-align: top;\n",
       "    }\n",
       "\n",
       "    .dataframe thead th {\n",
       "        text-align: right;\n",
       "    }\n",
       "</style>\n",
       "<table border=\"1\" class=\"dataframe\">\n",
       "  <thead>\n",
       "    <tr style=\"text-align: right;\">\n",
       "      <th></th>\n",
       "      <th>date</th>\n",
       "      <th>variable</th>\n",
       "      <th>value</th>\n",
       "    </tr>\n",
       "  </thead>\n",
       "  <tbody>\n",
       "    <tr>\n",
       "      <th>0</th>\n",
       "      <td>1980-01-01</td>\n",
       "      <td>Average_mlo</td>\n",
       "      <td>337.90</td>\n",
       "    </tr>\n",
       "    <tr>\n",
       "      <th>1</th>\n",
       "      <td>1980-01-01</td>\n",
       "      <td>Average_gl</td>\n",
       "      <td>338.45</td>\n",
       "    </tr>\n",
       "    <tr>\n",
       "      <th>2</th>\n",
       "      <td>1980-02-01</td>\n",
       "      <td>Average_mlo</td>\n",
       "      <td>338.34</td>\n",
       "    </tr>\n",
       "    <tr>\n",
       "      <th>3</th>\n",
       "      <td>1980-02-01</td>\n",
       "      <td>Average_gl</td>\n",
       "      <td>339.14</td>\n",
       "    </tr>\n",
       "    <tr>\n",
       "      <th>4</th>\n",
       "      <td>1980-03-01</td>\n",
       "      <td>Average_mlo</td>\n",
       "      <td>340.01</td>\n",
       "    </tr>\n",
       "    <tr>\n",
       "      <th>5</th>\n",
       "      <td>1980-03-01</td>\n",
       "      <td>Average_gl</td>\n",
       "      <td>339.46</td>\n",
       "    </tr>\n",
       "    <tr>\n",
       "      <th>6</th>\n",
       "      <td>1980-04-01</td>\n",
       "      <td>Average_mlo</td>\n",
       "      <td>340.93</td>\n",
       "    </tr>\n",
       "    <tr>\n",
       "      <th>7</th>\n",
       "      <td>1980-04-01</td>\n",
       "      <td>Average_gl</td>\n",
       "      <td>339.86</td>\n",
       "    </tr>\n",
       "    <tr>\n",
       "      <th>8</th>\n",
       "      <td>1980-05-01</td>\n",
       "      <td>Average_mlo</td>\n",
       "      <td>341.48</td>\n",
       "    </tr>\n",
       "    <tr>\n",
       "      <th>9</th>\n",
       "      <td>1980-05-01</td>\n",
       "      <td>Average_gl</td>\n",
       "      <td>340.30</td>\n",
       "    </tr>\n",
       "  </tbody>\n",
       "</table>\n",
       "</div>"
      ],
      "text/plain": [
       "        date     variable   value\n",
       "0 1980-01-01  Average_mlo  337.90\n",
       "1 1980-01-01   Average_gl  338.45\n",
       "2 1980-02-01  Average_mlo  338.34\n",
       "3 1980-02-01   Average_gl  339.14\n",
       "4 1980-03-01  Average_mlo  340.01\n",
       "5 1980-03-01   Average_gl  339.46\n",
       "6 1980-04-01  Average_mlo  340.93\n",
       "7 1980-04-01   Average_gl  339.86\n",
       "8 1980-05-01  Average_mlo  341.48\n",
       "9 1980-05-01   Average_gl  340.30"
      ]
     },
     "execution_count": 39,
     "metadata": {},
     "output_type": "execute_result"
    }
   ],
   "source": [
    "rec = pd.concat([ml, gl], axis=1).stack().reset_index()\n",
    "rec.columns = ['date', 'variable', 'value']\n",
    "rec"
   ]
  },
  {
   "cell_type": "markdown",
   "id": "d25a4651",
   "metadata": {},
   "source": [
    "The above data is in 'stacked' or 'record' format."
   ]
  },
  {
   "cell_type": "code",
   "execution_count": 40,
   "id": "9cbdc327",
   "metadata": {},
   "outputs": [
    {
     "data": {
      "text/html": [
       "<div>\n",
       "<style scoped>\n",
       "    .dataframe tbody tr th:only-of-type {\n",
       "        vertical-align: middle;\n",
       "    }\n",
       "\n",
       "    .dataframe tbody tr th {\n",
       "        vertical-align: top;\n",
       "    }\n",
       "\n",
       "    .dataframe thead th {\n",
       "        text-align: right;\n",
       "    }\n",
       "</style>\n",
       "<table border=\"1\" class=\"dataframe\">\n",
       "  <thead>\n",
       "    <tr style=\"text-align: right;\">\n",
       "      <th></th>\n",
       "      <th>date</th>\n",
       "      <th>variable</th>\n",
       "      <th>value</th>\n",
       "    </tr>\n",
       "  </thead>\n",
       "  <tbody>\n",
       "    <tr>\n",
       "      <th>0</th>\n",
       "      <td>1980-01-01</td>\n",
       "      <td>Average_mlo</td>\n",
       "      <td>337.90</td>\n",
       "    </tr>\n",
       "    <tr>\n",
       "      <th>1</th>\n",
       "      <td>1980-01-01</td>\n",
       "      <td>Average_gl</td>\n",
       "      <td>338.45</td>\n",
       "    </tr>\n",
       "    <tr>\n",
       "      <th>2</th>\n",
       "      <td>1980-02-01</td>\n",
       "      <td>Average_mlo</td>\n",
       "      <td>338.34</td>\n",
       "    </tr>\n",
       "    <tr>\n",
       "      <th>3</th>\n",
       "      <td>1980-02-01</td>\n",
       "      <td>Average_gl</td>\n",
       "      <td>339.14</td>\n",
       "    </tr>\n",
       "    <tr>\n",
       "      <th>4</th>\n",
       "      <td>1980-03-01</td>\n",
       "      <td>Average_mlo</td>\n",
       "      <td>340.01</td>\n",
       "    </tr>\n",
       "    <tr>\n",
       "      <th>5</th>\n",
       "      <td>1980-03-01</td>\n",
       "      <td>Average_gl</td>\n",
       "      <td>339.46</td>\n",
       "    </tr>\n",
       "    <tr>\n",
       "      <th>6</th>\n",
       "      <td>1980-04-01</td>\n",
       "      <td>Average_mlo</td>\n",
       "      <td>340.93</td>\n",
       "    </tr>\n",
       "    <tr>\n",
       "      <th>7</th>\n",
       "      <td>1980-04-01</td>\n",
       "      <td>Average_gl</td>\n",
       "      <td>339.86</td>\n",
       "    </tr>\n",
       "    <tr>\n",
       "      <th>8</th>\n",
       "      <td>1980-05-01</td>\n",
       "      <td>Average_mlo</td>\n",
       "      <td>341.48</td>\n",
       "    </tr>\n",
       "    <tr>\n",
       "      <th>9</th>\n",
       "      <td>1980-05-01</td>\n",
       "      <td>Average_gl</td>\n",
       "      <td>340.30</td>\n",
       "    </tr>\n",
       "  </tbody>\n",
       "</table>\n",
       "</div>"
      ],
      "text/plain": [
       "        date     variable   value\n",
       "0 1980-01-01  Average_mlo  337.90\n",
       "1 1980-01-01   Average_gl  338.45\n",
       "2 1980-02-01  Average_mlo  338.34\n",
       "3 1980-02-01   Average_gl  339.14\n",
       "4 1980-03-01  Average_mlo  340.01\n",
       "5 1980-03-01   Average_gl  339.46\n",
       "6 1980-04-01  Average_mlo  340.93\n",
       "7 1980-04-01   Average_gl  339.86\n",
       "8 1980-05-01  Average_mlo  341.48\n",
       "9 1980-05-01   Average_gl  340.30"
      ]
     },
     "execution_count": 40,
     "metadata": {},
     "output_type": "execute_result"
    }
   ],
   "source": [
    "rec"
   ]
  },
  {
   "cell_type": "code",
   "execution_count": 41,
   "id": "0b305c20",
   "metadata": {},
   "outputs": [
    {
     "data": {
      "text/html": [
       "<div>\n",
       "<style scoped>\n",
       "    .dataframe tbody tr th:only-of-type {\n",
       "        vertical-align: middle;\n",
       "    }\n",
       "\n",
       "    .dataframe tbody tr th {\n",
       "        vertical-align: top;\n",
       "    }\n",
       "\n",
       "    .dataframe thead th {\n",
       "        text-align: right;\n",
       "    }\n",
       "</style>\n",
       "<table border=\"1\" class=\"dataframe\">\n",
       "  <thead>\n",
       "    <tr style=\"text-align: right;\">\n",
       "      <th></th>\n",
       "      <th>date</th>\n",
       "      <th>variable</th>\n",
       "      <th>value</th>\n",
       "    </tr>\n",
       "  </thead>\n",
       "  <tbody>\n",
       "    <tr>\n",
       "      <th>0</th>\n",
       "      <td>1980-01-01</td>\n",
       "      <td>Average_mlo</td>\n",
       "      <td>337.90</td>\n",
       "    </tr>\n",
       "    <tr>\n",
       "      <th>2</th>\n",
       "      <td>1980-02-01</td>\n",
       "      <td>Average_mlo</td>\n",
       "      <td>338.34</td>\n",
       "    </tr>\n",
       "    <tr>\n",
       "      <th>4</th>\n",
       "      <td>1980-03-01</td>\n",
       "      <td>Average_mlo</td>\n",
       "      <td>340.01</td>\n",
       "    </tr>\n",
       "    <tr>\n",
       "      <th>6</th>\n",
       "      <td>1980-04-01</td>\n",
       "      <td>Average_mlo</td>\n",
       "      <td>340.93</td>\n",
       "    </tr>\n",
       "    <tr>\n",
       "      <th>8</th>\n",
       "      <td>1980-05-01</td>\n",
       "      <td>Average_mlo</td>\n",
       "      <td>341.48</td>\n",
       "    </tr>\n",
       "  </tbody>\n",
       "</table>\n",
       "</div>"
      ],
      "text/plain": [
       "        date     variable   value\n",
       "0 1980-01-01  Average_mlo  337.90\n",
       "2 1980-02-01  Average_mlo  338.34\n",
       "4 1980-03-01  Average_mlo  340.01\n",
       "6 1980-04-01  Average_mlo  340.93\n",
       "8 1980-05-01  Average_mlo  341.48"
      ]
     },
     "execution_count": 41,
     "metadata": {},
     "output_type": "execute_result"
    }
   ],
   "source": [
    "rec[rec.variable == 'Average_mlo']"
   ]
  },
  {
   "cell_type": "code",
   "execution_count": 42,
   "id": "c783f8b3",
   "metadata": {},
   "outputs": [
    {
     "data": {
      "text/html": [
       "<div>\n",
       "<style scoped>\n",
       "    .dataframe tbody tr th:only-of-type {\n",
       "        vertical-align: middle;\n",
       "    }\n",
       "\n",
       "    .dataframe tbody tr th {\n",
       "        vertical-align: top;\n",
       "    }\n",
       "\n",
       "    .dataframe thead th {\n",
       "        text-align: right;\n",
       "    }\n",
       "</style>\n",
       "<table border=\"1\" class=\"dataframe\">\n",
       "  <thead>\n",
       "    <tr style=\"text-align: right;\">\n",
       "      <th>variable</th>\n",
       "      <th>Average_gl</th>\n",
       "      <th>Average_mlo</th>\n",
       "    </tr>\n",
       "    <tr>\n",
       "      <th>date</th>\n",
       "      <th></th>\n",
       "      <th></th>\n",
       "    </tr>\n",
       "  </thead>\n",
       "  <tbody>\n",
       "    <tr>\n",
       "      <th>1980-01-01</th>\n",
       "      <td>338.45</td>\n",
       "      <td>337.90</td>\n",
       "    </tr>\n",
       "    <tr>\n",
       "      <th>1980-02-01</th>\n",
       "      <td>339.14</td>\n",
       "      <td>338.34</td>\n",
       "    </tr>\n",
       "    <tr>\n",
       "      <th>1980-03-01</th>\n",
       "      <td>339.46</td>\n",
       "      <td>340.01</td>\n",
       "    </tr>\n",
       "    <tr>\n",
       "      <th>1980-04-01</th>\n",
       "      <td>339.86</td>\n",
       "      <td>340.93</td>\n",
       "    </tr>\n",
       "    <tr>\n",
       "      <th>1980-05-01</th>\n",
       "      <td>340.30</td>\n",
       "      <td>341.48</td>\n",
       "    </tr>\n",
       "  </tbody>\n",
       "</table>\n",
       "</div>"
      ],
      "text/plain": [
       "variable    Average_gl  Average_mlo\n",
       "date                               \n",
       "1980-01-01      338.45       337.90\n",
       "1980-02-01      339.14       338.34\n",
       "1980-03-01      339.46       340.01\n",
       "1980-04-01      339.86       340.93\n",
       "1980-05-01      340.30       341.48"
      ]
     },
     "execution_count": 42,
     "metadata": {},
     "output_type": "execute_result"
    }
   ],
   "source": [
    "pivot_table = rec.pivot(index='date', columns='variable', values='value')\n",
    "pivot_table"
   ]
  },
  {
   "cell_type": "markdown",
   "id": "208fae00",
   "metadata": {},
   "source": [
    "The pivoted data is more suitable for timeseries analysis."
   ]
  },
  {
   "cell_type": "code",
   "execution_count": 43,
   "id": "a173d0be",
   "metadata": {},
   "outputs": [
    {
     "data": {
      "text/plain": [
       "date\n",
       "1980-01-01    338.45\n",
       "1980-02-01    339.14\n",
       "1980-03-01    339.46\n",
       "1980-04-01    339.86\n",
       "1980-05-01    340.30\n",
       "Name: Average_gl, dtype: float64"
      ]
     },
     "execution_count": 43,
     "metadata": {},
     "output_type": "execute_result"
    }
   ],
   "source": [
    "pivot_table['Average_gl']"
   ]
  },
  {
   "cell_type": "code",
   "execution_count": 44,
   "id": "b97966d9",
   "metadata": {},
   "outputs": [
    {
     "data": {
      "text/plain": [
       "date\n",
       "1980-01-01    337.90\n",
       "1980-02-01    338.34\n",
       "1980-03-01    340.01\n",
       "1980-04-01    340.93\n",
       "1980-05-01    341.48\n",
       "Name: Average_mlo, dtype: float64"
      ]
     },
     "execution_count": 44,
     "metadata": {},
     "output_type": "execute_result"
    }
   ],
   "source": [
    "pivot_table['Average_mlo']"
   ]
  },
  {
   "cell_type": "code",
   "execution_count": 45,
   "id": "08bb2643",
   "metadata": {},
   "outputs": [
    {
     "data": {
      "text/plain": [
       "DatetimeIndex(['1980-01-01', '1980-02-01', '1980-03-01', '1980-04-01',\n",
       "               '1980-05-01'],\n",
       "              dtype='datetime64[ns]', name='date', freq=None)"
      ]
     },
     "execution_count": 45,
     "metadata": {},
     "output_type": "execute_result"
    }
   ],
   "source": [
    "pivot_table.index"
   ]
  },
  {
   "cell_type": "code",
   "execution_count": null,
   "id": "a1fc7021",
   "metadata": {},
   "outputs": [],
   "source": []
  }
 ],
 "metadata": {
  "kernelspec": {
   "display_name": "Python 3",
   "language": "python",
   "name": "python3"
  },
  "language_info": {
   "codemirror_mode": {
    "name": "ipython",
    "version": 3
   },
   "file_extension": ".py",
   "mimetype": "text/x-python",
   "name": "python",
   "nbconvert_exporter": "python",
   "pygments_lexer": "ipython3",
   "version": "3.8.8"
  }
 },
 "nbformat": 4,
 "nbformat_minor": 5
}
