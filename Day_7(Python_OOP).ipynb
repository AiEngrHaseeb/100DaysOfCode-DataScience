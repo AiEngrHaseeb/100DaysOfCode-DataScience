{
 "cells": [
  {
   "cell_type": "markdown",
   "metadata": {},
   "source": [
    "## Object Oriented Programming"
   ]
  },
  {
   "cell_type": "markdown",
   "metadata": {},
   "source": [
    "<img src = \"https://techvidvan.com/tutorials/wp-content/uploads/sites/2/2020/01/python-classes.jpg\">\n"
   ]
  },
  {
   "cell_type": "markdown",
   "metadata": {},
   "source": [
    "      ---> Python support both Object  Oriented and Procedural Programming language as it is a high level programming language designed for general purpose programming.\n",
    "      ---> OOP's concepts like, Classes,Encapsulation,Polymorphism, Inheritance etc.. in Python makes it as a object oriented programming language. "
   ]
  },
  {
   "cell_type": "markdown",
   "metadata": {},
   "source": [
    "### POP Vs OOP\n",
    "   ##### Procedural Oriented Programming\n",
    "    - code as sequence of objects.\n",
    "    - great for data analysis and scripts.\n",
    "   ##### Object Oriented Programming\n",
    "    - code as intraction of objects.\n",
    "    - great for building frameworks & tools.\n",
    "    - maintaince & reuseable code!\n"
   ]
  },
  {
   "cell_type": "markdown",
   "metadata": {},
   "source": [
    "<img src = \"https://www.altexsoft.com/media/2018/08/oop.png\">"
   ]
  },
  {
   "cell_type": "markdown",
   "metadata": {},
   "source": [
    "### Class Vs Object\n",
    "    ---> Object = states + behaviour\n",
    "    ---> Class = blueprint for object outlining possible states & behaviour.\n",
    "<img src = \"https://res.cloudinary.com/dyd911kmh/image/upload/f_auto,q_auto:best/v1603476086/class2_b3ufes.png\">"
   ]
  },
  {
   "cell_type": "markdown",
   "metadata": {},
   "source": [
    "Creating object: \n",
    "object = class()"
   ]
  },
  {
   "cell_type": "markdown",
   "metadata": {},
   "source": [
    "### Class Attributes & Methods"
   ]
  },
  {
   "cell_type": "markdown",
   "metadata": {},
   "source": [
    "    object = attribute + methhods\n",
    "    attributes <---> varibales <---> obj.my_attribute\n",
    "    method <---> function() <---> obj.my_method()\n",
    "#####  use object. to access attribute & methods\n"
   ]
  },
  {
   "cell_type": "code",
   "execution_count": 1,
   "metadata": {},
   "outputs": [],
   "source": [
    "import numpy as np"
   ]
  },
  {
   "cell_type": "code",
   "execution_count": 19,
   "metadata": {},
   "outputs": [
    {
     "data": {
      "text/plain": [
       "(5,)"
      ]
     },
     "execution_count": 19,
     "metadata": {},
     "output_type": "execute_result"
    }
   ],
   "source": [
    "#suppose numpy as class, a as object\n",
    "a = np.array([1,2,3,4,5]) \n",
    "#shape is class attribute\n",
    "a.shape"
   ]
  },
  {
   "cell_type": "code",
   "execution_count": 22,
   "metadata": {},
   "outputs": [
    {
     "data": {
      "text/plain": [
       "array([[0, 1],\n",
       "       [2, 3],\n",
       "       [4, 5]])"
      ]
     },
     "execution_count": 22,
     "metadata": {},
     "output_type": "execute_result"
    }
   ],
   "source": [
    "#suppose numpy as class, a as object\n",
    "a = np.array([0,1,2,3,4,5]) \n",
    "#shape is class method\n",
    "a.reshape(3,2)"
   ]
  },
  {
   "cell_type": "code",
   "execution_count": 23,
   "metadata": {},
   "outputs": [
    {
     "data": {
      "text/plain": [
       "['T',\n",
       " '__abs__',\n",
       " '__add__',\n",
       " '__and__',\n",
       " '__array__',\n",
       " '__array_finalize__',\n",
       " '__array_function__',\n",
       " '__array_interface__',\n",
       " '__array_prepare__',\n",
       " '__array_priority__',\n",
       " '__array_struct__',\n",
       " '__array_ufunc__',\n",
       " '__array_wrap__',\n",
       " '__bool__',\n",
       " '__class__',\n",
       " '__complex__',\n",
       " '__contains__',\n",
       " '__copy__',\n",
       " '__deepcopy__',\n",
       " '__delattr__',\n",
       " '__delitem__',\n",
       " '__dir__',\n",
       " '__divmod__',\n",
       " '__doc__',\n",
       " '__eq__',\n",
       " '__float__',\n",
       " '__floordiv__',\n",
       " '__format__',\n",
       " '__ge__',\n",
       " '__getattribute__',\n",
       " '__getitem__',\n",
       " '__gt__',\n",
       " '__hash__',\n",
       " '__iadd__',\n",
       " '__iand__',\n",
       " '__ifloordiv__',\n",
       " '__ilshift__',\n",
       " '__imatmul__',\n",
       " '__imod__',\n",
       " '__imul__',\n",
       " '__index__',\n",
       " '__init__',\n",
       " '__init_subclass__',\n",
       " '__int__',\n",
       " '__invert__',\n",
       " '__ior__',\n",
       " '__ipow__',\n",
       " '__irshift__',\n",
       " '__isub__',\n",
       " '__iter__',\n",
       " '__itruediv__',\n",
       " '__ixor__',\n",
       " '__le__',\n",
       " '__len__',\n",
       " '__lshift__',\n",
       " '__lt__',\n",
       " '__matmul__',\n",
       " '__mod__',\n",
       " '__mul__',\n",
       " '__ne__',\n",
       " '__neg__',\n",
       " '__new__',\n",
       " '__or__',\n",
       " '__pos__',\n",
       " '__pow__',\n",
       " '__radd__',\n",
       " '__rand__',\n",
       " '__rdivmod__',\n",
       " '__reduce__',\n",
       " '__reduce_ex__',\n",
       " '__repr__',\n",
       " '__rfloordiv__',\n",
       " '__rlshift__',\n",
       " '__rmatmul__',\n",
       " '__rmod__',\n",
       " '__rmul__',\n",
       " '__ror__',\n",
       " '__rpow__',\n",
       " '__rrshift__',\n",
       " '__rshift__',\n",
       " '__rsub__',\n",
       " '__rtruediv__',\n",
       " '__rxor__',\n",
       " '__setattr__',\n",
       " '__setitem__',\n",
       " '__setstate__',\n",
       " '__sizeof__',\n",
       " '__str__',\n",
       " '__sub__',\n",
       " '__subclasshook__',\n",
       " '__truediv__',\n",
       " '__xor__',\n",
       " 'all',\n",
       " 'any',\n",
       " 'argmax',\n",
       " 'argmin',\n",
       " 'argpartition',\n",
       " 'argsort',\n",
       " 'astype',\n",
       " 'base',\n",
       " 'byteswap',\n",
       " 'choose',\n",
       " 'clip',\n",
       " 'compress',\n",
       " 'conj',\n",
       " 'conjugate',\n",
       " 'copy',\n",
       " 'ctypes',\n",
       " 'cumprod',\n",
       " 'cumsum',\n",
       " 'data',\n",
       " 'diagonal',\n",
       " 'dot',\n",
       " 'dtype',\n",
       " 'dump',\n",
       " 'dumps',\n",
       " 'fill',\n",
       " 'flags',\n",
       " 'flat',\n",
       " 'flatten',\n",
       " 'getfield',\n",
       " 'imag',\n",
       " 'item',\n",
       " 'itemset',\n",
       " 'itemsize',\n",
       " 'max',\n",
       " 'mean',\n",
       " 'min',\n",
       " 'nbytes',\n",
       " 'ndim',\n",
       " 'newbyteorder',\n",
       " 'nonzero',\n",
       " 'partition',\n",
       " 'prod',\n",
       " 'ptp',\n",
       " 'put',\n",
       " 'ravel',\n",
       " 'real',\n",
       " 'repeat',\n",
       " 'reshape',\n",
       " 'resize',\n",
       " 'round',\n",
       " 'searchsorted',\n",
       " 'setfield',\n",
       " 'setflags',\n",
       " 'shape',\n",
       " 'size',\n",
       " 'sort',\n",
       " 'squeeze',\n",
       " 'std',\n",
       " 'strides',\n",
       " 'sum',\n",
       " 'swapaxes',\n",
       " 'take',\n",
       " 'tobytes',\n",
       " 'tofile',\n",
       " 'tolist',\n",
       " 'tostring',\n",
       " 'trace',\n",
       " 'transpose',\n",
       " 'var',\n",
       " 'view']"
      ]
     },
     "execution_count": 23,
     "metadata": {},
     "output_type": "execute_result"
    }
   ],
   "source": [
    "# possible number of attributes & methods\n",
    "dir(a)"
   ]
  },
  {
   "cell_type": "markdown",
   "metadata": {},
   "source": [
    "### Basic Class Syntax\n",
    "    class ClassName:\n",
    "        <statement-1>\n",
    "        .\n",
    "        .\n",
    "        .\n",
    "        <statement-N>"
   ]
  },
  {
   "cell_type": "code",
   "execution_count": 24,
   "metadata": {},
   "outputs": [],
   "source": [
    "class customer:\n",
    "    # code for class goes here\n",
    "    pass"
   ]
  },
  {
   "cell_type": "code",
   "execution_count": 25,
   "metadata": {},
   "outputs": [],
   "source": [
    "# when we are calling class we generally use word \"instance\" (when we creating object) after that we call instance as a object... \n",
    "c1 = customer() #c1 as obj1\n",
    "c2 = customer() # c2 as obj2"
   ]
  },
  {
   "cell_type": "markdown",
   "metadata": {},
   "source": [
    "### Adding method to a class"
   ]
  },
  {
   "cell_type": "code",
   "execution_count": 32,
   "metadata": {},
   "outputs": [],
   "source": [
    "class Customer:\n",
    "    \n",
    "    def identify(self, name): #method\n",
    "        print('I am customer '+ name)"
   ]
  },
  {
   "cell_type": "code",
   "execution_count": 33,
   "metadata": {},
   "outputs": [
    {
     "name": "stdout",
     "output_type": "stream",
     "text": [
      "I am customer Haseeb\n"
     ]
    }
   ],
   "source": [
    "user1 = Customer()\n",
    "user1.identify('Haseeb') # calling method of a class"
   ]
  },
  {
   "cell_type": "markdown",
   "metadata": {},
   "source": [
    "<t>Python will take care of <b>self</b> when method called from an object: <b>cust.identify(\"Laura\")</b> will be interpreted as <b>Customer.identify(cust, \"Laura\")</b></t>\n",
    "\n",
    "\n",
    "<t>Like: <b>user1.identify(\"Haseeb\")</b> will be interpreted as <b>Customer.identify(user1, \"Haseeb\")</b></t>"
   ]
  },
  {
   "cell_type": "markdown",
   "metadata": {},
   "source": [
    "### Adding an attribute to class\n"
   ]
  },
  {
   "cell_type": "code",
   "execution_count": 34,
   "metadata": {},
   "outputs": [],
   "source": [
    "class customer:\n",
    "    #set the name attribute of an object to new_name\n",
    "    def set_name(self, new_name):\n",
    "        #creating an attribute by assigning a value\n",
    "        self.name= new_name  # <-- known as method attribute and it will create name when set_name() is called"
   ]
  },
  {
   "cell_type": "code",
   "execution_count": 35,
   "metadata": {},
   "outputs": [
    {
     "name": "stdout",
     "output_type": "stream",
     "text": [
      "Haseeb Aslam\n"
     ]
    }
   ],
   "source": [
    "cust = customer()   # <-- .name doesn't exist here yet because (of method attribute) attribute/variable is defined in method not in class as a global attribute/variable...\n",
    "cust.set_name(\"Haseeb Aslam\") # <-- .name is created and set to \"Haseeb Aslam\"\n",
    "print(cust.name)  # < -- .name is used here"
   ]
  },
  {
   "cell_type": "markdown",
   "metadata": {},
   "source": [
    "### Example:\n"
   ]
  },
  {
   "cell_type": "code",
   "execution_count": 45,
   "metadata": {},
   "outputs": [],
   "source": [
    "class MyClass:\n",
    "    \"\"\"A simple example class\"\"\"\n",
    "    i = 12345 #Class Attribute but you can't access in any class method untill you defined it in constructor...\n",
    "\n",
    "    def f(self):\n",
    "        return 'hello world'"
   ]
  },
  {
   "cell_type": "code",
   "execution_count": 46,
   "metadata": {},
   "outputs": [
    {
     "name": "stdout",
     "output_type": "stream",
     "text": [
      "12345\n",
      "hello world\n"
     ]
    }
   ],
   "source": [
    "obj = MyClass()\n",
    "print(obj.i)\n",
    "print(obj.f())"
   ]
  },
  {
   "cell_type": "markdown",
   "metadata": {},
   "source": [
    "### Class Anatomy: the __init__ constructor\n",
    "    - add data to object when creating it\n",
    "    - constructor __init__ method is called every time object is created.\n",
    " ##### Advantage:\n",
    " <ul>\n",
    "    <li>Easier to know all the attributes</li>\n",
    "    <li>Attributes are created when object is created</li>\n",
    "    <li>More useable & maintainable code</li>\n",
    "    </ul>"
   ]
  },
  {
   "cell_type": "markdown",
   "metadata": {},
   "source": [
    "### Example: "
   ]
  },
  {
   "cell_type": "code",
   "execution_count": 53,
   "metadata": {},
   "outputs": [
    {
     "name": "stdout",
     "output_type": "stream",
     "text": [
      "The __init__ metyhod was called..!!! Haseeb ASlam\n"
     ]
    },
    {
     "data": {
      "text/plain": [
       "'Haseeb ASlam'"
      ]
     },
     "execution_count": 53,
     "metadata": {},
     "output_type": "execute_result"
    }
   ],
   "source": [
    "class customer:\n",
    "    def __init__(self,new_name):\n",
    "        self.name = new_name   # <-- craeting .name attribute\n",
    "        print(\"The __init__ metyhod was called..!!!\",self.name)\n",
    "        \n",
    "obj = customer('Haseeb ASlam') #<-- __init__ is implicitly called\n",
    "obj.name"
   ]
  },
  {
   "cell_type": "markdown",
   "metadata": {},
   "source": [
    "### Example: "
   ]
  },
  {
   "cell_type": "code",
   "execution_count": 47,
   "metadata": {},
   "outputs": [
    {
     "data": {
      "text/plain": [
       "(3.0, -4.5)"
      ]
     },
     "execution_count": 47,
     "metadata": {},
     "output_type": "execute_result"
    }
   ],
   "source": [
    "class Complex:\n",
    "    def __init__(self, realpart, imagpart): # __init__ used to create constructor\n",
    "        self.r = realpart\n",
    "        self.i = imagpart\n",
    "    \n",
    "x = Complex(3.0, -4.5)\n",
    "x.r, x.i"
   ]
  },
  {
   "cell_type": "markdown",
   "metadata": {},
   "source": [
    "### Example: "
   ]
  },
  {
   "cell_type": "code",
   "execution_count": 50,
   "metadata": {},
   "outputs": [
    {
     "data": {
      "text/plain": [
       "(3.0, -4.5, 3.0, -4.5)"
      ]
     },
     "execution_count": 50,
     "metadata": {},
     "output_type": "execute_result"
    }
   ],
   "source": [
    "class Complex:\n",
    "    def __init__(self, realpart, imagpart): # __init__ used to create constructor\n",
    "        self.r = realpart # these attribute can be use in any method of class\n",
    "        self.i = imagpart\n",
    "    \n",
    "    def get_real_part(self):\n",
    "        return self.r\n",
    "    \n",
    "    def get_imag_part(self):\n",
    "        return self.i\n",
    "    \n",
    "x = Complex(3.0, -4.5)\n",
    "x.r, x.i , x.get_real_part(), x.get_imag_part()"
   ]
  },
  {
   "cell_type": "markdown",
   "metadata": {},
   "source": [
    "### Example: "
   ]
  },
  {
   "cell_type": "code",
   "execution_count": 54,
   "metadata": {},
   "outputs": [],
   "source": [
    "class Customer:\n",
    "    def __init__(self, new_name, new_balnace): #<-- added balancea ttribute\n",
    "        self.name = new_name\n",
    "        self.balance = new_balnace # < -- Balance attribute\n",
    "        print('The __init__ method is called implicitly..!')"
   ]
  },
  {
   "cell_type": "code",
   "execution_count": 55,
   "metadata": {},
   "outputs": [
    {
     "name": "stdout",
     "output_type": "stream",
     "text": [
      "The __init__ method is called implicitly..!\n",
      "Haseeb Aslam\n",
      "1500\n"
     ]
    }
   ],
   "source": [
    "cust = Customer('Haseeb Aslam', 1500) #<-- __init__ is called\n",
    "print( cust.name, cust.balance, sep= '\\n')"
   ]
  },
  {
   "cell_type": "markdown",
   "metadata": {},
   "source": [
    "### Example: "
   ]
  },
  {
   "cell_type": "code",
   "execution_count": 56,
   "metadata": {},
   "outputs": [],
   "source": [
    "class Customer:\n",
    "    def __init__(self,name,balance=0): # <-- default value\n",
    "        self.name = name\n",
    "        self.balance = balance\n",
    "        print('The __ init__ methof called implicitly')"
   ]
  },
  {
   "cell_type": "code",
   "execution_count": 57,
   "metadata": {},
   "outputs": [
    {
     "name": "stdout",
     "output_type": "stream",
     "text": [
      "The __ init__ methof called implicitly\n",
      "Muneeb ASlam\n",
      "0\n"
     ]
    }
   ],
   "source": [
    "cust = Customer('Muneeb ASlam') #<-- don't specify balance explicitly\n",
    "print(cust.name, cust.balance, sep = '\\n')"
   ]
  },
  {
   "cell_type": "markdown",
   "metadata": {},
   "source": [
    "### Comparsion between Attribute Assesing in methods & constructor"
   ]
  },
  {
   "cell_type": "markdown",
   "metadata": {},
   "source": [
    "####  Attribute in methods (method attribute)"
   ]
  },
  {
   "cell_type": "code",
   "execution_count": 59,
   "metadata": {},
   "outputs": [],
   "source": [
    "class Vehicle:\n",
    "    def set_name(self,name):\n",
    "        self.name = name\n",
    "    \n",
    "    def set_model(self, model):\n",
    "        self.model = model"
   ]
  },
  {
   "cell_type": "code",
   "execution_count": 60,
   "metadata": {},
   "outputs": [
    {
     "name": "stdout",
     "output_type": "stream",
     "text": [
      "Civic 2012\n"
     ]
    }
   ],
   "source": [
    "car1 = Vehicle()\n",
    "car1.set_name('Civic')\n",
    "car1.set_model(2012)\n",
    "print(car1.name, car1.model)"
   ]
  },
  {
   "cell_type": "code",
   "execution_count": 61,
   "metadata": {},
   "outputs": [
    {
     "name": "stdout",
     "output_type": "stream",
     "text": [
      "Audi 2021\n"
     ]
    }
   ],
   "source": [
    "car1 = Vehicle()\n",
    "car1.set_name('Audi')\n",
    "car1.set_model(2021)\n",
    "print(car1.name, car1.model)"
   ]
  },
  {
   "cell_type": "markdown",
   "metadata": {},
   "source": [
    "#### Attributes in the constructor (Class attribute)"
   ]
  },
  {
   "cell_type": "code",
   "execution_count": 62,
   "metadata": {},
   "outputs": [],
   "source": [
    "class Universities:\n",
    "    def __init__(self, name, city, location='Pakistan'):\n",
    "        self.name = name\n",
    "        self.city = city\n",
    "        self.location = location"
   ]
  },
  {
   "cell_type": "code",
   "execution_count": 63,
   "metadata": {},
   "outputs": [],
   "source": [
    "bahria = Universities('BUKC', 'Karachi')"
   ]
  },
  {
   "cell_type": "code",
   "execution_count": 64,
   "metadata": {},
   "outputs": [
    {
     "name": "stdout",
     "output_type": "stream",
     "text": [
      "BUKC\n",
      "Karachi\n",
      "Pakistan\n"
     ]
    }
   ],
   "source": [
    "print(bahria.name, bahria.city, bahria.location, sep= '\\n')"
   ]
  },
  {
   "cell_type": "markdown",
   "metadata": {},
   "source": [
    "### Best Way to Deal With Class\n",
    "    1- initialize attributes in init()\n",
    "    2- Naming: Camelcase(ClassName) for class, lower_snake_case for functions & attributes\n",
    "    3- self is self\n",
    "    4- Use docstrings"
   ]
  }
 ],
 "metadata": {
  "kernelspec": {
   "display_name": "Python 3",
   "language": "python",
   "name": "python3"
  },
  "language_info": {
   "codemirror_mode": {
    "name": "ipython",
    "version": 3
   },
   "file_extension": ".py",
   "mimetype": "text/x-python",
   "name": "python",
   "nbconvert_exporter": "python",
   "pygments_lexer": "ipython3",
   "version": "3.8.3"
  }
 },
 "nbformat": 4,
 "nbformat_minor": 4
}
