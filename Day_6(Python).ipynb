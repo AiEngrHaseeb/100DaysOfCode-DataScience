{
 "cells": [
  {
   "cell_type": "markdown",
   "metadata": {},
   "source": [
    "## Functions\n",
    "    pre define functions\n",
    "    user define functions\n",
    "    recursive functions\n",
    "    lambda function\n",
    "#### Arguments Function types\n",
    "    required arguments\n",
    "    default arguments\n",
    "    positional argumanets\n",
    "    key word arguments\n",
    "    optional arguments\n",
    "#### return Function types \n",
    "    no return\n",
    "    return\n",
    "    argument as list\n",
    "    argument as dictionary\n",
    "    recursive functions\n",
    "    generator functions"
   ]
  },
  {
   "cell_type": "markdown",
   "metadata": {},
   "source": [
    "<img src = \"https://www.learnbyexample.org/wp-content/uploads/python/Python-Function-Syntax.png\">"
   ]
  },
  {
   "cell_type": "markdown",
   "metadata": {},
   "source": [
    "#### Notes\n",
    "##### Pre-define-->those functions which are made already.\n",
    "##### User-defined-->those functionwhich we made for some environment. User defined not means we're making from scretech we can re create\n",
    "##### Default-fucntion-->some function didn't took functions are called default Functions.\n",
    "##### lamba-Function---> ak line ka function, bna name ka function, jo na is se pehly use howa na isky bad use hoga to lammba hoga.\n",
    "##### Recursive-Fuction--->Repeatation of function itself is knnows is Recursive Function. khud apny ap ko call karta ha or usy kisi jaga py roky hain\n",
    "##### Required argument---> those function which require argumenr & are necessary are called required argument eg:Hubby/Wife marriage\n",
    "##### Optional argument---> those argument which are not required are called optionnal reuirement eg: relative,walima, hall.\n",
    "##### return---> store in variabble & answer can be inpute for another Function.\n",
    "##### Non return ---> Which Perform its funtion without return any value.\n",
    "##### default-argument---> sef by programmer\n",
    "##### positional-argument ---> which we def postion\n",
    "##### keyword-Arrgument--->with the help of key value we can give any function value\n",
    "##### argument with list ---> *unzip one value one by one in Funtion\n",
    "##### argument with Dictionary---> (double starik)\\unzip the value one by Every Function have: Fuction Deleration Function Body Function Calling\n",
    "##### parameter vs Argument--> A parameter is the variable listed inside the parentheses in the function definition. An argument is the value that are sent to the function when it is called."
   ]
  },
  {
   "cell_type": "code",
   "execution_count": 1,
   "metadata": {},
   "outputs": [
    {
     "name": "stdout",
     "output_type": "stream",
     "text": [
      "Pakistan zindabad\n",
      "we are pakistani\n",
      "we love our country\n",
      "Pakistan zindabad\n",
      "we are pakistani\n",
      "we love our country\n",
      "Pakistan zindabad\n",
      "we are pakistani\n",
      "we love our country\n"
     ]
    }
   ],
   "source": [
    "# We want to print same statement for 3 times so we have to do same work for many time ...\n",
    "print('Pakistan zindabad')\n",
    "print('we are pakistani')\n",
    "print('we love our country')\n",
    "\n",
    "print('Pakistan zindabad')\n",
    "print('we are pakistani')\n",
    "print('we love our country')\n",
    "\n",
    "print('Pakistan zindabad')\n",
    "print('we are pakistani')\n",
    "print('we love our country')"
   ]
  },
  {
   "cell_type": "code",
   "execution_count": 2,
   "metadata": {},
   "outputs": [
    {
     "name": "stdout",
     "output_type": "stream",
     "text": [
      "Pakistan zindabad.\n",
      "we are pakistani.\n",
      "we love our country..!!!\n",
      "Pakistan zindabad.\n",
      "we are pakistani.\n",
      "we love our country..!!!\n",
      "Pakistan zindabad.\n",
      "we are pakistani.\n",
      "we love our country..!!!\n"
     ]
    }
   ],
   "source": [
    "# To over come this prblem the Function step forward...\n",
    "def my_country():\n",
    "    print('Pakistan zindabad.')\n",
    "    print('we are pakistani.')\n",
    "    print('we love our country..!!!')\n",
    "my_country()\n",
    "my_country()\n",
    "my_country()"
   ]
  },
  {
   "cell_type": "code",
   "execution_count": 83,
   "metadata": {},
   "outputs": [
    {
     "name": "stdout",
     "output_type": "stream",
     "text": [
      "Pakistan zinda bad\n"
     ]
    },
    {
     "data": {
      "text/plain": [
       "'print 3 statement'"
      ]
     },
     "execution_count": 83,
     "metadata": {},
     "output_type": "execute_result"
    }
   ],
   "source": [
    "def print_function(): # Function Dec\n",
    "    #Body Start indentation block\n",
    "    \n",
    "    '''print 3 statement''' # Doc_string\n",
    "    \n",
    "    return(\"Pakistan zinda bad\") # Statment1\n",
    "    # in multiple return when function get first return it will stop at that point n return that value\n",
    "    return(\"We are ABC\")#statment2\n",
    "    return(\"We love our country!\")#Statment3\n",
    "    return(\"----------------------\")\n",
    "    \n",
    "    #Body End indentation block\n",
    "print(print_function())\n",
    "print_function.__doc__"
   ]
  },
  {
   "cell_type": "markdown",
   "metadata": {},
   "source": [
    "#### Pre define functions\n",
    "    Built-in function"
   ]
  },
  {
   "cell_type": "code",
   "execution_count": 7,
   "metadata": {},
   "outputs": [
    {
     "name": "stdout",
     "output_type": "stream",
     "text": [
      "print is a pre define function\n",
      "input is a pre-define function: 12456df\n",
      "<class 'int'>\n",
      "12\n",
      "2002742025264\n"
     ]
    }
   ],
   "source": [
    "print('print is a pre define function')\n",
    "input('input is a pre-define function: ')\n",
    "print(type(11))\n",
    "print(len('Haseeb Aslam'))\n",
    "print(id('address'))"
   ]
  },
  {
   "cell_type": "markdown",
   "metadata": {},
   "source": [
    "#### User define functions"
   ]
  },
  {
   "cell_type": "code",
   "execution_count": 82,
   "metadata": {},
   "outputs": [
    {
     "name": "stdout",
     "output_type": "stream",
     "text": [
      "Pakistan zinda bad\n",
      "We are ABC\n",
      "We love our country!\n",
      "----------------------\n"
     ]
    },
    {
     "data": {
      "text/plain": [
       "'print 3 statement'"
      ]
     },
     "execution_count": 82,
     "metadata": {},
     "output_type": "execute_result"
    }
   ],
   "source": [
    "def print_function(): # Function Dec\n",
    "    #Body Start indentation block\n",
    "    \n",
    "    '''print 3 statement''' # Doc_string\n",
    "    \n",
    "    print(\"Pakistan zinda bad\") # Statment1\n",
    "    print(\"We are ABC\")#statment2\n",
    "    print(\"We love our country!\")#Statment3\n",
    "    print(\"----------------------\")\n",
    "    \n",
    "    #Body End indentation block\n",
    "print_function()\n",
    "print_function.__doc__"
   ]
  },
  {
   "cell_type": "markdown",
   "metadata": {},
   "source": [
    "#### Required arguments functions "
   ]
  },
  {
   "cell_type": "code",
   "execution_count": 15,
   "metadata": {},
   "outputs": [
    {
     "ename": "TypeError",
     "evalue": "len() takes exactly one argument (0 given)",
     "output_type": "error",
     "traceback": [
      "\u001b[1;31m---------------------------------------------------------------------------\u001b[0m",
      "\u001b[1;31mTypeError\u001b[0m                                 Traceback (most recent call last)",
      "\u001b[1;32m<ipython-input-15-4416a1166829>\u001b[0m in \u001b[0;36m<module>\u001b[1;34m\u001b[0m\n\u001b[0;32m      1\u001b[0m \u001b[1;31m#For example:\u001b[0m\u001b[1;33m\u001b[0m\u001b[1;33m\u001b[0m\u001b[1;33m\u001b[0m\u001b[0m\n\u001b[1;32m----> 2\u001b[1;33m \u001b[0mlen\u001b[0m\u001b[1;33m(\u001b[0m\u001b[1;33m)\u001b[0m \u001b[1;31m#len() takes exactly one argument (0 given)\u001b[0m\u001b[1;33m\u001b[0m\u001b[1;33m\u001b[0m\u001b[0m\n\u001b[0m",
      "\u001b[1;31mTypeError\u001b[0m: len() takes exactly one argument (0 given)"
     ]
    }
   ],
   "source": [
    "#For example: \n",
    "len() #len() takes exactly one argument (0 given)"
   ]
  },
  {
   "cell_type": "code",
   "execution_count": 29,
   "metadata": {},
   "outputs": [
    {
     "name": "stdout",
     "output_type": "stream",
     "text": [
      "\n",
      "    sid --> Student id\n",
      "    sname --> Student Name\n",
      "    fname --> Father's Name\n",
      "    course --> Course\n",
      "    timing --> Timing\n",
      "    \n",
      "\n",
      "    ........PIAIC........\n",
      "    Student id: SMIT04588\n",
      "    Student Name: Qasim\n",
      "    Father's Name: Hassan\n",
      "    Course: A.I\n",
      "    Timing: 09 to 11\n",
      "    \n",
      "\n",
      "    ........PIAIC........\n",
      "    Student id: SMIT04613\n",
      "    Student Name: Haseeb\n",
      "    Father's Name: Aslam\n",
      "    Course: DS\n",
      "    Timing: 11 to 2:30\n",
      "    \n",
      "\n",
      "    ........PIAIC........\n",
      "    Student id: SMIT04533\n",
      "    Student Name: Yasir\n",
      "    Father's Name: Akbar\n",
      "    Course: DS\n",
      "    Timing: 2:30 to 4:30\n",
      "    \n"
     ]
    }
   ],
   "source": [
    "def id_card(sid, sname, fname, course, timing):\n",
    "    #doc_string\n",
    "    '''\n",
    "    sid --> Student id\n",
    "    sname --> Student Name\n",
    "    fname --> Father's Name\n",
    "    course --> Course\n",
    "    timing --> Timing\n",
    "    '''\n",
    "    print(\n",
    "    f\"\"\"\n",
    "    ........PIAIC........\n",
    "    Student id: {sid}\n",
    "    Student Name: {sname}\n",
    "    Father's Name: {fname}\n",
    "    Course: {course}\n",
    "    Timing: {timing}\n",
    "    \"\"\"\n",
    "    )\n",
    "print(id_card.__doc__)\n",
    "id_card('SMIT04588','Qasim','Hassan','A.I','09 to 11')    \n",
    "id_card('SMIT04613', 'Haseeb', 'Aslam', 'DS', '11 to 2:30')\n",
    "id_card('SMIT04533', 'Yasir', 'Akbar', 'DS', '2:30 to 4:30')\n",
    "#id_card() # SHIFT+TAB to check number of arguments and doc_string"
   ]
  },
  {
   "cell_type": "code",
   "execution_count": 23,
   "metadata": {},
   "outputs": [
    {
     "name": "stdout",
     "output_type": "stream",
     "text": [
      "\n",
      "    --->SAYLANI<---\n",
      "    student id : SMIT04588\n",
      "    student name : Qasim\n",
      "    student father name : Hassan\n",
      "    course : A.I\n",
      "    time : 09 to 11\n",
      "\n",
      "    --->SAYLANI<---\n",
      "    student id : SMIT04613\n",
      "    student name : Haseeb\n",
      "    student father name : Aslam\n",
      "    course : DS\n",
      "    time : 11 to 2:30\n",
      "\n",
      "    --->SAYLANI<---\n",
      "    student id : SMIT04533\n",
      "    student name : Yasir\n",
      "    student father name : Akbar\n",
      "    course : DS\n",
      "    time : 2:30 to 4:30\n"
     ]
    }
   ],
   "source": [
    "def id_card(sid, name, fname, course, time):\n",
    "    print(\n",
    "        \"\"\"\n",
    "    --->SAYLANI<---\n",
    "    student id : {0} \n",
    "    student name : {1}\n",
    "    student father name : {2}\n",
    "    course : {3}\n",
    "    time : {4}\"\"\".format(sid, name,fname, course,time) #if we don't pass the loc, format will place in format which they are pass...\n",
    "    )\n",
    "id_card('SMIT04588','Qasim','Hassan','A.I','09 to 11')    \n",
    "id_card('SMIT04613', 'Haseeb', 'Aslam', 'DS', '11 to 2:30')\n",
    "id_card('SMIT04533', 'Yasir', 'Akbar', 'DS', '2:30 to 4:30')"
   ]
  },
  {
   "cell_type": "code",
   "execution_count": 31,
   "metadata": {},
   "outputs": [
    {
     "name": "stdout",
     "output_type": "stream",
     "text": [
      "5 6 0\n",
      "sum is: 11\n"
     ]
    }
   ],
   "source": [
    "def add(num1,num2,num3):\n",
    "    print(num1,num2,num3)\n",
    "    print(f'sum is: {num1+num2+num3}')  \n",
    "    \n",
    "add(5,6,0)"
   ]
  },
  {
   "cell_type": "code",
   "execution_count": 33,
   "metadata": {},
   "outputs": [
    {
     "ename": "TypeError",
     "evalue": "add() missing 1 required positional argument: 'num3'",
     "output_type": "error",
     "traceback": [
      "\u001b[1;31m---------------------------------------------------------------------------\u001b[0m",
      "\u001b[1;31mTypeError\u001b[0m                                 Traceback (most recent call last)",
      "\u001b[1;32m<ipython-input-33-02522ddf8864>\u001b[0m in \u001b[0;36m<module>\u001b[1;34m\u001b[0m\n\u001b[1;32m----> 1\u001b[1;33m \u001b[0madd\u001b[0m\u001b[1;33m(\u001b[0m\u001b[1;36m5\u001b[0m\u001b[1;33m,\u001b[0m\u001b[1;36m6\u001b[0m\u001b[1;33m)\u001b[0m \u001b[1;31m# if no of arguments are not as required by function then it will generate an error...\u001b[0m\u001b[1;33m\u001b[0m\u001b[1;33m\u001b[0m\u001b[0m\n\u001b[0m",
      "\u001b[1;31mTypeError\u001b[0m: add() missing 1 required positional argument: 'num3'"
     ]
    }
   ],
   "source": [
    "add(5,6) # if no of arguments are not as required by function then it will generate an error..."
   ]
  },
  {
   "cell_type": "markdown",
   "metadata": {},
   "source": [
    "#### Default or Optional Arguments"
   ]
  },
  {
   "cell_type": "code",
   "execution_count": 39,
   "metadata": {},
   "outputs": [],
   "source": [
    "# we tackle this argument problem we use default or optinal arguments function\n",
    "def add(x,y=0,z=1): # you can set any arguments to default as per your need\n",
    "    print(x,y,z,)\n",
    "    print(f'sum is: {x+y+z}')"
   ]
  },
  {
   "cell_type": "code",
   "execution_count": 44,
   "metadata": {},
   "outputs": [
    {
     "name": "stdout",
     "output_type": "stream",
     "text": [
      "5 0 1\n",
      "sum is: 6\n"
     ]
    }
   ],
   "source": [
    "add(5) #x=5,y=0,z=1"
   ]
  },
  {
   "cell_type": "code",
   "execution_count": 45,
   "metadata": {},
   "outputs": [
    {
     "name": "stdout",
     "output_type": "stream",
     "text": [
      "5 6 1\n",
      "sum is: 12\n"
     ]
    }
   ],
   "source": [
    "add(5,6) #x=5,y=6,z=1"
   ]
  },
  {
   "cell_type": "code",
   "execution_count": 46,
   "metadata": {},
   "outputs": [
    {
     "name": "stdout",
     "output_type": "stream",
     "text": [
      "5 6 0\n",
      "sum is: 11\n"
     ]
    }
   ],
   "source": [
    "add(5,6,0) #x=5,y=0,z=0\n",
    "# given arguments has higher priority then default arguments..."
   ]
  },
  {
   "cell_type": "markdown",
   "metadata": {},
   "source": [
    "#### mutable default parameter values"
   ]
  },
  {
   "cell_type": "code",
   "execution_count": 54,
   "metadata": {},
   "outputs": [],
   "source": [
    "def f(my_list=[]):\n",
    "    my_list.append('X')\n",
    "    return my_list"
   ]
  },
  {
   "cell_type": "code",
   "execution_count": 55,
   "metadata": {},
   "outputs": [
    {
     "data": {
      "text/plain": [
       "['X']"
      ]
     },
     "execution_count": 55,
     "metadata": {},
     "output_type": "execute_result"
    }
   ],
   "source": [
    "f() # if list is empty it will add \"X\" number of time you'll run the code..."
   ]
  },
  {
   "cell_type": "code",
   "execution_count": 56,
   "metadata": {},
   "outputs": [
    {
     "data": {
      "text/plain": [
       "['Haseeb', 13, 'X']"
      ]
     },
     "execution_count": 56,
     "metadata": {},
     "output_type": "execute_result"
    }
   ],
   "source": [
    "f([\"Haseeb\",13])"
   ]
  },
  {
   "cell_type": "code",
   "execution_count": 67,
   "metadata": {},
   "outputs": [],
   "source": [
    "def f(my_list=None): \n",
    "    if my_list is None:\n",
    "        my_list= []\n",
    "        my_list.append('X')\n",
    "    else:\n",
    "        my_list.append(\"*\")\n",
    "    return my_list\n"
   ]
  },
  {
   "cell_type": "code",
   "execution_count": 68,
   "metadata": {},
   "outputs": [
    {
     "data": {
      "text/plain": [
       "['X']"
      ]
     },
     "execution_count": 68,
     "metadata": {},
     "output_type": "execute_result"
    }
   ],
   "source": [
    "f() # if list is empty or not passed as argument both is None so, it will add \"X\" "
   ]
  },
  {
   "cell_type": "code",
   "execution_count": 70,
   "metadata": {},
   "outputs": [
    {
     "data": {
      "text/plain": [
       "['Haseeb', 13, '*']"
      ]
     },
     "execution_count": 70,
     "metadata": {},
     "output_type": "execute_result"
    }
   ],
   "source": [
    "f([\"Haseeb\",13]) # if list is passed as argument  so, it will add \"*\"  at the end"
   ]
  },
  {
   "cell_type": "markdown",
   "metadata": {},
   "source": [
    "#### Positional Arguments"
   ]
  },
  {
   "cell_type": "code",
   "execution_count": 79,
   "metadata": {},
   "outputs": [
    {
     "name": "stdout",
     "output_type": "stream",
     "text": [
      "\n",
      "    ........PIAIC........\n",
      "    Student id: SMIT04613\n",
      "    Student Name: Haseeb\n",
      "    Father's Name: Aslam\n",
      "    Course: DS\n",
      "    Timing: 11 to 2:30\n",
      "    \n",
      "\n",
      "    ........PIAIC........\n",
      "    Student id: Qasim\n",
      "    Student Name: SMIT04588\n",
      "    Father's Name: A.I\n",
      "    Course: 09 to 11\n",
      "    Timing: Hassan\n",
      "    \n"
     ]
    }
   ],
   "source": [
    "def id_card(sid, sname, fname, course, timing):\n",
    "    #doc_string\n",
    "    '''\n",
    "    sid --> Student id\n",
    "    sname --> Student Name\n",
    "    fname --> Father's Name\n",
    "    course --> Course\n",
    "    timing --> Timing\n",
    "    '''\n",
    "    return(\n",
    "    f\"\"\"\n",
    "    ........PIAIC........\n",
    "    Student id: {sid}\n",
    "    Student Name: {sname}\n",
    "    Father's Name: {fname}\n",
    "    Course: {course}\n",
    "    Timing: {timing}\n",
    "    \"\"\"\n",
    "    )\n",
    "print(id_card('SMIT04613', 'Haseeb', 'Aslam', 'DS', '11 to 2:30'))\n",
    "print(id_card('Qasim','SMIT04588','A.I','09 to 11','Hassan'))    \n",
    "# it wouldn't make an error , it just place data on position as arguments pass"
   ]
  },
  {
   "cell_type": "markdown",
   "metadata": {},
   "source": [
    "#### Key_word Arguments"
   ]
  },
  {
   "cell_type": "code",
   "execution_count": 78,
   "metadata": {},
   "outputs": [
    {
     "name": "stdout",
     "output_type": "stream",
     "text": [
      "\n",
      "    ........PIAIC........\n",
      "    Student id: SMIT04613\n",
      "    Student Name: Haseeb\n",
      "    Father's Name: Aslam\n",
      "    Course: DS\n",
      "    Timing: 11 to 2:30\n",
      "    \n"
     ]
    }
   ],
   "source": [
    "def id_card(sid, sname, fname, course, timing):\n",
    "    #doc_string\n",
    "    '''\n",
    "    sid --> Student id\n",
    "    sname --> Student Name\n",
    "    fname --> Father's Name\n",
    "    course --> Course\n",
    "    timing --> Timing\n",
    "    '''\n",
    "    return(\n",
    "    f\"\"\"\n",
    "    ........PIAIC........\n",
    "    Student id: {sid}\n",
    "    Student Name: {sname}\n",
    "    Father's Name: {fname}\n",
    "    Course: {course}\n",
    "    Timing: {timing}\n",
    "    \"\"\"\n",
    "    )\n",
    "print(id_card(sname='Haseeb', course='DS', timing='11 to 2:30',sid = 'SMIT04613',fname = 'Aslam'))\n",
    "#id_card() # SHIFT+TAB to check number of arguments and doc_string"
   ]
  },
  {
   "cell_type": "markdown",
   "metadata": {},
   "source": [
    "#### Non-return functions"
   ]
  },
  {
   "cell_type": "code",
   "execution_count": 84,
   "metadata": {},
   "outputs": [],
   "source": [
    "#those function who are not able to return value and we are not able to get value from that function... "
   ]
  },
  {
   "cell_type": "code",
   "execution_count": 86,
   "metadata": {},
   "outputs": [
    {
     "name": "stdout",
     "output_type": "stream",
     "text": [
      "Haseeb\n",
      "haseeb\n",
      "None\n",
      "HAseeb Aslam\n",
      "None\n"
     ]
    }
   ],
   "source": [
    "print(\"Haseeb\")\n",
    "print(print(\"haseeb\"))\n",
    "a = print(\"HAseeb Aslam\")\n",
    "print(a)"
   ]
  },
  {
   "cell_type": "code",
   "execution_count": 101,
   "metadata": {},
   "outputs": [
    {
     "name": "stdout",
     "output_type": "stream",
     "text": [
      "\n",
      "    ........PIAIC........\n",
      "    Student id: SMIT04613\n",
      "    Student Name: Haseeb\n",
      "    Father's Name: Aslam\n",
      "    Course: DS\n",
      "    Timing: 11 to 2:30\n",
      "    \n",
      "-----------\n",
      "None\n"
     ]
    }
   ],
   "source": [
    "def id_card(sid, sname, fname, course, timing):\n",
    "    #doc_string\n",
    "    '''\n",
    "    sid --> Student id\n",
    "    sname --> Student Name\n",
    "    fname --> Father's Name\n",
    "    course --> Course\n",
    "    timing --> Timing\n",
    "    '''\n",
    "    print(\n",
    "    f\"\"\"\n",
    "    ........PIAIC........\n",
    "    Student id: {sid}\n",
    "    Student Name: {sname}\n",
    "    Father's Name: {fname}\n",
    "    Course: {course}\n",
    "    Timing: {timing}\n",
    "    \"\"\"\n",
    "    )\n",
    "data = id_card('SMIT04613', 'Haseeb', 'Aslam', 'DS', '11 to 2:30')\n",
    "print(\"-----------\")\n",
    "print(data)\n",
    "#id_card() # SHIFT+TAB to check number of arguments and doc_string"
   ]
  },
  {
   "cell_type": "markdown",
   "metadata": {},
   "source": [
    "#### Return functions\n",
    "\n"
   ]
  },
  {
   "cell_type": "code",
   "execution_count": 94,
   "metadata": {},
   "outputs": [
    {
     "data": {
      "text/plain": [
       "9"
      ]
     },
     "execution_count": 94,
     "metadata": {},
     "output_type": "execute_result"
    }
   ],
   "source": [
    "def add(x, y, z):\n",
    "    return x+y+z\n",
    "add(2,3,4) # return function"
   ]
  },
  {
   "cell_type": "code",
   "execution_count": 93,
   "metadata": {},
   "outputs": [
    {
     "data": {
      "text/plain": [
       "9"
      ]
     },
     "execution_count": 93,
     "metadata": {},
     "output_type": "execute_result"
    }
   ],
   "source": [
    "def add(x, y, z):\n",
    "    return x+y+z #always retun first\n",
    "    return x*y*z\n",
    "    return x/2*2\n",
    "add(2,3,4)"
   ]
  },
  {
   "cell_type": "code",
   "execution_count": 95,
   "metadata": {},
   "outputs": [
    {
     "data": {
      "text/plain": [
       "(9, 24, 2.0)"
      ]
     },
     "execution_count": 95,
     "metadata": {},
     "output_type": "execute_result"
    }
   ],
   "source": [
    "def add(x, y, z):\n",
    "    return x+y+z, x*y*z, x/2*2\n",
    "add(2,3,4)"
   ]
  },
  {
   "cell_type": "code",
   "execution_count": 102,
   "metadata": {},
   "outputs": [
    {
     "name": "stdout",
     "output_type": "stream",
     "text": [
      "-----------\n",
      "\n",
      "    ........PIAIC........\n",
      "    Student id: SMIT04613\n",
      "    Student Name: Haseeb\n",
      "    Father's Name: Aslam\n",
      "    Course: DS\n",
      "    Timing: 11 to 2:30\n",
      "    \n"
     ]
    }
   ],
   "source": [
    "def id_card(sid, sname, fname, course, timing):\n",
    "    #doc_string\n",
    "    '''\n",
    "    sid --> Student id\n",
    "    sname --> Student Name\n",
    "    fname --> Father's Name\n",
    "    course --> Course\n",
    "    timing --> Timing\n",
    "    '''\n",
    "    return(\n",
    "    f\"\"\"\n",
    "    ........PIAIC........\n",
    "    Student id: {sid}\n",
    "    Student Name: {sname}\n",
    "    Father's Name: {fname}\n",
    "    Course: {course}\n",
    "    Timing: {timing}\n",
    "    \"\"\"\n",
    "    )\n",
    "data = id_card('SMIT04613', 'Haseeb', 'Aslam', 'DS', '11 to 2:30')\n",
    "print(\"-----------\")\n",
    "print(data)\n",
    "#id_card() # SHIFT+TAB to check number of arguments and doc_string"
   ]
  },
  {
   "cell_type": "markdown",
   "metadata": {},
   "source": [
    "#### Pass argument with list"
   ]
  },
  {
   "cell_type": "code",
   "execution_count": 96,
   "metadata": {},
   "outputs": [
    {
     "name": "stdout",
     "output_type": "stream",
     "text": [
      "[0, 'Haseeb', 'Aslam', '013', 'DS']\n"
     ]
    }
   ],
   "source": [
    "l1 = [0,'Haseeb', 'Aslam', '013', 'DS']\n",
    "print(l1)"
   ]
  },
  {
   "cell_type": "code",
   "execution_count": 97,
   "metadata": {},
   "outputs": [
    {
     "name": "stdout",
     "output_type": "stream",
     "text": [
      "0 Haseeb Aslam 013 DS\n"
     ]
    }
   ],
   "source": [
    "l1 = [0,'Haseeb', 'Aslam', '013', 'DS']\n",
    "print(l1[0], l1[1], l1[2], l1[3], l1[4])"
   ]
  },
  {
   "cell_type": "code",
   "execution_count": 100,
   "metadata": {},
   "outputs": [
    {
     "name": "stdout",
     "output_type": "stream",
     "text": [
      "0 Haseeb Aslam 013 DS\n"
     ]
    }
   ],
   "source": [
    "l1 = [0,'Haseeb', 'Aslam', '013', 'DS']\n",
    "print(*l1) #auto slicing"
   ]
  },
  {
   "cell_type": "code",
   "execution_count": 104,
   "metadata": {},
   "outputs": [
    {
     "name": "stdout",
     "output_type": "stream",
     "text": [
      "\n",
      "    ........PIAIC........\n",
      "    Student id: SMIT04613\n",
      "    Student Name: Haseeb\n",
      "    Father's Name: Aslam\n",
      "    Course: DS\n",
      "    Timing: 11 to 2:30\n",
      "    \n"
     ]
    }
   ],
   "source": [
    "def id_card(sid, sname, fname, course, timing):\n",
    "    #doc_string\n",
    "    '''\n",
    "    sid --> Student id\n",
    "    sname --> Student Name\n",
    "    fname --> Father's Name\n",
    "    course --> Course\n",
    "    timing --> Timing\n",
    "    '''\n",
    "    return(\n",
    "    f\"\"\"\n",
    "    ........PIAIC........\n",
    "    Student id: {sid}\n",
    "    Student Name: {sname}\n",
    "    Father's Name: {fname}\n",
    "    Course: {course}\n",
    "    Timing: {timing}\n",
    "    \"\"\"\n",
    "    )\n",
    "data = ['SMIT04613', 'Haseeb', 'Aslam', 'DS', '11 to 2:30']\n",
    "print(id_card(*data)) #starik out all the values onne by one we call the lsit in function.\n"
   ]
  },
  {
   "cell_type": "code",
   "execution_count": 118,
   "metadata": {},
   "outputs": [
    {
     "name": "stdout",
     "output_type": "stream",
     "text": [
      "Haseeb\n",
      "Aslam\n",
      "<class 'tuple'>\n",
      "2\n",
      "7\n",
      "27\n"
     ]
    }
   ],
   "source": [
    "def add(name,fname,*z): # *z will accept all the element from 3rd argument to onward as a singal tuple, You acan access them same like as you access tuple elements...\n",
    "    print(name) # 1st atr\n",
    "    print(fname) # 2nd atr\n",
    "    print(type(z))\n",
    "    print(z[0]) # Select element from  \"z\"tuple\n",
    "    print(z[5]) # Select element from  \"z\"tuple\n",
    "    print(sum(z)) # Sum of All element in \"z\"tuple\n",
    "add('Haseeb', 'Aslam', 2,3,4,5,6,7)"
   ]
  },
  {
   "cell_type": "markdown",
   "metadata": {},
   "source": [
    "#### Pass argument with dictionary"
   ]
  },
  {
   "cell_type": "code",
   "execution_count": 115,
   "metadata": {},
   "outputs": [],
   "source": [
    "def id_card(sid, name, fname, course, time):\n",
    "    print(\n",
    "        \"\"\"\n",
    "    --->SAYLANI<---\n",
    "    student id : {}\n",
    "    student name : {}\n",
    "    student father name : {}\n",
    "    course : {}\n",
    "    time : {}\"\"\".format(sid, name,fname, course,time)\n",
    "    )\n"
   ]
  },
  {
   "cell_type": "code",
   "execution_count": 133,
   "metadata": {},
   "outputs": [
    {
     "name": "stdout",
     "output_type": "stream",
     "text": [
      "\n",
      "    --->SAYLANI<---\n",
      "    student id : sid\n",
      "    student name : name\n",
      "    student father name : fname\n",
      "    course : course\n",
      "    time : time\n",
      "\n",
      "    --->SAYLANI<---\n",
      "    student id : 0\n",
      "    student name : Haseeb\n",
      "    student father name : ASlam\n",
      "    course : DS\n",
      "    time : 09 to 11pm\n"
     ]
    }
   ],
   "source": [
    "l1 = {\"sid\":0,\n",
    "      \"name\": 'Haseeb',\n",
    "      \"fname\":'ASlam',\n",
    "      \"course\":'DS',\n",
    "      \"time\":'09 to 11pm'}\n",
    "\n",
    "id_card(*l1) #  * pass keys of dictionary as argument\n",
    "id_card(**l1) #  **  pass Values of dictionary as argument"
   ]
  },
  {
   "cell_type": "markdown",
   "metadata": {},
   "source": [
    "#### Use Of ** in Parameter"
   ]
  },
  {
   "cell_type": "code",
   "execution_count": 141,
   "metadata": {},
   "outputs": [
    {
     "name": "stdout",
     "output_type": "stream",
     "text": [
      "{'name': 'qasim', 'num1': 1, 'num2': 2, 'num3': 3, 'num4': 4}\n"
     ]
    }
   ],
   "source": [
    "def my_func(**nums):\n",
    "    print(nums)\n",
    "\n",
    "my_func(name = 'qasim', num1 = 1, num2= 2, num3 = 3, num4 = 4)"
   ]
  },
  {
   "cell_type": "code",
   "execution_count": 136,
   "metadata": {},
   "outputs": [
    {
     "name": "stdout",
     "output_type": "stream",
     "text": [
      "qasim\n",
      "{'num1': 1, 'num2': 2, 'num3': 3, 'num4': 4}\n"
     ]
    }
   ],
   "source": [
    "def my_func(name, **nums):\n",
    "    print(name)\n",
    "    print(nums)\n",
    "\n",
    "my_func('qasim', num1 = 1, num2= 2, num3 = 3, num4 = 4)"
   ]
  },
  {
   "cell_type": "markdown",
   "metadata": {},
   "source": [
    "#### Unlimited arguments"
   ]
  },
  {
   "cell_type": "code",
   "execution_count": 117,
   "metadata": {},
   "outputs": [
    {
     "name": "stdout",
     "output_type": "stream",
     "text": [
      "Haseeb\n",
      "(2, 3, 4, 5, 6)\n",
      "<class 'tuple'>\n",
      "20\n"
     ]
    }
   ],
   "source": [
    "def my_func(name, *number):\n",
    "    print(name)\n",
    "    print(number)\n",
    "    print(type(number))\n",
    "    print(sum(number))\n",
    "\n",
    "my_func('Haseeb', 2,3,4,5,6)"
   ]
  },
  {
   "cell_type": "code",
   "execution_count": 120,
   "metadata": {},
   "outputs": [
    {
     "name": "stdout",
     "output_type": "stream",
     "text": [
      "Haseeb\n",
      "(2, 3, 4, 5, 6)\n",
      "20\n"
     ]
    }
   ],
   "source": [
    "def my_func(*number, name):\n",
    "    print(name)\n",
    "    print(number)\n",
    "    print(sum(number))\n",
    "\n",
    "my_func(2,3,4,5,6, name = 'Haseeb')"
   ]
  },
  {
   "cell_type": "code",
   "execution_count": 121,
   "metadata": {},
   "outputs": [
    {
     "ename": "TypeError",
     "evalue": "my_func() missing 1 required keyword-only argument: 'name'",
     "output_type": "error",
     "traceback": [
      "\u001b[1;31m---------------------------------------------------------------------------\u001b[0m",
      "\u001b[1;31mTypeError\u001b[0m                                 Traceback (most recent call last)",
      "\u001b[1;32m<ipython-input-121-1f8ffe174735>\u001b[0m in \u001b[0;36m<module>\u001b[1;34m\u001b[0m\n\u001b[0;32m      4\u001b[0m     \u001b[0mprint\u001b[0m\u001b[1;33m(\u001b[0m\u001b[0msum\u001b[0m\u001b[1;33m(\u001b[0m\u001b[0mnumber\u001b[0m\u001b[1;33m)\u001b[0m\u001b[1;33m)\u001b[0m\u001b[1;33m\u001b[0m\u001b[1;33m\u001b[0m\u001b[0m\n\u001b[0;32m      5\u001b[0m \u001b[1;33m\u001b[0m\u001b[0m\n\u001b[1;32m----> 6\u001b[1;33m \u001b[0mmy_func\u001b[0m\u001b[1;33m(\u001b[0m\u001b[1;36m2\u001b[0m\u001b[1;33m,\u001b[0m\u001b[1;36m3\u001b[0m\u001b[1;33m,\u001b[0m\u001b[1;36m4\u001b[0m\u001b[1;33m,\u001b[0m\u001b[1;36m5\u001b[0m\u001b[1;33m,\u001b[0m\u001b[1;36m6\u001b[0m\u001b[1;33m,\u001b[0m \u001b[1;34m'Haseeb'\u001b[0m\u001b[1;33m)\u001b[0m\u001b[1;33m\u001b[0m\u001b[1;33m\u001b[0m\u001b[0m\n\u001b[0m",
      "\u001b[1;31mTypeError\u001b[0m: my_func() missing 1 required keyword-only argument: 'name'"
     ]
    }
   ],
   "source": [
    "def my_func(*number, name):\n",
    "    print(name)\n",
    "    print(number)\n",
    "    print(sum(number))\n",
    "\n",
    "my_func(2,3,4,5,6, 'Haseeb')"
   ]
  },
  {
   "cell_type": "code",
   "execution_count": 122,
   "metadata": {},
   "outputs": [
    {
     "ename": "SyntaxError",
     "evalue": "positional argument follows keyword argument (<ipython-input-122-1a83804692fe>, line 6)",
     "output_type": "error",
     "traceback": [
      "\u001b[1;36m  File \u001b[1;32m\"<ipython-input-122-1a83804692fe>\"\u001b[1;36m, line \u001b[1;32m6\u001b[0m\n\u001b[1;33m    my_func(2,3,4,5,6, name = 'Haseeb',5,7,6)\u001b[0m\n\u001b[1;37m                                       ^\u001b[0m\n\u001b[1;31mSyntaxError\u001b[0m\u001b[1;31m:\u001b[0m positional argument follows keyword argument\n"
     ]
    }
   ],
   "source": [
    "def my_func(*number, name):\n",
    "    print(name)\n",
    "    print(number)\n",
    "    print(sum(number))\n",
    "\n",
    "my_func(2,3,4,5,6, name = 'Haseeb',5,7,6)"
   ]
  },
  {
   "cell_type": "code",
   "execution_count": 128,
   "metadata": {},
   "outputs": [
    {
     "ename": "TypeError",
     "evalue": "my_func() got an unexpected keyword argument 'number'",
     "output_type": "error",
     "traceback": [
      "\u001b[1;31m---------------------------------------------------------------------------\u001b[0m",
      "\u001b[1;31mTypeError\u001b[0m                                 Traceback (most recent call last)",
      "\u001b[1;32m<ipython-input-128-996077bbcd2d>\u001b[0m in \u001b[0;36m<module>\u001b[1;34m\u001b[0m\n\u001b[0;32m      4\u001b[0m     \u001b[0mprint\u001b[0m\u001b[1;33m(\u001b[0m\u001b[0msum\u001b[0m\u001b[1;33m(\u001b[0m\u001b[0mnumber\u001b[0m\u001b[1;33m)\u001b[0m\u001b[1;33m)\u001b[0m\u001b[1;33m\u001b[0m\u001b[1;33m\u001b[0m\u001b[0m\n\u001b[0;32m      5\u001b[0m \u001b[1;33m\u001b[0m\u001b[0m\n\u001b[1;32m----> 6\u001b[1;33m \u001b[0mmy_func\u001b[0m\u001b[1;33m(\u001b[0m\u001b[0msid\u001b[0m\u001b[1;33m=\u001b[0m\u001b[1;36m0\u001b[0m\u001b[1;33m,\u001b[0m \u001b[0mnumber\u001b[0m\u001b[1;33m=\u001b[0m \u001b[1;33m[\u001b[0m\u001b[1;36m2\u001b[0m\u001b[1;33m,\u001b[0m\u001b[1;36m3\u001b[0m\u001b[1;33m,\u001b[0m\u001b[1;36m4\u001b[0m\u001b[1;33m,\u001b[0m\u001b[1;36m5\u001b[0m\u001b[1;33m,\u001b[0m\u001b[1;36m6\u001b[0m\u001b[1;33m]\u001b[0m\u001b[1;33m,\u001b[0m \u001b[0mname\u001b[0m\u001b[1;33m=\u001b[0m \u001b[1;34m'Qasim'\u001b[0m\u001b[1;33m)\u001b[0m\u001b[1;33m\u001b[0m\u001b[1;33m\u001b[0m\u001b[0m\n\u001b[0m",
      "\u001b[1;31mTypeError\u001b[0m: my_func() got an unexpected keyword argument 'number'"
     ]
    }
   ],
   "source": [
    "def my_func(sid,*number, name):\n",
    "    print(name)\n",
    "    print(number)\n",
    "    print(sum(number))\n",
    "\n",
    "my_func(sid=0, number= [2,3,4,5,6], name= 'Haseeb')"
   ]
  },
  {
   "cell_type": "code",
   "execution_count": 131,
   "metadata": {},
   "outputs": [
    {
     "ename": "SyntaxError",
     "evalue": "positional argument follows keyword argument (<ipython-input-131-2c5e5a330a9b>, line 6)",
     "output_type": "error",
     "traceback": [
      "\u001b[1;36m  File \u001b[1;32m\"<ipython-input-131-2c5e5a330a9b>\"\u001b[1;36m, line \u001b[1;32m6\u001b[0m\n\u001b[1;33m    my_func(sid=0,  [2,3,4,5,6], name= 'Qasim')\u001b[0m\n\u001b[1;37m                    ^\u001b[0m\n\u001b[1;31mSyntaxError\u001b[0m\u001b[1;31m:\u001b[0m positional argument follows keyword argument\n"
     ]
    }
   ],
   "source": [
    "def my_func(sid,*number, name):\n",
    "    print(name)\n",
    "    print(number)\n",
    "    print(sum(number))\n",
    "\n",
    "my_func(sid=0,  [2,3,4,5,6], name= 'Haseeb')"
   ]
  },
  {
   "cell_type": "code",
   "execution_count": 130,
   "metadata": {},
   "outputs": [
    {
     "ename": "TypeError",
     "evalue": "my_func() got an unexpected keyword argument 'number'",
     "output_type": "error",
     "traceback": [
      "\u001b[1;31m---------------------------------------------------------------------------\u001b[0m",
      "\u001b[1;31mTypeError\u001b[0m                                 Traceback (most recent call last)",
      "\u001b[1;32m<ipython-input-130-e3e26785cf08>\u001b[0m in \u001b[0;36m<module>\u001b[1;34m\u001b[0m\n\u001b[0;32m      4\u001b[0m     \u001b[0mprint\u001b[0m\u001b[1;33m(\u001b[0m\u001b[0msum\u001b[0m\u001b[1;33m(\u001b[0m\u001b[0mnumber\u001b[0m\u001b[1;33m)\u001b[0m\u001b[1;33m)\u001b[0m\u001b[1;33m\u001b[0m\u001b[1;33m\u001b[0m\u001b[0m\n\u001b[0;32m      5\u001b[0m \u001b[1;33m\u001b[0m\u001b[0m\n\u001b[1;32m----> 6\u001b[1;33m \u001b[0mmy_func\u001b[0m\u001b[1;33m(\u001b[0m\u001b[1;36m0\u001b[0m\u001b[1;33m,\u001b[0m \u001b[0mnumber\u001b[0m\u001b[1;33m=\u001b[0m \u001b[1;33m[\u001b[0m\u001b[1;36m2\u001b[0m\u001b[1;33m,\u001b[0m\u001b[1;36m3\u001b[0m\u001b[1;33m,\u001b[0m\u001b[1;36m4\u001b[0m\u001b[1;33m,\u001b[0m\u001b[1;36m5\u001b[0m\u001b[1;33m,\u001b[0m\u001b[1;36m6\u001b[0m\u001b[1;33m]\u001b[0m\u001b[1;33m,\u001b[0m \u001b[0mname\u001b[0m\u001b[1;33m=\u001b[0m \u001b[1;34m'Qasim'\u001b[0m\u001b[1;33m)\u001b[0m\u001b[1;33m\u001b[0m\u001b[1;33m\u001b[0m\u001b[0m\n\u001b[0m",
      "\u001b[1;31mTypeError\u001b[0m: my_func() got an unexpected keyword argument 'number'"
     ]
    }
   ],
   "source": [
    "def my_func(sid,*number, name):\n",
    "    print(name)\n",
    "    print(number)\n",
    "    print(sum(number))\n",
    "\n",
    "my_func(0, number= [2,3,4,5,6], name= 'Haseeb')"
   ]
  },
  {
   "cell_type": "code",
   "execution_count": 132,
   "metadata": {},
   "outputs": [
    {
     "name": "stdout",
     "output_type": "stream",
     "text": [
      "Qasim\n",
      "([2, 3, 4, 5, 6],)\n"
     ]
    },
    {
     "ename": "TypeError",
     "evalue": "unsupported operand type(s) for +: 'int' and 'list'",
     "output_type": "error",
     "traceback": [
      "\u001b[1;31m---------------------------------------------------------------------------\u001b[0m",
      "\u001b[1;31mTypeError\u001b[0m                                 Traceback (most recent call last)",
      "\u001b[1;32m<ipython-input-132-6e5a13b09579>\u001b[0m in \u001b[0;36m<module>\u001b[1;34m\u001b[0m\n\u001b[0;32m      4\u001b[0m     \u001b[0mprint\u001b[0m\u001b[1;33m(\u001b[0m\u001b[0msum\u001b[0m\u001b[1;33m(\u001b[0m\u001b[0mnumber\u001b[0m\u001b[1;33m)\u001b[0m\u001b[1;33m)\u001b[0m\u001b[1;33m\u001b[0m\u001b[1;33m\u001b[0m\u001b[0m\n\u001b[0;32m      5\u001b[0m \u001b[1;33m\u001b[0m\u001b[0m\n\u001b[1;32m----> 6\u001b[1;33m \u001b[0mmy_func\u001b[0m\u001b[1;33m(\u001b[0m\u001b[1;36m0\u001b[0m\u001b[1;33m,\u001b[0m \u001b[1;33m[\u001b[0m\u001b[1;36m2\u001b[0m\u001b[1;33m,\u001b[0m\u001b[1;36m3\u001b[0m\u001b[1;33m,\u001b[0m\u001b[1;36m4\u001b[0m\u001b[1;33m,\u001b[0m\u001b[1;36m5\u001b[0m\u001b[1;33m,\u001b[0m\u001b[1;36m6\u001b[0m\u001b[1;33m]\u001b[0m\u001b[1;33m,\u001b[0m \u001b[0mname\u001b[0m\u001b[1;33m=\u001b[0m \u001b[1;34m'Qasim'\u001b[0m\u001b[1;33m)\u001b[0m\u001b[1;33m\u001b[0m\u001b[1;33m\u001b[0m\u001b[0m\n\u001b[0m",
      "\u001b[1;32m<ipython-input-132-6e5a13b09579>\u001b[0m in \u001b[0;36mmy_func\u001b[1;34m(sid, name, *number)\u001b[0m\n\u001b[0;32m      2\u001b[0m     \u001b[0mprint\u001b[0m\u001b[1;33m(\u001b[0m\u001b[0mname\u001b[0m\u001b[1;33m)\u001b[0m\u001b[1;33m\u001b[0m\u001b[1;33m\u001b[0m\u001b[0m\n\u001b[0;32m      3\u001b[0m     \u001b[0mprint\u001b[0m\u001b[1;33m(\u001b[0m\u001b[0mnumber\u001b[0m\u001b[1;33m)\u001b[0m\u001b[1;33m\u001b[0m\u001b[1;33m\u001b[0m\u001b[0m\n\u001b[1;32m----> 4\u001b[1;33m     \u001b[0mprint\u001b[0m\u001b[1;33m(\u001b[0m\u001b[0msum\u001b[0m\u001b[1;33m(\u001b[0m\u001b[0mnumber\u001b[0m\u001b[1;33m)\u001b[0m\u001b[1;33m)\u001b[0m\u001b[1;33m\u001b[0m\u001b[1;33m\u001b[0m\u001b[0m\n\u001b[0m\u001b[0;32m      5\u001b[0m \u001b[1;33m\u001b[0m\u001b[0m\n\u001b[0;32m      6\u001b[0m \u001b[0mmy_func\u001b[0m\u001b[1;33m(\u001b[0m\u001b[1;36m0\u001b[0m\u001b[1;33m,\u001b[0m \u001b[1;33m[\u001b[0m\u001b[1;36m2\u001b[0m\u001b[1;33m,\u001b[0m\u001b[1;36m3\u001b[0m\u001b[1;33m,\u001b[0m\u001b[1;36m4\u001b[0m\u001b[1;33m,\u001b[0m\u001b[1;36m5\u001b[0m\u001b[1;33m,\u001b[0m\u001b[1;36m6\u001b[0m\u001b[1;33m]\u001b[0m\u001b[1;33m,\u001b[0m \u001b[0mname\u001b[0m\u001b[1;33m=\u001b[0m \u001b[1;34m'Qasim'\u001b[0m\u001b[1;33m)\u001b[0m\u001b[1;33m\u001b[0m\u001b[1;33m\u001b[0m\u001b[0m\n",
      "\u001b[1;31mTypeError\u001b[0m: unsupported operand type(s) for +: 'int' and 'list'"
     ]
    }
   ],
   "source": [
    "def my_func(sid,*number, name):\n",
    "    print(name)\n",
    "    print(number)\n",
    "    print(sum(number))\n",
    "\n",
    "my_func(0, [2,3,4,5,6], name= 'Haseeb')"
   ]
  },
  {
   "cell_type": "code",
   "execution_count": 127,
   "metadata": {},
   "outputs": [
    {
     "name": "stdout",
     "output_type": "stream",
     "text": [
      "0\n",
      "Haseeb\n",
      "(2, 3, 4, 5, 6)\n",
      "20\n"
     ]
    }
   ],
   "source": [
    "def my_func(sid,*number, name):\n",
    "    print(sid)\n",
    "    print(name)\n",
    "    print(number)\n",
    "    print(sum(number))\n",
    "\n",
    "my_func(0, 2,3,4,5,6, name= 'Haseeb')"
   ]
  },
  {
   "cell_type": "markdown",
   "metadata": {},
   "source": [
    "#### Recursive functions"
   ]
  },
  {
   "cell_type": "markdown",
   "metadata": {},
   "source": [
    "<img src=\"data:image/png;base64,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\">"
   ]
  },
  {
   "cell_type": "markdown",
   "metadata": {},
   "source": [
    "<img src = \"https://s3.ap-south-1.amazonaws.com/afteracademy-server-uploads/what-is-the-difference-between-iteration-and-recursion-banner-b9507914affcc7de.png\">"
   ]
  },
  {
   "cell_type": "code",
   "execution_count": 144,
   "metadata": {},
   "outputs": [
    {
     "name": "stdout",
     "output_type": "stream",
     "text": [
      "5\n",
      "4\n",
      "3\n",
      "2\n",
      "1\n"
     ]
    },
    {
     "data": {
      "text/plain": [
       "120"
      ]
     },
     "execution_count": 144,
     "metadata": {},
     "output_type": "execute_result"
    }
   ],
   "source": [
    "def factorical(n):\n",
    "    if n == 1:\n",
    "        print(n)\n",
    "        return 1\n",
    "    print(n)\n",
    "    return n * factorical(n-1)\n",
    "\n",
    "factorical(5)"
   ]
  },
  {
   "cell_type": "code",
   "execution_count": 143,
   "metadata": {},
   "outputs": [
    {
     "data": {
      "text/plain": [
       "55"
      ]
     },
     "execution_count": 143,
     "metadata": {},
     "output_type": "execute_result"
    }
   ],
   "source": [
    "def add(n):\n",
    "    if n == 1:\n",
    "        return 1\n",
    "    return n + add(n-1)\n",
    "add(10)"
   ]
  },
  {
   "cell_type": "markdown",
   "metadata": {},
   "source": [
    "#### Generator function\n",
    "    Following properties that generator function posses:\n",
    "        - didn't generate all values at once\n",
    "        - secondly remeber its last value"
   ]
  },
  {
   "cell_type": "code",
   "execution_count": 146,
   "metadata": {},
   "outputs": [
    {
     "data": {
      "text/plain": [
       "range(1, 20000)"
      ]
     },
     "execution_count": 146,
     "metadata": {},
     "output_type": "execute_result"
    }
   ],
   "source": [
    "range(1,20000) # it didn't consume all the memory it shows values are from 1 to 20000\n"
   ]
  },
  {
   "cell_type": "code",
   "execution_count": 148,
   "metadata": {},
   "outputs": [
    {
     "name": "stdout",
     "output_type": "stream",
     "text": [
      "1\n",
      "2\n",
      "3\n",
      "4\n",
      "5\n",
      "6\n"
     ]
    }
   ],
   "source": [
    "def my_range(n):\n",
    "    for i in range(1, n+1):\n",
    "        print(i)\n",
    "        \n",
    "my_range(6)"
   ]
  },
  {
   "cell_type": "markdown",
   "metadata": {},
   "source": [
    "#### When to use yield instead of return in Python?\n",
    "    The yield statement suspends function’s execution and sends a value back to the caller, but retains enough state to enable function to resume where it is left off. When resumed, the function continues execution immediately after the last yield run. This allows its code to produce a series of values over time, rather than computing them at once and sending them back like a list."
   ]
  },
  {
   "cell_type": "code",
   "execution_count": 151,
   "metadata": {},
   "outputs": [
    {
     "name": "stdout",
     "output_type": "stream",
     "text": [
      "<generator object my_range at 0x000001D2519129E0>\n",
      "1\n",
      "2\n",
      "3\n"
     ]
    }
   ],
   "source": [
    "def my_range(n):\n",
    "    for i in range(1,n+1):\n",
    "        yield i\n",
    "        \n",
    "a = my_range(10)\n",
    "print(a)\n",
    "print(next(a))\n",
    "print(next(a))\n",
    "print(next(a))"
   ]
  },
  {
   "cell_type": "code",
   "execution_count": 156,
   "metadata": {},
   "outputs": [
    {
     "name": "stdout",
     "output_type": "stream",
     "text": [
      "1\n",
      "4\n",
      "9\n",
      "16\n",
      "25\n",
      "36\n",
      "49\n",
      "64\n",
      "81\n",
      "100\n"
     ]
    }
   ],
   "source": [
    "# A Python program to generate squares from 1\n",
    "# to 100 using yield and therefore generator\n",
    "  \n",
    "# An infinite generator function that prints\n",
    "# next square number. It starts with 1\n",
    "def nextSquare():\n",
    "    i = 1;\n",
    "  \n",
    "    # An Infinite loop to generate squares \n",
    "    while True:\n",
    "        yield i*i                \n",
    "        i += 1  # Next execution resumes \n",
    "                # from this point     \n",
    "# Driver code to test above generator \n",
    "# function\n",
    "for num in nextSquare():\n",
    "    if num > 100:\n",
    "         break    \n",
    "    print(num)"
   ]
  },
  {
   "cell_type": "markdown",
   "metadata": {},
   "source": [
    "#### lambda function\n",
    "    Following are the properties of lambda function:\n",
    "        a one line function\n",
    "        a without name function\n",
    "        not used before that\n",
    "        not used after that"
   ]
  },
  {
   "cell_type": "markdown",
   "metadata": {},
   "source": [
    "<img src = \"https://0xbharath.github.io/python-foundations/img/lambda.png\">"
   ]
  },
  {
   "cell_type": "code",
   "execution_count": 159,
   "metadata": {},
   "outputs": [
    {
     "data": {
      "text/plain": [
       "5"
      ]
     },
     "execution_count": 159,
     "metadata": {},
     "output_type": "execute_result"
    }
   ],
   "source": [
    "(lambda x : x) (5)"
   ]
  },
  {
   "cell_type": "code",
   "execution_count": 160,
   "metadata": {},
   "outputs": [
    {
     "data": {
      "text/plain": [
       "4"
      ]
     },
     "execution_count": 160,
     "metadata": {},
     "output_type": "execute_result"
    }
   ],
   "source": [
    "(lambda x : x**x) (2)"
   ]
  },
  {
   "cell_type": "code",
   "execution_count": 161,
   "metadata": {},
   "outputs": [
    {
     "data": {
      "text/plain": [
       "8"
      ]
     },
     "execution_count": 161,
     "metadata": {},
     "output_type": "execute_result"
    }
   ],
   "source": [
    "def add(x,y): return x+y\n",
    "add(5,3)"
   ]
  },
  {
   "cell_type": "code",
   "execution_count": 162,
   "metadata": {},
   "outputs": [
    {
     "data": {
      "text/plain": [
       "8"
      ]
     },
     "execution_count": 162,
     "metadata": {},
     "output_type": "execute_result"
    }
   ],
   "source": [
    "(lambda x,y : x+y ) (5,3)"
   ]
  },
  {
   "cell_type": "code",
   "execution_count": 163,
   "metadata": {},
   "outputs": [
    {
     "data": {
      "text/plain": [
       "9"
      ]
     },
     "execution_count": 163,
     "metadata": {},
     "output_type": "execute_result"
    }
   ],
   "source": [
    "(lambda x,y,z : x+y+z)(2,3,4)"
   ]
  },
  {
   "cell_type": "code",
   "execution_count": 164,
   "metadata": {},
   "outputs": [
    {
     "data": {
      "text/plain": [
       "9"
      ]
     },
     "execution_count": 164,
     "metadata": {},
     "output_type": "execute_result"
    }
   ],
   "source": [
    "a = lambda x,y,z : x+y+z\n",
    "a(2,3,4)"
   ]
  },
  {
   "cell_type": "code",
   "execution_count": 168,
   "metadata": {},
   "outputs": [
    {
     "data": {
      "text/plain": [
       "9"
      ]
     },
     "execution_count": 168,
     "metadata": {},
     "output_type": "execute_result"
    }
   ],
   "source": [
    "sqrt = (lambda x : x**2)\n",
    "sqrt(3)"
   ]
  },
  {
   "cell_type": "code",
   "execution_count": 170,
   "metadata": {},
   "outputs": [
    {
     "data": {
      "text/plain": [
       "'complete name is: Haseeb Aslam'"
      ]
     },
     "execution_count": 170,
     "metadata": {},
     "output_type": "execute_result"
    }
   ],
   "source": [
    "full_name = lambda fname, lname : f'complete name is: {fname} {lname}'\n",
    "full_name('Haseeb', 'Aslam')"
   ]
  },
  {
   "cell_type": "markdown",
   "metadata": {},
   "source": [
    "#### Function Annotation\n",
    "    Annotations provide a way to attach metadata to a function’s parameters and return value.\n",
    "\n"
   ]
  },
  {
   "cell_type": "code",
   "execution_count": 173,
   "metadata": {},
   "outputs": [
    {
     "data": {
      "text/plain": [
       "{'a': '<a>', 'b': '<b>', 'return': '<ret_value>'}"
      ]
     },
     "execution_count": 173,
     "metadata": {},
     "output_type": "execute_result"
    }
   ],
   "source": [
    "def f(a: '<a>' = 2, b: '<b>' = 3) -> '<ret_value>':\n",
    "        pass\n",
    "f.__annotations__"
   ]
  },
  {
   "cell_type": "code",
   "execution_count": 174,
   "metadata": {},
   "outputs": [
    {
     "data": {
      "text/plain": [
       "'<a>'"
      ]
     },
     "execution_count": 174,
     "metadata": {},
     "output_type": "execute_result"
    }
   ],
   "source": [
    "f.__annotations__['a']\n"
   ]
  },
  {
   "cell_type": "code",
   "execution_count": 179,
   "metadata": {},
   "outputs": [
    {
     "name": "stdout",
     "output_type": "stream",
     "text": [
      "19.6349375\n"
     ]
    },
    {
     "data": {
      "text/plain": [
       "{'r': {'desc': 'radius of circle', 'type': float},\n",
       " 'return': {'desc': 'area of circle', 'type': float}}"
      ]
     },
     "execution_count": 179,
     "metadata": {},
     "output_type": "execute_result"
    }
   ],
   "source": [
    "def area(\n",
    "    r: {\n",
    "           'desc': 'radius of circle',\n",
    "            'type': float\n",
    "        }) -> \\\n",
    "       {\n",
    "            'desc': 'area of circle',\n",
    "            'type': float\n",
    "        }:\n",
    "    return 3.14159 * (r ** 2)\n",
    "print(area(2.5))\n",
    "area.__annotations__\n"
   ]
  },
  {
   "cell_type": "code",
   "execution_count": 180,
   "metadata": {},
   "outputs": [],
   "source": [
    "def f(a: int = 12, b: str = 'baz') -> float:\n",
    "    print(a, b)\n",
    "    return(3.5)"
   ]
  },
  {
   "cell_type": "code",
   "execution_count": 181,
   "metadata": {},
   "outputs": [
    {
     "data": {
      "text/plain": [
       "{'a': int, 'b': str, 'return': float}"
      ]
     },
     "execution_count": 181,
     "metadata": {},
     "output_type": "execute_result"
    }
   ],
   "source": [
    "f.__annotations__\n"
   ]
  },
  {
   "cell_type": "code",
   "execution_count": 182,
   "metadata": {},
   "outputs": [
    {
     "name": "stdout",
     "output_type": "stream",
     "text": [
      "12 baz\n"
     ]
    },
    {
     "data": {
      "text/plain": [
       "3.5"
      ]
     },
     "execution_count": 182,
     "metadata": {},
     "output_type": "execute_result"
    }
   ],
   "source": [
    "f()\n"
   ]
  },
  {
   "cell_type": "code",
   "execution_count": 183,
   "metadata": {},
   "outputs": [],
   "source": [
    "def f(a, b):\n",
    "     return"
   ]
  },
  {
   "cell_type": "code",
   "execution_count": 184,
   "metadata": {},
   "outputs": [],
   "source": [
    "f.__annotations__ = {'a': int, 'b': str, 'return': float}"
   ]
  },
  {
   "cell_type": "code",
   "execution_count": 185,
   "metadata": {},
   "outputs": [
    {
     "data": {
      "text/plain": [
       "{'a': int, 'b': str, 'return': float}"
      ]
     },
     "execution_count": 185,
     "metadata": {},
     "output_type": "execute_result"
    }
   ],
   "source": [
    "f.__annotations__"
   ]
  },
  {
   "cell_type": "code",
   "execution_count": null,
   "metadata": {},
   "outputs": [],
   "source": []
  }
 ],
 "metadata": {
  "kernelspec": {
   "display_name": "Python 3",
   "language": "python",
   "name": "python3"
  },
  "language_info": {
   "codemirror_mode": {
    "name": "ipython",
    "version": 3
   },
   "file_extension": ".py",
   "mimetype": "text/x-python",
   "name": "python",
   "nbconvert_exporter": "python",
   "pygments_lexer": "ipython3",
   "version": "3.8.3"
  }
 },
 "nbformat": 4,
 "nbformat_minor": 4
}
