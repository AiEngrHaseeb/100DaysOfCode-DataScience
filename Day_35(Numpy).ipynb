{
 "cells": [
  {
   "cell_type": "markdown",
   "id": "c5c319c7",
   "metadata": {},
   "source": [
    "## Numpy..."
   ]
  },
  {
   "cell_type": "code",
   "execution_count": 1,
   "id": "2b4344e1",
   "metadata": {},
   "outputs": [],
   "source": [
    "import numpy as np"
   ]
  },
  {
   "cell_type": "markdown",
   "id": "534cd42f",
   "metadata": {},
   "source": [
    "## Mathematical and Statistical Methods"
   ]
  },
  {
   "cell_type": "code",
   "execution_count": 2,
   "id": "cb5d6c56",
   "metadata": {},
   "outputs": [
    {
     "data": {
      "text/plain": [
       "array([[ 0,  1,  2,  3],\n",
       "       [ 4,  5,  6,  7],\n",
       "       [ 8,  9, 10, 11]])"
      ]
     },
     "execution_count": 2,
     "metadata": {},
     "output_type": "execute_result"
    }
   ],
   "source": [
    "a = np.arange(3*4).reshape((3,4))\n",
    "a"
   ]
  },
  {
   "cell_type": "code",
   "execution_count": 3,
   "id": "f926b7e8",
   "metadata": {},
   "outputs": [
    {
     "data": {
      "text/plain": [
       "66"
      ]
     },
     "execution_count": 3,
     "metadata": {},
     "output_type": "execute_result"
    }
   ],
   "source": [
    "np.sum(a)"
   ]
  },
  {
   "cell_type": "code",
   "execution_count": 4,
   "id": "60231618",
   "metadata": {},
   "outputs": [
    {
     "name": "stdout",
     "output_type": "stream",
     "text": [
      "[[ 0  1  2  3]\n",
      " [ 4  5  6  7]\n",
      " [ 8  9 10 11]]\n"
     ]
    },
    {
     "data": {
      "text/plain": [
       "array([12, 15, 18, 21])"
      ]
     },
     "execution_count": 4,
     "metadata": {},
     "output_type": "execute_result"
    }
   ],
   "source": [
    "print(a)\n",
    "np.sum(a, axis=0)"
   ]
  },
  {
   "cell_type": "code",
   "execution_count": 5,
   "id": "6025b071",
   "metadata": {},
   "outputs": [
    {
     "name": "stdout",
     "output_type": "stream",
     "text": [
      "[[ 0  1  2  3]\n",
      " [ 4  5  6  7]\n",
      " [ 8  9 10 11]]\n"
     ]
    },
    {
     "data": {
      "text/plain": [
       "array([ 6, 22, 38])"
      ]
     },
     "execution_count": 5,
     "metadata": {},
     "output_type": "execute_result"
    }
   ],
   "source": [
    "print(a)\n",
    "np.sum(a, axis=1)"
   ]
  },
  {
   "cell_type": "markdown",
   "id": "482eed01",
   "metadata": {},
   "source": [
    "#### Broad Casting"
   ]
  },
  {
   "cell_type": "markdown",
   "id": "15d62ac9",
   "metadata": {},
   "source": [
    "converting small array to large array..."
   ]
  },
  {
   "cell_type": "code",
   "execution_count": 6,
   "id": "b0ee66cd",
   "metadata": {},
   "outputs": [
    {
     "name": "stdout",
     "output_type": "stream",
     "text": [
      "[[ 0  1  2  3  4]\n",
      " [ 5  6  7  8  9]\n",
      " [10 11 12 13 14]\n",
      " [15 16 17 18 19]\n",
      " [20 21 22 23 24]]\n"
     ]
    },
    {
     "data": {
      "text/plain": [
       "array([[ 5,  6,  7,  8,  9],\n",
       "       [10, 11, 12, 13, 14],\n",
       "       [15, 16, 17, 18, 19],\n",
       "       [20, 21, 22, 23, 24],\n",
       "       [25, 26, 27, 28, 29]])"
      ]
     },
     "execution_count": 6,
     "metadata": {},
     "output_type": "execute_result"
    }
   ],
   "source": [
    "a = np.arange(5*5).reshape((5,5))\n",
    "print(a)\n",
    "a + 5"
   ]
  },
  {
   "cell_type": "code",
   "execution_count": 7,
   "id": "e974e436",
   "metadata": {},
   "outputs": [
    {
     "name": "stdout",
     "output_type": "stream",
     "text": [
      "[[ 0  1  2  3  4]\n",
      " [ 5  6  7  8  9]\n",
      " [10 11 12 13 14]\n",
      " [15 16 17 18 19]\n",
      " [20 21 22 23 24]]\n",
      "\n",
      "[[5 5 5 5 5]\n",
      " [5 5 5 5 5]\n",
      " [5 5 5 5 5]\n",
      " [5 5 5 5 5]\n",
      " [5 5 5 5 5]]\n"
     ]
    },
    {
     "data": {
      "text/plain": [
       "array([[ 5,  6,  7,  8,  9],\n",
       "       [10, 11, 12, 13, 14],\n",
       "       [15, 16, 17, 18, 19],\n",
       "       [20, 21, 22, 23, 24],\n",
       "       [25, 26, 27, 28, 29]])"
      ]
     },
     "execution_count": 7,
     "metadata": {},
     "output_type": "execute_result"
    }
   ],
   "source": [
    "# backend working when we pperform + on np_array...\n",
    "a = np.arange(5*5).reshape((5,5))\n",
    "b = np.full_like(a, 5)\n",
    "print(a,b,sep=\"\\n\\n\")\n",
    "a + b"
   ]
  },
  {
   "cell_type": "markdown",
   "id": "b7ba06b3",
   "metadata": {},
   "source": [
    "## Stacking\n",
    "- stacking ->axis 0(horzental), 1(verticle)\n",
    "- vstack\n",
    "- columnstack\n",
    "- hstack\n",
    "- rowstack\n",
    "- block\n",
    "- dstack"
   ]
  },
  {
   "cell_type": "code",
   "execution_count": 8,
   "id": "17dddf87",
   "metadata": {},
   "outputs": [
    {
     "name": "stdout",
     "output_type": "stream",
     "text": [
      "[7 3 3 8 2 8 3 7 8 9]\n",
      "[12  8  8 13  7 13  8 12 13 14]\n",
      "10 10\n"
     ]
    }
   ],
   "source": [
    "import numpy as np\n",
    "a = np.random.randint(1,10, size=10)\n",
    "b = a + 5\n",
    "print(a, b, sep='\\n')\n",
    "print(len(a),len(b))"
   ]
  },
  {
   "cell_type": "code",
   "execution_count": 9,
   "id": "71b50213",
   "metadata": {},
   "outputs": [
    {
     "name": "stdout",
     "output_type": "stream",
     "text": [
      "[7 3 3 8 2 8 3 7 8 9]\n",
      "\n",
      "[12  8  8 13  7 13  8 12 13 14]\n"
     ]
    },
    {
     "data": {
      "text/plain": [
       "array([[ 7,  3,  3,  8,  2,  8,  3,  7,  8,  9],\n",
       "       [12,  8,  8, 13,  7, 13,  8, 12, 13, 14]])"
      ]
     },
     "execution_count": 9,
     "metadata": {},
     "output_type": "execute_result"
    }
   ],
   "source": [
    "print(a,b, sep='\\n\\n')\n",
    "np.stack((a,b), axis=0)"
   ]
  },
  {
   "cell_type": "code",
   "execution_count": 10,
   "id": "b19c6f1d",
   "metadata": {},
   "outputs": [
    {
     "name": "stdout",
     "output_type": "stream",
     "text": [
      "[7 3 3 8 2 8 3 7 8 9]\n",
      "\n",
      "[12  8  8 13  7 13  8 12 13 14]\n"
     ]
    },
    {
     "data": {
      "text/plain": [
       "array([[ 7, 12],\n",
       "       [ 3,  8],\n",
       "       [ 3,  8],\n",
       "       [ 8, 13],\n",
       "       [ 2,  7],\n",
       "       [ 8, 13],\n",
       "       [ 3,  8],\n",
       "       [ 7, 12],\n",
       "       [ 8, 13],\n",
       "       [ 9, 14]])"
      ]
     },
     "execution_count": 10,
     "metadata": {},
     "output_type": "execute_result"
    }
   ],
   "source": [
    "print(a,b, sep='\\n\\n')\n",
    "np.stack((a,b), axis=1)"
   ]
  },
  {
   "cell_type": "code",
   "execution_count": 11,
   "id": "60d2fd96",
   "metadata": {},
   "outputs": [
    {
     "data": {
      "text/plain": [
       "array([[ 7, 12],\n",
       "       [ 3,  8],\n",
       "       [ 3,  8],\n",
       "       [ 8, 13],\n",
       "       [ 2,  7],\n",
       "       [ 8, 13],\n",
       "       [ 3,  8],\n",
       "       [ 7, 12],\n",
       "       [ 8, 13],\n",
       "       [ 9, 14]])"
      ]
     },
     "execution_count": 11,
     "metadata": {},
     "output_type": "execute_result"
    }
   ],
   "source": [
    "# np.stack((a,b), axis=1)\n",
    "np.column_stack((a,b))"
   ]
  },
  {
   "cell_type": "code",
   "execution_count": 12,
   "id": "609fb0c0",
   "metadata": {},
   "outputs": [
    {
     "data": {
      "text/plain": [
       "array([[ 7,  3,  3,  8,  2,  8,  3,  7,  8,  9],\n",
       "       [12,  8,  8, 13,  7, 13,  8, 12, 13, 14]])"
      ]
     },
     "execution_count": 12,
     "metadata": {},
     "output_type": "execute_result"
    }
   ],
   "source": [
    "# np.stack((a,b), axis=1)\n",
    "np.row_stack((a,b))"
   ]
  },
  {
   "cell_type": "code",
   "execution_count": 14,
   "id": "06969b94",
   "metadata": {},
   "outputs": [
    {
     "data": {
      "text/plain": [
       "array([[ 7,  3,  3,  8,  2,  8,  3,  7,  8,  9],\n",
       "       [12,  8,  8, 13,  7, 13,  8, 12, 13, 14]])"
      ]
     },
     "execution_count": 14,
     "metadata": {},
     "output_type": "execute_result"
    }
   ],
   "source": [
    "np.stack((a,b), axis=0)"
   ]
  },
  {
   "cell_type": "code",
   "execution_count": 15,
   "id": "d0c58ab9",
   "metadata": {},
   "outputs": [
    {
     "data": {
      "text/plain": [
       "array([[ 7,  3,  3,  8,  2,  8,  3,  7,  8,  9],\n",
       "       [12,  8,  8, 13,  7, 13,  8, 12, 13, 14]])"
      ]
     },
     "execution_count": 15,
     "metadata": {},
     "output_type": "execute_result"
    }
   ],
   "source": [
    "np.vstack((a,b))"
   ]
  },
  {
   "cell_type": "code",
   "execution_count": 16,
   "id": "c294baad",
   "metadata": {},
   "outputs": [
    {
     "data": {
      "text/plain": [
       "array([ 7,  3,  3,  8,  2,  8,  3,  7,  8,  9, 12,  8,  8, 13,  7, 13,  8,\n",
       "       12, 13, 14])"
      ]
     },
     "execution_count": 16,
     "metadata": {},
     "output_type": "execute_result"
    }
   ],
   "source": [
    "np.hstack((a,b))"
   ]
  },
  {
   "cell_type": "code",
   "execution_count": 17,
   "id": "f9eb0d34",
   "metadata": {},
   "outputs": [
    {
     "data": {
      "text/plain": [
       "array([[ 7,  3,  3,  8,  2,  8,  3,  7,  8,  9],\n",
       "       [12,  8,  8, 13,  7, 13,  8, 12, 13, 14]])"
      ]
     },
     "execution_count": 17,
     "metadata": {},
     "output_type": "execute_result"
    }
   ],
   "source": [
    "np.vstack((a,b))"
   ]
  },
  {
   "cell_type": "code",
   "execution_count": 18,
   "id": "0ae3bcd8",
   "metadata": {},
   "outputs": [
    {
     "name": "stdout",
     "output_type": "stream",
     "text": [
      "[[ 5  6  7]\n",
      " [ 8  9 10]\n",
      " [11 12 13]]\n",
      "\n",
      "[[0 1 2]\n",
      " [3 4 5]\n",
      " [6 7 8]]\n"
     ]
    }
   ],
   "source": [
    "b = np.arange(3*3).reshape((3,3)) \n",
    "a = b + 5\n",
    "print(a, b, sep='\\n\\n')"
   ]
  },
  {
   "cell_type": "code",
   "execution_count": 19,
   "id": "f2e16429",
   "metadata": {},
   "outputs": [
    {
     "data": {
      "text/plain": [
       "array([[ 5,  6,  7],\n",
       "       [ 8,  9, 10],\n",
       "       [11, 12, 13],\n",
       "       [ 0,  1,  2],\n",
       "       [ 3,  4,  5],\n",
       "       [ 6,  7,  8]])"
      ]
     },
     "execution_count": 19,
     "metadata": {},
     "output_type": "execute_result"
    }
   ],
   "source": [
    "np.vstack((a,b)) # vertically "
   ]
  },
  {
   "cell_type": "code",
   "execution_count": 20,
   "id": "4b082563",
   "metadata": {},
   "outputs": [
    {
     "data": {
      "text/plain": [
       "array([[ 5,  6,  7,  0,  1,  2],\n",
       "       [ 8,  9, 10,  3,  4,  5],\n",
       "       [11, 12, 13,  6,  7,  8]])"
      ]
     },
     "execution_count": 20,
     "metadata": {},
     "output_type": "execute_result"
    }
   ],
   "source": [
    "np.hstack((a,b)) # horizentally"
   ]
  },
  {
   "cell_type": "code",
   "execution_count": 21,
   "id": "4cd83584",
   "metadata": {},
   "outputs": [
    {
     "data": {
      "text/plain": [
       "array([[ 5,  6,  7,  0,  1,  2],\n",
       "       [ 8,  9, 10,  3,  4,  5],\n",
       "       [11, 12, 13,  6,  7,  8]])"
      ]
     },
     "execution_count": 21,
     "metadata": {},
     "output_type": "execute_result"
    }
   ],
   "source": [
    "np.column_stack((a,b))"
   ]
  },
  {
   "cell_type": "code",
   "execution_count": 22,
   "id": "184aafdb",
   "metadata": {},
   "outputs": [
    {
     "name": "stdout",
     "output_type": "stream",
     "text": [
      "[[[0 1]\n",
      "  [2 3]]\n",
      "\n",
      " [[4 5]\n",
      "  [6 7]]]\n",
      "->SecondArray->\n",
      "[[[ 7  8]\n",
      "  [ 9 10]]\n",
      "\n",
      " [[11 12]\n",
      "  [13 14]]]\n"
     ]
    },
    {
     "data": {
      "text/plain": [
       "array([[[ 0,  1,  7,  8],\n",
       "        [ 2,  3,  9, 10]],\n",
       "\n",
       "       [[ 4,  5, 11, 12],\n",
       "        [ 6,  7, 13, 14]]])"
      ]
     },
     "execution_count": 22,
     "metadata": {},
     "output_type": "execute_result"
    }
   ],
   "source": [
    "a = np.arange(2*2*2).reshape((2,2,2))\n",
    "b = a + 7\n",
    "print(a,b, sep='\\n->SecondArray->\\n')\n",
    "np.dstack((a,b)) # DEPTH STACKING  with slide through depth"
   ]
  },
  {
   "cell_type": "markdown",
   "id": "5e0ea541",
   "metadata": {},
   "source": [
    "## Split"
   ]
  },
  {
   "cell_type": "code",
   "execution_count": 23,
   "id": "d4a248a3",
   "metadata": {},
   "outputs": [
    {
     "name": "stdout",
     "output_type": "stream",
     "text": [
      "[[ 0  1  2  3  4  5]\n",
      " [ 6  7  8  9 10 11]\n",
      " [12 13 14 15 16 17]\n",
      " [18 19 20 21 22 23]\n",
      " [24 25 26 27 28 29]\n",
      " [30 31 32 33 34 35]]\n"
     ]
    }
   ],
   "source": [
    "a = np.arange(6*6).reshape((6,6))\n",
    "print(a)"
   ]
  },
  {
   "cell_type": "code",
   "execution_count": 24,
   "id": "1d01f2ce",
   "metadata": {},
   "outputs": [
    {
     "name": "stdout",
     "output_type": "stream",
     "text": [
      "[[ 0  1  2  3  4  5]\n",
      " [ 6  7  8  9 10 11]\n",
      " [12 13 14 15 16 17]\n",
      " [18 19 20 21 22 23]\n",
      " [24 25 26 27 28 29]\n",
      " [30 31 32 33 34 35]]\n"
     ]
    },
    {
     "data": {
      "text/plain": [
       "[array([[0, 1, 2, 3, 4, 5]]),\n",
       " array([[ 6,  7,  8,  9, 10, 11]]),\n",
       " array([[12, 13, 14, 15, 16, 17]]),\n",
       " array([[18, 19, 20, 21, 22, 23]]),\n",
       " array([[24, 25, 26, 27, 28, 29]]),\n",
       " array([[30, 31, 32, 33, 34, 35]])]"
      ]
     },
     "execution_count": 24,
     "metadata": {},
     "output_type": "execute_result"
    }
   ],
   "source": [
    "print(a)\n",
    "np.split(a, 6, axis=0)"
   ]
  },
  {
   "cell_type": "code",
   "execution_count": 25,
   "id": "08af0609",
   "metadata": {},
   "outputs": [
    {
     "name": "stdout",
     "output_type": "stream",
     "text": [
      "[[ 0  1  2  3  4  5]\n",
      " [ 6  7  8  9 10 11]\n",
      " [12 13 14 15 16 17]\n",
      " [18 19 20 21 22 23]\n",
      " [24 25 26 27 28 29]\n",
      " [30 31 32 33 34 35]]\n"
     ]
    },
    {
     "data": {
      "text/plain": [
       "[array([[ 0,  1,  2,  3,  4,  5],\n",
       "        [ 6,  7,  8,  9, 10, 11]]),\n",
       " array([[12, 13, 14, 15, 16, 17],\n",
       "        [18, 19, 20, 21, 22, 23]]),\n",
       " array([[24, 25, 26, 27, 28, 29],\n",
       "        [30, 31, 32, 33, 34, 35]])]"
      ]
     },
     "execution_count": 25,
     "metadata": {},
     "output_type": "execute_result"
    }
   ],
   "source": [
    "print(a)\n",
    "np.split(a, 3, axis=0)"
   ]
  },
  {
   "cell_type": "code",
   "execution_count": 26,
   "id": "293aba83",
   "metadata": {},
   "outputs": [
    {
     "name": "stdout",
     "output_type": "stream",
     "text": [
      "[[ 0  1  2  3  4  5]\n",
      " [ 6  7  8  9 10 11]\n",
      " [12 13 14 15 16 17]\n",
      " [18 19 20 21 22 23]\n",
      " [24 25 26 27 28 29]\n",
      " [30 31 32 33 34 35]]\n"
     ]
    },
    {
     "data": {
      "text/plain": [
       "[array([[ 0,  1,  2,  3,  4,  5],\n",
       "        [ 6,  7,  8,  9, 10, 11],\n",
       "        [12, 13, 14, 15, 16, 17]]),\n",
       " array([[18, 19, 20, 21, 22, 23],\n",
       "        [24, 25, 26, 27, 28, 29],\n",
       "        [30, 31, 32, 33, 34, 35]])]"
      ]
     },
     "execution_count": 26,
     "metadata": {},
     "output_type": "execute_result"
    }
   ],
   "source": [
    "print(a)\n",
    "np.split(a, 2, axis=0)"
   ]
  },
  {
   "cell_type": "code",
   "execution_count": 27,
   "id": "cba48732",
   "metadata": {},
   "outputs": [
    {
     "name": "stdout",
     "output_type": "stream",
     "text": [
      "[[ 0  1  2  3  4  5]\n",
      " [ 6  7  8  9 10 11]\n",
      " [12 13 14 15 16 17]\n",
      " [18 19 20 21 22 23]\n",
      " [24 25 26 27 28 29]\n",
      " [30 31 32 33 34 35]]\n"
     ]
    },
    {
     "data": {
      "text/plain": [
       "array([[ 0,  1,  2,  3,  4,  5],\n",
       "       [ 6,  7,  8,  9, 10, 11],\n",
       "       [12, 13, 14, 15, 16, 17]])"
      ]
     },
     "execution_count": 27,
     "metadata": {},
     "output_type": "execute_result"
    }
   ],
   "source": [
    "print(a)\n",
    "np.split(a, 2, axis=0)[0]"
   ]
  },
  {
   "cell_type": "code",
   "execution_count": 28,
   "id": "6477e57d",
   "metadata": {},
   "outputs": [],
   "source": [
    "np.dsplit?? #depth split for 3d array n above"
   ]
  },
  {
   "cell_type": "code",
   "execution_count": 29,
   "id": "36e9b000",
   "metadata": {},
   "outputs": [
    {
     "name": "stdout",
     "output_type": "stream",
     "text": [
      "[[[0 1]\n",
      "  [2 3]]\n",
      "\n",
      " [[4 5]\n",
      "  [6 7]]]\n"
     ]
    },
    {
     "data": {
      "text/plain": [
       "[array([[[0],\n",
       "         [2]],\n",
       " \n",
       "        [[4],\n",
       "         [6]]]),\n",
       " array([[[1],\n",
       "         [3]],\n",
       " \n",
       "        [[5],\n",
       "         [7]]])]"
      ]
     },
     "execution_count": 29,
     "metadata": {},
     "output_type": "execute_result"
    }
   ],
   "source": [
    "a = np.arange(2*2*2).reshape((2,2,2))\n",
    "p=print(a)\n",
    "\n",
    "np.dsplit(a, 2)"
   ]
  },
  {
   "cell_type": "markdown",
   "id": "6bdbbadd",
   "metadata": {},
   "source": [
    "## Array set operations"
   ]
  },
  {
   "cell_type": "code",
   "execution_count": 30,
   "id": "ef190a53",
   "metadata": {},
   "outputs": [
    {
     "name": "stdout",
     "output_type": "stream",
     "text": [
      "[6 1 6 4 3 3 2 3 2 8 1 9 6 1 9 2 5 6 6 6]\n"
     ]
    },
    {
     "data": {
      "text/plain": [
       "array([1, 2, 3, 4, 5, 6, 8, 9])"
      ]
     },
     "execution_count": 30,
     "metadata": {},
     "output_type": "execute_result"
    }
   ],
   "source": [
    "a = np.random.randint(1,10, size=20)\n",
    "print(a)\n",
    "np.unique(a)"
   ]
  },
  {
   "cell_type": "code",
   "execution_count": 31,
   "id": "e850d384",
   "metadata": {},
   "outputs": [
    {
     "name": "stdout",
     "output_type": "stream",
     "text": [
      "[98 74 95 23  7 10 67 61 94 88 12 91  2 18 92 58 94 67 20 69 45  6 73 35\n",
      " 35 18 58  7 39 90]\n",
      "\n",
      "[3 4 8 4 7]\n"
     ]
    }
   ],
   "source": [
    "piaic = np.random.randint(1,100, size=30)\n",
    "cnic = np.random.randint(1,10, size=5)\n",
    "print(piaic, cnic,sep='\\n\\n')"
   ]
  },
  {
   "cell_type": "markdown",
   "id": "a6b63f4c",
   "metadata": {},
   "source": [
    "**[true_block  if condition else fasle_block for x in data]**"
   ]
  },
  {
   "cell_type": "code",
   "execution_count": 33,
   "id": "bd297d23",
   "metadata": {},
   "outputs": [
    {
     "data": {
      "text/plain": [
       "[False, False, False, False, True]"
      ]
     },
     "execution_count": 33,
     "metadata": {},
     "output_type": "execute_result"
    }
   ],
   "source": [
    "[  True if x in piaic else False for x in cnic]"
   ]
  },
  {
   "cell_type": "code",
   "execution_count": 35,
   "id": "f9da59bc",
   "metadata": {},
   "outputs": [
    {
     "data": {
      "text/plain": [
       "[False, False, False, False, True]"
      ]
     },
     "execution_count": 35,
     "metadata": {},
     "output_type": "execute_result"
    }
   ],
   "source": [
    "[x in piaic for x in cnic]"
   ]
  },
  {
   "cell_type": "code",
   "execution_count": 36,
   "id": "84a842e8",
   "metadata": {},
   "outputs": [
    {
     "data": {
      "text/plain": [
       "['NO', 'NO', 'NO', 'NO', 'Yes']"
      ]
     },
     "execution_count": 36,
     "metadata": {},
     "output_type": "execute_result"
    }
   ],
   "source": [
    "[\"Yes\" if x in piaic else \"NO\" for x in cnic]"
   ]
  },
  {
   "cell_type": "code",
   "execution_count": 37,
   "id": "62edae2c",
   "metadata": {},
   "outputs": [
    {
     "name": "stdout",
     "output_type": "stream",
     "text": [
      "[98 74 95 23  7 10 67 61 94 88 12 91  2 18 92 58 94 67 20 69 45  6 73 35\n",
      " 35 18 58  7 39 90]\n",
      "\n",
      "[3 4 8 4 7]\n"
     ]
    },
    {
     "data": {
      "text/plain": [
       "array([False, False, False, False,  True])"
      ]
     },
     "execution_count": 37,
     "metadata": {},
     "output_type": "execute_result"
    }
   ],
   "source": [
    "print(piaic, cnic,sep='\\n\\n')\n",
    "np.in1d(cnic, piaic)\n"
   ]
  },
  {
   "cell_type": "code",
   "execution_count": 38,
   "id": "9509a523",
   "metadata": {},
   "outputs": [
    {
     "name": "stdout",
     "output_type": "stream",
     "text": [
      "[98 74 95 23  7 10 67 61 94 88 12 91  2 18 92 58 94 67 20 69 45  6 73 35\n",
      " 35 18 58  7 39 90]\n",
      "\n",
      "[3 4 8 4 7]\n"
     ]
    },
    {
     "data": {
      "text/plain": [
       "array(['No', 'No', 'No', 'No', 'Yes'], dtype='<U3')"
      ]
     },
     "execution_count": 38,
     "metadata": {},
     "output_type": "execute_result"
    }
   ],
   "source": [
    "print(piaic, cnic,sep='\\n\\n')\n",
    "c = np.in1d(cnic, piaic)\n",
    "np.where(c==True,\"Yes\",\"No\")"
   ]
  },
  {
   "cell_type": "code",
   "execution_count": 39,
   "id": "9bf1d6d1",
   "metadata": {},
   "outputs": [
    {
     "name": "stdout",
     "output_type": "stream",
     "text": [
      "[98 74 95 23  7 10 67 61 94 88 12 91  2 18 92 58 94 67 20 69 45  6 73 35\n",
      " 35 18 58  7 39 90]\n",
      "\n",
      "[3 4 8 4 7]\n"
     ]
    },
    {
     "data": {
      "text/plain": [
       "array([7])"
      ]
     },
     "execution_count": 39,
     "metadata": {},
     "output_type": "execute_result"
    }
   ],
   "source": [
    "print(piaic, cnic,sep='\\n\\n')\n",
    "np.intersect1d(cnic, piaic)"
   ]
  },
  {
   "cell_type": "code",
   "execution_count": 40,
   "id": "069404aa",
   "metadata": {},
   "outputs": [
    {
     "name": "stdout",
     "output_type": "stream",
     "text": [
      "[98 74 95 23  7 10 67 61 94 88 12 91  2 18 92 58 94 67 20 69 45  6 73 35\n",
      " 35 18 58  7 39 90]\n",
      "\n",
      "[3 4 8 4 7]\n"
     ]
    },
    {
     "data": {
      "text/plain": [
       "array([ 2,  3,  4,  6,  7,  8, 10, 12, 18, 20, 23, 35, 39, 45, 58, 61, 67,\n",
       "       69, 73, 74, 88, 90, 91, 92, 94, 95, 98])"
      ]
     },
     "execution_count": 40,
     "metadata": {},
     "output_type": "execute_result"
    }
   ],
   "source": [
    "print(piaic, cnic,sep='\\n\\n')\n",
    "np.union1d(cnic, piaic)"
   ]
  },
  {
   "cell_type": "code",
   "execution_count": 41,
   "id": "05d5b9f2",
   "metadata": {},
   "outputs": [
    {
     "name": "stdout",
     "output_type": "stream",
     "text": [
      "[98 74 95 23  7 10 67 61 94 88 12 91  2 18 92 58 94 67 20 69 45  6 73 35\n",
      " 35 18 58  7 39 90]\n",
      "\n",
      "[3 4 8 4 7]\n"
     ]
    },
    {
     "data": {
      "text/plain": [
       "array([3, 4, 8])"
      ]
     },
     "execution_count": 41,
     "metadata": {},
     "output_type": "execute_result"
    }
   ],
   "source": [
    "print(piaic, cnic,sep='\\n\\n')\n",
    "np.setdiff1d(cnic, piaic)"
   ]
  },
  {
   "cell_type": "code",
   "execution_count": 42,
   "id": "e9552a0e",
   "metadata": {},
   "outputs": [
    {
     "name": "stdout",
     "output_type": "stream",
     "text": [
      "[98 74 95 23  7 10 67 61 94 88 12 91  2 18 92 58 94 67 20 69 45  6 73 35\n",
      " 35 18 58  7 39 90]\n",
      "\n",
      "[3 4 8 4 7]\n"
     ]
    },
    {
     "data": {
      "text/plain": [
       "array([ 2,  3,  4,  6,  8, 10, 12, 18, 20, 23, 35, 39, 45, 58, 61, 67, 69,\n",
       "       73, 74, 88, 90, 91, 92, 94, 95, 98])"
      ]
     },
     "execution_count": 42,
     "metadata": {},
     "output_type": "execute_result"
    }
   ],
   "source": [
    "# XOR\n",
    "# 0 0 -> 0\n",
    "# 1 0 -> 1\n",
    "# 0 1 -> 1\n",
    "# 1 1 -> 0\n",
    "print(piaic, cnic,sep='\\n\\n')\n",
    "np.setxor1d(cnic, piaic)"
   ]
  },
  {
   "cell_type": "code",
   "execution_count": 43,
   "id": "f636a9ad",
   "metadata": {},
   "outputs": [
    {
     "name": "stdout",
     "output_type": "stream",
     "text": [
      "[[0 1]\n",
      " [2 3]]\n",
      "[[4 5]\n",
      " [6 7]]\n",
      "[[ 9 10]\n",
      " [11 12]]\n"
     ]
    },
    {
     "data": {
      "text/plain": [
       "array([[ 0,  1],\n",
       "       [ 2,  3],\n",
       "       [ 4,  5],\n",
       "       [ 6,  7],\n",
       "       [ 9, 10],\n",
       "       [11, 12]])"
      ]
     },
     "execution_count": 43,
     "metadata": {},
     "output_type": "execute_result"
    }
   ],
   "source": [
    "import numpy as np\n",
    "\n",
    "a = np.arange(4).reshape(2 , 2)\n",
    "print(a)\n",
    "\n",
    "b = np.arange(4,8).reshape(2,2)\n",
    "print(b)\n",
    "\n",
    "c = np.arange(9,13).reshape(2,2)\n",
    "print(c)\n",
    "\n",
    "np.vstack((a, b,c))"
   ]
  }
 ],
 "metadata": {
  "kernelspec": {
   "display_name": "Python 3",
   "language": "python",
   "name": "python3"
  },
  "language_info": {
   "codemirror_mode": {
    "name": "ipython",
    "version": 3
   },
   "file_extension": ".py",
   "mimetype": "text/x-python",
   "name": "python",
   "nbconvert_exporter": "python",
   "pygments_lexer": "ipython3",
   "version": "3.8.8"
  }
 },
 "nbformat": 4,
 "nbformat_minor": 5
}
