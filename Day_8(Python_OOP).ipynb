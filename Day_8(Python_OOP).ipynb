{
 "cells": [
  {
   "cell_type": "markdown",
   "metadata": {},
   "source": [
    "## Four Pillars of OOP Python\n",
    "<ul>\n",
    "    <li><b>Inheritance: </b> Extends functionality of existing code.\n",
    "</li>\n",
    "    <li><b>Encapsulation: </b> Building of data and methods.</li>\n",
    "    <li><b>Polymorphism: </b> creating a unified interface.</li>\n",
    "    <li><b>Abstraction: </b>Handle complexity by hiding unnecessary details from the user. </li>\n",
    "    </ul>"
   ]
  },
  {
   "cell_type": "markdown",
   "metadata": {},
   "source": [
    "### Inheritance\n",
    "<t>In case of real world objects, every element is a specialized within its general group of elements.\n",
    "    Inheritance is a way of dealing with objects that are similar, they share a common logic, but they are not entirely the same. We form a hierarchy by creating a child class by deriving from a parent class. The child class can reuse all attributes and methods of the parent class while implementing its own unique attributes and methods.</t>\n",
    "  #### In-Short:\n",
    "   <ul>\n",
    "    <li>don't repeat yourself</li>\n",
    "    <li>new class functionality = old class functionality + extra </li>      <ul>\n",
    "    <img src = \"https://miro.medium.com/max/5536/1*CaTNbDiboMzEXuBB2AaDjg.png\">"
   ]
  },
  {
   "cell_type": "markdown",
   "metadata": {},
   "source": [
    "#### Example: 1 "
   ]
  },
  {
   "cell_type": "markdown",
   "metadata": {},
   "source": [
    "<img src = \"https://github.com/qasim1020/100DaysOfCode/raw/d65fa7cb5fcadda941d67ac6d2189da5d6d9269f/python/Day7%20OOP/media/inheritance.png\">"
   ]
  },
  {
   "cell_type": "code",
   "execution_count": 3,
   "metadata": {},
   "outputs": [
    {
     "name": "stdout",
     "output_type": "stream",
     "text": [
      "30000\n",
      "29800\n"
     ]
    }
   ],
   "source": [
    "class BankAccount:\n",
    "    def __init__(self,balance=0):\n",
    "        self.balance = balance\n",
    "    \n",
    "   # @classmethod\n",
    "#     def withdraw(self, amount=30):\n",
    "#         self.balance -= amount\n",
    "#         return self.balance\n",
    "\n",
    "    def deposit(self, deposit_amount=30):\n",
    "        self.deposit_amount=deposit_amount\n",
    "        self.balance += deposit_amount\n",
    "        return self.balance\n",
    "\n",
    "    def withdraw(self,withdraw_amount=10):\n",
    "        if withdraw_amount > self.balance:\n",
    "            raise RuntimeError('Invalid Transaction')\n",
    "        self.balance -= withdraw_amount\n",
    "        return self.balance\n",
    "    \n",
    "# Creating empty class inherited from BankAccount\n",
    "class SavingAccount(BankAccount):\n",
    "    pass\n",
    "\n",
    "p = BankAccount(30000)\n",
    "print(p.balance)\n",
    "print(p.withdraw(200))"
   ]
  },
  {
   "cell_type": "markdown",
   "metadata": {},
   "source": [
    "##### NOTE: child has all of the parent data¶"
   ]
  },
  {
   "cell_type": "code",
   "execution_count": 4,
   "metadata": {},
   "outputs": [
    {
     "name": "stdout",
     "output_type": "stream",
     "text": [
      "<class '__main__.SavingAccount'>\n"
     ]
    },
    {
     "data": {
      "text/plain": [
       "50000"
      ]
     },
     "execution_count": 4,
     "metadata": {},
     "output_type": "execute_result"
    }
   ],
   "source": [
    "#constructor inherited from BankAccount\n",
    "saving_acct = SavingAccount(50000)\n",
    "print(type(saving_acct))\n",
    "saving_acct.balance"
   ]
  },
  {
   "cell_type": "code",
   "execution_count": 5,
   "metadata": {},
   "outputs": [
    {
     "data": {
      "text/plain": [
       "50000"
      ]
     },
     "execution_count": 5,
     "metadata": {},
     "output_type": "execute_result"
    }
   ],
   "source": [
    "#Attribute inherited from BankAccount\n",
    "saving_acct.balance"
   ]
  },
  {
   "cell_type": "code",
   "execution_count": 6,
   "metadata": {},
   "outputs": [
    {
     "data": {
      "text/plain": [
       "49700"
      ]
     },
     "execution_count": 6,
     "metadata": {},
     "output_type": "execute_result"
    }
   ],
   "source": [
    "#method inherited from BankAccount\n",
    "saving_acct.withdraw(300)"
   ]
  },
  {
   "cell_type": "markdown",
   "metadata": {},
   "source": [
    "##### Inheritance \"IS A\" realationship"
   ]
  },
  {
   "cell_type": "code",
   "execution_count": 7,
   "metadata": {},
   "outputs": [
    {
     "name": "stdout",
     "output_type": "stream",
     "text": [
      "True\n",
      "True\n",
      "False\n",
      "True\n"
     ]
    }
   ],
   "source": [
    "# A SavingAccount IS A relationship\n",
    "saving_acc = SavingAccount(5000)\n",
    "bank_acc = BankAccount(3000)\n",
    "print(isinstance(saving_acc, SavingAccount))\n",
    "print(isinstance(saving_acc, BankAccount))\n",
    "print(isinstance(bank_acc, SavingAccount))\n",
    "print(isinstance(bank_acc, BankAccount))\n"
   ]
  },
  {
   "cell_type": "markdown",
   "metadata": {},
   "source": [
    "##### Customizing functionlaity via inhertance\n",
    "<img src = \"https://github.com/qasim1020/100DaysOfCode/raw/d65fa7cb5fcadda941d67ac6d2189da5d6d9269f/python/Day7%20OOP/media/inheritance.png\"></img>\n",
    "##### What we have so far, (Programming exactly inheritsnce as above in figure...)"
   ]
  },
  {
   "cell_type": "code",
   "execution_count": 22,
   "metadata": {},
   "outputs": [],
   "source": [
    "class BankAccount: # parent\n",
    "    def __init__(self,balance):\n",
    "        self.balance = balance\n",
    "    \n",
    "#     @classmethod\n",
    "    def withdraw(self, amount):\n",
    "        self.balance -= amount\n",
    "\n",
    "# Creating empty class inherited from BankAccount\n",
    "class SavingAccount(BankAccount): #Child\n",
    "    pass"
   ]
  },
  {
   "cell_type": "markdown",
   "metadata": {},
   "source": [
    "###### customizing constructor"
   ]
  },
  {
   "cell_type": "code",
   "execution_count": 23,
   "metadata": {},
   "outputs": [],
   "source": [
    "class SavingAccount(BankAccount):\n",
    "    # constructor speficially for SavingAccount  with an additional paramter\n",
    "    def __init__(self, balance, interest_rate):\n",
    "        # calling parent constructor using ClassName.__init__()\n",
    "        BankAccount.__init__(self, balance)\n",
    "        #add more functionality\n",
    "        self.interest_rate = interest_rate"
   ]
  },
  {
   "cell_type": "markdown",
   "metadata": {},
   "source": [
    "###### Note:\n",
    "<ul>\n",
    "    <li>Child constructor can run constructor of the parent class first by parent.__init__(self,args...).</li>\n",
    "    <li>Add more functionality.</li>\n",
    "    <li>Don't have to call parent constructor.</li>\n",
    "    </ul>"
   ]
  },
  {
   "cell_type": "markdown",
   "metadata": {},
   "source": [
    "##### creating object with customized constructor"
   ]
  },
  {
   "cell_type": "code",
   "execution_count": 24,
   "metadata": {},
   "outputs": [
    {
     "name": "stdout",
     "output_type": "stream",
     "text": [
      "0.04\n",
      "3000\n"
     ]
    }
   ],
   "source": [
    "#construct the object of new customer\n",
    "acct = SavingAccount(3000,0.04)\n",
    "print(acct.interest_rate)\n",
    "print(acct.balance)"
   ]
  },
  {
   "cell_type": "markdown",
   "metadata": {},
   "source": [
    "##### Adding functionality | new methods\n",
    "<ul>\n",
    "    <li>add methods as usual</li>\n",
    "    <li>can use the data from both parent and chile class</li>\n",
    "    </ul>"
   ]
  },
  {
   "cell_type": "code",
   "execution_count": 34,
   "metadata": {},
   "outputs": [],
   "source": [
    "class BankAccount: # parent\n",
    "    def __init__(self,balance):\n",
    "        self.balance = balance\n",
    "    \n",
    "    def withdraw(self, amount):\n",
    "        self.balance -= amount\n",
    "\n",
    "class SavingAccount(BankAccount):\n",
    "    def __init__(self,balance,interest_rate):\n",
    "        BankAccount.__init__(self,balance)\n",
    "        self.interest_rate = interest_rate\n",
    "        \n",
    "    #new functionality\n",
    "    def compute_interest(self, n_period=1):\n",
    "        return self.balance * ( self.interest_rate ** n_period -1 )"
   ]
  },
  {
   "cell_type": "code",
   "execution_count": 35,
   "metadata": {},
   "outputs": [
    {
     "name": "stdout",
     "output_type": "stream",
     "text": [
      "5000\n",
      "0.3\n"
     ]
    },
    {
     "data": {
      "text/plain": [
       "-4550.0"
      ]
     },
     "execution_count": 35,
     "metadata": {},
     "output_type": "execute_result"
    }
   ],
   "source": [
    "saving_acct = SavingAccount(5000,0.3)\n",
    "print(saving_acc.balance, saving_acct.interest_rate, sep= '\\n')\n",
    "saving_acct.compute_interest(2)"
   ]
  },
  {
   "cell_type": "code",
   "execution_count": 59,
   "metadata": {},
   "outputs": [],
   "source": [
    "class CheckingAccount(BankAccount):\n",
    "    def __init__(self, balance, limit):\n",
    "        BankAccount.__init__(self, balance)\n",
    "        self.limit = limit\n",
    "    \n",
    "    def deposit(self, amount):\n",
    "        self.balance += amount\n",
    "    \n",
    "    def withdraw(self, amount, fee=0): #modifying withdraw\n",
    "        if fee <= self.limit:\n",
    "            BankAccount.withdraw(self, amount - fee)\n",
    "        else:\n",
    "            BankAccount.withdraw(self,amount - self.limit)\n",
    "            "
   ]
  },
  {
   "cell_type": "code",
   "execution_count": 60,
   "metadata": {},
   "outputs": [],
   "source": [
    "check_acct = CheckingAccount(1000, 25)"
   ]
  },
  {
   "cell_type": "code",
   "execution_count": 61,
   "metadata": {},
   "outputs": [
    {
     "data": {
      "text/plain": [
       "25"
      ]
     },
     "execution_count": 61,
     "metadata": {},
     "output_type": "execute_result"
    }
   ],
   "source": [
    "check_acct.limit"
   ]
  },
  {
   "cell_type": "code",
   "execution_count": 62,
   "metadata": {},
   "outputs": [
    {
     "name": "stdout",
     "output_type": "stream",
     "text": [
      "615\n"
     ]
    }
   ],
   "source": [
    "# Will call withdraw from CheckingAccount\n",
    "check_acct.withdraw(200)\n",
    "# Will call withdraw from CheckingAccount\n",
    "check_acct.withdraw(200, fee=15)\n",
    "print(check_acct.balance)\n"
   ]
  },
  {
   "cell_type": "code",
   "execution_count": 70,
   "metadata": {},
   "outputs": [
    {
     "name": "stdout",
     "output_type": "stream",
     "text": [
      "800\n"
     ]
    }
   ],
   "source": [
    "bank_acct = BankAccount(1000)\n",
    "# Will call withdraw from BankAccount\n",
    "bank_acct.withdraw(200)\n",
    "print(bank_acct.balance)\n",
    "# Will produce an error\n",
    "# bank_acct.withdraw(200, fee=15) generate an error because parent can't access its child method\n"
   ]
  },
  {
   "cell_type": "markdown",
   "metadata": {},
   "source": [
    "#### Exercise: 1"
   ]
  },
  {
   "cell_type": "markdown",
   "metadata": {},
   "source": [
    "For example, if we have a general class \"Animal\",  it can have two specialized classes like \"Wild\" and  \"Domestic\". Under \"Domestic\" also we may have multiple other specialized class. Thus \"Wild\" is a specialized subclass of the parent \"Animal\" class and the properties of \"Wild\" class share some properties with its parent class but it also has some unique properties which makes it unique within in parents class. This is what is called \"Inheritance\"."
   ]
  },
  {
   "cell_type": "code",
   "execution_count": 73,
   "metadata": {},
   "outputs": [
    {
     "name": "stdout",
     "output_type": "stream",
     "text": [
      "This animals makes some sound!\n",
      "This animal can't be pet!\n",
      "This animals makes some sound!\n",
      "This animal can be pet!\n"
     ]
    }
   ],
   "source": [
    "# Creating a Class in Python\n",
    "class Animal:\n",
    "    def sounds(self):\n",
    "        print(\"This animals makes some sound!\")\n",
    "\n",
    "# Wild class inherits Animal class\n",
    "class Wild(Animal):\n",
    "    def asPet(self):\n",
    "        print(\"This animal can't be pet!\")\n",
    "\n",
    "# Domestic class inherits Animal class \n",
    "class Domestic(Animal):\n",
    "    def asPet(self):\n",
    "        print(\"This animal can be pet!\")\n",
    "\n",
    "# Creating object of Wild class\n",
    "tiger = Wild()\n",
    "\n",
    "tiger.sounds()\n",
    "# Output : This animals makes some sound!\n",
    "\n",
    "tiger.asPet()\n",
    "# Output : This animal can't be pet!\n",
    "\n",
    "# Creating object of Domestic class\n",
    "tiger = Domestic()\n",
    "\n",
    "tiger.sounds()\n",
    "# Output : This animals makes some sound!\n",
    "\n",
    "tiger.asPet()\n",
    "# Output : This animal can be pet!\n"
   ]
  },
  {
   "cell_type": "markdown",
   "metadata": {},
   "source": [
    "#### Exercise: 2"
   ]
  },
  {
   "cell_type": "code",
   "execution_count": 74,
   "metadata": {},
   "outputs": [
    {
     "name": "stdout",
     "output_type": "stream",
     "text": [
      "Hi, I am  Qasim\n",
      "Hi, I am  Haseeb\n"
     ]
    }
   ],
   "source": [
    "class Teacher:\n",
    "    def __init__(self, name):\n",
    "        self.name = name\n",
    "    def say_hi(self):\n",
    "        print(\"Hi, I am \", self.name)\n",
    "\n",
    "class Student(Teacher):\n",
    "    #Student inherits from Teacher Class\n",
    "    pass\n",
    "\n",
    "qasim = Student(\"Qasim\")\n",
    "haseeb = Student(\"Haseeb\")\n",
    "\n",
    "qasim.say_hi()\n",
    "haseeb.say_hi()"
   ]
  },
  {
   "cell_type": "markdown",
   "metadata": {},
   "source": [
    "#### Exercise 3:"
   ]
  },
  {
   "cell_type": "code",
   "execution_count": 78,
   "metadata": {},
   "outputs": [
    {
     "name": "stdout",
     "output_type": "stream",
     "text": [
      "0\n",
      "0\n",
      "\n",
      "Hello !\n",
      "havig  Fruits\n",
      "Listing...\n"
     ]
    }
   ],
   "source": [
    "class Parent():\n",
    "    def __init__(self):\n",
    "        self.id = 0\n",
    "        self.name = \"\"\n",
    "        self.dob = 0\n",
    "    \n",
    "    def speak(self, words):\n",
    "        print(words, \"!\")\n",
    "        \n",
    "    def eat(self, food):\n",
    "        print(\"havig \",food)\n",
    "        \n",
    "    def listing(self):\n",
    "        print(\"Listing...\")\n",
    "        \n",
    "class Child(Parent):\n",
    "    pass\n",
    "\n",
    "obj_p = Parent()\n",
    "\n",
    "obj_c = Child()\n",
    "print(obj_c.id)\n",
    "print(obj_c.dob)\n",
    "print(obj_c.name)\n",
    "obj_c.speak(\"Hello\")\n",
    "obj_c.eat(\"Fruits\")\n",
    "obj_c.listing()"
   ]
  },
  {
   "cell_type": "markdown",
   "metadata": {},
   "source": [
    "#### Exercise 4:"
   ]
  },
  {
   "cell_type": "code",
   "execution_count": 81,
   "metadata": {},
   "outputs": [
    {
     "name": "stdout",
     "output_type": "stream",
     "text": [
      "Father look after their child\n",
      "Mother loves childern\n"
     ]
    }
   ],
   "source": [
    "class Father():\n",
    "    def __init__(self):\n",
    "        self.name = \"\"\n",
    "        self.relation = \"\"\n",
    "        \n",
    "    def lookafter(self):\n",
    "        print(\"Father look after their child\")\n",
    "        \n",
    "    def earnsfor(self):\n",
    "        print(\"Father earns childern\")\n",
    "        \n",
    "class Mother():\n",
    "    def __init__(self):\n",
    "        self.name = \"\"\n",
    "        self.relation = \"\"\n",
    "        \n",
    "    def lookafter(self):\n",
    "        print(\"Mother look after their child\")\n",
    "        \n",
    "    def earndandfeed(self):\n",
    "        print(\"Mother loves childern\")\n",
    "        \n",
    "class Childern(Father, Mother):\n",
    "    pass\n",
    "\n",
    "obj_c = Childern()\n",
    "obj_c.lookafter()\n",
    "obj_c.earndandfeed()"
   ]
  },
  {
   "cell_type": "code",
   "execution_count": null,
   "metadata": {},
   "outputs": [],
   "source": []
  }
 ],
 "metadata": {
  "kernelspec": {
   "display_name": "Python 3",
   "language": "python",
   "name": "python3"
  },
  "language_info": {
   "codemirror_mode": {
    "name": "ipython",
    "version": 3
   },
   "file_extension": ".py",
   "mimetype": "text/x-python",
   "name": "python",
   "nbconvert_exporter": "python",
   "pygments_lexer": "ipython3",
   "version": "3.8.3"
  }
 },
 "nbformat": 4,
 "nbformat_minor": 4
}
