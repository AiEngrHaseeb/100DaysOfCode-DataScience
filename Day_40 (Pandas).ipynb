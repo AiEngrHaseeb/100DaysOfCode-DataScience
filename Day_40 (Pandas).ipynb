{
 "cells": [
  {
   "cell_type": "markdown",
   "id": "c28de6fd",
   "metadata": {},
   "source": [
    "## Testing for data analysis"
   ]
  },
  {
   "cell_type": "markdown",
   "id": "52bdb71d",
   "metadata": {},
   "source": [
    "In a data analysis context, we want to test our code, as usual, but also our data (i.e., expected schema; e.g., data types) and our statistics (i.e., expected properties of distributions; e.g., value ranges). We focus on a defensive programming approach, by running expectation checks."
   ]
  },
  {
   "cell_type": "code",
   "execution_count": 12,
   "id": "fea122b8",
   "metadata": {},
   "outputs": [],
   "source": [
    "import pandas as pd"
   ]
  },
  {
   "cell_type": "code",
   "execution_count": 13,
   "id": "2ddc7ff4",
   "metadata": {},
   "outputs": [],
   "source": [
    "df = pd.read_csv(\"./Pandas Dataset - I/tidy_who.csv\")"
   ]
  },
  {
   "cell_type": "code",
   "execution_count": 14,
   "id": "0fa2d828",
   "metadata": {},
   "outputs": [
    {
     "data": {
      "text/html": [
       "<div>\n",
       "<style scoped>\n",
       "    .dataframe tbody tr th:only-of-type {\n",
       "        vertical-align: middle;\n",
       "    }\n",
       "\n",
       "    .dataframe tbody tr th {\n",
       "        vertical-align: top;\n",
       "    }\n",
       "\n",
       "    .dataframe thead th {\n",
       "        text-align: right;\n",
       "    }\n",
       "</style>\n",
       "<table border=\"1\" class=\"dataframe\">\n",
       "  <thead>\n",
       "    <tr style=\"text-align: right;\">\n",
       "      <th></th>\n",
       "      <th>country</th>\n",
       "      <th>g_whoregion</th>\n",
       "      <th>year</th>\n",
       "      <th>cases</th>\n",
       "      <th>type</th>\n",
       "      <th>sex</th>\n",
       "      <th>age_range</th>\n",
       "    </tr>\n",
       "  </thead>\n",
       "  <tbody>\n",
       "    <tr>\n",
       "      <th>222835</th>\n",
       "      <td>Argentina</td>\n",
       "      <td>AMR</td>\n",
       "      <td>1981</td>\n",
       "      <td>NaN</td>\n",
       "      <td>ep</td>\n",
       "      <td>m</td>\n",
       "      <td>1524</td>\n",
       "    </tr>\n",
       "    <tr>\n",
       "      <th>304059</th>\n",
       "      <td>Netherlands</td>\n",
       "      <td>EUR</td>\n",
       "      <td>2014</td>\n",
       "      <td>NaN</td>\n",
       "      <td>ep</td>\n",
       "      <td>f</td>\n",
       "      <td>4554</td>\n",
       "    </tr>\n",
       "    <tr>\n",
       "      <th>74684</th>\n",
       "      <td>Romania</td>\n",
       "      <td>EUR</td>\n",
       "      <td>2001</td>\n",
       "      <td>825.0</td>\n",
       "      <td>sp</td>\n",
       "      <td>f</td>\n",
       "      <td>2534</td>\n",
       "    </tr>\n",
       "    <tr>\n",
       "      <th>27035</th>\n",
       "      <td>Madagascar</td>\n",
       "      <td>AFR</td>\n",
       "      <td>1985</td>\n",
       "      <td>NaN</td>\n",
       "      <td>sp</td>\n",
       "      <td>m</td>\n",
       "      <td>3544</td>\n",
       "    </tr>\n",
       "    <tr>\n",
       "      <th>378912</th>\n",
       "      <td>Guam</td>\n",
       "      <td>WPR</td>\n",
       "      <td>2010</td>\n",
       "      <td>NaN</td>\n",
       "      <td>rel</td>\n",
       "      <td>f</td>\n",
       "      <td>14</td>\n",
       "    </tr>\n",
       "    <tr>\n",
       "      <th>98083</th>\n",
       "      <td>Serbia</td>\n",
       "      <td>EUR</td>\n",
       "      <td>2007</td>\n",
       "      <td>26.0</td>\n",
       "      <td>sp</td>\n",
       "      <td>f</td>\n",
       "      <td>5564</td>\n",
       "    </tr>\n",
       "    <tr>\n",
       "      <th>3189</th>\n",
       "      <td>India</td>\n",
       "      <td>SEA</td>\n",
       "      <td>1989</td>\n",
       "      <td>NaN</td>\n",
       "      <td>sp</td>\n",
       "      <td>m</td>\n",
       "      <td>14</td>\n",
       "    </tr>\n",
       "    <tr>\n",
       "      <th>73685</th>\n",
       "      <td>Myanmar</td>\n",
       "      <td>SEA</td>\n",
       "      <td>2004</td>\n",
       "      <td>2622.0</td>\n",
       "      <td>sp</td>\n",
       "      <td>f</td>\n",
       "      <td>2534</td>\n",
       "    </tr>\n",
       "    <tr>\n",
       "      <th>361310</th>\n",
       "      <td>Barbados</td>\n",
       "      <td>AMR</td>\n",
       "      <td>2000</td>\n",
       "      <td>NaN</td>\n",
       "      <td>rel</td>\n",
       "      <td>m</td>\n",
       "      <td>5564</td>\n",
       "    </tr>\n",
       "    <tr>\n",
       "      <th>347318</th>\n",
       "      <td>Democratic People's Republic of Korea</td>\n",
       "      <td>SEA</td>\n",
       "      <td>2012</td>\n",
       "      <td>NaN</td>\n",
       "      <td>rel</td>\n",
       "      <td>m</td>\n",
       "      <td>3544</td>\n",
       "    </tr>\n",
       "  </tbody>\n",
       "</table>\n",
       "</div>"
      ],
      "text/plain": [
       "                                      country g_whoregion  year   cases type  \\\n",
       "222835                              Argentina         AMR  1981     NaN   ep   \n",
       "304059                            Netherlands         EUR  2014     NaN   ep   \n",
       "74684                                 Romania         EUR  2001   825.0   sp   \n",
       "27035                              Madagascar         AFR  1985     NaN   sp   \n",
       "378912                                   Guam         WPR  2010     NaN  rel   \n",
       "98083                                  Serbia         EUR  2007    26.0   sp   \n",
       "3189                                    India         SEA  1989     NaN   sp   \n",
       "73685                                 Myanmar         SEA  2004  2622.0   sp   \n",
       "361310                               Barbados         AMR  2000     NaN  rel   \n",
       "347318  Democratic People's Republic of Korea         SEA  2012     NaN  rel   \n",
       "\n",
       "       sex  age_range  \n",
       "222835   m       1524  \n",
       "304059   f       4554  \n",
       "74684    f       2534  \n",
       "27035    m       3544  \n",
       "378912   f         14  \n",
       "98083    f       5564  \n",
       "3189     m         14  \n",
       "73685    f       2534  \n",
       "361310   m       5564  \n",
       "347318   m       3544  "
      ]
     },
     "execution_count": 14,
     "metadata": {},
     "output_type": "execute_result"
    }
   ],
   "source": [
    "df.sample(10)"
   ]
  },
  {
   "cell_type": "markdown",
   "id": "f8a21385",
   "metadata": {},
   "source": [
    "## Testing Code"
   ]
  },
  {
   "cell_type": "markdown",
   "id": "d2d7dd98",
   "metadata": {},
   "source": [
    "As far as code is concerned (when we implement operations to transform data), please refer to the lesson on testing, debugging, and profiling.\n",
    "\n",
    "In the first notebook, we came across\n",
    "- `pd.testing.assert_frame_equal()`; be aware that\n",
    "- `pd.testing.assert_series_equal()` and \n",
    "- `pd.testing.assert_index_equal()` are also available."
   ]
  },
  {
   "cell_type": "code",
   "execution_count": 15,
   "id": "1279b7b3",
   "metadata": {},
   "outputs": [],
   "source": [
    "pd.testing.assert_index_equal(df.index, df.index)"
   ]
  },
  {
   "cell_type": "markdown",
   "id": "4cca8379",
   "metadata": {},
   "source": [
    "## Testing data"
   ]
  },
  {
   "cell_type": "code",
   "execution_count": 16,
   "id": "7719b3b9",
   "metadata": {},
   "outputs": [
    {
     "data": {
      "text/plain": [
       "dtype('int64')"
      ]
     },
     "execution_count": 16,
     "metadata": {},
     "output_type": "execute_result"
    }
   ],
   "source": [
    "df['year'].dtype"
   ]
  },
  {
   "cell_type": "code",
   "execution_count": 26,
   "id": "5bc61c3d",
   "metadata": {},
   "outputs": [],
   "source": [
    "assert df['year'].dtype == 'int64'"
   ]
  },
  {
   "cell_type": "code",
   "execution_count": 20,
   "id": "1ef56ec9",
   "metadata": {},
   "outputs": [
    {
     "data": {
      "text/plain": [
       "dtype('O')"
      ]
     },
     "execution_count": 20,
     "metadata": {},
     "output_type": "execute_result"
    }
   ],
   "source": [
    "df['sex'].dtype"
   ]
  },
  {
   "cell_type": "code",
   "execution_count": 21,
   "id": "edc8bb3c",
   "metadata": {},
   "outputs": [],
   "source": [
    "assert df['sex'].dtype == 'object'"
   ]
  },
  {
   "cell_type": "markdown",
   "id": "30d781d6",
   "metadata": {},
   "source": [
    "## Testing statistics"
   ]
  },
  {
   "cell_type": "code",
   "execution_count": 27,
   "id": "b47e1438",
   "metadata": {},
   "outputs": [],
   "source": [
    "assert df['year'].max() <= 2017"
   ]
  },
  {
   "cell_type": "code",
   "execution_count": 33,
   "id": "b524c877",
   "metadata": {},
   "outputs": [
    {
     "data": {
      "text/plain": [
       "0         1980\n",
       "1         1981\n",
       "2         1982\n",
       "3         1983\n",
       "4         1984\n",
       "          ... \n",
       "429739    2011\n",
       "429740    2012\n",
       "429741    2013\n",
       "429742    2014\n",
       "429743    2015\n",
       "Name: year, Length: 429744, dtype: int64"
      ]
     },
     "execution_count": 33,
     "metadata": {},
     "output_type": "execute_result"
    }
   ],
   "source": [
    "df['year']"
   ]
  },
  {
   "cell_type": "code",
   "execution_count": 31,
   "id": "a2731a61",
   "metadata": {},
   "outputs": [],
   "source": [
    "assert df['cases'].min() == 0"
   ]
  },
  {
   "cell_type": "code",
   "execution_count": 32,
   "id": "cd20a06d",
   "metadata": {},
   "outputs": [
    {
     "data": {
      "text/plain": [
       "0.0"
      ]
     },
     "execution_count": 32,
     "metadata": {},
     "output_type": "execute_result"
    }
   ],
   "source": [
    "df['cases'].min()"
   ]
  },
  {
   "cell_type": "code",
   "execution_count": 35,
   "id": "3fa874e7",
   "metadata": {},
   "outputs": [
    {
     "data": {
      "text/plain": [
       "0           NaN\n",
       "1           NaN\n",
       "2           NaN\n",
       "3           NaN\n",
       "4           NaN\n",
       "          ...  \n",
       "429739      NaN\n",
       "429740      NaN\n",
       "429741    725.0\n",
       "429742    718.0\n",
       "429743    629.0\n",
       "Name: cases, Length: 429744, dtype: float64"
      ]
     },
     "execution_count": 35,
     "metadata": {},
     "output_type": "execute_result"
    }
   ],
   "source": [
    "df['cases']"
   ]
  },
  {
   "cell_type": "markdown",
   "id": "6bf6e8f4",
   "metadata": {},
   "source": [
    "When datasets are large, it might be difficult to carry out exact tests (for example, using `pd.testing.assert_series_equal()`). It might then be reasonable to test for properties of a series, rather than element-wise equality."
   ]
  },
  {
   "cell_type": "code",
   "execution_count": 34,
   "id": "2bcb66a7",
   "metadata": {},
   "outputs": [
    {
     "data": {
      "text/plain": [
       "count     81381.000000\n",
       "mean        667.482496\n",
       "std        4490.566875\n",
       "min           0.000000\n",
       "25%           3.000000\n",
       "50%          28.000000\n",
       "75%         200.000000\n",
       "max      250051.000000\n",
       "Name: cases, dtype: float64"
      ]
     },
     "execution_count": 34,
     "metadata": {},
     "output_type": "execute_result"
    }
   ],
   "source": [
    "df['cases'].describe()"
   ]
  },
  {
   "cell_type": "markdown",
   "id": "36be5d7e",
   "metadata": {},
   "source": [
    "Make use of visual checks too: For example, it is generally a lot more straightforward to spot outliers if you plot your data!"
   ]
  },
  {
   "cell_type": "code",
   "execution_count": 36,
   "id": "16313a40",
   "metadata": {},
   "outputs": [],
   "source": [
    "assert df['sex'].nunique() > 1"
   ]
  },
  {
   "cell_type": "code",
   "execution_count": 37,
   "id": "8af4dc1d",
   "metadata": {},
   "outputs": [
    {
     "data": {
      "text/plain": [
       "0         m\n",
       "1         m\n",
       "2         m\n",
       "3         m\n",
       "4         m\n",
       "         ..\n",
       "429739    f\n",
       "429740    f\n",
       "429741    f\n",
       "429742    f\n",
       "429743    f\n",
       "Name: sex, Length: 429744, dtype: object"
      ]
     },
     "execution_count": 37,
     "metadata": {},
     "output_type": "execute_result"
    }
   ],
   "source": [
    "df['sex']"
   ]
  },
  {
   "cell_type": "code",
   "execution_count": 38,
   "id": "1e121354",
   "metadata": {},
   "outputs": [
    {
     "data": {
      "text/plain": [
       "2"
      ]
     },
     "execution_count": 38,
     "metadata": {},
     "output_type": "execute_result"
    }
   ],
   "source": [
    "df['sex'].nunique()"
   ]
  },
  {
   "cell_type": "markdown",
   "id": "3a254b39",
   "metadata": {},
   "source": [
    "## Handling missing data"
   ]
  },
  {
   "cell_type": "markdown",
   "id": "5bf59929",
   "metadata": {},
   "source": [
    "Some data are missing, either because they exist but were not collected or because they never existed. How can we detect missing data (null values)?"
   ]
  },
  {
   "cell_type": "code",
   "execution_count": 39,
   "id": "cb58fd6f",
   "metadata": {},
   "outputs": [
    {
     "data": {
      "text/html": [
       "<div>\n",
       "<style scoped>\n",
       "    .dataframe tbody tr th:only-of-type {\n",
       "        vertical-align: middle;\n",
       "    }\n",
       "\n",
       "    .dataframe tbody tr th {\n",
       "        vertical-align: top;\n",
       "    }\n",
       "\n",
       "    .dataframe thead th {\n",
       "        text-align: right;\n",
       "    }\n",
       "</style>\n",
       "<table border=\"1\" class=\"dataframe\">\n",
       "  <thead>\n",
       "    <tr style=\"text-align: right;\">\n",
       "      <th></th>\n",
       "      <th>country</th>\n",
       "      <th>g_whoregion</th>\n",
       "      <th>year</th>\n",
       "      <th>cases</th>\n",
       "      <th>type</th>\n",
       "      <th>sex</th>\n",
       "      <th>age_range</th>\n",
       "    </tr>\n",
       "  </thead>\n",
       "  <tbody>\n",
       "    <tr>\n",
       "      <th>48827</th>\n",
       "      <td>Greece</td>\n",
       "      <td>EUR</td>\n",
       "      <td>2015</td>\n",
       "      <td>NaN</td>\n",
       "      <td>sp</td>\n",
       "      <td>m</td>\n",
       "      <td>65</td>\n",
       "    </tr>\n",
       "    <tr>\n",
       "      <th>102545</th>\n",
       "      <td>Greece</td>\n",
       "      <td>EUR</td>\n",
       "      <td>2015</td>\n",
       "      <td>NaN</td>\n",
       "      <td>sp</td>\n",
       "      <td>f</td>\n",
       "      <td>65</td>\n",
       "    </tr>\n",
       "    <tr>\n",
       "      <th>156263</th>\n",
       "      <td>Greece</td>\n",
       "      <td>EUR</td>\n",
       "      <td>2015</td>\n",
       "      <td>NaN</td>\n",
       "      <td>sn</td>\n",
       "      <td>m</td>\n",
       "      <td>65</td>\n",
       "    </tr>\n",
       "    <tr>\n",
       "      <th>209981</th>\n",
       "      <td>Greece</td>\n",
       "      <td>EUR</td>\n",
       "      <td>2015</td>\n",
       "      <td>NaN</td>\n",
       "      <td>sn</td>\n",
       "      <td>f</td>\n",
       "      <td>65</td>\n",
       "    </tr>\n",
       "    <tr>\n",
       "      <th>263699</th>\n",
       "      <td>Greece</td>\n",
       "      <td>EUR</td>\n",
       "      <td>2015</td>\n",
       "      <td>NaN</td>\n",
       "      <td>ep</td>\n",
       "      <td>m</td>\n",
       "      <td>65</td>\n",
       "    </tr>\n",
       "    <tr>\n",
       "      <th>317417</th>\n",
       "      <td>Greece</td>\n",
       "      <td>EUR</td>\n",
       "      <td>2015</td>\n",
       "      <td>NaN</td>\n",
       "      <td>ep</td>\n",
       "      <td>f</td>\n",
       "      <td>65</td>\n",
       "    </tr>\n",
       "    <tr>\n",
       "      <th>371135</th>\n",
       "      <td>Greece</td>\n",
       "      <td>EUR</td>\n",
       "      <td>2015</td>\n",
       "      <td>86.0</td>\n",
       "      <td>rel</td>\n",
       "      <td>m</td>\n",
       "      <td>65</td>\n",
       "    </tr>\n",
       "    <tr>\n",
       "      <th>424853</th>\n",
       "      <td>Greece</td>\n",
       "      <td>EUR</td>\n",
       "      <td>2015</td>\n",
       "      <td>42.0</td>\n",
       "      <td>rel</td>\n",
       "      <td>f</td>\n",
       "      <td>65</td>\n",
       "    </tr>\n",
       "  </tbody>\n",
       "</table>\n",
       "</div>"
      ],
      "text/plain": [
       "       country g_whoregion  year  cases type sex  age_range\n",
       "48827   Greece         EUR  2015    NaN   sp   m         65\n",
       "102545  Greece         EUR  2015    NaN   sp   f         65\n",
       "156263  Greece         EUR  2015    NaN   sn   m         65\n",
       "209981  Greece         EUR  2015    NaN   sn   f         65\n",
       "263699  Greece         EUR  2015    NaN   ep   m         65\n",
       "317417  Greece         EUR  2015    NaN   ep   f         65\n",
       "371135  Greece         EUR  2015   86.0  rel   m         65\n",
       "424853  Greece         EUR  2015   42.0  rel   f         65"
      ]
     },
     "execution_count": 39,
     "metadata": {},
     "output_type": "execute_result"
    }
   ],
   "source": [
    "df_sub = df[(df.country == 'Greece') & (df.year > 2014) & (df.age_range == 65)]\n",
    "df_sub"
   ]
  },
  {
   "cell_type": "code",
   "execution_count": 40,
   "id": "f972b30d",
   "metadata": {},
   "outputs": [
    {
     "data": {
      "text/plain": [
       "48827      True\n",
       "102545     True\n",
       "156263     True\n",
       "209981     True\n",
       "263699     True\n",
       "317417     True\n",
       "371135    False\n",
       "424853    False\n",
       "Name: cases, dtype: bool"
      ]
     },
     "execution_count": 40,
     "metadata": {},
     "output_type": "execute_result"
    }
   ],
   "source": [
    "df_sub['cases'].isnull()"
   ]
  },
  {
   "cell_type": "code",
   "execution_count": 41,
   "id": "5285e478",
   "metadata": {},
   "outputs": [
    {
     "data": {
      "text/plain": [
       "48827     False\n",
       "102545    False\n",
       "156263    False\n",
       "209981    False\n",
       "263699    False\n",
       "317417    False\n",
       "371135     True\n",
       "424853     True\n",
       "Name: cases, dtype: bool"
      ]
     },
     "execution_count": 41,
     "metadata": {},
     "output_type": "execute_result"
    }
   ],
   "source": [
    "df_sub['cases'].notnull()"
   ]
  },
  {
   "cell_type": "code",
   "execution_count": 43,
   "id": "98c38b16",
   "metadata": {},
   "outputs": [
    {
     "data": {
      "text/plain": [
       "False    6\n",
       "True     2\n",
       "Name: cases, dtype: int64"
      ]
     },
     "execution_count": 43,
     "metadata": {},
     "output_type": "execute_result"
    }
   ],
   "source": [
    "df_sub['cases'].notnull().value_counts()"
   ]
  },
  {
   "cell_type": "code",
   "execution_count": 44,
   "id": "82b4998e",
   "metadata": {},
   "outputs": [
    {
     "data": {
      "text/plain": [
       "128.0"
      ]
     },
     "execution_count": 44,
     "metadata": {},
     "output_type": "execute_result"
    }
   ],
   "source": [
    "df_sub['cases'].sum()"
   ]
  },
  {
   "cell_type": "code",
   "execution_count": 45,
   "id": "ff7b4f38",
   "metadata": {},
   "outputs": [
    {
     "data": {
      "text/html": [
       "<div>\n",
       "<style scoped>\n",
       "    .dataframe tbody tr th:only-of-type {\n",
       "        vertical-align: middle;\n",
       "    }\n",
       "\n",
       "    .dataframe tbody tr th {\n",
       "        vertical-align: top;\n",
       "    }\n",
       "\n",
       "    .dataframe thead th {\n",
       "        text-align: right;\n",
       "    }\n",
       "</style>\n",
       "<table border=\"1\" class=\"dataframe\">\n",
       "  <thead>\n",
       "    <tr style=\"text-align: right;\">\n",
       "      <th></th>\n",
       "      <th>country</th>\n",
       "      <th>g_whoregion</th>\n",
       "      <th>year</th>\n",
       "      <th>cases</th>\n",
       "      <th>type</th>\n",
       "      <th>sex</th>\n",
       "      <th>age_range</th>\n",
       "    </tr>\n",
       "  </thead>\n",
       "  <tbody>\n",
       "    <tr>\n",
       "      <th>48827</th>\n",
       "      <td>Greece</td>\n",
       "      <td>EUR</td>\n",
       "      <td>2015</td>\n",
       "      <td>NA</td>\n",
       "      <td>sp</td>\n",
       "      <td>m</td>\n",
       "      <td>65</td>\n",
       "    </tr>\n",
       "    <tr>\n",
       "      <th>102545</th>\n",
       "      <td>Greece</td>\n",
       "      <td>EUR</td>\n",
       "      <td>2015</td>\n",
       "      <td>NA</td>\n",
       "      <td>sp</td>\n",
       "      <td>f</td>\n",
       "      <td>65</td>\n",
       "    </tr>\n",
       "    <tr>\n",
       "      <th>156263</th>\n",
       "      <td>Greece</td>\n",
       "      <td>EUR</td>\n",
       "      <td>2015</td>\n",
       "      <td>NA</td>\n",
       "      <td>sn</td>\n",
       "      <td>m</td>\n",
       "      <td>65</td>\n",
       "    </tr>\n",
       "    <tr>\n",
       "      <th>209981</th>\n",
       "      <td>Greece</td>\n",
       "      <td>EUR</td>\n",
       "      <td>2015</td>\n",
       "      <td>NA</td>\n",
       "      <td>sn</td>\n",
       "      <td>f</td>\n",
       "      <td>65</td>\n",
       "    </tr>\n",
       "    <tr>\n",
       "      <th>263699</th>\n",
       "      <td>Greece</td>\n",
       "      <td>EUR</td>\n",
       "      <td>2015</td>\n",
       "      <td>NA</td>\n",
       "      <td>ep</td>\n",
       "      <td>m</td>\n",
       "      <td>65</td>\n",
       "    </tr>\n",
       "    <tr>\n",
       "      <th>317417</th>\n",
       "      <td>Greece</td>\n",
       "      <td>EUR</td>\n",
       "      <td>2015</td>\n",
       "      <td>NA</td>\n",
       "      <td>ep</td>\n",
       "      <td>f</td>\n",
       "      <td>65</td>\n",
       "    </tr>\n",
       "    <tr>\n",
       "      <th>371135</th>\n",
       "      <td>Greece</td>\n",
       "      <td>EUR</td>\n",
       "      <td>2015</td>\n",
       "      <td>86.0</td>\n",
       "      <td>rel</td>\n",
       "      <td>m</td>\n",
       "      <td>65</td>\n",
       "    </tr>\n",
       "    <tr>\n",
       "      <th>424853</th>\n",
       "      <td>Greece</td>\n",
       "      <td>EUR</td>\n",
       "      <td>2015</td>\n",
       "      <td>42.0</td>\n",
       "      <td>rel</td>\n",
       "      <td>f</td>\n",
       "      <td>65</td>\n",
       "    </tr>\n",
       "  </tbody>\n",
       "</table>\n",
       "</div>"
      ],
      "text/plain": [
       "       country g_whoregion  year cases type sex  age_range\n",
       "48827   Greece         EUR  2015    NA   sp   m         65\n",
       "102545  Greece         EUR  2015    NA   sp   f         65\n",
       "156263  Greece         EUR  2015    NA   sn   m         65\n",
       "209981  Greece         EUR  2015    NA   sn   f         65\n",
       "263699  Greece         EUR  2015    NA   ep   m         65\n",
       "317417  Greece         EUR  2015    NA   ep   f         65\n",
       "371135  Greece         EUR  2015  86.0  rel   m         65\n",
       "424853  Greece         EUR  2015  42.0  rel   f         65"
      ]
     },
     "execution_count": 45,
     "metadata": {},
     "output_type": "execute_result"
    }
   ],
   "source": [
    "df_sub.fillna('NA')"
   ]
  },
  {
   "cell_type": "code",
   "execution_count": 46,
   "id": "d4c1b2fa",
   "metadata": {},
   "outputs": [
    {
     "data": {
      "text/html": [
       "<div>\n",
       "<style scoped>\n",
       "    .dataframe tbody tr th:only-of-type {\n",
       "        vertical-align: middle;\n",
       "    }\n",
       "\n",
       "    .dataframe tbody tr th {\n",
       "        vertical-align: top;\n",
       "    }\n",
       "\n",
       "    .dataframe thead th {\n",
       "        text-align: right;\n",
       "    }\n",
       "</style>\n",
       "<table border=\"1\" class=\"dataframe\">\n",
       "  <thead>\n",
       "    <tr style=\"text-align: right;\">\n",
       "      <th></th>\n",
       "      <th>country</th>\n",
       "      <th>g_whoregion</th>\n",
       "      <th>year</th>\n",
       "      <th>cases</th>\n",
       "      <th>type</th>\n",
       "      <th>sex</th>\n",
       "      <th>age_range</th>\n",
       "    </tr>\n",
       "  </thead>\n",
       "  <tbody>\n",
       "    <tr>\n",
       "      <th>48827</th>\n",
       "      <td>Greece</td>\n",
       "      <td>EUR</td>\n",
       "      <td>2015</td>\n",
       "      <td>0</td>\n",
       "      <td>sp</td>\n",
       "      <td>m</td>\n",
       "      <td>65</td>\n",
       "    </tr>\n",
       "    <tr>\n",
       "      <th>102545</th>\n",
       "      <td>Greece</td>\n",
       "      <td>EUR</td>\n",
       "      <td>2015</td>\n",
       "      <td>0</td>\n",
       "      <td>sp</td>\n",
       "      <td>f</td>\n",
       "      <td>65</td>\n",
       "    </tr>\n",
       "    <tr>\n",
       "      <th>156263</th>\n",
       "      <td>Greece</td>\n",
       "      <td>EUR</td>\n",
       "      <td>2015</td>\n",
       "      <td>0</td>\n",
       "      <td>sn</td>\n",
       "      <td>m</td>\n",
       "      <td>65</td>\n",
       "    </tr>\n",
       "    <tr>\n",
       "      <th>209981</th>\n",
       "      <td>Greece</td>\n",
       "      <td>EUR</td>\n",
       "      <td>2015</td>\n",
       "      <td>0</td>\n",
       "      <td>sn</td>\n",
       "      <td>f</td>\n",
       "      <td>65</td>\n",
       "    </tr>\n",
       "    <tr>\n",
       "      <th>263699</th>\n",
       "      <td>Greece</td>\n",
       "      <td>EUR</td>\n",
       "      <td>2015</td>\n",
       "      <td>0</td>\n",
       "      <td>ep</td>\n",
       "      <td>m</td>\n",
       "      <td>65</td>\n",
       "    </tr>\n",
       "    <tr>\n",
       "      <th>317417</th>\n",
       "      <td>Greece</td>\n",
       "      <td>EUR</td>\n",
       "      <td>2015</td>\n",
       "      <td>0</td>\n",
       "      <td>ep</td>\n",
       "      <td>f</td>\n",
       "      <td>65</td>\n",
       "    </tr>\n",
       "    <tr>\n",
       "      <th>371135</th>\n",
       "      <td>Greece</td>\n",
       "      <td>EUR</td>\n",
       "      <td>2015</td>\n",
       "      <td>86.0</td>\n",
       "      <td>rel</td>\n",
       "      <td>m</td>\n",
       "      <td>65</td>\n",
       "    </tr>\n",
       "    <tr>\n",
       "      <th>424853</th>\n",
       "      <td>Greece</td>\n",
       "      <td>EUR</td>\n",
       "      <td>2015</td>\n",
       "      <td>42.0</td>\n",
       "      <td>rel</td>\n",
       "      <td>f</td>\n",
       "      <td>65</td>\n",
       "    </tr>\n",
       "  </tbody>\n",
       "</table>\n",
       "</div>"
      ],
      "text/plain": [
       "       country g_whoregion  year cases type sex  age_range\n",
       "48827   Greece         EUR  2015     0   sp   m         65\n",
       "102545  Greece         EUR  2015     0   sp   f         65\n",
       "156263  Greece         EUR  2015     0   sn   m         65\n",
       "209981  Greece         EUR  2015     0   sn   f         65\n",
       "263699  Greece         EUR  2015     0   ep   m         65\n",
       "317417  Greece         EUR  2015     0   ep   f         65\n",
       "371135  Greece         EUR  2015  86.0  rel   m         65\n",
       "424853  Greece         EUR  2015  42.0  rel   f         65"
      ]
     },
     "execution_count": 46,
     "metadata": {},
     "output_type": "execute_result"
    }
   ],
   "source": [
    "df_sub.fillna('0')"
   ]
  },
  {
   "cell_type": "code",
   "execution_count": 47,
   "id": "9986bdd8",
   "metadata": {},
   "outputs": [
    {
     "data": {
      "text/html": [
       "<div>\n",
       "<style scoped>\n",
       "    .dataframe tbody tr th:only-of-type {\n",
       "        vertical-align: middle;\n",
       "    }\n",
       "\n",
       "    .dataframe tbody tr th {\n",
       "        vertical-align: top;\n",
       "    }\n",
       "\n",
       "    .dataframe thead th {\n",
       "        text-align: right;\n",
       "    }\n",
       "</style>\n",
       "<table border=\"1\" class=\"dataframe\">\n",
       "  <thead>\n",
       "    <tr style=\"text-align: right;\">\n",
       "      <th></th>\n",
       "      <th>country</th>\n",
       "      <th>g_whoregion</th>\n",
       "      <th>year</th>\n",
       "      <th>cases</th>\n",
       "      <th>type</th>\n",
       "      <th>sex</th>\n",
       "      <th>age_range</th>\n",
       "    </tr>\n",
       "  </thead>\n",
       "  <tbody>\n",
       "    <tr>\n",
       "      <th>371135</th>\n",
       "      <td>Greece</td>\n",
       "      <td>EUR</td>\n",
       "      <td>2015</td>\n",
       "      <td>86.0</td>\n",
       "      <td>rel</td>\n",
       "      <td>m</td>\n",
       "      <td>65</td>\n",
       "    </tr>\n",
       "    <tr>\n",
       "      <th>424853</th>\n",
       "      <td>Greece</td>\n",
       "      <td>EUR</td>\n",
       "      <td>2015</td>\n",
       "      <td>42.0</td>\n",
       "      <td>rel</td>\n",
       "      <td>f</td>\n",
       "      <td>65</td>\n",
       "    </tr>\n",
       "  </tbody>\n",
       "</table>\n",
       "</div>"
      ],
      "text/plain": [
       "       country g_whoregion  year  cases type sex  age_range\n",
       "371135  Greece         EUR  2015   86.0  rel   m         65\n",
       "424853  Greece         EUR  2015   42.0  rel   f         65"
      ]
     },
     "execution_count": 47,
     "metadata": {},
     "output_type": "execute_result"
    }
   ],
   "source": [
    "df_sub.dropna()"
   ]
  },
  {
   "cell_type": "code",
   "execution_count": null,
   "id": "3e7e20a4",
   "metadata": {},
   "outputs": [],
   "source": []
  }
 ],
 "metadata": {
  "kernelspec": {
   "display_name": "Python 3",
   "language": "python",
   "name": "python3"
  },
  "language_info": {
   "codemirror_mode": {
    "name": "ipython",
    "version": 3
   },
   "file_extension": ".py",
   "mimetype": "text/x-python",
   "name": "python",
   "nbconvert_exporter": "python",
   "pygments_lexer": "ipython3",
   "version": "3.8.8"
  }
 },
 "nbformat": 4,
 "nbformat_minor": 5
}
