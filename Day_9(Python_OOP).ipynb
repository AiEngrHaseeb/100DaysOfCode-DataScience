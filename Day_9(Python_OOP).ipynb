{
 "cells": [
  {
   "cell_type": "markdown",
   "metadata": {},
   "source": [
    "## Four Pillars of OOP Python\n",
    "<ul>\n",
    "    <li><b>Inheritance: </b> Extends functionality of existing code.\n",
    "</li>\n",
    "    <li><b>Encapsulation: </b> Building of data and methods.</li>\n",
    "    <li><b>Polymorphism: </b> creating a unified interface.</li>\n",
    "    <li><b>Abstraction: </b>Handle complexity by hiding unnecessary details from the user. </li>\n",
    "    </ul>\n",
    "<h5> Continue..."
   ]
  },
  {
   "cell_type": "markdown",
   "metadata": {},
   "source": [
    "## Encapsulation\n",
    "<ul>\n",
    "    <li>In Python, we can protect the member variables of a class from being accessed by any program outside our class using the priniciple of Encapsulation.\n",
    "    <li>Encapsulation means binding up of code and data together under 1 wrapper which we already know as <b>\"Class\"</b> and provide proper access to change or modify the data of the class.\n",
    "    <li><b>We hide the variables by providing one/two underscore as prefix to the name of the variable.</b></ul>"
   ]
  },
  {
   "cell_type": "markdown",
   "metadata": {},
   "source": [
    "### Using Single Underscore\n",
    "<t>A common Python programming convention to identify a private variable is by prefixing it with an underscore. Now, this doesn’t really make any difference on the compiler side of things. The variable is still accessible as usual. But being a convention that programmers have picked up on, it tells other programmers that the variables or methods have to be used only within the scope of the class.\n",
    "</t>"
   ]
  },
  {
   "cell_type": "code",
   "execution_count": 58,
   "metadata": {},
   "outputs": [
    {
     "name": "stdout",
     "output_type": "stream",
     "text": [
      "Dev\n",
      "30\n",
      "Dev\n",
      "30\n"
     ]
    }
   ],
   "source": [
    "class Person:\n",
    "    def __init__(self, name, age=0):\n",
    "        self.name = name\n",
    "        self._age = age\n",
    " \n",
    "    def display(self):\n",
    "        print(self.name)\n",
    "        print(self._age)\n",
    "\n",
    "person = Person('Dev', 30)\n",
    "#accessing using class method\n",
    "person.display()\n",
    "#accessing directly from outside\n",
    "print(person.name)\n",
    "print(person._age)"
   ]
  },
  {
   "cell_type": "markdown",
   "metadata": {},
   "source": [
    "### Using Double Underscores \n",
    "<t>If you want to make class members i.e. methods and variables private, then you should prefix them with double underscores. But Python offers some sort of support to the private modifier. This mechanism is called Name mangling. With this, it is still possible to access the class members from outside it.</t><br/>\n",
    "<t><b>Name Mangling: </b>In Python, any identifier with __Var is rewritten by a python interpreter as <b>_Classname__Var</b>, and the class name remains as the present class name. This mechanism of changing names is called Name Mangling in Python.\n"
   ]
  },
  {
   "cell_type": "code",
   "execution_count": 59,
   "metadata": {},
   "outputs": [
    {
     "name": "stdout",
     "output_type": "stream",
     "text": [
      "Dev\n",
      "30\n",
      "Trying to access variables from outside the class \n",
      "Dev\n"
     ]
    },
    {
     "ename": "AttributeError",
     "evalue": "'Person' object has no attribute '__age'",
     "output_type": "error",
     "traceback": [
      "\u001b[1;31m---------------------------------------------------------------------------\u001b[0m",
      "\u001b[1;31mAttributeError\u001b[0m                            Traceback (most recent call last)",
      "\u001b[1;32m<ipython-input-59-ea0d9305face>\u001b[0m in \u001b[0;36m<module>\u001b[1;34m\u001b[0m\n\u001b[0;32m     14\u001b[0m \u001b[0mprint\u001b[0m\u001b[1;33m(\u001b[0m\u001b[1;34m'Trying to access variables from outside the class '\u001b[0m\u001b[1;33m)\u001b[0m\u001b[1;33m\u001b[0m\u001b[1;33m\u001b[0m\u001b[0m\n\u001b[0;32m     15\u001b[0m \u001b[0mprint\u001b[0m\u001b[1;33m(\u001b[0m\u001b[0mperson\u001b[0m\u001b[1;33m.\u001b[0m\u001b[0mname\u001b[0m\u001b[1;33m)\u001b[0m\u001b[1;33m\u001b[0m\u001b[1;33m\u001b[0m\u001b[0m\n\u001b[1;32m---> 16\u001b[1;33m \u001b[0mprint\u001b[0m\u001b[1;33m(\u001b[0m\u001b[0mperson\u001b[0m\u001b[1;33m.\u001b[0m\u001b[0m__age\u001b[0m\u001b[1;33m)\u001b[0m\u001b[1;33m\u001b[0m\u001b[1;33m\u001b[0m\u001b[0m\n\u001b[0m",
      "\u001b[1;31mAttributeError\u001b[0m: 'Person' object has no attribute '__age'"
     ]
    }
   ],
   "source": [
    "class Person:\n",
    "    def __init__(self, name, age=0):\n",
    "        self.name = name\n",
    "        self.__age = age\n",
    " \n",
    "    def display(self):\n",
    "        print(self.name)\n",
    "        print(self.__age)\n",
    "\n",
    "person = Person('Dev', 30)\n",
    "#accessing using class method\n",
    "person.display()\n",
    "#accessing directly from outside, that is not allowed in encapsulation....  \n",
    "print('Trying to access variables from outside the class ')\n",
    "print(person.name)\n",
    "print(person.__age) # that's why we use  __ to maintain the encapsulation concept...  "
   ]
  },
  {
   "cell_type": "markdown",
   "metadata": {},
   "source": [
    "### Using Getter and Setter methods to access private variables\n",
    "<t>If you want to access and change the private variables, accessor (getter) methods and mutators(setter methods) should be used, as they are part of Class.</t>"
   ]
  },
  {
   "cell_type": "code",
   "execution_count": 60,
   "metadata": {},
   "outputs": [
    {
     "name": "stdout",
     "output_type": "stream",
     "text": [
      "Dev\n",
      "30\n",
      "35\n"
     ]
    }
   ],
   "source": [
    "class Person:\n",
    "    def __init__(self, name, age=0):\n",
    "        self.name = name\n",
    "        self.__age = age\n",
    " \n",
    "    def display(self):\n",
    "        print(self.name)\n",
    "        print(self.__age)\n",
    " \n",
    "    def getAge(self):\n",
    "        print(self.__age)\n",
    " \n",
    "    def setAge(self, age):\n",
    "        self.__age = age\n",
    "\n",
    "person = Person('Dev', 30)\n",
    "#accessing using class method\n",
    "person.display()\n",
    "#changing age using setter\n",
    "person.setAge(35)\n",
    "person.getAge()"
   ]
  },
  {
   "cell_type": "markdown",
   "metadata": {},
   "source": [
    "##### Example 0:"
   ]
  },
  {
   "cell_type": "code",
   "execution_count": 41,
   "metadata": {},
   "outputs": [
    {
     "ename": "AttributeError",
     "evalue": "'Parent' object has no attribute '__socialSecurity'",
     "output_type": "error",
     "traceback": [
      "\u001b[1;31m---------------------------------------------------------------------------\u001b[0m",
      "\u001b[1;31mAttributeError\u001b[0m                            Traceback (most recent call last)",
      "\u001b[1;32m<ipython-input-41-e9ae7e8d3048>\u001b[0m in \u001b[0;36m<module>\u001b[1;34m\u001b[0m\n\u001b[0;32m     13\u001b[0m \u001b[1;31m# Outside class will result in\u001b[0m\u001b[1;33m\u001b[0m\u001b[1;33m\u001b[0m\u001b[1;33m\u001b[0m\u001b[0m\n\u001b[0;32m     14\u001b[0m \u001b[1;31m# AttributeError b/c __socialSecurity is a private member...\u001b[0m\u001b[1;33m\u001b[0m\u001b[1;33m\u001b[0m\u001b[1;33m\u001b[0m\u001b[0m\n\u001b[1;32m---> 15\u001b[1;33m \u001b[0mprint\u001b[0m\u001b[1;33m(\u001b[0m\u001b[0mparent\u001b[0m\u001b[1;33m.\u001b[0m\u001b[0m__socialSecurity\u001b[0m\u001b[1;33m)\u001b[0m\u001b[1;33m\u001b[0m\u001b[1;33m\u001b[0m\u001b[0m\n\u001b[0m",
      "\u001b[1;31mAttributeError\u001b[0m: 'Parent' object has no attribute '__socialSecurity'"
     ]
    }
   ],
   "source": [
    "# Creating a base class \n",
    "class Parent: \n",
    "    def __init__(self): \n",
    "        # Protected member \n",
    "        self.__socialSecurity = 111111111 \n",
    "    \n",
    "    def des(self):\n",
    "        ss = self.__socialSecurity\n",
    "        print(\"Display Social Security: \",ss)\n",
    "        \n",
    "parent = Parent() \n",
    "# Calling protected member \n",
    "# Outside class will result in \n",
    "# AttributeError b/c __socialSecurity is a private member...\n",
    "print(parent.__socialSecurity)  "
   ]
  },
  {
   "cell_type": "code",
   "execution_count": 42,
   "metadata": {},
   "outputs": [
    {
     "name": "stdout",
     "output_type": "stream",
     "text": [
      "111111111\n"
     ]
    }
   ],
   "source": [
    "# Creating a base class \n",
    "class Parent: \n",
    "    def __init__(self): \n",
    "        # Protected member \n",
    "        self.__socialSecurity = 111111111 \n",
    "    \n",
    "    def des(self):\n",
    "        ss = self.__socialSecurity\n",
    "        print(\"Display Social Security: \",ss)\n",
    "        \n",
    "parent = Parent() \n",
    "# Calling protected member \n",
    "# Outside class will result in \n",
    "# AttributeError b/c __socialSecurity is a private member...\n",
    "# but cant access it by this method\n",
    "# Python offers some sort of support to the private modifier. \n",
    "# This mechanism is called Name mangling. \n",
    "# With this, it is still possible to access the class members from outside it.\n",
    "print(parent._Parent__socialSecurity)  "
   ]
  },
  {
   "cell_type": "code",
   "execution_count": 37,
   "metadata": {},
   "outputs": [
    {
     "name": "stdout",
     "output_type": "stream",
     "text": [
      "Display Social Security:  111111111\n"
     ]
    }
   ],
   "source": [
    "# Creating a base class \n",
    "class Parent: \n",
    "    def __init__(self): \n",
    "        # Protected member \n",
    "        self.__socialSecurity = 111111111 \n",
    "    \n",
    "    def des(self):\n",
    "        ss = self.__socialSecurity\n",
    "        print(\"Display Social Security: \",ss)\n",
    "        \n",
    "parent = Parent()   \n",
    "parent.des() #It will display Social Security because we are not accessing it directly ...\n",
    "# we design method(get/set) to access private variable...like wise des for display"
   ]
  },
  {
   "cell_type": "code",
   "execution_count": 38,
   "metadata": {},
   "outputs": [
    {
     "name": "stdout",
     "output_type": "stream",
     "text": [
      "Calling protected member of base class: \n"
     ]
    },
    {
     "ename": "AttributeError",
     "evalue": "'Child' object has no attribute '_Child__socialSecurity'",
     "output_type": "error",
     "traceback": [
      "\u001b[1;31m---------------------------------------------------------------------------\u001b[0m",
      "\u001b[1;31mAttributeError\u001b[0m                            Traceback (most recent call last)",
      "\u001b[1;32m<ipython-input-38-d7ee349b0183>\u001b[0m in \u001b[0;36m<module>\u001b[1;34m\u001b[0m\n\u001b[0;32m     19\u001b[0m \u001b[1;33m\u001b[0m\u001b[0m\n\u001b[0;32m     20\u001b[0m \u001b[1;33m\u001b[0m\u001b[0m\n\u001b[1;32m---> 21\u001b[1;33m \u001b[0mobjl\u001b[0m \u001b[1;33m=\u001b[0m \u001b[0mChild\u001b[0m\u001b[1;33m(\u001b[0m\u001b[1;33m)\u001b[0m\u001b[1;33m\u001b[0m\u001b[1;33m\u001b[0m\u001b[0m\n\u001b[0m\u001b[0;32m     22\u001b[0m \u001b[1;31m# Calling protected member in another class will result in\u001b[0m\u001b[1;33m\u001b[0m\u001b[1;33m\u001b[0m\u001b[1;33m\u001b[0m\u001b[0m\n\u001b[0;32m     23\u001b[0m \u001b[1;31m# AttributeError b/c __socialSecurity is a private member...\u001b[0m\u001b[1;33m\u001b[0m\u001b[1;33m\u001b[0m\u001b[1;33m\u001b[0m\u001b[0m\n",
      "\u001b[1;32m<ipython-input-38-d7ee349b0183>\u001b[0m in \u001b[0;36m__init__\u001b[1;34m(self)\u001b[0m\n\u001b[0;32m     16\u001b[0m         \u001b[0mParent\u001b[0m\u001b[1;33m.\u001b[0m\u001b[0m__init__\u001b[0m\u001b[1;33m(\u001b[0m\u001b[0mself\u001b[0m\u001b[1;33m)\u001b[0m\u001b[1;33m\u001b[0m\u001b[1;33m\u001b[0m\u001b[0m\n\u001b[0;32m     17\u001b[0m         \u001b[0mprint\u001b[0m\u001b[1;33m(\u001b[0m\u001b[1;34m\"Calling protected member of base class: \"\u001b[0m\u001b[1;33m)\u001b[0m\u001b[1;33m\u001b[0m\u001b[1;33m\u001b[0m\u001b[0m\n\u001b[1;32m---> 18\u001b[1;33m         \u001b[0mprint\u001b[0m\u001b[1;33m(\u001b[0m \u001b[0mself\u001b[0m\u001b[1;33m.\u001b[0m\u001b[0m__socialSecurity\u001b[0m\u001b[1;33m)\u001b[0m\u001b[1;33m\u001b[0m\u001b[1;33m\u001b[0m\u001b[0m\n\u001b[0m\u001b[0;32m     19\u001b[0m \u001b[1;33m\u001b[0m\u001b[0m\n\u001b[0;32m     20\u001b[0m \u001b[1;33m\u001b[0m\u001b[0m\n",
      "\u001b[1;31mAttributeError\u001b[0m: 'Child' object has no attribute '_Child__socialSecurity'"
     ]
    }
   ],
   "source": [
    "# Creating a base class \n",
    "class Parent: \n",
    "    def __init__(self): \n",
    "        # Protected member \n",
    "        self.__socialSecurity = 111111111 \n",
    "    \n",
    "    def des(self):\n",
    "        ss = self.__socialSecurity\n",
    "        print(\"Display Social Security: \",ss)\n",
    "    \n",
    "# Creating a derived class \n",
    "class Child(Parent): \n",
    "    def __init__(self): \n",
    "        # Calling constructor of \n",
    "        # Base class \n",
    "        Parent.__init__(self) \n",
    "        print(\"Calling protected member of base class: \") \n",
    "        print( self.__socialSecurity) \n",
    "        \n",
    "        \n",
    "objl = Child() \n",
    "# Calling protected member in another class will result in \n",
    "# AttributeError b/c __socialSecurity is a private member...\n",
    "#Private member only accessible only in it's class..."
   ]
  },
  {
   "cell_type": "markdown",
   "metadata": {},
   "source": [
    "#### Example 1:"
   ]
  },
  {
   "cell_type": "markdown",
   "metadata": {},
   "source": [
    "###### Private Variable"
   ]
  },
  {
   "cell_type": "code",
   "execution_count": 43,
   "metadata": {},
   "outputs": [],
   "source": [
    "class A():\n",
    "    def __init__(self, name, age):\n",
    "        self.__sname = name\n",
    "        self.__age = age\n",
    "        \n",
    "s1 = A(\"Ali\",20)  \n"
   ]
  },
  {
   "cell_type": "code",
   "execution_count": 44,
   "metadata": {},
   "outputs": [
    {
     "ename": "AttributeError",
     "evalue": "'A' object has no attribute 'sname'",
     "output_type": "error",
     "traceback": [
      "\u001b[1;31m---------------------------------------------------------------------------\u001b[0m",
      "\u001b[1;31mAttributeError\u001b[0m                            Traceback (most recent call last)",
      "\u001b[1;32m<ipython-input-44-a371708e03a9>\u001b[0m in \u001b[0;36m<module>\u001b[1;34m\u001b[0m\n\u001b[1;32m----> 1\u001b[1;33m \u001b[0ms1\u001b[0m\u001b[1;33m.\u001b[0m\u001b[0msname\u001b[0m\u001b[1;33m\u001b[0m\u001b[1;33m\u001b[0m\u001b[0m\n\u001b[0m",
      "\u001b[1;31mAttributeError\u001b[0m: 'A' object has no attribute 'sname'"
     ]
    }
   ],
   "source": [
    "s1.sname #sname is private can't access directly..."
   ]
  },
  {
   "cell_type": "code",
   "execution_count": 45,
   "metadata": {},
   "outputs": [
    {
     "ename": "AttributeError",
     "evalue": "'A' object has no attribute '__sname'",
     "output_type": "error",
     "traceback": [
      "\u001b[1;31m---------------------------------------------------------------------------\u001b[0m",
      "\u001b[1;31mAttributeError\u001b[0m                            Traceback (most recent call last)",
      "\u001b[1;32m<ipython-input-45-2244f3c12d00>\u001b[0m in \u001b[0;36m<module>\u001b[1;34m\u001b[0m\n\u001b[1;32m----> 1\u001b[1;33m \u001b[0ms1\u001b[0m\u001b[1;33m.\u001b[0m\u001b[0m__sname\u001b[0m\u001b[1;33m\u001b[0m\u001b[1;33m\u001b[0m\u001b[0m\n\u001b[0m",
      "\u001b[1;31mAttributeError\u001b[0m: 'A' object has no attribute '__sname'"
     ]
    }
   ],
   "source": [
    "s1.__sname #sname is private can't access directly..."
   ]
  },
  {
   "cell_type": "code",
   "execution_count": null,
   "metadata": {},
   "outputs": [],
   "source": [
    "s1._A__sname #sname is private but it can access throught this way, object._class__privatevariable..."
   ]
  },
  {
   "cell_type": "code",
   "execution_count": 49,
   "metadata": {},
   "outputs": [
    {
     "name": "stdout",
     "output_type": "stream",
     "text": [
      "Name: Ali\n",
      "Age: 18\n"
     ]
    }
   ],
   "source": [
    "class A():\n",
    "    def __init__(self, name, age):\n",
    "        self.__sname = name\n",
    "        self.__age = age\n",
    "        \n",
    "    # methods to access private variable\n",
    "    \n",
    "    def get_details(self):\n",
    "        print(\"Name:\", self.__sname)\n",
    "        print(\"Age:\", self.__age)\n",
    "        \n",
    "    def set_details(self, a, b):\n",
    "        self.__sname = a\n",
    "        self.__age = b\n",
    "        \n",
    "        \n",
    "s1 = A(\"Ali\",18)  \n",
    "s1.get_details()"
   ]
  },
  {
   "cell_type": "code",
   "execution_count": 51,
   "metadata": {},
   "outputs": [
    {
     "name": "stdout",
     "output_type": "stream",
     "text": [
      "Name: Haseeb\n",
      "Age: 20\n"
     ]
    }
   ],
   "source": [
    "s1.set_details(\"Haseeb\",20)\n",
    "s1.get_details()"
   ]
  },
  {
   "cell_type": "markdown",
   "metadata": {},
   "source": [
    "###### Private Method & Variable"
   ]
  },
  {
   "cell_type": "code",
   "execution_count": 54,
   "metadata": {},
   "outputs": [
    {
     "name": "stdout",
     "output_type": "stream",
     "text": [
      "Name: Ali\n",
      "Age: 20\n",
      "This is private method\n"
     ]
    }
   ],
   "source": [
    "class A():\n",
    "    def __init__(self, name, age):\n",
    "        self.__sname = name\n",
    "        self.__age = age\n",
    "        \n",
    "        \n",
    "    def get_details(self):\n",
    "        print(\"Name:\", self.__sname)\n",
    "        print(\"Age:\", self.__age)\n",
    "        self.__info() #calling private method  <---\n",
    "                                              #    ^\n",
    "    def set_details(self, a, b):              #    ^\n",
    "        self.__sname = a                      #    ^\n",
    "        self.__age = b                        #    ^\n",
    "                                              #    ^\n",
    "    def __info(self):                         #    ^\n",
    "        print(\"This is private method\")  # --------^\n",
    "        \n",
    "        \n",
    "s1 = A(\"Ali\",20)  \n",
    "s1.get_details()"
   ]
  },
  {
   "cell_type": "markdown",
   "metadata": {},
   "source": [
    "##### Example 2: "
   ]
  },
  {
   "cell_type": "code",
   "execution_count": 57,
   "metadata": {},
   "outputs": [
    {
     "name": "stdout",
     "output_type": "stream",
     "text": [
      "Selling Price: 900\n",
      "Selling Price: 1000\n",
      "Selling Price: 1000\n"
     ]
    }
   ],
   "source": [
    "class Computer:\n",
    "\n",
    "    def __init__(self):\n",
    "        self.__maxprice = 900\n",
    "\n",
    "    def sell(self):\n",
    "        print(\"Selling Price: {}\".format(self.__maxprice))\n",
    "\n",
    "    def setMaxPrice(self, price):\n",
    "        self.__maxprice = price\n",
    "\n",
    "c = Computer()\n",
    "c.sell()\n",
    "\n",
    "# using setter function\n",
    "c.setMaxPrice(1000)\n",
    "c.sell()\n",
    "\n",
    "# change the price\n",
    "c._Computer__maxprice = 1000\n",
    "c.sell()\n"
   ]
  },
  {
   "cell_type": "code",
   "execution_count": null,
   "metadata": {},
   "outputs": [],
   "source": []
  }
 ],
 "metadata": {
  "kernelspec": {
   "display_name": "Python 3",
   "language": "python",
   "name": "python3"
  },
  "language_info": {
   "codemirror_mode": {
    "name": "ipython",
    "version": 3
   },
   "file_extension": ".py",
   "mimetype": "text/x-python",
   "name": "python",
   "nbconvert_exporter": "python",
   "pygments_lexer": "ipython3",
   "version": "3.8.3"
  }
 },
 "nbformat": 4,
 "nbformat_minor": 4
}
