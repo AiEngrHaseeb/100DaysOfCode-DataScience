{
 "cells": [
  {
   "cell_type": "markdown",
   "id": "048061ed",
   "metadata": {},
   "source": [
    "## SQL-Type Operation"
   ]
  },
  {
   "cell_type": "markdown",
   "id": "2effecb5",
   "metadata": {},
   "source": [
    "If you know something about relational databases and SQL, you may have heard of JOIN and GROUP BY."
   ]
  },
  {
   "cell_type": "code",
   "execution_count": 1,
   "id": "395772bc",
   "metadata": {},
   "outputs": [],
   "source": [
    "import pandas as pd"
   ]
  },
  {
   "cell_type": "markdown",
   "id": "108aa3f8",
   "metadata": {},
   "source": [
    "## Joining"
   ]
  },
  {
   "cell_type": "code",
   "execution_count": 2,
   "id": "e66f1c5b",
   "metadata": {},
   "outputs": [
    {
     "name": "stdout",
     "output_type": "stream",
     "text": [
      "            Decimal Date  Average  Interpolated   Trend  Number of Days\n",
      "Date                                                                   \n",
      "1958-03-01      1958.208   315.71        315.71  314.62              -1\n",
      "1958-04-01      1958.292   317.45        317.45  315.29              -1\n",
      "1958-05-01      1958.375   317.50        317.50  314.71              -1\n",
      "1958-06-01      1958.458      NaN        317.10  314.85              -1\n",
      "1958-07-01      1958.542   315.86        315.86  314.98              -1\n",
      "...                  ...      ...           ...     ...             ...\n",
      "2016-08-01      2016.625   402.25        402.25  404.09              23\n",
      "2016-09-01      2016.708   401.03        401.03  404.52              24\n",
      "2016-10-01      2016.792   401.57        401.57  404.93              29\n",
      "2016-11-01      2016.875   403.53        403.53  405.57              27\n",
      "2016-12-01      2016.958   404.48        404.48  405.25              29\n",
      "\n",
      "[706 rows x 5 columns]             Decimal Date  Average   Trend\n",
      "Date                                     \n",
      "1980-01-01      1980.042   338.45  337.82\n",
      "1980-02-01      1980.125   339.14  338.10\n",
      "1980-03-01      1980.208   339.46  338.12\n",
      "1980-04-01      1980.292   339.86  338.24\n",
      "1980-05-01      1980.375   340.30  338.77\n",
      "...                  ...      ...     ...\n",
      "2016-06-01      2016.458   403.35  402.83\n",
      "2016-07-01      2016.542   401.85  403.23\n",
      "2016-08-01      2016.625   400.55  403.34\n",
      "2016-09-01      2016.708   400.68  403.39\n",
      "2016-10-01      2016.792   402.31  403.73\n",
      "\n",
      "[442 rows x 3 columns]\n"
     ]
    }
   ],
   "source": [
    "mlo = pd.read_csv('./Pandas Dataset - I/co2-mm-mlo.csv', na_values=-99.99, index_col='Date', parse_dates=True)\n",
    "gl = pd.read_csv('./Pandas Dataset - I/co2-mm-gl.csv', na_values=-99.99, index_col='Date', parse_dates=True)\n",
    "print(mlo,gl)"
   ]
  },
  {
   "cell_type": "code",
   "execution_count": 3,
   "id": "ac523319",
   "metadata": {},
   "outputs": [
    {
     "name": "stdout",
     "output_type": "stream",
     "text": [
      "            Average\n",
      "Date               \n",
      "1958-03-01   315.71\n",
      "1958-04-01   317.45\n",
      "1958-05-01   317.50\n",
      "1958-06-01      NaN\n",
      "1958-07-01   315.86\n",
      "...             ...\n",
      "2016-08-01   402.25\n",
      "2016-09-01   401.03\n",
      "2016-10-01   401.57\n",
      "2016-11-01   403.53\n",
      "2016-12-01   404.48\n",
      "\n",
      "[706 rows x 1 columns]             Average\n",
      "Date               \n",
      "1980-01-01   338.45\n",
      "1980-02-01   339.14\n",
      "1980-03-01   339.46\n",
      "1980-04-01   339.86\n",
      "1980-05-01   340.30\n",
      "...             ...\n",
      "2016-06-01   403.35\n",
      "2016-07-01   401.85\n",
      "2016-08-01   400.55\n",
      "2016-09-01   400.68\n",
      "2016-10-01   402.31\n",
      "\n",
      "[442 rows x 1 columns]\n"
     ]
    }
   ],
   "source": [
    "ml, gl = mlo[['Average']], gl[['Average']]\n",
    "print(ml,gl)"
   ]
  },
  {
   "cell_type": "code",
   "execution_count": 5,
   "id": "04146e5f",
   "metadata": {},
   "outputs": [
    {
     "name": "stdout",
     "output_type": "stream",
     "text": [
      "            Average_mlo\n",
      "Date                   \n",
      "1958-03-01       315.71\n",
      "1958-04-01       317.45\n",
      "1958-05-01       317.50\n",
      "1958-06-01          NaN\n",
      "1958-07-01       315.86\n",
      "...                 ...\n",
      "2016-08-01       402.25\n",
      "2016-09-01       401.03\n",
      "2016-10-01       401.57\n",
      "2016-11-01       403.53\n",
      "2016-12-01       404.48\n",
      "\n",
      "[706 rows x 1 columns]             Average_gl\n",
      "Date                  \n",
      "1980-01-01      338.45\n",
      "1980-02-01      339.14\n",
      "1980-03-01      339.46\n",
      "1980-04-01      339.86\n",
      "1980-05-01      340.30\n",
      "...                ...\n",
      "2016-06-01      403.35\n",
      "2016-07-01      401.85\n",
      "2016-08-01      400.55\n",
      "2016-09-01      400.68\n",
      "2016-10-01      402.31\n",
      "\n",
      "[442 rows x 1 columns]\n"
     ]
    }
   ],
   "source": [
    "ml.columns, gl.columns = ['Average_mlo'], ['Average_gl']\n",
    "print(ml,gl)"
   ]
  },
  {
   "cell_type": "code",
   "execution_count": 6,
   "id": "7deabfb3",
   "metadata": {},
   "outputs": [
    {
     "name": "stdout",
     "output_type": "stream",
     "text": [
      "            Average_mlo\n",
      "Date                   \n",
      "1980-01-01       337.90\n",
      "1980-02-01       338.34\n",
      "1980-03-01       340.01\n",
      "1980-04-01       340.93\n",
      "1980-05-01       341.48\n",
      "...                 ...\n",
      "2016-08-01       402.25\n",
      "2016-09-01       401.03\n",
      "2016-10-01       401.57\n",
      "2016-11-01       403.53\n",
      "2016-12-01       404.48\n",
      "\n",
      "[444 rows x 1 columns]\n"
     ]
    }
   ],
   "source": [
    "ml = ml[ml.index >= '1980-01']\n",
    "print(ml)"
   ]
  },
  {
   "cell_type": "code",
   "execution_count": 7,
   "id": "c2454511",
   "metadata": {},
   "outputs": [
    {
     "name": "stdout",
     "output_type": "stream",
     "text": [
      "            Average_mlo\n",
      "Date                   \n",
      "1980-01-01       337.90\n",
      "1980-02-01       338.34\n",
      "1980-03-01       340.01\n",
      "1980-04-01       340.93\n",
      "1980-05-01       341.48             Average_gl\n",
      "Date                  \n",
      "1980-01-01      338.45\n",
      "1980-02-01      339.14\n",
      "1980-03-01      339.46\n",
      "1980-04-01      339.86\n",
      "1980-05-01      340.30\n"
     ]
    }
   ],
   "source": [
    "ml, gl = ml.head(), gl.head()\n",
    "print(ml, gl)"
   ]
  },
  {
   "cell_type": "markdown",
   "id": "b9894101",
   "metadata": {},
   "source": [
    "We can concatenate the two DataFrames."
   ]
  },
  {
   "cell_type": "code",
   "execution_count": 8,
   "id": "d515bac1",
   "metadata": {},
   "outputs": [
    {
     "data": {
      "text/html": [
       "<div>\n",
       "<style scoped>\n",
       "    .dataframe tbody tr th:only-of-type {\n",
       "        vertical-align: middle;\n",
       "    }\n",
       "\n",
       "    .dataframe tbody tr th {\n",
       "        vertical-align: top;\n",
       "    }\n",
       "\n",
       "    .dataframe thead th {\n",
       "        text-align: right;\n",
       "    }\n",
       "</style>\n",
       "<table border=\"1\" class=\"dataframe\">\n",
       "  <thead>\n",
       "    <tr style=\"text-align: right;\">\n",
       "      <th></th>\n",
       "      <th>Average_mlo</th>\n",
       "      <th>Average_gl</th>\n",
       "    </tr>\n",
       "    <tr>\n",
       "      <th>Date</th>\n",
       "      <th></th>\n",
       "      <th></th>\n",
       "    </tr>\n",
       "  </thead>\n",
       "  <tbody>\n",
       "    <tr>\n",
       "      <th>1980-01-01</th>\n",
       "      <td>337.90</td>\n",
       "      <td>NaN</td>\n",
       "    </tr>\n",
       "    <tr>\n",
       "      <th>1980-02-01</th>\n",
       "      <td>338.34</td>\n",
       "      <td>NaN</td>\n",
       "    </tr>\n",
       "    <tr>\n",
       "      <th>1980-03-01</th>\n",
       "      <td>340.01</td>\n",
       "      <td>NaN</td>\n",
       "    </tr>\n",
       "    <tr>\n",
       "      <th>1980-04-01</th>\n",
       "      <td>340.93</td>\n",
       "      <td>NaN</td>\n",
       "    </tr>\n",
       "    <tr>\n",
       "      <th>1980-05-01</th>\n",
       "      <td>341.48</td>\n",
       "      <td>NaN</td>\n",
       "    </tr>\n",
       "    <tr>\n",
       "      <th>1980-01-01</th>\n",
       "      <td>NaN</td>\n",
       "      <td>338.45</td>\n",
       "    </tr>\n",
       "    <tr>\n",
       "      <th>1980-02-01</th>\n",
       "      <td>NaN</td>\n",
       "      <td>339.14</td>\n",
       "    </tr>\n",
       "    <tr>\n",
       "      <th>1980-03-01</th>\n",
       "      <td>NaN</td>\n",
       "      <td>339.46</td>\n",
       "    </tr>\n",
       "    <tr>\n",
       "      <th>1980-04-01</th>\n",
       "      <td>NaN</td>\n",
       "      <td>339.86</td>\n",
       "    </tr>\n",
       "    <tr>\n",
       "      <th>1980-05-01</th>\n",
       "      <td>NaN</td>\n",
       "      <td>340.30</td>\n",
       "    </tr>\n",
       "  </tbody>\n",
       "</table>\n",
       "</div>"
      ],
      "text/plain": [
       "            Average_mlo  Average_gl\n",
       "Date                               \n",
       "1980-01-01       337.90         NaN\n",
       "1980-02-01       338.34         NaN\n",
       "1980-03-01       340.01         NaN\n",
       "1980-04-01       340.93         NaN\n",
       "1980-05-01       341.48         NaN\n",
       "1980-01-01          NaN      338.45\n",
       "1980-02-01          NaN      339.14\n",
       "1980-03-01          NaN      339.46\n",
       "1980-04-01          NaN      339.86\n",
       "1980-05-01          NaN      340.30"
      ]
     },
     "execution_count": 8,
     "metadata": {},
     "output_type": "execute_result"
    }
   ],
   "source": [
    "pd.concat([ml, gl])"
   ]
  },
  {
   "cell_type": "markdown",
   "id": "c936d444",
   "metadata": {},
   "source": [
    "Alternatively, the above can be obtained with the self-describing `append()` method."
   ]
  },
  {
   "cell_type": "code",
   "execution_count": 9,
   "id": "debfbb2b",
   "metadata": {},
   "outputs": [
    {
     "data": {
      "text/html": [
       "<div>\n",
       "<style scoped>\n",
       "    .dataframe tbody tr th:only-of-type {\n",
       "        vertical-align: middle;\n",
       "    }\n",
       "\n",
       "    .dataframe tbody tr th {\n",
       "        vertical-align: top;\n",
       "    }\n",
       "\n",
       "    .dataframe thead th {\n",
       "        text-align: right;\n",
       "    }\n",
       "</style>\n",
       "<table border=\"1\" class=\"dataframe\">\n",
       "  <thead>\n",
       "    <tr style=\"text-align: right;\">\n",
       "      <th></th>\n",
       "      <th>Average_mlo</th>\n",
       "      <th>Average_gl</th>\n",
       "    </tr>\n",
       "    <tr>\n",
       "      <th>Date</th>\n",
       "      <th></th>\n",
       "      <th></th>\n",
       "    </tr>\n",
       "  </thead>\n",
       "  <tbody>\n",
       "    <tr>\n",
       "      <th>1980-01-01</th>\n",
       "      <td>337.90</td>\n",
       "      <td>NaN</td>\n",
       "    </tr>\n",
       "    <tr>\n",
       "      <th>1980-02-01</th>\n",
       "      <td>338.34</td>\n",
       "      <td>NaN</td>\n",
       "    </tr>\n",
       "    <tr>\n",
       "      <th>1980-03-01</th>\n",
       "      <td>340.01</td>\n",
       "      <td>NaN</td>\n",
       "    </tr>\n",
       "    <tr>\n",
       "      <th>1980-04-01</th>\n",
       "      <td>340.93</td>\n",
       "      <td>NaN</td>\n",
       "    </tr>\n",
       "    <tr>\n",
       "      <th>1980-05-01</th>\n",
       "      <td>341.48</td>\n",
       "      <td>NaN</td>\n",
       "    </tr>\n",
       "    <tr>\n",
       "      <th>1980-01-01</th>\n",
       "      <td>NaN</td>\n",
       "      <td>338.45</td>\n",
       "    </tr>\n",
       "    <tr>\n",
       "      <th>1980-02-01</th>\n",
       "      <td>NaN</td>\n",
       "      <td>339.14</td>\n",
       "    </tr>\n",
       "    <tr>\n",
       "      <th>1980-03-01</th>\n",
       "      <td>NaN</td>\n",
       "      <td>339.46</td>\n",
       "    </tr>\n",
       "    <tr>\n",
       "      <th>1980-04-01</th>\n",
       "      <td>NaN</td>\n",
       "      <td>339.86</td>\n",
       "    </tr>\n",
       "    <tr>\n",
       "      <th>1980-05-01</th>\n",
       "      <td>NaN</td>\n",
       "      <td>340.30</td>\n",
       "    </tr>\n",
       "  </tbody>\n",
       "</table>\n",
       "</div>"
      ],
      "text/plain": [
       "            Average_mlo  Average_gl\n",
       "Date                               \n",
       "1980-01-01       337.90         NaN\n",
       "1980-02-01       338.34         NaN\n",
       "1980-03-01       340.01         NaN\n",
       "1980-04-01       340.93         NaN\n",
       "1980-05-01       341.48         NaN\n",
       "1980-01-01          NaN      338.45\n",
       "1980-02-01          NaN      339.14\n",
       "1980-03-01          NaN      339.46\n",
       "1980-04-01          NaN      339.86\n",
       "1980-05-01          NaN      340.30"
      ]
     },
     "execution_count": 9,
     "metadata": {},
     "output_type": "execute_result"
    }
   ],
   "source": [
    "ml.append(gl)"
   ]
  },
  {
   "cell_type": "markdown",
   "id": "fcc96135",
   "metadata": {},
   "source": [
    "By default, `concat()` concatenates along the rows (axis 0). What we did previously was 'concatenating' along the columns (axis 1). It is actually a join operation, on (index or *key*) `Date`.\n"
   ]
  },
  {
   "cell_type": "code",
   "execution_count": 10,
   "id": "6900ef1b",
   "metadata": {},
   "outputs": [
    {
     "data": {
      "text/html": [
       "<div>\n",
       "<style scoped>\n",
       "    .dataframe tbody tr th:only-of-type {\n",
       "        vertical-align: middle;\n",
       "    }\n",
       "\n",
       "    .dataframe tbody tr th {\n",
       "        vertical-align: top;\n",
       "    }\n",
       "\n",
       "    .dataframe thead th {\n",
       "        text-align: right;\n",
       "    }\n",
       "</style>\n",
       "<table border=\"1\" class=\"dataframe\">\n",
       "  <thead>\n",
       "    <tr style=\"text-align: right;\">\n",
       "      <th></th>\n",
       "      <th>Average_mlo</th>\n",
       "      <th>Average_gl</th>\n",
       "    </tr>\n",
       "    <tr>\n",
       "      <th>Date</th>\n",
       "      <th></th>\n",
       "      <th></th>\n",
       "    </tr>\n",
       "  </thead>\n",
       "  <tbody>\n",
       "    <tr>\n",
       "      <th>1980-01-01</th>\n",
       "      <td>337.90</td>\n",
       "      <td>338.45</td>\n",
       "    </tr>\n",
       "    <tr>\n",
       "      <th>1980-02-01</th>\n",
       "      <td>338.34</td>\n",
       "      <td>339.14</td>\n",
       "    </tr>\n",
       "    <tr>\n",
       "      <th>1980-03-01</th>\n",
       "      <td>340.01</td>\n",
       "      <td>339.46</td>\n",
       "    </tr>\n",
       "    <tr>\n",
       "      <th>1980-04-01</th>\n",
       "      <td>340.93</td>\n",
       "      <td>339.86</td>\n",
       "    </tr>\n",
       "    <tr>\n",
       "      <th>1980-05-01</th>\n",
       "      <td>341.48</td>\n",
       "      <td>340.30</td>\n",
       "    </tr>\n",
       "  </tbody>\n",
       "</table>\n",
       "</div>"
      ],
      "text/plain": [
       "            Average_mlo  Average_gl\n",
       "Date                               \n",
       "1980-01-01       337.90      338.45\n",
       "1980-02-01       338.34      339.14\n",
       "1980-03-01       340.01      339.46\n",
       "1980-04-01       340.93      339.86\n",
       "1980-05-01       341.48      340.30"
      ]
     },
     "execution_count": 10,
     "metadata": {},
     "output_type": "execute_result"
    }
   ],
   "source": [
    "pd.concat([ml, gl], axis=1)"
   ]
  },
  {
   "cell_type": "markdown",
   "id": "4a69d797",
   "metadata": {},
   "source": [
    "Indeed, we could alternatively use the `join()` method."
   ]
  },
  {
   "cell_type": "code",
   "execution_count": 11,
   "id": "4a4d1c32",
   "metadata": {},
   "outputs": [
    {
     "data": {
      "text/html": [
       "<div>\n",
       "<style scoped>\n",
       "    .dataframe tbody tr th:only-of-type {\n",
       "        vertical-align: middle;\n",
       "    }\n",
       "\n",
       "    .dataframe tbody tr th {\n",
       "        vertical-align: top;\n",
       "    }\n",
       "\n",
       "    .dataframe thead th {\n",
       "        text-align: right;\n",
       "    }\n",
       "</style>\n",
       "<table border=\"1\" class=\"dataframe\">\n",
       "  <thead>\n",
       "    <tr style=\"text-align: right;\">\n",
       "      <th></th>\n",
       "      <th>Average_mlo</th>\n",
       "      <th>Average_gl</th>\n",
       "    </tr>\n",
       "    <tr>\n",
       "      <th>Date</th>\n",
       "      <th></th>\n",
       "      <th></th>\n",
       "    </tr>\n",
       "  </thead>\n",
       "  <tbody>\n",
       "    <tr>\n",
       "      <th>1980-01-01</th>\n",
       "      <td>337.90</td>\n",
       "      <td>338.45</td>\n",
       "    </tr>\n",
       "    <tr>\n",
       "      <th>1980-02-01</th>\n",
       "      <td>338.34</td>\n",
       "      <td>339.14</td>\n",
       "    </tr>\n",
       "    <tr>\n",
       "      <th>1980-03-01</th>\n",
       "      <td>340.01</td>\n",
       "      <td>339.46</td>\n",
       "    </tr>\n",
       "    <tr>\n",
       "      <th>1980-04-01</th>\n",
       "      <td>340.93</td>\n",
       "      <td>339.86</td>\n",
       "    </tr>\n",
       "    <tr>\n",
       "      <th>1980-05-01</th>\n",
       "      <td>341.48</td>\n",
       "      <td>340.30</td>\n",
       "    </tr>\n",
       "  </tbody>\n",
       "</table>\n",
       "</div>"
      ],
      "text/plain": [
       "            Average_mlo  Average_gl\n",
       "Date                               \n",
       "1980-01-01       337.90      338.45\n",
       "1980-02-01       338.34      339.14\n",
       "1980-03-01       340.01      339.46\n",
       "1980-04-01       340.93      339.86\n",
       "1980-05-01       341.48      340.30"
      ]
     },
     "execution_count": 11,
     "metadata": {},
     "output_type": "execute_result"
    }
   ],
   "source": [
    "ml.join(gl)"
   ]
  },
  {
   "cell_type": "markdown",
   "id": "03c5e0a1",
   "metadata": {},
   "source": [
    "Wait! Which frame's index is used? JOIN can be left, right, outer, or inner (picture unions and intersections)."
   ]
  },
  {
   "cell_type": "code",
   "execution_count": 12,
   "id": "ccf9cef9",
   "metadata": {},
   "outputs": [
    {
     "data": {
      "text/html": [
       "<div>\n",
       "<style scoped>\n",
       "    .dataframe tbody tr th:only-of-type {\n",
       "        vertical-align: middle;\n",
       "    }\n",
       "\n",
       "    .dataframe tbody tr th {\n",
       "        vertical-align: top;\n",
       "    }\n",
       "\n",
       "    .dataframe thead th {\n",
       "        text-align: right;\n",
       "    }\n",
       "</style>\n",
       "<table border=\"1\" class=\"dataframe\">\n",
       "  <thead>\n",
       "    <tr style=\"text-align: right;\">\n",
       "      <th></th>\n",
       "      <th>Average</th>\n",
       "    </tr>\n",
       "    <tr>\n",
       "      <th>Date</th>\n",
       "      <th></th>\n",
       "    </tr>\n",
       "  </thead>\n",
       "  <tbody>\n",
       "    <tr>\n",
       "      <th>1958-03-01</th>\n",
       "      <td>315.71</td>\n",
       "    </tr>\n",
       "    <tr>\n",
       "      <th>1958-04-01</th>\n",
       "      <td>317.45</td>\n",
       "    </tr>\n",
       "    <tr>\n",
       "      <th>1958-05-01</th>\n",
       "      <td>317.50</td>\n",
       "    </tr>\n",
       "    <tr>\n",
       "      <th>1958-06-01</th>\n",
       "      <td>NaN</td>\n",
       "    </tr>\n",
       "    <tr>\n",
       "      <th>1958-07-01</th>\n",
       "      <td>315.86</td>\n",
       "    </tr>\n",
       "  </tbody>\n",
       "</table>\n",
       "</div>"
      ],
      "text/plain": [
       "            Average\n",
       "Date               \n",
       "1958-03-01   315.71\n",
       "1958-04-01   317.45\n",
       "1958-05-01   317.50\n",
       "1958-06-01      NaN\n",
       "1958-07-01   315.86"
      ]
     },
     "execution_count": 12,
     "metadata": {},
     "output_type": "execute_result"
    }
   ],
   "source": [
    "mlo = pd.read_csv('./Pandas Dataset - I/co2-mm-mlo.csv', na_values=-99.99, index_col='Date', parse_dates=True)\n",
    "mlo = mlo[['Average']]\n",
    "mlo.head()"
   ]
  },
  {
   "cell_type": "code",
   "execution_count": 13,
   "id": "93fab665",
   "metadata": {},
   "outputs": [
    {
     "data": {
      "text/html": [
       "<div>\n",
       "<style scoped>\n",
       "    .dataframe tbody tr th:only-of-type {\n",
       "        vertical-align: middle;\n",
       "    }\n",
       "\n",
       "    .dataframe tbody tr th {\n",
       "        vertical-align: top;\n",
       "    }\n",
       "\n",
       "    .dataframe thead th {\n",
       "        text-align: right;\n",
       "    }\n",
       "</style>\n",
       "<table border=\"1\" class=\"dataframe\">\n",
       "  <thead>\n",
       "    <tr style=\"text-align: right;\">\n",
       "      <th></th>\n",
       "      <th>Average</th>\n",
       "      <th>Average_gl</th>\n",
       "    </tr>\n",
       "    <tr>\n",
       "      <th>Date</th>\n",
       "      <th></th>\n",
       "      <th></th>\n",
       "    </tr>\n",
       "  </thead>\n",
       "  <tbody>\n",
       "    <tr>\n",
       "      <th>1958-03-01</th>\n",
       "      <td>315.71</td>\n",
       "      <td>NaN</td>\n",
       "    </tr>\n",
       "    <tr>\n",
       "      <th>1958-04-01</th>\n",
       "      <td>317.45</td>\n",
       "      <td>NaN</td>\n",
       "    </tr>\n",
       "    <tr>\n",
       "      <th>1958-05-01</th>\n",
       "      <td>317.50</td>\n",
       "      <td>NaN</td>\n",
       "    </tr>\n",
       "    <tr>\n",
       "      <th>1958-06-01</th>\n",
       "      <td>NaN</td>\n",
       "      <td>NaN</td>\n",
       "    </tr>\n",
       "    <tr>\n",
       "      <th>1958-07-01</th>\n",
       "      <td>315.86</td>\n",
       "      <td>NaN</td>\n",
       "    </tr>\n",
       "    <tr>\n",
       "      <th>...</th>\n",
       "      <td>...</td>\n",
       "      <td>...</td>\n",
       "    </tr>\n",
       "    <tr>\n",
       "      <th>2016-08-01</th>\n",
       "      <td>402.25</td>\n",
       "      <td>NaN</td>\n",
       "    </tr>\n",
       "    <tr>\n",
       "      <th>2016-09-01</th>\n",
       "      <td>401.03</td>\n",
       "      <td>NaN</td>\n",
       "    </tr>\n",
       "    <tr>\n",
       "      <th>2016-10-01</th>\n",
       "      <td>401.57</td>\n",
       "      <td>NaN</td>\n",
       "    </tr>\n",
       "    <tr>\n",
       "      <th>2016-11-01</th>\n",
       "      <td>403.53</td>\n",
       "      <td>NaN</td>\n",
       "    </tr>\n",
       "    <tr>\n",
       "      <th>2016-12-01</th>\n",
       "      <td>404.48</td>\n",
       "      <td>NaN</td>\n",
       "    </tr>\n",
       "  </tbody>\n",
       "</table>\n",
       "<p>706 rows × 2 columns</p>\n",
       "</div>"
      ],
      "text/plain": [
       "            Average  Average_gl\n",
       "Date                           \n",
       "1958-03-01   315.71         NaN\n",
       "1958-04-01   317.45         NaN\n",
       "1958-05-01   317.50         NaN\n",
       "1958-06-01      NaN         NaN\n",
       "1958-07-01   315.86         NaN\n",
       "...             ...         ...\n",
       "2016-08-01   402.25         NaN\n",
       "2016-09-01   401.03         NaN\n",
       "2016-10-01   401.57         NaN\n",
       "2016-11-01   403.53         NaN\n",
       "2016-12-01   404.48         NaN\n",
       "\n",
       "[706 rows x 2 columns]"
      ]
     },
     "execution_count": 13,
     "metadata": {},
     "output_type": "execute_result"
    }
   ],
   "source": [
    "mlo.join(gl)"
   ]
  },
  {
   "cell_type": "code",
   "execution_count": 14,
   "id": "1f390e1a",
   "metadata": {},
   "outputs": [
    {
     "data": {
      "text/html": [
       "<div>\n",
       "<style scoped>\n",
       "    .dataframe tbody tr th:only-of-type {\n",
       "        vertical-align: middle;\n",
       "    }\n",
       "\n",
       "    .dataframe tbody tr th {\n",
       "        vertical-align: top;\n",
       "    }\n",
       "\n",
       "    .dataframe thead th {\n",
       "        text-align: right;\n",
       "    }\n",
       "</style>\n",
       "<table border=\"1\" class=\"dataframe\">\n",
       "  <thead>\n",
       "    <tr style=\"text-align: right;\">\n",
       "      <th></th>\n",
       "      <th>Average</th>\n",
       "      <th>Average_gl</th>\n",
       "    </tr>\n",
       "    <tr>\n",
       "      <th>Date</th>\n",
       "      <th></th>\n",
       "      <th></th>\n",
       "    </tr>\n",
       "  </thead>\n",
       "  <tbody>\n",
       "    <tr>\n",
       "      <th>1980-01-01</th>\n",
       "      <td>337.90</td>\n",
       "      <td>338.45</td>\n",
       "    </tr>\n",
       "    <tr>\n",
       "      <th>1980-02-01</th>\n",
       "      <td>338.34</td>\n",
       "      <td>339.14</td>\n",
       "    </tr>\n",
       "    <tr>\n",
       "      <th>1980-03-01</th>\n",
       "      <td>340.01</td>\n",
       "      <td>339.46</td>\n",
       "    </tr>\n",
       "    <tr>\n",
       "      <th>1980-04-01</th>\n",
       "      <td>340.93</td>\n",
       "      <td>339.86</td>\n",
       "    </tr>\n",
       "    <tr>\n",
       "      <th>1980-05-01</th>\n",
       "      <td>341.48</td>\n",
       "      <td>340.30</td>\n",
       "    </tr>\n",
       "  </tbody>\n",
       "</table>\n",
       "</div>"
      ],
      "text/plain": [
       "            Average  Average_gl\n",
       "Date                           \n",
       "1980-01-01   337.90      338.45\n",
       "1980-02-01   338.34      339.14\n",
       "1980-03-01   340.01      339.46\n",
       "1980-04-01   340.93      339.86\n",
       "1980-05-01   341.48      340.30"
      ]
     },
     "execution_count": 14,
     "metadata": {},
     "output_type": "execute_result"
    }
   ],
   "source": [
    "mlo.join(gl, how='inner') #only common index value will select..."
   ]
  },
  {
   "cell_type": "markdown",
   "id": "e4749191",
   "metadata": {},
   "source": [
    "## Grouping"
   ]
  },
  {
   "cell_type": "markdown",
   "id": "9a9a7c66",
   "metadata": {},
   "source": [
    "We introduce the split-apply-combine approach:\n",
    "\n",
    "* split the data into groups;\n",
    "\n",
    "* apply a function to each group independently;\n",
    "\n",
    "* combine the results into an appropriate data structure."
   ]
  },
  {
   "cell_type": "code",
   "execution_count": 19,
   "id": "00c815ce",
   "metadata": {},
   "outputs": [],
   "source": [
    "z = pd.Series([0.5, 0.8, 0.1, 0.3], index=pd.MultiIndex.from_product([[0, 1], [0, 1]], names=['x', 'y']))"
   ]
  },
  {
   "cell_type": "code",
   "execution_count": 20,
   "id": "beaaadca",
   "metadata": {},
   "outputs": [
    {
     "data": {
      "text/plain": [
       "x  y\n",
       "0  0    0.5\n",
       "   1    0.8\n",
       "1  0    0.1\n",
       "   1    0.3\n",
       "dtype: float64"
      ]
     },
     "execution_count": 20,
     "metadata": {},
     "output_type": "execute_result"
    }
   ],
   "source": [
    "z\n"
   ]
  },
  {
   "cell_type": "code",
   "execution_count": 21,
   "id": "9890a115",
   "metadata": {},
   "outputs": [
    {
     "data": {
      "text/plain": [
       "<pandas.core.groupby.generic.SeriesGroupBy object at 0x000001AB12F3DC70>"
      ]
     },
     "execution_count": 21,
     "metadata": {},
     "output_type": "execute_result"
    }
   ],
   "source": [
    "z.groupby('x')"
   ]
  },
  {
   "cell_type": "code",
   "execution_count": 22,
   "id": "d6e29584",
   "metadata": {},
   "outputs": [
    {
     "data": {
      "text/plain": [
       "x\n",
       "0    0.5\n",
       "1    0.1\n",
       "dtype: float64"
      ]
     },
     "execution_count": 22,
     "metadata": {},
     "output_type": "execute_result"
    }
   ],
   "source": [
    "z.groupby('x').apply(lambda u: u.min())"
   ]
  },
  {
   "cell_type": "markdown",
   "id": "4309b59b",
   "metadata": {},
   "source": [
    "The function in question is an aggregation (for each group, return the minimum value). The length of the result is the number of different groups (here, number of unique x values). Aggregation reduces the size of the data structure."
   ]
  },
  {
   "cell_type": "code",
   "execution_count": 23,
   "id": "d068eecd",
   "metadata": {},
   "outputs": [
    {
     "data": {
      "text/plain": [
       "x\n",
       "0    0.5\n",
       "1    0.1\n",
       "dtype: float64"
      ]
     },
     "execution_count": 23,
     "metadata": {},
     "output_type": "execute_result"
    }
   ],
   "source": [
    "z.groupby(level=0).apply(lambda u: u.min())"
   ]
  },
  {
   "cell_type": "markdown",
   "id": "73386ad9",
   "metadata": {},
   "source": [
    "The aggregation function can be applied directly, if it is available."
   ]
  },
  {
   "cell_type": "code",
   "execution_count": 24,
   "id": "9c9c825e",
   "metadata": {},
   "outputs": [
    {
     "data": {
      "text/plain": [
       "x\n",
       "0    0.5\n",
       "1    0.1\n",
       "dtype: float64"
      ]
     },
     "execution_count": 24,
     "metadata": {},
     "output_type": "execute_result"
    }
   ],
   "source": [
    "z.groupby('x').min()"
   ]
  },
  {
   "cell_type": "markdown",
   "id": "0ca4ed4c",
   "metadata": {},
   "source": [
    "With a hierarchical index, the level parameter can even be passed directly to certain aggregation functions."
   ]
  },
  {
   "cell_type": "code",
   "execution_count": 25,
   "id": "f7649f36",
   "metadata": {},
   "outputs": [
    {
     "data": {
      "text/plain": [
       "x\n",
       "0    0.5\n",
       "1    0.1\n",
       "dtype: float64"
      ]
     },
     "execution_count": 25,
     "metadata": {},
     "output_type": "execute_result"
    }
   ],
   "source": [
    "z.min(level='x')"
   ]
  },
  {
   "cell_type": "code",
   "execution_count": 27,
   "id": "16d30ca3",
   "metadata": {},
   "outputs": [
    {
     "data": {
      "text/plain": [
       "x\n",
       "0    0.5\n",
       "1    0.1\n",
       "dtype: float64"
      ]
     },
     "execution_count": 27,
     "metadata": {},
     "output_type": "execute_result"
    }
   ],
   "source": [
    "z.min(level=0)"
   ]
  },
  {
   "cell_type": "markdown",
   "id": "d548fb34",
   "metadata": {},
   "source": [
    "Counting the number of records in each group is also an aggregation."
   ]
  },
  {
   "cell_type": "code",
   "execution_count": 29,
   "id": "c7b8d0fa",
   "metadata": {},
   "outputs": [
    {
     "data": {
      "text/plain": [
       "x\n",
       "0    2\n",
       "1    2\n",
       "dtype: int64"
      ]
     },
     "execution_count": 29,
     "metadata": {},
     "output_type": "execute_result"
    }
   ],
   "source": [
    "z.groupby('x').size()"
   ]
  },
  {
   "cell_type": "markdown",
   "id": "a276e0be",
   "metadata": {},
   "source": [
    "For each unique values of x (which are 0 and 1), we have two entries."
   ]
  },
  {
   "cell_type": "markdown",
   "id": "3fc4efd2",
   "metadata": {},
   "source": [
    "The grouping object (here, x) is referred to as the key."
   ]
  },
  {
   "cell_type": "code",
   "execution_count": 30,
   "id": "02597d2f",
   "metadata": {},
   "outputs": [
    {
     "data": {
      "text/plain": [
       "x  y\n",
       "0  0    1\n",
       "   1    1\n",
       "1  0    1\n",
       "   1    1\n",
       "dtype: int64"
      ]
     },
     "execution_count": 30,
     "metadata": {},
     "output_type": "execute_result"
    }
   ],
   "source": [
    "z.groupby(['x', 'y']).size()"
   ]
  },
  {
   "cell_type": "code",
   "execution_count": 38,
   "id": "72fe5265",
   "metadata": {},
   "outputs": [
    {
     "data": {
      "text/html": [
       "<div>\n",
       "<style scoped>\n",
       "    .dataframe tbody tr th:only-of-type {\n",
       "        vertical-align: middle;\n",
       "    }\n",
       "\n",
       "    .dataframe tbody tr th {\n",
       "        vertical-align: top;\n",
       "    }\n",
       "\n",
       "    .dataframe thead th {\n",
       "        text-align: right;\n",
       "    }\n",
       "</style>\n",
       "<table border=\"1\" class=\"dataframe\">\n",
       "  <thead>\n",
       "    <tr style=\"text-align: right;\">\n",
       "      <th></th>\n",
       "      <th>count</th>\n",
       "      <th>mean</th>\n",
       "      <th>std</th>\n",
       "      <th>min</th>\n",
       "      <th>25%</th>\n",
       "      <th>50%</th>\n",
       "      <th>75%</th>\n",
       "      <th>max</th>\n",
       "    </tr>\n",
       "    <tr>\n",
       "      <th>x</th>\n",
       "      <th></th>\n",
       "      <th></th>\n",
       "      <th></th>\n",
       "      <th></th>\n",
       "      <th></th>\n",
       "      <th></th>\n",
       "      <th></th>\n",
       "      <th></th>\n",
       "    </tr>\n",
       "  </thead>\n",
       "  <tbody>\n",
       "    <tr>\n",
       "      <th>0</th>\n",
       "      <td>2.0</td>\n",
       "      <td>0.65</td>\n",
       "      <td>0.212132</td>\n",
       "      <td>0.5</td>\n",
       "      <td>0.575</td>\n",
       "      <td>0.65</td>\n",
       "      <td>0.725</td>\n",
       "      <td>0.8</td>\n",
       "    </tr>\n",
       "    <tr>\n",
       "      <th>1</th>\n",
       "      <td>2.0</td>\n",
       "      <td>0.20</td>\n",
       "      <td>0.141421</td>\n",
       "      <td>0.1</td>\n",
       "      <td>0.150</td>\n",
       "      <td>0.20</td>\n",
       "      <td>0.250</td>\n",
       "      <td>0.3</td>\n",
       "    </tr>\n",
       "  </tbody>\n",
       "</table>\n",
       "</div>"
      ],
      "text/plain": [
       "   count  mean       std  min    25%   50%    75%  max\n",
       "x                                                     \n",
       "0    2.0  0.65  0.212132  0.5  0.575  0.65  0.725  0.8\n",
       "1    2.0  0.20  0.141421  0.1  0.150  0.20  0.250  0.3"
      ]
     },
     "execution_count": 38,
     "metadata": {},
     "output_type": "execute_result"
    }
   ],
   "source": [
    "z.groupby('x').describe()"
   ]
  },
  {
   "cell_type": "code",
   "execution_count": 39,
   "id": "b7482bfd",
   "metadata": {},
   "outputs": [
    {
     "data": {
      "text/html": [
       "<div>\n",
       "<style scoped>\n",
       "    .dataframe tbody tr th:only-of-type {\n",
       "        vertical-align: middle;\n",
       "    }\n",
       "\n",
       "    .dataframe tbody tr th {\n",
       "        vertical-align: top;\n",
       "    }\n",
       "\n",
       "    .dataframe thead th {\n",
       "        text-align: right;\n",
       "    }\n",
       "</style>\n",
       "<table border=\"1\" class=\"dataframe\">\n",
       "  <thead>\n",
       "    <tr style=\"text-align: right;\">\n",
       "      <th></th>\n",
       "      <th>count</th>\n",
       "      <th>mean</th>\n",
       "      <th>std</th>\n",
       "      <th>min</th>\n",
       "      <th>25%</th>\n",
       "      <th>50%</th>\n",
       "      <th>75%</th>\n",
       "      <th>max</th>\n",
       "    </tr>\n",
       "    <tr>\n",
       "      <th>y</th>\n",
       "      <th></th>\n",
       "      <th></th>\n",
       "      <th></th>\n",
       "      <th></th>\n",
       "      <th></th>\n",
       "      <th></th>\n",
       "      <th></th>\n",
       "      <th></th>\n",
       "    </tr>\n",
       "  </thead>\n",
       "  <tbody>\n",
       "    <tr>\n",
       "      <th>0</th>\n",
       "      <td>2.0</td>\n",
       "      <td>0.30</td>\n",
       "      <td>0.282843</td>\n",
       "      <td>0.1</td>\n",
       "      <td>0.200</td>\n",
       "      <td>0.30</td>\n",
       "      <td>0.400</td>\n",
       "      <td>0.5</td>\n",
       "    </tr>\n",
       "    <tr>\n",
       "      <th>1</th>\n",
       "      <td>2.0</td>\n",
       "      <td>0.55</td>\n",
       "      <td>0.353553</td>\n",
       "      <td>0.3</td>\n",
       "      <td>0.425</td>\n",
       "      <td>0.55</td>\n",
       "      <td>0.675</td>\n",
       "      <td>0.8</td>\n",
       "    </tr>\n",
       "  </tbody>\n",
       "</table>\n",
       "</div>"
      ],
      "text/plain": [
       "   count  mean       std  min    25%   50%    75%  max\n",
       "y                                                     \n",
       "0    2.0  0.30  0.282843  0.1  0.200  0.30  0.400  0.5\n",
       "1    2.0  0.55  0.353553  0.3  0.425  0.55  0.675  0.8"
      ]
     },
     "execution_count": 39,
     "metadata": {},
     "output_type": "execute_result"
    }
   ],
   "source": [
    "z.groupby('y').describe()"
   ]
  },
  {
   "cell_type": "code",
   "execution_count": 40,
   "id": "c3d5d9a6",
   "metadata": {},
   "outputs": [],
   "source": [
    "import numpy as np"
   ]
  },
  {
   "cell_type": "code",
   "execution_count": 41,
   "id": "f3104e00",
   "metadata": {},
   "outputs": [
    {
     "data": {
      "text/plain": [
       "y\n",
       "0    0.282843\n",
       "1    0.353553\n",
       "dtype: float64"
      ]
     },
     "execution_count": 41,
     "metadata": {},
     "output_type": "execute_result"
    }
   ],
   "source": [
    "z.groupby('y').apply(lambda u: np.std(u, ddof=1))"
   ]
  },
  {
   "cell_type": "code",
   "execution_count": 42,
   "id": "b1216cc6",
   "metadata": {},
   "outputs": [
    {
     "data": {
      "text/plain": [
       "y\n",
       "0    0.20\n",
       "1    0.25\n",
       "dtype: float64"
      ]
     },
     "execution_count": 42,
     "metadata": {},
     "output_type": "execute_result"
    }
   ],
   "source": [
    "z.groupby('y').apply(lambda u: np.std(u))"
   ]
  },
  {
   "cell_type": "code",
   "execution_count": 43,
   "id": "5edfaf95",
   "metadata": {},
   "outputs": [
    {
     "data": {
      "text/plain": [
       "y\n",
       "0    0.20\n",
       "1    0.25\n",
       "dtype: float64"
      ]
     },
     "execution_count": 43,
     "metadata": {},
     "output_type": "execute_result"
    }
   ],
   "source": [
    "z.groupby('y').apply(np.std)"
   ]
  },
  {
   "cell_type": "markdown",
   "id": "db6c9c48",
   "metadata": {},
   "source": [
    "Filtering is another kind of operation which can be applied to each group. Filtering may reduce the size of the data structure, since some groups might get filtered out."
   ]
  },
  {
   "cell_type": "code",
   "execution_count": 44,
   "id": "3385bc1e",
   "metadata": {},
   "outputs": [
    {
     "data": {
      "text/plain": [
       "x  y\n",
       "0  0    0.5\n",
       "   1    0.8\n",
       "1  0    0.1\n",
       "   1    0.3\n",
       "dtype: float64"
      ]
     },
     "execution_count": 44,
     "metadata": {},
     "output_type": "execute_result"
    }
   ],
   "source": [
    "z"
   ]
  },
  {
   "cell_type": "code",
   "execution_count": 45,
   "id": "cbe3bff1",
   "metadata": {},
   "outputs": [
    {
     "data": {
      "text/plain": [
       "y\n",
       "0    False\n",
       "1    False\n",
       "dtype: bool"
      ]
     },
     "execution_count": 45,
     "metadata": {},
     "output_type": "execute_result"
    }
   ],
   "source": [
    "z.groupby('y').apply(lambda u: u.min() > 0.4)"
   ]
  },
  {
   "cell_type": "code",
   "execution_count": 46,
   "id": "0b5c4dba",
   "metadata": {},
   "outputs": [
    {
     "data": {
      "text/plain": [
       "y\n",
       "0    0.1\n",
       "1    0.3\n",
       "dtype: float64"
      ]
     },
     "execution_count": 46,
     "metadata": {},
     "output_type": "execute_result"
    }
   ],
   "source": [
    "z.groupby('y').min()"
   ]
  },
  {
   "cell_type": "code",
   "execution_count": 47,
   "id": "f36e0cef",
   "metadata": {},
   "outputs": [
    {
     "data": {
      "text/plain": [
       "Series([], dtype: float64)"
      ]
     },
     "execution_count": 47,
     "metadata": {},
     "output_type": "execute_result"
    }
   ],
   "source": [
    "z.groupby('y').filter(lambda u: u.min() > 0.4)"
   ]
  },
  {
   "cell_type": "markdown",
   "id": "6425ded3",
   "metadata": {},
   "source": [
    "The third kind of operation is transformation, where the size of the data structure is preserved."
   ]
  },
  {
   "cell_type": "code",
   "execution_count": 48,
   "id": "fb40571f",
   "metadata": {},
   "outputs": [
    {
     "data": {
      "text/plain": [
       "x  y\n",
       "0  0    0.1\n",
       "   1    0.3\n",
       "1  0    0.1\n",
       "   1    0.3\n",
       "dtype: float64"
      ]
     },
     "execution_count": 48,
     "metadata": {},
     "output_type": "execute_result"
    }
   ],
   "source": [
    "z.groupby('y').transform(lambda u: u.min())"
   ]
  },
  {
   "cell_type": "code",
   "execution_count": null,
   "id": "7098ca93",
   "metadata": {},
   "outputs": [],
   "source": []
  }
 ],
 "metadata": {
  "kernelspec": {
   "display_name": "Python 3",
   "language": "python",
   "name": "python3"
  },
  "language_info": {
   "codemirror_mode": {
    "name": "ipython",
    "version": 3
   },
   "file_extension": ".py",
   "mimetype": "text/x-python",
   "name": "python",
   "nbconvert_exporter": "python",
   "pygments_lexer": "ipython3",
   "version": "3.8.8"
  }
 },
 "nbformat": 4,
 "nbformat_minor": 5
}
